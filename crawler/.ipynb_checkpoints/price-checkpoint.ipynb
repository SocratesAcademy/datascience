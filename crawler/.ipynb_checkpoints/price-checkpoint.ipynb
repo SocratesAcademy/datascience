{
 "cells": [
  {
   "cell_type": "code",
   "execution_count": null,
   "metadata": {},
   "outputs": [],
   "source": []
  },
  {
   "cell_type": "markdown",
   "metadata": {},
   "source": [
    "https://github.com/pig6/taobao_spider/blob/master/goods_spider.py"
   ]
  },
  {
   "cell_type": "code",
   "execution_count": 53,
   "metadata": {
    "ExecuteTime": {
     "end_time": "2020-03-16T04:15:05.727308Z",
     "start_time": "2020-03-16T04:15:05.724562Z"
    }
   },
   "outputs": [],
   "source": [
    "import requests\n",
    "from bs4 import BeautifulSoup\n",
    "import numpy as np\n",
    "import datetime"
   ]
  },
  {
   "cell_type": "markdown",
   "metadata": {},
   "source": [
    "## 抓取淘宝页面的商品链接"
   ]
  },
  {
   "cell_type": "markdown",
   "metadata": {},
   "source": [
    "https://list.tmall.com/search_product.htm?spm=a220m.1000858.0.0.70af1094QO4SZO&cat=53352013&q=%D2%BD%D3%C3%BF%DA%D5%D6&sort=s&style=g&from=.list.pc_1_searchbutton&industryCatId=53352013&type=pc"
   ]
  },
  {
   "cell_type": "markdown",
   "metadata": {},
   "source": [
    "https://list.tmall.com/search_product.htm?spm=a220m.1000858.0.0.1b751094NYQXRs&cat=53352013&s=60&q=%D2%BD%D3%C3%BF%DA%D5%D6&sort=s&style=g&from=.list.pc_1_searchbutton&type=pc#J_Filter"
   ]
  },
  {
   "cell_type": "markdown",
   "metadata": {},
   "source": [
    "https://list.tmall.com/search_product.htm?spm=a220m.1000858.0.0.b1541094V4IZGV&cat=53352013&s=120&q=%D2%BD%D3%C3%BF%DA%D5%D6&sort=s&style=g&from=.list.pc_1_searchbutton&industryCatId=53352013&type=pc#J_Filter"
   ]
  },
  {
   "cell_type": "code",
   "execution_count": 49,
   "metadata": {
    "ExecuteTime": {
     "end_time": "2020-03-14T16:31:06.336206Z",
     "start_time": "2020-03-14T16:31:06.332166Z"
    }
   },
   "outputs": [
    {
     "data": {
      "text/plain": [
       "[0,\n",
       " 60,\n",
       " 120,\n",
       " 180,\n",
       " 240,\n",
       " 300,\n",
       " 360,\n",
       " 420,\n",
       " 480,\n",
       " 540,\n",
       " 600,\n",
       " 660,\n",
       " 720,\n",
       " 780,\n",
       " 840,\n",
       " 900,\n",
       " 960,\n",
       " 1020,\n",
       " 1080,\n",
       " 1140]"
      ]
     },
     "execution_count": 49,
     "metadata": {},
     "output_type": "execute_result"
    }
   ],
   "source": [
    "pages"
   ]
  },
  {
   "cell_type": "code",
   "execution_count": 50,
   "metadata": {
    "ExecuteTime": {
     "end_time": "2020-03-14T16:31:32.706190Z",
     "start_time": "2020-03-14T16:31:27.786536Z"
    }
   },
   "outputs": [
    {
     "name": "stdout",
     "output_type": "stream",
     "text": [
      "0\n",
      "1\n",
      "2\n"
     ]
    }
   ],
   "source": [
    "pages = [60*i for i in range(3)]\n",
    "url_list = []\n",
    "for k, s in enumerate(pages):\n",
    "    print(k)\n",
    "    url = f'https://list.tmall.com/search_product.htm?spm=a220m.1000858.0.0.1b751094NYQXRs&cat=53352013&s={s}&q=%D2%BD%D3%C3%BF%DA%D5%D6&sort={s}&style=g&from=.list.pc_1_searchbutton&type=pc#J_Filter'\n",
    "    content = requests.get(url)\n",
    "    soup = BeautifulSoup(content.text) \n",
    "    b = soup.find_all('div', {'class':'product'})\n",
    "    urls = [i.find('a', {'class':'productImg'})['href'] for i in b]\n",
    "    for j in urls:\n",
    "        url_list.append(j)"
   ]
  },
  {
   "cell_type": "code",
   "execution_count": 47,
   "metadata": {
    "ExecuteTime": {
     "end_time": "2020-03-14T16:30:35.461737Z",
     "start_time": "2020-03-14T16:30:35.457271Z"
    }
   },
   "outputs": [
    {
     "data": {
      "text/plain": [
       "[]"
      ]
     },
     "execution_count": 47,
     "metadata": {},
     "output_type": "execute_result"
    }
   ],
   "source": [
    "url_list"
   ]
  },
  {
   "cell_type": "code",
   "execution_count": 58,
   "metadata": {
    "ExecuteTime": {
     "end_time": "2020-03-16T04:24:34.231122Z",
     "start_time": "2020-03-16T04:24:34.227189Z"
    }
   },
   "outputs": [
    {
     "data": {
      "text/plain": [
       "[0,\n",
       " 60,\n",
       " 120,\n",
       " 180,\n",
       " 240,\n",
       " 300,\n",
       " 360,\n",
       " 420,\n",
       " 480,\n",
       " 540,\n",
       " 600,\n",
       " 660,\n",
       " 720,\n",
       " 780,\n",
       " 840,\n",
       " 900,\n",
       " 960,\n",
       " 1020,\n",
       " 1080,\n",
       " 1140]"
      ]
     },
     "execution_count": 58,
     "metadata": {},
     "output_type": "execute_result"
    }
   ],
   "source": [
    "pages"
   ]
  },
  {
   "cell_type": "code",
   "execution_count": 59,
   "metadata": {
    "ExecuteTime": {
     "end_time": "2020-03-16T04:24:48.885446Z",
     "start_time": "2020-03-16T04:24:48.881887Z"
    }
   },
   "outputs": [
    {
     "name": "stdout",
     "output_type": "stream",
     "text": [
      "https://list.tmall.com/search_product.htm?spm=a220m.1000858.0.0.1b751094NYQXRs&cat=53352013&s=1140&q=%D2%BD%D3%C3%BF%DA%D5%D6&sort=s&style=g&from=.list.pc_1_searchbutton&type=pc#J_Filter\n"
     ]
    }
   ],
   "source": [
    "pages = [60*i for i in range(21)]\n",
    "for i in pages:\n",
    "    url = f'https://list.tmall.com/search_product.htm?spm=a220m.1000858.0.0.1b751094NYQXRs&cat=53352013&s={i}&q=%D2%BD%D3%C3%BF%DA%D5%D6&sort=s&style=g&from=.list.pc_1_searchbutton&type=pc#J_Filter'\n",
    "    print(url)"
   ]
  },
  {
   "cell_type": "code",
   "execution_count": 42,
   "metadata": {
    "ExecuteTime": {
     "end_time": "2020-03-14T16:24:26.310206Z",
     "start_time": "2020-03-14T16:24:26.306151Z"
    }
   },
   "outputs": [
    {
     "data": {
      "text/plain": [
       "'https://s.taobao.com/search?initiative_id=tbindexz_20170306&ie=utf8&spm=a21bo.2017.201856-taobao-item.2&sourceId=tb.index&search_type=item&ssid=s5-e&commend=all&imgfile=&q=apple&suggest=history_1&_input_charset=utf-8&wq=biyunt&suggest_query=biyunt&source=suggest&bcoffset=4&p4ppushleft=%2C48&s=0&data-key=s&data-value=44'"
      ]
     },
     "execution_count": 42,
     "metadata": {},
     "output_type": "execute_result"
    }
   ],
   "source": [
    "s = 0\n",
    "# 搜索链接，q参数表示搜索关键字，s=page*44 数据开始索引\n",
    "search_url = f'https://s.taobao.com/search?initiative_id=tbindexz_20170306&ie=utf8&spm=a21bo.2017.201856-taobao-item.2&sourceId=tb.index&search_type=item&ssid=s5-e&commend=all&imgfile=&q=apple&suggest=history_1&_input_charset=utf-8&wq=biyunt&suggest_query=biyunt&source=suggest&bcoffset=4&p4ppushleft=%2C48&s={s}&data-key=s&data-value={s + 44}'\n",
    "search_url"
   ]
  },
  {
   "cell_type": "code",
   "execution_count": 23,
   "metadata": {
    "ExecuteTime": {
     "end_time": "2020-03-14T15:58:38.967261Z",
     "start_time": "2020-03-14T15:58:38.960922Z"
    }
   },
   "outputs": [
    {
     "data": {
      "text/plain": [
       "<div class=\"product\" data-atp=\"a!,,122354006,,,,,,,,\" data-id=\"613381790842\">\n",
       "<div class=\"product-iWrap\">\n",
       "<div class=\"productImg-wrap\">\n",
       "<a class=\"productImg\" data-p=\"2-10\" href=\"//detail.tmall.com/item.htm?id=613381790842&amp;skuId=4489351767679&amp;user_id=2207490711097&amp;cat_id=53352013&amp;is_b=1&amp;rn=0a63939aa71284778ed8be17be111b1a\" target=\"_blank\">\n",
       "<img src=\"//img.alicdn.com/bao/uploaded/i4/2207490711097/O1CN01TSHFls1JyT4U5nlLd_!!0-item_pic.jpg\"/>\n",
       "</a>\n",
       "</div>\n",
       "<p class=\"productPrice\">\n",
       "<em title=\"168.00\"><b>¥</b>168.00</em>\n",
       "</p>\n",
       "<p class=\"productTitle\">\n",
       "<a data-p=\"2-11\" href=\"//detail.tmall.com/item.htm?id=613381790842&amp;skuId=4489351767679&amp;user_id=2207490711097&amp;cat_id=53352013&amp;is_b=1&amp;rn=0a63939aa71284778ed8be17be111b1a\" target=\"_blank\" title=\"发顺丰医用口罩现货非预约外科一次性男女透气防尘防雾霾医生专用\">\n",
       "发顺丰<span class=\"H\">医用</span><span class=\"H\">口罩</span>现货非预约外科一次性男女透气防尘防雾霾医生专用\n",
       "</a>\n",
       "</p>\n",
       "<div class=\"productShop\" data-atp=\"b!2-3,{user_id},,,,,,\">\n",
       "<a class=\"productShop-name\" href=\"//store.taobao.com/search.htm?user_number_id=2207490711097&amp;rn=0a63939aa71284778ed8be17be111b1a&amp;keyword=医用口罩\" target=\"_blank\">\n",
       "本洪医疗器械专营店\n",
       "</a>\n",
       "</div>\n",
       "<p class=\"productStatus\">\n",
       "<span>月成交 <em>242笔</em></span>\n",
       "<span>评价 <a data-p=\"2-1\" href=\"//detail.tmall.com/item.htm?id=613381790842&amp;skuId=4489351767679&amp;user_id=2207490711097&amp;cat_id=53352013&amp;is_b=1&amp;rn=0a63939aa71284778ed8be17be111b1a&amp;on_comment=1#J_TabBar\" target=\"_blank\">4</a></span>\n",
       "<span class=\"ww-light ww-small m_wangwang J_WangWang\" data-atp=\"a!2-2,,,,,,,2207490711097\" data-display=\"inline\" data-icon=\"small\" data-item=\"613381790842\" data-nick=\"本洪医疗器械专营店\" data-tnick=\"本洪医疗器械专营店\"></span>\n",
       "</p>\n",
       "</div>\n",
       "</div>"
      ]
     },
     "execution_count": 23,
     "metadata": {},
     "output_type": "execute_result"
    }
   ],
   "source": [
    "b[1]"
   ]
  },
  {
   "cell_type": "markdown",
   "metadata": {},
   "source": [
    "## 原来抓取商品价格的代码"
   ]
  },
  {
   "cell_type": "code",
   "execution_count": 151,
   "metadata": {
    "ExecuteTime": {
     "end_time": "2020-03-09T08:44:23.358408Z",
     "start_time": "2020-03-09T08:44:21.382890Z"
    }
   },
   "outputs": [
    {
     "data": {
      "text/plain": [
       "'[1568908800000,38.0,\"\"],[1568995200000,38.0,\"\"],[1569081600000,39.0,\"\"],[1569168000000,39.0,\"\"],[1569254400000,39.0,\"\"],[1569340800000,39.0,\"\"],[1569427200000,38.0,\"\"],[1569513600000,38.0,\"\"],[1569600000000,38.0,\"\"],[1569686400000,39.0,\"\"],[1569772800000,39.0,\"\"],[1569859200000,39.0,\"\"],[1569945600000,39.0,\"\"],[1570032000000,39.0,\"\"],[1570118400000,39.0,\"\"],[1570204800000,39.0,\"\"],[1570291200000,39.0,\"\"],[1570377600000,39.0,\"\"],[1570464000000,39.0,\"\"],[1570550400000,39.0,\"\"],[1570636800000,39.0,\"\"],[1570723200000,39.0,\"\"],[1570809600000,39.0,\"\"],[1570896000000,39.0,\"\"],[1570982400000,38.0,\"\"],[1571068800000,38.0,\"\"],[1571155200000,38.0,\"\"],[1571241600000,39.0,\"\"],[1571328000000,39.0,\"\"],[1571414400000,39.0,\"\"],[1571500800000,39.0,\"\"],[1571587200000,39.0,\"\"],[1571673600000,39.0,\"\"],[1571760000000,39.0,\"\"],[1571846400000,39.0,\"\"],[1571932800000,39.0,\"\"],[1572019200000,39.0,\"\"],[1572105600000,39.0,\"\"],[1572192000000,39.0,\"\"],[1572278400000,39.0,\"\"],[1572364800000,39.0,\"\"],[1572451200000,39.0,\"\"],[1572537600000,39.0,\"\"],[1572624000000,39.0,\"\"],[1572710400000,39.0,\"\"],[1572796800000,39.0,\"\"],[1572883200000,39.0,\"\"],[1572969600000,34.0,\"\"],[1573056000000,34.0,\"\"],[1573142400000,34.0,\"\"],[1573228800000,34.0,\"\"],[1573315200000,34.0,\"\"],[1573401600000,34.0,\"\"],[1573488000000,39.0,\"\"],[1573574400000,39.0,\"\"],[1573660800000,39.0,\"\"],[1573747200000,39.0,\"\"],[1573833600000,39.0,\"\"],[1573920000000,39.0,\"\"],[1574006400000,37.0,\"\"],[1574092800000,37.0,\"\"],[1574179200000,37.0,\"\"],[1574265600000,37.0,\"\"],[1574352000000,37.0,\"\"],[1574438400000,39.0,\"\"],[1574524800000,39.0,\"\"],[1574611200000,39.0,\"\"],[1574697600000,39.0,\"\"],[1574784000000,39.0,\"\"],[1574870400000,39.0,\"\"],[1574956800000,39.0,\"\"],[1575043200000,39.0,\"\"],[1575129600000,39.0,\"\"],[1575216000000,39.0,\"\"],[1575302400000,39.0,\"\"],[1575388800000,39.0,\"\"],[1575475200000,39.0,\"\"],[1575561600000,39.0,\"\"],[1575648000000,39.0,\"\"],[1575734400000,39.0,\"\"],[1575820800000,39.0,\"\"],[1575907200000,39.0,\"\"],[1575993600000,39.0,\"\"],[1576080000000,35.0,\"\"],[1576166400000,39.0,\"\"],[1576252800000,39.0,\"\"],[1576339200000,39.0,\"\"],[1576425600000,39.0,\"\"],[1576512000000,39.0,\"\"],[1576598400000,39.0,\"\"],[1576684800000,35.0,\"\"],[1576771200000,35.0,\"\"],[1576857600000,35.0,\"\"],[1576944000000,35.0,\"\"],[1577030400000,39.0,\"\"],[1577116800000,39.0,\"\"],[1577203200000,39.0,\"\"],[1577289600000,35.0,\"\"],[1577376000000,35.0,\"\"],[1577462400000,39.0,\"\"],[1577548800000,39.0,\"\"],[1577635200000,39.0,\"\"],[1577721600000,39.0,\"\"],[1577808000000,39.0,\"\"],[1577894400000,39.0,\"\"],[1577980800000,39.0,\"\"],[1578067200000,39.0,\"\"],[1578153600000,39.0,\"\"],[1578240000000,39.0,\"\"],[1578326400000,29.0,\"\"],[1578412800000,29.0,\"\"],[1578499200000,29.0,\"\"],[1578585600000,29.0,\"\"],[1578672000000,39.0,\"\"],[1578758400000,39.0,\"\"],[1578844800000,39.0,\"\"],[1578931200000,39.0,\"\"],[1579017600000,39.0,\"\"],[1579104000000,39.0,\"\"],[1579190400000,39.0,\"\"],[1579276800000,39.0,\"\"],[1579363200000,39.0,\"\"],[1579449600000,38.0,\"\"],[1579536000000,39.0,\"\"],[1579622400000,39.00,\"\"],[1579708800000,39.00,\"\"],[1579795200000,39.00,\"\"],[1579881600000,39.00,\"\"],[1579968000000,39.00,\"\"],[1580054400000,39.00,\"\"],[1580140800000,39.00,\"\"],[1580227200000,39.00,\"\"],[1580313600000,39.00,\"\"],[1580400000000,39.00,\"\"],[1580486400000,39.00,\"\"],[1580572800000,39.00,\"\"],[1580659200000,39.00,\"\"],[1580745600000,39.00,\"\"],[1580832000000,39.00,\"\"],[1580918400000,39.00,\"\"],[1581004800000,39.00,\"\"],[1581091200000,39.00,\"\"],[1581177600000,39.00,\"\"],[1581264000000,39.0,\"\"],[1581350400000,39.0,\"\"],[1581436800000,39.0,\"\"],[1581523200000,39.0,\"\"],[1581609600000,39.0,\"\"],[1581696000000,39.0,\"\"],[1581782400000,39.0,\"\"],[1581868800000,39.0,\"\"],[1581955200000,39.0,\"\"],[1582041600000,39.0,\"\"],[1582128000000,39.00,\"39元\"],[1582214400000,39.0,\"\"],[1582300800000,39.0,\"\"],[1582387200000,39.00,\"39元\"],[1582473600000,39.0,\"\"],[1582560000000,39.00,\"39元\"],[1582646400000,39.00,\"39元\"],[1582732800000,39.0,\"\"],[1582819200000,37.30,\"112元（合37.33元/件）\"],[1582905600000,39.0000,\"\"],[1582992000000,39.0,\"\"],[1583078400000,39.00,\"\"],[1583164800000,39.0,\"\"],[1583251200000,39.00,\"\"],[1583337600000,39.00,\"39元\"],[1583424000000,39.00,\"39元\"],[1583510400000,39.0,\"\"],[1583596800000,39.0,\"\"],[1583683200000,39.0,\"\"]'"
      ]
     },
     "execution_count": 151,
     "metadata": {},
     "output_type": "execute_result"
    }
   ],
   "source": [
    "import requests\n",
    "from bs4 import BeautifulSoup\n",
    "import numpy as np\n",
    "import datetime\n",
    "\n",
    "url = 'http://p.zwjhl.com/price.aspx?url=https%3A%2F%2Fdetail.tmall.com%2Fitem.htm%3Fid%3D602977570356'\n",
    "content = requests.get(url)\n",
    "soup = BeautifulSoup(content.text) \n",
    "a  = soup('script')[-1].text.split(\"\\'\")[1]\n",
    "a"
   ]
  },
  {
   "cell_type": "code",
   "execution_count": 34,
   "metadata": {
    "ExecuteTime": {
     "end_time": "2020-03-14T09:45:54.147318Z",
     "start_time": "2020-03-14T09:45:53.990894Z"
    }
   },
   "outputs": [
    {
     "data": {
      "text/plain": [
       "<!DOCTYPE html PUBLIC \"-//W3C//DTD XHTML 1.0 Transitional//EN\" \"http://www.w3.org/TR/xhtml1/DTD/xhtml1-transitional.dtd\">\n",
       "<html xmlns=\"http://www.w3.org/1999/xhtml\">\n",
       "<head><title>\n",
       "\t历史价格查询\n",
       "</title><link href=\"http://p.zwjhl.com/images/favicon.ico\" mce_href=\"http://p.zwjhl.com/images/favicon.ico\" rel=\"icon\" type=\"image/x-icon\"/><link href=\"http://p.zwjhl.com/images/favicon.ico\" mce_href=\"http://p.zwjhl.com/images/favicon.ico\" rel=\"shortcut icon\" type=\"image/x-icon\"/>\n",
       "<script src=\"/layui/layui.js\" type=\"text/javascript\"></script>\n",
       "<link href=\"/layui/css/layui.css\" rel=\"stylesheet\"/>\n",
       "<style type=\"text/css\">\n",
       "        body, div {\n",
       "            padding: 0px;\n",
       "            margin: 0px;\n",
       "            font-family: \"微软雅黑\";\n",
       "        }\n",
       "\n",
       "        A:link, A:active, A:visited {\n",
       "            text-decoration: none;\n",
       "            color: #fff;\n",
       "            font-family: \"微软雅黑\";\n",
       "        }\n",
       "\n",
       "        .clear {\n",
       "            clear: both;\n",
       "        }\n",
       "\n",
       "        .titlebackdi {\n",
       "            padding-left: 18px;\n",
       "            height: 38px;\n",
       "            line-height: 38px;\n",
       "            font-size: 16px;\n",
       "            font-weight: bold;\n",
       "        }\n",
       "\n",
       "        .titleheadRight {\n",
       "            text-align: left;\n",
       "            margin-top: 10px;\n",
       "            width: 1194px;\n",
       "            background-color: #fff;\n",
       "        }\n",
       "\n",
       "        .wizardTxtField {\n",
       "            border: 1px solid #B9B9B9;\n",
       "            height: 31px;\n",
       "            line-height: 31px;\n",
       "            color: #999;\n",
       "            font-size: 14px;\n",
       "            vertical-align: middle;\n",
       "            padding-left: 2px;\n",
       "        }\n",
       "\n",
       "        .btn {\n",
       "            border: solid 1px #D57E3B;\n",
       "            background-color: #f60;\n",
       "            color: #fff;\n",
       "            height: 35px;\n",
       "            width: 80px;\n",
       "            text-align: center;\n",
       "            cursor: pointer;\n",
       "            font-family: \"微软雅黑\";\n",
       "        }\n",
       "\n",
       "        .btngo {\n",
       "            border: solid 1px #D57E3B;\n",
       "            background-color: #f60;\n",
       "            color: #fff;\n",
       "            height: 35px;\n",
       "            width: 100px;\n",
       "            text-align: center;\n",
       "            cursor: pointer;\n",
       "            margin-left: 20px;\n",
       "            font-family: \"微软雅黑\";\n",
       "        }\n",
       "\n",
       "        .btnquan {\n",
       "            border: solid 1px #00b38a;\n",
       "            background-color: #00b38a;\n",
       "            color: #fff;\n",
       "            height: 35px;\n",
       "            width: 100px;\n",
       "            text-align: center;\n",
       "            cursor: pointer;\n",
       "            margin-left: 20px;\n",
       "            font-family: \"微软雅黑\";\n",
       "        }\n",
       "\n",
       "        .btn120 {\n",
       "            border: solid 1px #D57E3B;\n",
       "            background-color: #E64317;\n",
       "            text-decoration: none;\n",
       "            height: 35px;\n",
       "            line-height: 35px;\n",
       "            width: 160px;\n",
       "            text-align: center;\n",
       "            cursor: pointer;\n",
       "            font-family: \"微软雅黑\";\n",
       "        }\n",
       "\n",
       "        .weblink a {\n",
       "            color: #666;\n",
       "        }\n",
       "\n",
       "        A.f12sc:link, A.f12sc:active, A.f12sc:visited {\n",
       "            font-size: 12px;\n",
       "            text-decoration: none;\n",
       "            color: #005AA0;\n",
       "        }\n",
       "    </style>\n",
       "<script src=\"http://p.zwjhl.com/images/jquery-1.7.2.min.js\" type=\"text/javascript\"></script>\n",
       "<script language=\"javascript\" type=\"text/javascript\">\n",
       "\n",
       "        $(document).ready(function () {\n",
       "            $(\"#url\").focus();\n",
       "        });\n",
       "\n",
       "        function SetFavorite(sTitle, sURL) {\n",
       "            try {\n",
       "                window.external.addFavorite(sURL, sTitle);\n",
       "            } catch (e) {\n",
       "                try {\n",
       "                    window.sidebar.addPanel(sTitle, sURL, \"\");\n",
       "                } catch (e) {\n",
       "                    alert(\"加入收藏失败，请按Ctrl+D进行添加。\");\n",
       "                }\n",
       "            }\n",
       "\n",
       "        }\n",
       "    </script>\n",
       "<script src=\"/images/stk.js\" type=\"text/javascript\"></script>\n",
       "<script src=\"/images/siteDiscount.js\" type=\"text/javascript\"></script>\n",
       "<script src=\"/images/echarts.js\" type=\"text/javascript\"></script>\n",
       "<script src=\"/images/echartsTrend.js?v=20190130\" type=\"text/javascript\"></script>\n",
       "<script type=\"text/javascript\">\n",
       "\n",
       "        function showImg(url) {\n",
       "            var imgid = Math.random(),\n",
       "                frameid = 'frameimg' + imgid;\n",
       "            window['img' + imgid] = '<img style=\"max-width:200px;width:100%;\" id=\"img\" src=\\'' + url + '\\' /><script>window.onload = function() { parent.document.getElementById(\\'' + frameid + '\\').height = document.getElementById(\\'img\\').height+\\'px\\'; }<' + '/script>';\n",
       "            document.write('<iframe id=\"' + frameid + '\" src=\"javascript:parent[\\'img' + imgid + '\\'];\" frameBorder=\"0\" scrolling=\"no\" width=\"100%\"></iframe>');\n",
       "        }\n",
       "\n",
       "\n",
       "        $(document).ready(function () {\n",
       "            if (''.length > 0) {\n",
       "                $(\"#url\").val('');\n",
       "            }\n",
       "        });\n",
       "\n",
       "\n",
       "\n",
       "\n",
       "    </script>\n",
       "<style type=\"text/css\">\n",
       "        .linkquan {\n",
       "            display: inline-block;\n",
       "            padding-top: 8px;\n",
       "            border: solid 1px #00b38a;\n",
       "            background-color: #00b38a;\n",
       "            color: #fff;\n",
       "            height: 25px;\n",
       "            width: 100px;\n",
       "            text-align: center;\n",
       "            cursor: pointer;\n",
       "            margin-left: 20px;\n",
       "            font-family: \"微软雅黑\";\n",
       "        }\n",
       "\n",
       "        .linkgo {\n",
       "            display: inline-block;\n",
       "            padding-top: 8px;\n",
       "            border: solid 1px #D57E3B;\n",
       "            background-color: #f60;\n",
       "            color: #fff;\n",
       "            height: 25px;\n",
       "            width: 100px;\n",
       "            text-align: center;\n",
       "            cursor: pointer;\n",
       "            margin-left: 20px;\n",
       "            font-family: \"微软雅黑\";\n",
       "        }\n",
       "    </style>\n",
       "<link href=\"/images/priceweb.css\" rel=\"stylesheet\"/>\n",
       "<script type=\"text/javascript\">\n",
       "        var _hmt = _hmt || [];\n",
       "        (function () {\n",
       "            var hm = document.createElement(\"script\");\n",
       "            hm.src = \"//hm.baidu.com/hm.js?2792237093e35cdfc41782cbfecb60e9\";\n",
       "            var s = document.getElementsByTagName(\"script\")[0];\n",
       "            s.parentNode.insertBefore(hm, s);\n",
       "        })();\n",
       "        function trackEvent(App_action) {\n",
       "            _hmt.push(['_trackEvent', 'wap_APP下载', App_action, window.location.pathname, 1]);\n",
       "        }\n",
       "    </script>\n",
       "</head>\n",
       "<body>\n",
       "<div style=\"background-color: #0a3761; height: 60px; width: 100%\">\n",
       "<div style=\"width: 1180px; margin: 0px auto; text-align: center;\">\n",
       "<div>\n",
       "<div style=\"float: left; width: 200px; text-align: left; margin-top: 0px;\">\n",
       "<a href=\"http://www.lsjgcx.com/\">\n",
       "<img alt=\"查询历史价格走势，网购不被商家忽悠\" border=\"0\" src=\"http://p.zwjhl.com/images/logo.png\"/></a>\n",
       "</div>\n",
       "<div style=\"float: left; width: 200px; text-align: left; margin-top: 18px; margin-left: 5px; font-family: STKaiti; font-size: 18px; color: #fff;\">\n",
       "                    轻松识别虚假促销\n",
       "                </div>\n",
       "<div style=\"float: right; margin-top: 4px; padding: 17px 5px 8px 0px; *padding-top: 20px; width: 580px; text-align: right;\">\n",
       "<button class=\"layui-btn layui-btn-xs loginwx\" onclick=\"openlogin();\" style=\"margin-left: 20px;\">登录</button>\n",
       "</div>\n",
       "</div>\n",
       "</div>\n",
       "</div>\n",
       "<div>\n",
       "<div style=\"width: 1200px; margin: 0px auto; text-align: center;\">\n",
       "<div style=\"width: 1194px; margin: 0px;\">\n",
       "<form action=\"price.aspx\" method=\"get\">\n",
       "<div class=\"titleheadRight\">\n",
       "<div style=\"padding: 10px;\">\n",
       "<div style=\"border: solid 1px #c5c5c5; margin-bottom: 10px; overflow: hidden;\">\n",
       "<div style=\"background-color: #f7fafd; border-bottom: solid 1px #c5c5c5; text-align: left;\">\n",
       "<div style=\"font-size: 14px; line-height: 36px; height: 36px; margin-left: 20px; color: #0a3761\">\n",
       "<b>[查询商品历史价格走势]</b> 京东、天猫、淘宝、亚马逊、苏宁、当当、1号店、易迅、国美、新蛋等商品网址\n",
       "                                    </div>\n",
       "</div>\n",
       "<div style=\"margin-left: 20px; margin-top: 10px;\">\n",
       "<div style=\"line-height: 30px; height: 40px; text-align: left; font-size: 14px;\">\n",
       "                                        输入商品的对应网页地址(如<a href=\"price.aspx?url=http%3A%2F%2Fitem.jd.com%2F1378536.html\" style=\"color: #333;\">http://item.jd.com/1378536.html</a>)：\n",
       "                                    </div>\n",
       "<div style=\"line-height: 30px; height: 40px; text-align: left;\">\n",
       "<input class=\"wizardTxtField\" id=\"url\" name=\"url\" style=\"width: 1120px;\" type=\"text\" value=\"https://detail.tmall.com/item.htm?id=602977570356\"/>\n",
       "</div>\n",
       "<div style=\"line-height: 30px; height: 40px; text-align: left; margin: 10px 0px;\">\n",
       "<input class=\"btn\" type=\"submit\" value=\"查询\"/>\n",
       "<span style=\"color: #999; margin-left: 20px;\">有时查询会比较慢，请耐心等待</span>\n",
       "</div>\n",
       "</div>\n",
       "</div>\n",
       "<div class=\"clear\"></div>\n",
       "</div>\n",
       "</div>\n",
       "</form>\n",
       "<div style=\"width: 1180px;\">\n",
       "<div style=\" height:500px; padding-top:100px;\">\n",
       "<div style=\"width: 500px;margin: 0 auto;display: flex;\">\n",
       "<img alt=\"\" src=\"images/badface.png\" style=\"\"/>\n",
       "<div style=\"display: flex;flex-direction: column;justify-content: space-between;flex: 1; text-align:left; color:#8e8d8d; margin-left:40px; font-size:16px; \">\n",
       "<p>抱歉您未登录，暂时无法查看历史价格</p>\n",
       "<p>登录后即可查询！</p>\n",
       "<button class=\"layui-btn layui-btn-sm\" onclick=\"openlogin();\" style=\"width:100px;\">立刻登录</button>\n",
       "</div>\n",
       "</div>\n",
       "<!--<span>您尚未登录，暂时无法查看历史价格，请点击右上角登录按钮，<a href=\"javascript:;\"  style=\"color: -webkit-link;\"  onclick=\"openlogin();\">登录重试</a></span>-->\n",
       "</div>\n",
       "<div style=\"text-align: center; font-size: 12px; padding-bottom: 10px;\">\n",
       "        反馈建议：lsjgcx@163.com\n",
       "    </div>\n",
       "<script type=\"text/javascript\">\n",
       "\n",
       "        $(document).ready(function () {\n",
       "            if ('' == '') {\n",
       "                $('.loginwx').trigger(\"click\");\n",
       "            }\n",
       "        });\n",
       "</script>\n",
       "</div>\n",
       "</div>\n",
       "</div>\n",
       "<div style=\"background-color: #0a3761; height: 18px; padding: 12px 0; color: #fff; font-size: 12px; text-align: center;\"><a href=\"http://www.lsjgcx.com\" style=\"color: #fff;\">历史价格查询</a>(LSJGCX.COM)     沪ICP备16003090号-4</div>\n",
       "<script type=\"text/javascript\">\n",
       " \n",
       "        function openlogin() {\n",
       "            layui.use('layer', function () {\n",
       "                var layer = layui.layer;\n",
       "                layer.open({\n",
       "                    type: 2,\n",
       "                    title: '微信登录',\n",
       "                    shadeClose: true,\n",
       "                    shade: 0.5,\n",
       "                    anim: 0,\n",
       "                    area: ['390px', '580px'],\n",
       "                    content: ['/login_wx.aspx', 'no'] //iframe的url\n",
       "                });\n",
       "            });\n",
       "        }\n",
       "\n",
       "\n",
       "        function parentCloseWinc(url) {\n",
       "            window.location.href = url;\n",
       "        }\n",
       "\n",
       "    </script>\n",
       "</div></body>\n",
       "</html>"
      ]
     },
     "execution_count": 34,
     "metadata": {},
     "output_type": "execute_result"
    }
   ],
   "source": [
    "import requests\n",
    "from bs4 import BeautifulSoup\n",
    "import numpy as np\n",
    "import datetime\n",
    "\n",
    "url = 'http://p.zwjhl.com/price.aspx?url=https%3A%2F%2Fdetail.tmall.com%2Fitem.htm%3Fid%3D602977570356'\n",
    "content = requests.get(url)\n",
    "soup = BeautifulSoup(content.text) \n",
    "a  = soup('script')[-1].text.split(\"\\'\")[1]\n",
    "soup"
   ]
  },
  {
   "cell_type": "code",
   "execution_count": 148,
   "metadata": {
    "ExecuteTime": {
     "end_time": "2020-03-09T08:43:27.657638Z",
     "start_time": "2020-03-09T08:43:27.655059Z"
    }
   },
   "outputs": [],
   "source": [
    "times, price, note = np.array(b).T"
   ]
  },
  {
   "cell_type": "code",
   "execution_count": 150,
   "metadata": {
    "ExecuteTime": {
     "end_time": "2020-03-09T08:43:54.469307Z",
     "start_time": "2020-03-09T08:43:54.464947Z"
    }
   },
   "outputs": [
    {
     "data": {
      "text/plain": [
       "(array(['1568908800000', '1568995200000', '1569081600000'], dtype='<U17'),\n",
       " array(['38.0', '38.0', '39.0'], dtype='<U17'))"
      ]
     },
     "execution_count": 150,
     "metadata": {},
     "output_type": "execute_result"
    }
   ],
   "source": [
    "times[:3], price[:3]"
   ]
  },
  {
   "cell_type": "code",
   "execution_count": 152,
   "metadata": {
    "ExecuteTime": {
     "end_time": "2020-03-09T08:44:27.316082Z",
     "start_time": "2020-03-09T08:44:27.310875Z"
    }
   },
   "outputs": [],
   "source": [
    "\n",
    "def unix2time(u):\n",
    "    unix_ts =u/1000 #e.g., u = 1568908800000\n",
    "    dt = datetime.datetime.fromtimestamp(unix_ts)\n",
    "    #dt = dt.strftime(\"%Y-%m-%d\")\n",
    "    return dt\n",
    "\n",
    "b = [i.replace('[', '').replace(']','') for i in a.split('],[')]\n",
    "b = [i.split(',')  for i in b]\n",
    "\n",
    "times, price, note = np.array(b).T\n",
    "price = price.astype('float')\n",
    "times = times.astype('int')\n",
    "times = [unix2time(i) for i in times]"
   ]
  },
  {
   "cell_type": "code",
   "execution_count": 153,
   "metadata": {
    "ExecuteTime": {
     "end_time": "2020-03-09T08:44:33.562884Z",
     "start_time": "2020-03-09T08:44:33.128038Z"
    }
   },
   "outputs": [
    {
     "data": {
      "image/png": "[encoded data removed]",
      "text/plain": [
       "<Figure size 1600x600 with 1 Axes>"
      ]
     },
     "metadata": {
      "needs_background": "light"
     },
     "output_type": "display_data"
    }
   ],
   "source": [
    "import pylab as plt\n",
    "plt.figure(figsize=(8, 3), dpi = 200)\n",
    "plt.plot(times, price)\n",
    "plt.xticks(rotation=60)\n",
    "plt.show()"
   ]
  },
  {
   "cell_type": "markdown",
   "metadata": {
    "ExecuteTime": {
     "end_time": "2020-03-14T09:34:10.391384Z",
     "start_time": "2020-03-14T09:34:10.388278Z"
    }
   },
   "source": [
    "## 设置header"
   ]
  },
  {
   "cell_type": "code",
   "execution_count": 36,
   "metadata": {
    "ExecuteTime": {
     "end_time": "2020-03-14T09:49:10.793839Z",
     "start_time": "2020-03-14T09:49:10.409635Z"
    }
   },
   "outputs": [],
   "source": [
    "headers = {\n",
    "    'Accept': 'text/html,application/xhtml+xml,application/xml;q=0.9,image/webp,*/*;q=0.8',\n",
    "    'Accept-Encoding': 'gzip, deflate, sdch',\n",
    "    'Accept-Language': 'zh-CN,zh;q=0.8,en;q=0.6',\n",
    "    'Cache-Control': 'no-cache',\n",
    "    'Connection': 'keep-alive',\n",
    "    'Cookie': 'Hm_lvt_72b68c351b528b0e3406619a64d8f8d0=1583735788; Hm_lpvt_72b68c351b528b0e3406619a64d8f8d0=1583810313; ASP.NET_SessionId=c3c250nxkmcsxvasg5tp21wu; Hm_lvt_2792237093e35cdfc41782cbfecb60e9=1584177739; lsjgcxToken=6E50054E357C53F305D2DD93260D1BCA780781B8964E66255FB113B13A60A9F77AE6684C4D62CBAC76E6FA5F8B8FAC5AFEFE9A1E56F95DD40EC748E10E0C27BE; Hm_lpvt_2792237093e35cdfc41782cbfecb60e9=1584177860',\n",
    "    'DNT': '1',\n",
    "    'Host': 'p.zwjhl.com',\n",
    "    'Pragma': 'no-cache',\n",
    "    'Referer': 'http://p.zwjhl.com/price.aspx?url=https://detail.tmall.com/item.htm?id=602977570356',\n",
    "    'Upgrade-Insecure-Requests': '1',\n",
    "    'User-Agent': 'Mozilla/5.0 (Windows NT 10.0; Win64; x64) AppleWebKit/537.36 (KHTML, like Gecko) Chrome/53.0.2785.143 Safari/537.36'\n",
    "}\n",
    "\n",
    "url = 'http://p.zwjhl.com/price.aspx?url=https://detail.tmall.com/item.htm?id=602977570356'\n",
    "headers['Referer'] = url\n",
    "content = requests.get(url, headers=headers)\n",
    "soup = BeautifulSoup(content.text) \n"
   ]
  },
  {
   "cell_type": "code",
   "execution_count": 38,
   "metadata": {
    "ExecuteTime": {
     "end_time": "2020-03-14T09:49:35.485754Z",
     "start_time": "2020-03-14T09:49:35.481492Z"
    }
   },
   "outputs": [
    {
     "data": {
      "text/plain": [
       "'[1568908800000,38.0,\"\"],[1568995200000,38.0,\"\"],[1569081600000,39.0,\"\"],[1569168000000,39.0,\"\"],[1569254400000,39.0,\"\"],[1569340800000,39.0,\"\"],[1569427200000,38.0,\"\"],[1569513600000,38.0,\"\"],[1569600000000,38.0,\"\"],[1569686400000,39.0,\"\"],[1569772800000,39.0,\"\"],[1569859200000,39.0,\"\"],[1569945600000,39.0,\"\"],[1570032000000,39.0,\"\"],[1570118400000,39.0,\"\"],[1570204800000,39.0,\"\"],[1570291200000,39.0,\"\"],[1570377600000,39.0,\"\"],[1570464000000,39.0,\"\"],[1570550400000,39.0,\"\"],[1570636800000,39.0,\"\"],[1570723200000,39.0,\"\"],[1570809600000,39.0,\"\"],[1570896000000,39.0,\"\"],[1570982400000,38.0,\"\"],[1571068800000,38.0,\"\"],[1571155200000,38.0,\"\"],[1571241600000,39.0,\"\"],[1571328000000,39.0,\"\"],[1571414400000,39.0,\"\"],[1571500800000,39.0,\"\"],[1571587200000,39.0,\"\"],[1571673600000,39.0,\"\"],[1571760000000,39.0,\"\"],[1571846400000,39.0,\"\"],[1571932800000,39.0,\"\"],[1572019200000,39.0,\"\"],[1572105600000,39.0,\"\"],[1572192000000,39.0,\"\"],[1572278400000,39.0,\"\"],[1572364800000,39.0,\"\"],[1572451200000,39.0,\"\"],[1572537600000,39.0,\"\"],[1572624000000,39.0,\"\"],[1572710400000,39.0,\"\"],[1572796800000,39.0,\"\"],[1572883200000,39.0,\"\"],[1572969600000,34.0,\"\"],[1573056000000,34.0,\"\"],[1573142400000,34.0,\"\"],[1573228800000,34.0,\"\"],[1573315200000,34.0,\"\"],[1573401600000,34.0,\"\"],[1573488000000,39.0,\"\"],[1573574400000,39.0,\"\"],[1573660800000,39.0,\"\"],[1573747200000,39.0,\"\"],[1573833600000,39.0,\"\"],[1573920000000,39.0,\"\"],[1574006400000,37.0,\"\"],[1574092800000,37.0,\"\"],[1574179200000,37.0,\"\"],[1574265600000,37.0,\"\"],[1574352000000,37.0,\"\"],[1574438400000,39.0,\"\"],[1574524800000,39.0,\"\"],[1574611200000,39.0,\"\"],[1574697600000,39.0,\"\"],[1574784000000,39.0,\"\"],[1574870400000,39.0,\"\"],[1574956800000,39.0,\"\"],[1575043200000,39.0,\"\"],[1575129600000,39.0,\"\"],[1575216000000,39.0,\"\"],[1575302400000,39.0,\"\"],[1575388800000,39.0,\"\"],[1575475200000,39.0,\"\"],[1575561600000,39.0,\"\"],[1575648000000,39.0,\"\"],[1575734400000,39.0,\"\"],[1575820800000,39.0,\"\"],[1575907200000,39.0,\"\"],[1575993600000,39.0,\"\"],[1576080000000,35.0,\"\"],[1576166400000,39.0,\"\"],[1576252800000,39.0,\"\"],[1576339200000,39.0,\"\"],[1576425600000,39.0,\"\"],[1576512000000,39.0,\"\"],[1576598400000,39.0,\"\"],[1576684800000,35.0,\"\"],[1576771200000,35.0,\"\"],[1576857600000,35.0,\"\"],[1576944000000,35.0,\"\"],[1577030400000,39.0,\"\"],[1577116800000,39.0,\"\"],[1577203200000,39.0,\"\"],[1577289600000,35.0,\"\"],[1577376000000,35.0,\"\"],[1577462400000,39.0,\"\"],[1577548800000,39.0,\"\"],[1577635200000,39.0,\"\"],[1577721600000,39.0,\"\"],[1577808000000,39.0,\"\"],[1577894400000,39.0,\"\"],[1577980800000,39.0,\"\"],[1578067200000,39.0,\"\"],[1578153600000,39.0,\"\"],[1578240000000,39.0,\"\"],[1578326400000,29.0,\"\"],[1578412800000,29.0,\"\"],[1578499200000,29.0,\"\"],[1578585600000,29.0,\"\"],[1578672000000,39.0,\"\"],[1578758400000,39.0,\"\"],[1578844800000,39.0,\"\"],[1578931200000,39.0,\"\"],[1579017600000,39.0,\"\"],[1579104000000,39.0,\"\"],[1579190400000,39.0,\"\"],[1579276800000,39.0,\"\"],[1579363200000,39.0,\"\"],[1579449600000,38.0,\"\"],[1579536000000,39.0,\"\"],[1579622400000,39.00,\"\"],[1579708800000,39.00,\"\"],[1579795200000,39.00,\"\"],[1579881600000,39.00,\"\"],[1579968000000,39.00,\"\"],[1580054400000,39.00,\"\"],[1580140800000,39.00,\"\"],[1580227200000,39.00,\"\"],[1580313600000,39.00,\"\"],[1580400000000,39.00,\"\"],[1580486400000,39.00,\"\"],[1580572800000,39.00,\"\"],[1580659200000,39.00,\"\"],[1580745600000,39.00,\"\"],[1580832000000,39.00,\"\"],[1580918400000,39.00,\"\"],[1581004800000,39.00,\"\"],[1581091200000,39.00,\"\"],[1581177600000,39.00,\"\"],[1581264000000,39.0,\"\"],[1581350400000,39.0,\"\"],[1581436800000,39.0,\"\"],[1581523200000,39.0,\"\"],[1581609600000,39.0,\"\"],[1581696000000,39.0,\"\"],[1581782400000,39.0,\"\"],[1581868800000,39.0,\"\"],[1581955200000,39.0,\"\"],[1582041600000,39.0,\"\"],[1582128000000,39.00,\"39元\"],[1582214400000,39.0,\"\"],[1582300800000,39.0,\"\"],[1582387200000,39.00,\"39元\"],[1582473600000,39.0,\"\"],[1582560000000,39.00,\"39元\"],[1582646400000,39.00,\"39元\"],[1582732800000,39.0,\"\"],[1582819200000,37.30,\"112元（合37.33元/件）\"],[1582905600000,39.0000,\"\"],[1582992000000,49.00,\"\"],[1583078400000,39.00,\"\"],[1583164800000,39.0,\"\"],[1583251200000,39.00,\"\"],[1583337600000,39.00,\"39元\"],[1583424000000,39.00,\"39元\"],[1583510400000,39.00,\"\"],[1583596800000,39.00,\"\"],[1583683200000,39.0,\"\"],[1583769600000,39.0,\"\"],[1583856000000,37.10,\"409元（合37.18元/件）\"],[1583942400000,38.0,\"购买1件,当前价:39.0,优惠券：满20减1\"],[1584028800000,38.0,\"购买1件,当前价:39.0,优惠券：满20元减1元\"],[1584115200000,38.0,\"购买1件,当前价:39.0,优惠券：满20元减1元\"]'"
      ]
     },
     "execution_count": 38,
     "metadata": {},
     "output_type": "execute_result"
    }
   ],
   "source": [
    "a  = soup('script')[-3].text.split(\"\\'\")[1]\n",
    "a"
   ]
  },
  {
   "cell_type": "code",
   "execution_count": 37,
   "metadata": {
    "ExecuteTime": {
     "end_time": "2020-03-14T09:49:15.383009Z",
     "start_time": "2020-03-14T09:49:15.367228Z"
    }
   },
   "outputs": [
    {
     "data": {
      "text/plain": [
       "<!DOCTYPE html PUBLIC \"-//W3C//DTD XHTML 1.0 Transitional//EN\" \"http://www.w3.org/TR/xhtml1/DTD/xhtml1-transitional.dtd\">\n",
       "<html xmlns=\"http://www.w3.org/1999/xhtml\">\n",
       "<head><title>\n",
       "\tohsunny口罩n95防雾霾防尘透气防PM2.5一次性防护kn口罩男女包邮 -- 历史价格查询\n",
       "</title><link href=\"http://p.zwjhl.com/images/favicon.ico\" mce_href=\"http://p.zwjhl.com/images/favicon.ico\" rel=\"icon\" type=\"image/x-icon\"/><link href=\"http://p.zwjhl.com/images/favicon.ico\" mce_href=\"http://p.zwjhl.com/images/favicon.ico\" rel=\"shortcut icon\" type=\"image/x-icon\"/>\n",
       "<script src=\"/layui/layui.js\" type=\"text/javascript\"></script>\n",
       "<link href=\"/layui/css/layui.css\" rel=\"stylesheet\"/>\n",
       "<style type=\"text/css\">\n",
       "        body, div {\n",
       "            padding: 0px;\n",
       "            margin: 0px;\n",
       "            font-family: \"微软雅黑\";\n",
       "        }\n",
       "\n",
       "        A:link, A:active, A:visited {\n",
       "            text-decoration: none;\n",
       "            color: #fff;\n",
       "            font-family: \"微软雅黑\";\n",
       "        }\n",
       "\n",
       "        .clear {\n",
       "            clear: both;\n",
       "        }\n",
       "\n",
       "        .titlebackdi {\n",
       "            padding-left: 18px;\n",
       "            height: 38px;\n",
       "            line-height: 38px;\n",
       "            font-size: 16px;\n",
       "            font-weight: bold;\n",
       "        }\n",
       "\n",
       "        .titleheadRight {\n",
       "            text-align: left;\n",
       "            margin-top: 10px;\n",
       "            width: 1194px;\n",
       "            background-color: #fff;\n",
       "        }\n",
       "\n",
       "        .wizardTxtField {\n",
       "            border: 1px solid #B9B9B9;\n",
       "            height: 31px;\n",
       "            line-height: 31px;\n",
       "            color: #999;\n",
       "            font-size: 14px;\n",
       "            vertical-align: middle;\n",
       "            padding-left: 2px;\n",
       "        }\n",
       "\n",
       "        .btn {\n",
       "            border: solid 1px #D57E3B;\n",
       "            background-color: #f60;\n",
       "            color: #fff;\n",
       "            height: 35px;\n",
       "            width: 80px;\n",
       "            text-align: center;\n",
       "            cursor: pointer;\n",
       "            font-family: \"微软雅黑\";\n",
       "        }\n",
       "\n",
       "        .btngo {\n",
       "            border: solid 1px #D57E3B;\n",
       "            background-color: #f60;\n",
       "            color: #fff;\n",
       "            height: 35px;\n",
       "            width: 100px;\n",
       "            text-align: center;\n",
       "            cursor: pointer;\n",
       "            margin-left: 20px;\n",
       "            font-family: \"微软雅黑\";\n",
       "        }\n",
       "\n",
       "        .btnquan {\n",
       "            border: solid 1px #00b38a;\n",
       "            background-color: #00b38a;\n",
       "            color: #fff;\n",
       "            height: 35px;\n",
       "            width: 100px;\n",
       "            text-align: center;\n",
       "            cursor: pointer;\n",
       "            margin-left: 20px;\n",
       "            font-family: \"微软雅黑\";\n",
       "        }\n",
       "\n",
       "        .btn120 {\n",
       "            border: solid 1px #D57E3B;\n",
       "            background-color: #E64317;\n",
       "            text-decoration: none;\n",
       "            height: 35px;\n",
       "            line-height: 35px;\n",
       "            width: 160px;\n",
       "            text-align: center;\n",
       "            cursor: pointer;\n",
       "            font-family: \"微软雅黑\";\n",
       "        }\n",
       "\n",
       "        .weblink a {\n",
       "            color: #666;\n",
       "        }\n",
       "\n",
       "        A.f12sc:link, A.f12sc:active, A.f12sc:visited {\n",
       "            font-size: 12px;\n",
       "            text-decoration: none;\n",
       "            color: #005AA0;\n",
       "        }\n",
       "    </style>\n",
       "<script src=\"http://p.zwjhl.com/images/jquery-1.7.2.min.js\" type=\"text/javascript\"></script>\n",
       "<script language=\"javascript\" type=\"text/javascript\">\n",
       "\n",
       "        $(document).ready(function () {\n",
       "            $(\"#url\").focus();\n",
       "        });\n",
       "\n",
       "        function SetFavorite(sTitle, sURL) {\n",
       "            try {\n",
       "                window.external.addFavorite(sURL, sTitle);\n",
       "            } catch (e) {\n",
       "                try {\n",
       "                    window.sidebar.addPanel(sTitle, sURL, \"\");\n",
       "                } catch (e) {\n",
       "                    alert(\"加入收藏失败，请按Ctrl+D进行添加。\");\n",
       "                }\n",
       "            }\n",
       "\n",
       "        }\n",
       "    </script>\n",
       "<script src=\"/images/stk.js\" type=\"text/javascript\"></script>\n",
       "<script src=\"/images/siteDiscount.js\" type=\"text/javascript\"></script>\n",
       "<script src=\"/images/echarts.js\" type=\"text/javascript\"></script>\n",
       "<script src=\"/images/echartsTrend.js?v=20190130\" type=\"text/javascript\"></script>\n",
       "<script type=\"text/javascript\">\n",
       "\n",
       "        function showImg(url) {\n",
       "            var imgid = Math.random(),\n",
       "                frameid = 'frameimg' + imgid;\n",
       "            window['img' + imgid] = '<img style=\"max-width:200px;width:100%;\" id=\"img\" src=\\'' + url + '\\' /><script>window.onload = function() { parent.document.getElementById(\\'' + frameid + '\\').height = document.getElementById(\\'img\\').height+\\'px\\'; }<' + '/script>';\n",
       "            document.write('<iframe id=\"' + frameid + '\" src=\"javascript:parent[\\'img' + imgid + '\\'];\" frameBorder=\"0\" scrolling=\"no\" width=\"100%\"></iframe>');\n",
       "        }\n",
       "\n",
       "\n",
       "        $(document).ready(function () {\n",
       "            if ('https://detail.tmall.com/item.htm?id=602977570356'.length > 0) {\n",
       "                $(\"#url\").val('https://detail.tmall.com/item.htm?id=602977570356');\n",
       "            }\n",
       "        });\n",
       "\n",
       "\n",
       "\n",
       "\n",
       "    </script>\n",
       "<style type=\"text/css\">\n",
       "        .linkquan {\n",
       "            display: inline-block;\n",
       "            padding-top: 8px;\n",
       "            border: solid 1px #00b38a;\n",
       "            background-color: #00b38a;\n",
       "            color: #fff;\n",
       "            height: 25px;\n",
       "            width: 100px;\n",
       "            text-align: center;\n",
       "            cursor: pointer;\n",
       "            margin-left: 20px;\n",
       "            font-family: \"微软雅黑\";\n",
       "        }\n",
       "\n",
       "        .linkgo {\n",
       "            display: inline-block;\n",
       "            padding-top: 8px;\n",
       "            border: solid 1px #D57E3B;\n",
       "            background-color: #f60;\n",
       "            color: #fff;\n",
       "            height: 25px;\n",
       "            width: 100px;\n",
       "            text-align: center;\n",
       "            cursor: pointer;\n",
       "            margin-left: 20px;\n",
       "            font-family: \"微软雅黑\";\n",
       "        }\n",
       "    </style>\n",
       "<link href=\"/images/priceweb.css\" rel=\"stylesheet\"/>\n",
       "<script type=\"text/javascript\">\n",
       "        var _hmt = _hmt || [];\n",
       "        (function () {\n",
       "            var hm = document.createElement(\"script\");\n",
       "            hm.src = \"//hm.baidu.com/hm.js?2792237093e35cdfc41782cbfecb60e9\";\n",
       "            var s = document.getElementsByTagName(\"script\")[0];\n",
       "            s.parentNode.insertBefore(hm, s);\n",
       "        })();\n",
       "        function trackEvent(App_action) {\n",
       "            _hmt.push(['_trackEvent', 'wap_APP下载', App_action, window.location.pathname, 1]);\n",
       "        }\n",
       "    </script>\n",
       "</head>\n",
       "<body>\n",
       "<div style=\"background-color: #0a3761; height: 60px; width: 100%\">\n",
       "<div style=\"width: 1180px; margin: 0px auto; text-align: center;\">\n",
       "<div>\n",
       "<div style=\"float: left; width: 200px; text-align: left; margin-top: 0px;\">\n",
       "<a href=\"http://www.lsjgcx.com/\">\n",
       "<img alt=\"查询历史价格走势，网购不被商家忽悠\" border=\"0\" src=\"http://p.zwjhl.com/images/logo.png\"/></a>\n",
       "</div>\n",
       "<div style=\"float: left; width: 200px; text-align: left; margin-top: 18px; margin-left: 5px; font-family: STKaiti; font-size: 18px; color: #fff;\">\n",
       "                    轻松识别虚假促销\n",
       "                </div>\n",
       "<div style=\"float: right; margin-top: 4px; padding: 17px 5px 8px 0px; *padding-top: 20px; width: 580px; text-align: right;\">\n",
       "<span style=\"margin: 20px;color: #fff;\">苏格拉底大王??Σωκρ?τη?  </span>\n",
       "<a class=\"layui-btn layui-btn-xs\" href=\"/logout.aspx\">退出</a>\n",
       "</div>\n",
       "</div>\n",
       "</div>\n",
       "</div>\n",
       "<div>\n",
       "<div style=\"width: 1200px; margin: 0px auto; text-align: center;\">\n",
       "<div style=\"width: 1194px; margin: 0px;\">\n",
       "<form action=\"price.aspx\" method=\"get\">\n",
       "<div class=\"titleheadRight\">\n",
       "<div style=\"padding: 10px;\">\n",
       "<div style=\"border: solid 1px #c5c5c5; margin-bottom: 10px; overflow: hidden;\">\n",
       "<div style=\"background-color: #f7fafd; border-bottom: solid 1px #c5c5c5; text-align: left;\">\n",
       "<div style=\"font-size: 14px; line-height: 36px; height: 36px; margin-left: 20px; color: #0a3761\">\n",
       "<b>[查询商品历史价格走势]</b> 京东、天猫、淘宝、亚马逊、苏宁、当当、1号店、易迅、国美、新蛋等商品网址\n",
       "                                    </div>\n",
       "</div>\n",
       "<div style=\"margin-left: 20px; margin-top: 10px;\">\n",
       "<div style=\"line-height: 30px; height: 40px; text-align: left; font-size: 14px;\">\n",
       "                                        输入商品的对应网页地址(如<a href=\"price.aspx?url=http%3A%2F%2Fitem.jd.com%2F1378536.html\" style=\"color: #333;\">http://item.jd.com/1378536.html</a>)：\n",
       "                                    </div>\n",
       "<div style=\"line-height: 30px; height: 40px; text-align: left;\">\n",
       "<input class=\"wizardTxtField\" id=\"url\" name=\"url\" style=\"width: 1120px;\" type=\"text\" value=\"https://detail.tmall.com/item.htm?id=602977570356\"/>\n",
       "</div>\n",
       "<div style=\"line-height: 30px; height: 40px; text-align: left; margin: 10px 0px;\">\n",
       "<input class=\"btn\" type=\"submit\" value=\"查询\"/>\n",
       "<span style=\"color: #999; margin-left: 20px;\">有时查询会比较慢，请耐心等待</span>\n",
       "</div>\n",
       "</div>\n",
       "</div>\n",
       "<div class=\"clear\"></div>\n",
       "</div>\n",
       "</div>\n",
       "</form>\n",
       "<div style=\"width: 1180px;\">\n",
       "<script type=\"text/javascript\">$(document).ready(function () { flotChart.chartNow('[1568908800000,38.0,\"\"],[1568995200000,38.0,\"\"],[1569081600000,39.0,\"\"],[1569168000000,39.0,\"\"],[1569254400000,39.0,\"\"],[1569340800000,39.0,\"\"],[1569427200000,38.0,\"\"],[1569513600000,38.0,\"\"],[1569600000000,38.0,\"\"],[1569686400000,39.0,\"\"],[1569772800000,39.0,\"\"],[1569859200000,39.0,\"\"],[1569945600000,39.0,\"\"],[1570032000000,39.0,\"\"],[1570118400000,39.0,\"\"],[1570204800000,39.0,\"\"],[1570291200000,39.0,\"\"],[1570377600000,39.0,\"\"],[1570464000000,39.0,\"\"],[1570550400000,39.0,\"\"],[1570636800000,39.0,\"\"],[1570723200000,39.0,\"\"],[1570809600000,39.0,\"\"],[1570896000000,39.0,\"\"],[1570982400000,38.0,\"\"],[1571068800000,38.0,\"\"],[1571155200000,38.0,\"\"],[1571241600000,39.0,\"\"],[1571328000000,39.0,\"\"],[1571414400000,39.0,\"\"],[1571500800000,39.0,\"\"],[1571587200000,39.0,\"\"],[1571673600000,39.0,\"\"],[1571760000000,39.0,\"\"],[1571846400000,39.0,\"\"],[1571932800000,39.0,\"\"],[1572019200000,39.0,\"\"],[1572105600000,39.0,\"\"],[1572192000000,39.0,\"\"],[1572278400000,39.0,\"\"],[1572364800000,39.0,\"\"],[1572451200000,39.0,\"\"],[1572537600000,39.0,\"\"],[1572624000000,39.0,\"\"],[1572710400000,39.0,\"\"],[1572796800000,39.0,\"\"],[1572883200000,39.0,\"\"],[1572969600000,34.0,\"\"],[1573056000000,34.0,\"\"],[1573142400000,34.0,\"\"],[1573228800000,34.0,\"\"],[1573315200000,34.0,\"\"],[1573401600000,34.0,\"\"],[1573488000000,39.0,\"\"],[1573574400000,39.0,\"\"],[1573660800000,39.0,\"\"],[1573747200000,39.0,\"\"],[1573833600000,39.0,\"\"],[1573920000000,39.0,\"\"],[1574006400000,37.0,\"\"],[1574092800000,37.0,\"\"],[1574179200000,37.0,\"\"],[1574265600000,37.0,\"\"],[1574352000000,37.0,\"\"],[1574438400000,39.0,\"\"],[1574524800000,39.0,\"\"],[1574611200000,39.0,\"\"],[1574697600000,39.0,\"\"],[1574784000000,39.0,\"\"],[1574870400000,39.0,\"\"],[1574956800000,39.0,\"\"],[1575043200000,39.0,\"\"],[1575129600000,39.0,\"\"],[1575216000000,39.0,\"\"],[1575302400000,39.0,\"\"],[1575388800000,39.0,\"\"],[1575475200000,39.0,\"\"],[1575561600000,39.0,\"\"],[1575648000000,39.0,\"\"],[1575734400000,39.0,\"\"],[1575820800000,39.0,\"\"],[1575907200000,39.0,\"\"],[1575993600000,39.0,\"\"],[1576080000000,35.0,\"\"],[1576166400000,39.0,\"\"],[1576252800000,39.0,\"\"],[1576339200000,39.0,\"\"],[1576425600000,39.0,\"\"],[1576512000000,39.0,\"\"],[1576598400000,39.0,\"\"],[1576684800000,35.0,\"\"],[1576771200000,35.0,\"\"],[1576857600000,35.0,\"\"],[1576944000000,35.0,\"\"],[1577030400000,39.0,\"\"],[1577116800000,39.0,\"\"],[1577203200000,39.0,\"\"],[1577289600000,35.0,\"\"],[1577376000000,35.0,\"\"],[1577462400000,39.0,\"\"],[1577548800000,39.0,\"\"],[1577635200000,39.0,\"\"],[1577721600000,39.0,\"\"],[1577808000000,39.0,\"\"],[1577894400000,39.0,\"\"],[1577980800000,39.0,\"\"],[1578067200000,39.0,\"\"],[1578153600000,39.0,\"\"],[1578240000000,39.0,\"\"],[1578326400000,29.0,\"\"],[1578412800000,29.0,\"\"],[1578499200000,29.0,\"\"],[1578585600000,29.0,\"\"],[1578672000000,39.0,\"\"],[1578758400000,39.0,\"\"],[1578844800000,39.0,\"\"],[1578931200000,39.0,\"\"],[1579017600000,39.0,\"\"],[1579104000000,39.0,\"\"],[1579190400000,39.0,\"\"],[1579276800000,39.0,\"\"],[1579363200000,39.0,\"\"],[1579449600000,38.0,\"\"],[1579536000000,39.0,\"\"],[1579622400000,39.00,\"\"],[1579708800000,39.00,\"\"],[1579795200000,39.00,\"\"],[1579881600000,39.00,\"\"],[1579968000000,39.00,\"\"],[1580054400000,39.00,\"\"],[1580140800000,39.00,\"\"],[1580227200000,39.00,\"\"],[1580313600000,39.00,\"\"],[1580400000000,39.00,\"\"],[1580486400000,39.00,\"\"],[1580572800000,39.00,\"\"],[1580659200000,39.00,\"\"],[1580745600000,39.00,\"\"],[1580832000000,39.00,\"\"],[1580918400000,39.00,\"\"],[1581004800000,39.00,\"\"],[1581091200000,39.00,\"\"],[1581177600000,39.00,\"\"],[1581264000000,39.0,\"\"],[1581350400000,39.0,\"\"],[1581436800000,39.0,\"\"],[1581523200000,39.0,\"\"],[1581609600000,39.0,\"\"],[1581696000000,39.0,\"\"],[1581782400000,39.0,\"\"],[1581868800000,39.0,\"\"],[1581955200000,39.0,\"\"],[1582041600000,39.0,\"\"],[1582128000000,39.00,\"39元\"],[1582214400000,39.0,\"\"],[1582300800000,39.0,\"\"],[1582387200000,39.00,\"39元\"],[1582473600000,39.0,\"\"],[1582560000000,39.00,\"39元\"],[1582646400000,39.00,\"39元\"],[1582732800000,39.0,\"\"],[1582819200000,37.30,\"112元（合37.33元/件）\"],[1582905600000,39.0000,\"\"],[1582992000000,49.00,\"\"],[1583078400000,39.00,\"\"],[1583164800000,39.0,\"\"],[1583251200000,39.00,\"\"],[1583337600000,39.00,\"39元\"],[1583424000000,39.00,\"39元\"],[1583510400000,39.00,\"\"],[1583596800000,39.00,\"\"],[1583683200000,39.0,\"\"],[1583769600000,39.0,\"\"],[1583856000000,37.10,\"409元（合37.18元/件）\"],[1583942400000,38.0,\"购买1件,当前价:39.0,优惠券：满20减1\"],[1584028800000,38.0,\"购买1件,当前价:39.0,优惠券：满20元减1元\"],[1584115200000,38.0,\"购买1件,当前价:39.0,优惠券：满20元减1元\"]','https://detail.tmall.com/item.htm?id=602977570356', 'pc');   });</script>\n",
       "<div style=\"float: right; width: 100%;\">\n",
       "<div>\n",
       "<div style=\"width: 100%;\">\n",
       "<h1 style=\"color: #333333; font-size: 16px; margin: 10px; text-align: center; font-weight: bold;\">\n",
       "                        ohsunny口罩n95防雾霾防尘透气防PM2.5一次性防护kn口罩男女包邮</h1>\n",
       "<div class=\"bigwidth\">\n",
       "<span style=\"color: #333; font-size: 14px;\">\n",
       "<b>天猫</b>   <font style=\"font-size:12px;\">   </font>\n",
       "                            历史最低 <font class=\"bigwordprice\">\n",
       "                                29.0</font> <font style=\"font-size: 12px;\">(2020/1/7)</font>\n",
       "                               当前价：38.0\n",
       "                        </span>\n",
       "<a class=\"linkquan\" href=\"http://baicai.manmanbuy.com/Default_New.aspx?key=ohsunny%e5%8f%a3%e7%bd%a9n95%e9%98%b2%e9%9b%be%e9%9c%be%e9%98%b2%e5%b0%98%e9%80%8f%e6%b0%94%e9%98%b2PM2.5%e4%b8%80%e6%ac%a1%e6%80%a7%e9%98%b2%e6%8a%a4kn%e5%8f%a3%e7%bd%a9%e7%94%b7%e5%a5%b3%e5%8c%85%e9%82%ae\" onclick=\"trackEvent('淘宝搜券');\" target=\"_blank\">搜优惠券&gt;</a>\n",
       "<a class=\"linkgo\" href=\"/ProductDetail.aspx?itemid=602977570356\" onclick=\"trackEvent('淘宝点击');)\" target=\"_blank\">直达链接&gt;</a>\n",
       "<br/>\n",
       "<span style=\"color: #666; font-size: 12px; line-height: 30px;\">有很多朋友发邮件过来感谢我们，主要是说这个查价格走势的产品帮他省了不少钱，如果想支持我们做得更好，每次查完请点击直达链接即可：）</span>\n",
       "</div>\n",
       "<div style=\"width: 1180px; font-size: 12px; position: relative;\">\n",
       "<div id=\"container\" style=\"width: 1180px; height: 400px; margin: 0 auto; font-size: 12px;\">\n",
       "</div>\n",
       "</div>\n",
       "</div>\n",
       "</div>\n",
       "</div>\n",
       "<div class=\"clear\">\n",
       "</div>\n",
       "</div>\n",
       "<div style=\"text-align: left; font-size: 12px; margin-top: 30px; margin-left: 10px; border-bottom: 1px solid #ccc; padding-bottom: 10px;\">\n",
       "        当前位置：\n",
       "        \n",
       "        <a href=\"http://www.lsjgcx.com\" style=\"color: #666;\">天猫历史价格查询</a> &gt; ohsunny口罩n95防雾霾防尘透气防PM2.5一次性防护kn口罩男女包邮\n",
       "        \n",
       "    </div>\n",
       "<div style=\"text-align: center; font-size: 12px; padding-bottom: 10px;\">\n",
       "        反馈建议：lsjgcx@163.com\n",
       "    </div>\n",
       "<script type=\"text/javascript\">\n",
       "\n",
       "        $(document).ready(function () {\n",
       "            if ('苏格拉底大王??Σωκρ?τη?' == '') {\n",
       "                $('.loginwx').trigger(\"click\");\n",
       "            }\n",
       "        });\n",
       "</script>\n",
       "</div>\n",
       "</div>\n",
       "</div>\n",
       "<div style=\"background-color: #0a3761; height: 18px; padding: 12px 0; color: #fff; font-size: 12px; text-align: center;\"><a href=\"http://www.lsjgcx.com\" style=\"color: #fff;\">历史价格查询</a>(LSJGCX.COM)     沪ICP备16003090号-4</div>\n",
       "<script type=\"text/javascript\">\n",
       " \n",
       "        function openlogin() {\n",
       "            layui.use('layer', function () {\n",
       "                var layer = layui.layer;\n",
       "                layer.open({\n",
       "                    type: 2,\n",
       "                    title: '微信登录',\n",
       "                    shadeClose: true,\n",
       "                    shade: 0.5,\n",
       "                    anim: 0,\n",
       "                    area: ['390px', '580px'],\n",
       "                    content: ['/login_wx.aspx', 'no'] //iframe的url\n",
       "                });\n",
       "            });\n",
       "        }\n",
       "\n",
       "\n",
       "        function parentCloseWinc(url) {\n",
       "            window.location.href = url;\n",
       "        }\n",
       "\n",
       "    </script>\n",
       "</body>\n",
       "</html>"
      ]
     },
     "execution_count": 37,
     "metadata": {},
     "output_type": "execute_result"
    }
   ],
   "source": [
    "soup"
   ]
  },
  {
   "cell_type": "code",
   "execution_count": null,
   "metadata": {},
   "outputs": [],
   "source": []
  }
 ],
 "metadata": {
  "kernelspec": {
   "display_name": "Python 3",
   "language": "python",
   "name": "python3"
  },
  "language_info": {
   "codemirror_mode": {
    "name": "ipython",
    "version": 3
   },
   "file_extension": ".py",
   "mimetype": "text/x-python",
   "name": "python",
   "nbconvert_exporter": "python",
   "pygments_lexer": "ipython3",
   "version": "3.7.3"
  },
  "latex_envs": {
   "LaTeX_envs_menu_present": true,
   "autoclose": false,
   "autocomplete": true,
   "bibliofile": "biblio.bib",
   "cite_by": "apalike",
   "current_citInitial": 1,
   "eqLabelWithNumbers": true,
   "eqNumInitial": 1,
   "hotkeys": {
    "equation": "Ctrl-E",
    "itemize": "Ctrl-I"
   },
   "labels_anchors": false,
   "latex_user_defs": false,
   "report_style_numbering": false,
   "user_envs_cfg": false
  },
  "toc": {
   "base_numbering": 1,
   "nav_menu": {},
   "number_sections": false,
   "sideBar": true,
   "skip_h1_title": false,
   "title_cell": "Table of Contents",
   "title_sidebar": "Contents",
   "toc_cell": false,
   "toc_position": {},
   "toc_section_display": true,
   "toc_window_display": false
  }
 },
 "nbformat": 4,
 "nbformat_minor": 2
}
