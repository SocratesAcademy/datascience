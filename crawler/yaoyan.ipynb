{
 "cells": [
  {
   "cell_type": "markdown",
   "metadata": {},
   "source": [
    "# Fact QQ\n",
    "\n",
    "https://vp.fact.qq.com/home\n",
    "\n"
   ]
  },
  {
   "cell_type": "markdown",
   "metadata": {
    "ExecuteTime": {
     "end_time": "2020-03-03T14:37:17.153858Z",
     "start_time": "2020-03-03T14:37:17.150432Z"
    }
   },
   "source": [
    "https://vp.fact.qq.com/loadmore?artnum=0&page=13"
   ]
  },
  {
   "cell_type": "code",
   "execution_count": 4,
   "metadata": {
    "ExecuteTime": {
     "end_time": "2020-03-03T14:40:07.647277Z",
     "start_time": "2020-03-03T14:40:07.643729Z"
    }
   },
   "outputs": [
    {
     "name": "stdout",
     "output_type": "stream",
     "text": [
      "https://vp.fact.qq.com/loadmore?artnum=0&page=1\n"
     ]
    }
   ],
   "source": [
    "import requests\n",
    "from bs4 import BeautifulSoup\n",
    "\n",
    "path = 'https://vp.fact.qq.com/loadmore?artnum=0&page='\n",
    "url = path + '0'\n",
    "content = requests.get(url)\n",
    "d = content.json()"
   ]
  },
  {
   "cell_type": "code",
   "execution_count": 23,
   "metadata": {
    "ExecuteTime": {
     "end_time": "2020-03-03T14:56:10.752055Z",
     "start_time": "2020-03-03T14:56:01.969203Z"
    }
   },
   "outputs": [
    {
     "name": "stdout",
     "output_type": "stream",
     "text": [
      "0\n",
      "1\n",
      "2\n",
      "3\n",
      "4\n",
      "5\n",
      "6\n",
      "7\n",
      "8\n",
      "9\n",
      "10\n",
      "11\n",
      "12\n",
      "13\n",
      "14\n",
      "15\n",
      "16\n",
      "17\n",
      "18\n",
      "19\n",
      "20\n",
      "21\n",
      "22\n",
      "23\n",
      "24\n",
      "25\n",
      "26\n",
      "27\n",
      "28\n",
      "29\n",
      "30\n",
      "31\n",
      "32\n",
      "33\n",
      "34\n",
      "35\n",
      "36\n",
      "37\n",
      "38\n",
      "39\n",
      "40\n",
      "41\n",
      "42\n",
      "43\n"
     ]
    }
   ],
   "source": [
    "jsons = []\n",
    "for i in range(44):\n",
    "    print(i)\n",
    "    path = 'https://vp.fact.qq.com/loadmore?artnum=0&page='\n",
    "    url = path + str(i)\n",
    "    content = requests.get(url)\n",
    "    d = content.json()\n",
    "    for i in d['content']:\n",
    "        jsons.append(i)"
   ]
  },
  {
   "cell_type": "code",
   "execution_count": 24,
   "metadata": {
    "ExecuteTime": {
     "end_time": "2020-03-03T14:56:16.114485Z",
     "start_time": "2020-03-03T14:56:16.111288Z"
    }
   },
   "outputs": [
    {
     "data": {
      "text/plain": [
       "'https://vp.fact.qq.com/loadmore?artnum=0&page=43'"
      ]
     },
     "execution_count": 24,
     "metadata": {},
     "output_type": "execute_result"
    }
   ],
   "source": [
    "url"
   ]
  },
  {
   "cell_type": "code",
   "execution_count": 25,
   "metadata": {
    "ExecuteTime": {
     "end_time": "2020-03-03T14:56:19.611686Z",
     "start_time": "2020-03-03T14:56:19.607547Z"
    }
   },
   "outputs": [
    {
     "data": {
      "text/plain": [
       "431"
      ]
     },
     "execution_count": 25,
     "metadata": {},
     "output_type": "execute_result"
    }
   ],
   "source": [
    "len(jsons)"
   ]
  },
  {
   "cell_type": "code",
   "execution_count": 26,
   "metadata": {
    "ExecuteTime": {
     "end_time": "2020-03-03T14:56:27.584560Z",
     "start_time": "2020-03-03T14:56:27.554640Z"
    }
   },
   "outputs": [
    {
     "data": {
      "text/html": [
       "<div>\n",
       "<style scoped>\n",
       "    .dataframe tbody tr th:only-of-type {\n",
       "        vertical-align: middle;\n",
       "    }\n",
       "\n",
       "    .dataframe tbody tr th {\n",
       "        vertical-align: top;\n",
       "    }\n",
       "\n",
       "    .dataframe thead th {\n",
       "        text-align: right;\n",
       "    }\n",
       "</style>\n",
       "<table border=\"1\" class=\"dataframe\">\n",
       "  <thead>\n",
       "    <tr style=\"text-align: right;\">\n",
       "      <th></th>\n",
       "      <th>title</th>\n",
       "      <th>author</th>\n",
       "      <th>authordesc</th>\n",
       "      <th>id</th>\n",
       "      <th>date</th>\n",
       "      <th>markstyle</th>\n",
       "      <th>result</th>\n",
       "      <th>explain</th>\n",
       "      <th>abstract</th>\n",
       "      <th>tag</th>\n",
       "      <th>type</th>\n",
       "      <th>videourl</th>\n",
       "      <th>cover</th>\n",
       "      <th>coverrect</th>\n",
       "      <th>coversqual</th>\n",
       "      <th>section</th>\n",
       "      <th>iscolled</th>\n",
       "      <th>arttype</th>\n",
       "    </tr>\n",
       "  </thead>\n",
       "  <tbody>\n",
       "    <tr>\n",
       "      <th>0</th>\n",
       "      <td>中国女子给美国捐赠20万只口罩后获得绿卡</td>\n",
       "      <td>易晓静</td>\n",
       "      <td>较真高校查证员</td>\n",
       "      <td>fed618beeb9c28dca873e0255530b3e1</td>\n",
       "      <td>2020-03-03</td>\n",
       "      <td>fake</td>\n",
       "      <td>假</td>\n",
       "      <td>谣言</td>\n",
       "      <td>流传文章说捐口罩的女子轰动海外社交网站。实际上...</td>\n",
       "      <td>[宁波, 口罩]</td>\n",
       "      <td>1</td>\n",
       "      <td></td>\n",
       "      <td>https://p.qpic.cn/jiaozhen/0/12be26615cbb506ab...</td>\n",
       "      <td>https://p.qpic.cn/jiaozhen/0/12be26615cbb506ab...</td>\n",
       "      <td>https://p.qpic.cn/jiaozhen/0/12be26615cbb506ab...</td>\n",
       "      <td></td>\n",
       "      <td>False</td>\n",
       "      <td>normal</td>\n",
       "    </tr>\n",
       "    <tr>\n",
       "      <th>1</th>\n",
       "      <td>3月16日居民出行正常化，17日公交正常化</td>\n",
       "      <td>腾讯新闻旗下专业事实查证平台</td>\n",
       "      <td>腾讯新闻旗下专业事实查证平台</td>\n",
       "      <td>1cd69b09eeaab60f94b958ad8ad892c0</td>\n",
       "      <td>2020-03-03</td>\n",
       "      <td>fake</td>\n",
       "      <td>假</td>\n",
       "      <td>谣言</td>\n",
       "      <td>经查证，这是条假消息，2月份就流传过...</td>\n",
       "      <td>[出行, 公交]</td>\n",
       "      <td>1</td>\n",
       "      <td></td>\n",
       "      <td>https://p.qpic.cn/jiaozhen/0/42c23d958f1dd1470...</td>\n",
       "      <td>https://p.qpic.cn/jiaozhen/0/42c23d958f1dd1470...</td>\n",
       "      <td>https://p.qpic.cn/jiaozhen/0/42c23d958f1dd1470...</td>\n",
       "      <td></td>\n",
       "      <td>False</td>\n",
       "      <td>normal</td>\n",
       "    </tr>\n",
       "    <tr>\n",
       "      <th>2</th>\n",
       "      <td>疫情期间可以通过大强度锻炼提高抵抗力</td>\n",
       "      <td>徐建方</td>\n",
       "      <td>国家体育总局体育科学研究所研究员</td>\n",
       "      <td>7f23f924340d5af95ff73587f749765f</td>\n",
       "      <td>2020-03-03</td>\n",
       "      <td>fake</td>\n",
       "      <td>假</td>\n",
       "      <td>伪科学</td>\n",
       "      <td>首先要明确，居家健身不适宜进行长时间大强度锻炼。在居家防疫期间...</td>\n",
       "      <td>[锻炼, 抵抗力]</td>\n",
       "      <td>1</td>\n",
       "      <td></td>\n",
       "      <td>//jiaozhen-70111.picnjc.qpic.cn/jfyUEGG1ym8gBr...</td>\n",
       "      <td>//jiaozhen-70111.picnjc.qpic.cn/jfyUEGG1ym8gBr...</td>\n",
       "      <td>//jiaozhen-70111.picnjc.qpic.cn/jfyUEGG1ym8gBr...</td>\n",
       "      <td></td>\n",
       "      <td>False</td>\n",
       "      <td>normal</td>\n",
       "    </tr>\n",
       "    <tr>\n",
       "      <th>3</th>\n",
       "      <td>韩国16名护士因新冠肺炎疫情集体辞职</td>\n",
       "      <td>由人民网和环球时报社联合主办的中央级新闻单位</td>\n",
       "      <td>由人民网和环球时报社联合主办的中央级新闻单位</td>\n",
       "      <td>d2f5d0b141a7510f6b270a4a2b088c8f</td>\n",
       "      <td>2020-03-03</td>\n",
       "      <td>fake</td>\n",
       "      <td>假</td>\n",
       "      <td>谣言</td>\n",
       "      <td>韩国纽西斯通讯社2020年3月2日报道称...</td>\n",
       "      <td>[韩国, 新型冠状病毒]</td>\n",
       "      <td>1</td>\n",
       "      <td></td>\n",
       "      <td>https://p.qpic.cn/jiaozhen/0/cfb2269a474659e36...</td>\n",
       "      <td>https://p.qpic.cn/jiaozhen/0/cfb2269a474659e36...</td>\n",
       "      <td>https://p.qpic.cn/jiaozhen/0/cfb2269a474659e36...</td>\n",
       "      <td></td>\n",
       "      <td>False</td>\n",
       "      <td>normal</td>\n",
       "    </tr>\n",
       "    <tr>\n",
       "      <th>4</th>\n",
       "      <td>青蒿素可以治疗新型冠状病毒肺炎</td>\n",
       "      <td>药理学硕士，知贝儿科药师</td>\n",
       "      <td>药理学硕士，知贝儿科药师</td>\n",
       "      <td>5cec35b94bfdcf6395f318d6debcc36b</td>\n",
       "      <td>2020-03-02</td>\n",
       "      <td>doubt</td>\n",
       "      <td>疑</td>\n",
       "      <td>尚无定论</td>\n",
       "      <td>近几年...</td>\n",
       "      <td>[青蒿素, 新型冠状病毒]</td>\n",
       "      <td>1</td>\n",
       "      <td></td>\n",
       "      <td>https://p.qpic.cn/jiaozhen/0/1cfdac0461d661934...</td>\n",
       "      <td>https://p.qpic.cn/jiaozhen/0/1cfdac0461d661934...</td>\n",
       "      <td>https://p.qpic.cn/jiaozhen/0/1cfdac0461d661934...</td>\n",
       "      <td></td>\n",
       "      <td>False</td>\n",
       "      <td>normal</td>\n",
       "    </tr>\n",
       "  </tbody>\n",
       "</table>\n",
       "</div>"
      ],
      "text/plain": [
       "                   title                  author              authordesc  \\\n",
       "0   中国女子给美国捐赠20万只口罩后获得绿卡                     易晓静                 较真高校查证员   \n",
       "1  3月16日居民出行正常化，17日公交正常化          腾讯新闻旗下专业事实查证平台          腾讯新闻旗下专业事实查证平台   \n",
       "2     疫情期间可以通过大强度锻炼提高抵抗力                     徐建方        国家体育总局体育科学研究所研究员   \n",
       "3     韩国16名护士因新冠肺炎疫情集体辞职  由人民网和环球时报社联合主办的中央级新闻单位  由人民网和环球时报社联合主办的中央级新闻单位   \n",
       "4        青蒿素可以治疗新型冠状病毒肺炎            药理学硕士，知贝儿科药师            药理学硕士，知贝儿科药师   \n",
       "\n",
       "                                 id        date markstyle result explain  \\\n",
       "0  fed618beeb9c28dca873e0255530b3e1  2020-03-03      fake      假      谣言   \n",
       "1  1cd69b09eeaab60f94b958ad8ad892c0  2020-03-03      fake      假      谣言   \n",
       "2  7f23f924340d5af95ff73587f749765f  2020-03-03      fake      假     伪科学   \n",
       "3  d2f5d0b141a7510f6b270a4a2b088c8f  2020-03-03      fake      假      谣言   \n",
       "4  5cec35b94bfdcf6395f318d6debcc36b  2020-03-02     doubt      疑    尚无定论   \n",
       "\n",
       "                             abstract            tag  type videourl  \\\n",
       "0          流传文章说捐口罩的女子轰动海外社交网站。实际上...       [宁波, 口罩]     1            \n",
       "1               经查证，这是条假消息，2月份就流传过...       [出行, 公交]     1            \n",
       "2  首先要明确，居家健身不适宜进行长时间大强度锻炼。在居家防疫期间...      [锻炼, 抵抗力]     1            \n",
       "3             韩国纽西斯通讯社2020年3月2日报道称...   [韩国, 新型冠状病毒]     1            \n",
       "4                              近几年...  [青蒿素, 新型冠状病毒]     1            \n",
       "\n",
       "                                               cover  \\\n",
       "0  https://p.qpic.cn/jiaozhen/0/12be26615cbb506ab...   \n",
       "1  https://p.qpic.cn/jiaozhen/0/42c23d958f1dd1470...   \n",
       "2  //jiaozhen-70111.picnjc.qpic.cn/jfyUEGG1ym8gBr...   \n",
       "3  https://p.qpic.cn/jiaozhen/0/cfb2269a474659e36...   \n",
       "4  https://p.qpic.cn/jiaozhen/0/1cfdac0461d661934...   \n",
       "\n",
       "                                           coverrect  \\\n",
       "0  https://p.qpic.cn/jiaozhen/0/12be26615cbb506ab...   \n",
       "1  https://p.qpic.cn/jiaozhen/0/42c23d958f1dd1470...   \n",
       "2  //jiaozhen-70111.picnjc.qpic.cn/jfyUEGG1ym8gBr...   \n",
       "3  https://p.qpic.cn/jiaozhen/0/cfb2269a474659e36...   \n",
       "4  https://p.qpic.cn/jiaozhen/0/1cfdac0461d661934...   \n",
       "\n",
       "                                          coversqual section  iscolled arttype  \n",
       "0  https://p.qpic.cn/jiaozhen/0/12be26615cbb506ab...             False  normal  \n",
       "1  https://p.qpic.cn/jiaozhen/0/42c23d958f1dd1470...             False  normal  \n",
       "2  //jiaozhen-70111.picnjc.qpic.cn/jfyUEGG1ym8gBr...             False  normal  \n",
       "3  https://p.qpic.cn/jiaozhen/0/cfb2269a474659e36...             False  normal  \n",
       "4  https://p.qpic.cn/jiaozhen/0/1cfdac0461d661934...             False  normal  "
      ]
     },
     "execution_count": 26,
     "metadata": {},
     "output_type": "execute_result"
    }
   ],
   "source": [
    "import pandas as pd\n",
    "df = pd.DataFrame(jsons)\n",
    "df.head()"
   ]
  },
  {
   "cell_type": "code",
   "execution_count": 27,
   "metadata": {
    "ExecuteTime": {
     "end_time": "2020-03-03T14:56:48.506703Z",
     "start_time": "2020-03-03T14:56:48.276304Z"
    }
   },
   "outputs": [],
   "source": [
    "df.to_excel('../data/vpqq2020-03-03.xlsx')"
   ]
  },
  {
   "cell_type": "code",
   "execution_count": null,
   "metadata": {},
   "outputs": [],
   "source": []
  }
 ],
 "metadata": {
  "kernelspec": {
   "display_name": "Python 3",
   "language": "python",
   "name": "python3"
  },
  "language_info": {
   "codemirror_mode": {
    "name": "ipython",
    "version": 3
   },
   "file_extension": ".py",
   "mimetype": "text/x-python",
   "name": "python",
   "nbconvert_exporter": "python",
   "pygments_lexer": "ipython3",
   "version": "3.7.3"
  },
  "latex_envs": {
   "LaTeX_envs_menu_present": true,
   "autoclose": false,
   "autocomplete": true,
   "bibliofile": "biblio.bib",
   "cite_by": "apalike",
   "current_citInitial": 1,
   "eqLabelWithNumbers": true,
   "eqNumInitial": 1,
   "hotkeys": {
    "equation": "Ctrl-E",
    "itemize": "Ctrl-I"
   },
   "labels_anchors": false,
   "latex_user_defs": false,
   "report_style_numbering": false,
   "user_envs_cfg": false
  },
  "toc": {
   "base_numbering": 1,
   "nav_menu": {},
   "number_sections": false,
   "sideBar": true,
   "skip_h1_title": false,
   "title_cell": "Table of Contents",
   "title_sidebar": "Contents",
   "toc_cell": false,
   "toc_position": {},
   "toc_section_display": true,
   "toc_window_display": false
  }
 },
 "nbformat": 4,
 "nbformat_minor": 2
}
