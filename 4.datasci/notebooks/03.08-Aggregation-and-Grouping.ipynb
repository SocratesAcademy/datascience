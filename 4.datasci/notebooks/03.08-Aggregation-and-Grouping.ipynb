{
 "cells": [
  {
   "cell_type": "markdown",
   "metadata": {
    "nbpresent": {
     "id": "2c735ccb-2901-467b-963b-f61ddedd95b6"
    },
    "slideshow": {
     "slide_type": "slide"
    }
   },
   "source": [
    "# Aggregation and Grouping"
   ]
  },
  {
   "cell_type": "markdown",
   "metadata": {
    "nbpresent": {
     "id": "732e1927-5582-4f60-8f4d-46631f6b3f27"
    },
    "slideshow": {
     "slide_type": "fragment"
    }
   },
   "source": [
    "<!--BOOK_INFORMATION-->\n",
    "<img align=\"left\" style=\"padding-right:10px;\" src=\"figures/PDSH-cover-small.png\">\n",
    "*This notebook contains an excerpt from the [Python Data Science Handbook](http://shop.oreilly.com/product/0636920034919.do) by Jake VanderPlas; the content is available [on GitHub](https://github.com/jakevdp/PythonDataScienceHandbook).*\n",
    "\n",
    "*The text is released under the [CC-BY-NC-ND license](https://creativecommons.org/licenses/by-nc-nd/3.0/us/legalcode), and code is released under the [MIT license](https://opensource.org/licenses/MIT). If you find this content useful, please consider supporting the work by [buying the book](http://shop.oreilly.com/product/0636920034919.do)!*"
   ]
  },
  {
   "cell_type": "markdown",
   "metadata": {
    "nbpresent": {
     "id": "8729a805-54d9-45c3-b71c-06829c87693f"
    },
    "slideshow": {
     "slide_type": "fragment"
    }
   },
   "source": [
    "<!--NAVIGATION-->\n",
    "< [Combining Datasets: Merge and Join](03.07-Merge-and-Join.ipynb) | [Contents](Index.ipynb) | [Pivot Tables](03.09-Pivot-Tables.ipynb) >"
   ]
  },
  {
   "cell_type": "markdown",
   "metadata": {
    "collapsed": true,
    "nbpresent": {
     "id": "3e5b02c6-9b6c-40e4-8b47-6e635bc907f8"
    },
    "slideshow": {
     "slide_type": "subslide"
    }
   },
   "source": [
    "An essential piece of analysis of large data is efficient summarization: \n",
    "- computing aggregations like ``sum()``, ``mean()``, ``median()``, ``min()``, and ``max()``\n",
    "-  ``groupby``."
   ]
  },
  {
   "cell_type": "markdown",
   "metadata": {
    "nbpresent": {
     "id": "3d37baa5-b17e-4fce-b43d-f471f4fc086a"
    },
    "slideshow": {
     "slide_type": "subslide"
    }
   },
   "source": [
    "For convenience, we'll use the same ``display`` magic function that we've seen in previous sections:"
   ]
  },
  {
   "cell_type": "code",
   "execution_count": 6,
   "metadata": {
    "ExecuteTime": {
     "end_time": "2018-12-13T10:12:05.119056Z",
     "start_time": "2018-12-13T10:12:05.106773Z"
    },
    "code_folding": [
     3
    ],
    "nbpresent": {
     "id": "9cb97e93-f128-44cb-9a8b-edddefa30265"
    },
    "slideshow": {
     "slide_type": "subslide"
    }
   },
   "outputs": [],
   "source": [
    "import numpy as np\n",
    "import pandas as pd\n",
    "\n",
    "class display(object):\n",
    "    \"\"\"Display HTML representation of multiple objects\"\"\"\n",
    "    template = \"\"\"<div style=\"float: left; padding: 10px;\"> \n",
    "    <p style='font-family:\"Courier New\", Courier, monospace'>{0}</p>{1}\n",
    "    </div>\"\"\"\n",
    "    def __init__(self, *args):\n",
    "        self.args = args\n",
    "        \n",
    "    def _repr_html_(self):\n",
    "        return '\\n'.join(self.template.format(a, eval(a)._repr_html_())\n",
    "                         for a in self.args)\n",
    "    \n",
    "    def __repr__(self):\n",
    "        return '\\n\\n'.join(a + '\\n' + repr(eval(a))\n",
    "                           for a in self.args)"
   ]
  },
  {
   "cell_type": "markdown",
   "metadata": {
    "nbpresent": {
     "id": "8349a302-8eac-4c59-8dca-1fc61eb39f71"
    },
    "slideshow": {
     "slide_type": "slide"
    }
   },
   "source": [
    "## Planets Data 行星数据\n",
    "\n",
    "Available via the [Seaborn package](http://seaborn.pydata.org/) (see [Visualization With Seaborn](04.14-Visualization-With-Seaborn.ipynb)).\n",
    "\n",
    "> It gives information on planets that astronomers have discovered around other stars (known as **extrasolar planets** or *exoplanets* for short). "
   ]
  },
  {
   "cell_type": "code",
   "execution_count": 2,
   "metadata": {
    "ExecuteTime": {
     "end_time": "2018-12-13T10:10:05.599670Z",
     "start_time": "2018-12-13T10:10:04.055136Z"
    },
    "nbpresent": {
     "id": "e4a9ee56-601a-4270-9a30-f30eafbc0bad"
    },
    "slideshow": {
     "slide_type": "subslide"
    }
   },
   "outputs": [
    {
     "data": {
      "text/plain": [
       "(1035, 6)"
      ]
     },
     "execution_count": 2,
     "metadata": {},
     "output_type": "execute_result"
    }
   ],
   "source": [
    "import seaborn as sns\n",
    "planets = sns.load_dataset('planets')\n",
    "planets.shape"
   ]
  },
  {
   "cell_type": "code",
   "execution_count": 3,
   "metadata": {
    "ExecuteTime": {
     "end_time": "2018-12-13T10:10:07.035911Z",
     "start_time": "2018-12-13T10:10:07.023088Z"
    },
    "nbpresent": {
     "id": "e2f0b12e-084d-4667-b892-98687deac445"
    },
    "slideshow": {
     "slide_type": "subslide"
    }
   },
   "outputs": [
    {
     "data": {
      "text/html": [
       "<div>\n",
       "<table border=\"1\" class=\"dataframe\">\n",
       "  <thead>\n",
       "    <tr style=\"text-align: right;\">\n",
       "      <th></th>\n",
       "      <th>method</th>\n",
       "      <th>number</th>\n",
       "      <th>orbital_period</th>\n",
       "      <th>mass</th>\n",
       "      <th>distance</th>\n",
       "      <th>year</th>\n",
       "    </tr>\n",
       "  </thead>\n",
       "  <tbody>\n",
       "    <tr>\n",
       "      <th>0</th>\n",
       "      <td>Radial Velocity</td>\n",
       "      <td>1</td>\n",
       "      <td>269.300</td>\n",
       "      <td>7.10</td>\n",
       "      <td>77.40</td>\n",
       "      <td>2006</td>\n",
       "    </tr>\n",
       "    <tr>\n",
       "      <th>1</th>\n",
       "      <td>Radial Velocity</td>\n",
       "      <td>1</td>\n",
       "      <td>874.774</td>\n",
       "      <td>2.21</td>\n",
       "      <td>56.95</td>\n",
       "      <td>2008</td>\n",
       "    </tr>\n",
       "    <tr>\n",
       "      <th>2</th>\n",
       "      <td>Radial Velocity</td>\n",
       "      <td>1</td>\n",
       "      <td>763.000</td>\n",
       "      <td>2.60</td>\n",
       "      <td>19.84</td>\n",
       "      <td>2011</td>\n",
       "    </tr>\n",
       "    <tr>\n",
       "      <th>3</th>\n",
       "      <td>Radial Velocity</td>\n",
       "      <td>1</td>\n",
       "      <td>326.030</td>\n",
       "      <td>19.40</td>\n",
       "      <td>110.62</td>\n",
       "      <td>2007</td>\n",
       "    </tr>\n",
       "    <tr>\n",
       "      <th>4</th>\n",
       "      <td>Radial Velocity</td>\n",
       "      <td>1</td>\n",
       "      <td>516.220</td>\n",
       "      <td>10.50</td>\n",
       "      <td>119.47</td>\n",
       "      <td>2009</td>\n",
       "    </tr>\n",
       "  </tbody>\n",
       "</table>\n",
       "</div>"
      ],
      "text/plain": [
       "            method  number  orbital_period   mass  distance  year\n",
       "0  Radial Velocity       1         269.300   7.10     77.40  2006\n",
       "1  Radial Velocity       1         874.774   2.21     56.95  2008\n",
       "2  Radial Velocity       1         763.000   2.60     19.84  2011\n",
       "3  Radial Velocity       1         326.030  19.40    110.62  2007\n",
       "4  Radial Velocity       1         516.220  10.50    119.47  2009"
      ]
     },
     "execution_count": 3,
     "metadata": {},
     "output_type": "execute_result"
    }
   ],
   "source": [
    "planets.head()"
   ]
  },
  {
   "cell_type": "code",
   "execution_count": 4,
   "metadata": {
    "ExecuteTime": {
     "end_time": "2018-12-13T10:10:07.996406Z",
     "start_time": "2018-12-13T10:10:07.992131Z"
    },
    "nbpresent": {
     "id": "e33d7275-1641-4277-871e-cec3db32154b"
    },
    "slideshow": {
     "slide_type": "subslide"
    }
   },
   "outputs": [
    {
     "data": {
      "text/plain": [
       "(1035, 6)"
      ]
     },
     "execution_count": 4,
     "metadata": {},
     "output_type": "execute_result"
    }
   ],
   "source": [
    "planets.shape"
   ]
  },
  {
   "cell_type": "markdown",
   "metadata": {
    "nbpresent": {
     "id": "39d2ce34-3884-45cf-9339-019e5b583f2f"
    },
    "slideshow": {
     "slide_type": "fragment"
    }
   },
   "source": [
    "This has some details on the 1,000+ extrasolar planets discovered up to 2014."
   ]
  },
  {
   "cell_type": "markdown",
   "metadata": {
    "nbpresent": {
     "id": "8afff9a6-73c5-4301-994f-172a5a0fd1ac"
    },
    "slideshow": {
     "slide_type": "slide"
    }
   },
   "source": [
    "## Simple Aggregation in Pandas"
   ]
  },
  {
   "cell_type": "markdown",
   "metadata": {
    "nbpresent": {
     "id": "e056489f-224c-4708-9a66-f87f1167d1e4"
    },
    "slideshow": {
     "slide_type": "fragment"
    }
   },
   "source": [
    "- Data aggregations available for NumPy arrays ([\"Aggregations: Min, Max, and Everything In Between\"](02.04-Computation-on-arrays-aggregates.ipynb)).\n",
    "- A Pandas ``Series`` the aggregates return a single value:"
   ]
  },
  {
   "cell_type": "code",
   "execution_count": 7,
   "metadata": {
    "ExecuteTime": {
     "end_time": "2018-12-13T10:12:08.791617Z",
     "start_time": "2018-12-13T10:12:08.782590Z"
    },
    "nbpresent": {
     "id": "44b62813-91d0-4af9-95c2-e90e3c1559c1"
    },
    "slideshow": {
     "slide_type": "subslide"
    }
   },
   "outputs": [
    {
     "data": {
      "text/plain": [
       "0    0.374540\n",
       "1    0.950714\n",
       "2    0.731994\n",
       "3    0.598658\n",
       "4    0.156019\n",
       "dtype: float64"
      ]
     },
     "execution_count": 7,
     "metadata": {},
     "output_type": "execute_result"
    }
   ],
   "source": [
    "rng = np.random.RandomState(42)\n",
    "ser = pd.Series(rng.rand(5))\n",
    "ser"
   ]
  },
  {
   "cell_type": "code",
   "execution_count": 8,
   "metadata": {
    "ExecuteTime": {
     "end_time": "2018-12-13T10:12:13.995301Z",
     "start_time": "2018-12-13T10:12:13.990355Z"
    },
    "nbpresent": {
     "id": "422c3757-7adb-4598-92bd-0ab924a9de12"
    },
    "slideshow": {
     "slide_type": "subslide"
    }
   },
   "outputs": [
    {
     "data": {
      "text/plain": [
       "2.811925491708157"
      ]
     },
     "execution_count": 8,
     "metadata": {},
     "output_type": "execute_result"
    }
   ],
   "source": [
    "ser.sum()"
   ]
  },
  {
   "cell_type": "code",
   "execution_count": 6,
   "metadata": {
    "ExecuteTime": {
     "end_time": "2018-06-06T06:38:49.641812Z",
     "start_time": "2018-06-06T06:38:49.637353Z"
    },
    "nbpresent": {
     "id": "a9d0823a-1b6d-4595-9c86-bffa8cd6eb76"
    },
    "slideshow": {
     "slide_type": "fragment"
    }
   },
   "outputs": [
    {
     "data": {
      "text/plain": [
       "0.5623850983416314"
      ]
     },
     "execution_count": 6,
     "metadata": {},
     "output_type": "execute_result"
    }
   ],
   "source": [
    "ser.mean()"
   ]
  },
  {
   "cell_type": "markdown",
   "metadata": {
    "nbpresent": {
     "id": "4057b8f9-2549-400f-9acf-a55d35bda7fa"
    },
    "slideshow": {
     "slide_type": "subslide"
    }
   },
   "source": [
    "For a ``DataFrame``, by default the aggregates return results within each column:"
   ]
  },
  {
   "cell_type": "code",
   "execution_count": 7,
   "metadata": {
    "ExecuteTime": {
     "end_time": "2018-06-06T06:38:57.515539Z",
     "start_time": "2018-06-06T06:38:57.506242Z"
    },
    "nbpresent": {
     "id": "2b380727-f083-4e6b-870b-1cd6bc6568d9"
    },
    "slideshow": {
     "slide_type": "subslide"
    }
   },
   "outputs": [
    {
     "data": {
      "text/html": [
       "<div>\n",
       "<table border=\"1\" class=\"dataframe\">\n",
       "  <thead>\n",
       "    <tr style=\"text-align: right;\">\n",
       "      <th></th>\n",
       "      <th>A</th>\n",
       "      <th>B</th>\n",
       "    </tr>\n",
       "  </thead>\n",
       "  <tbody>\n",
       "    <tr>\n",
       "      <th>0</th>\n",
       "      <td>0.155995</td>\n",
       "      <td>0.020584</td>\n",
       "    </tr>\n",
       "    <tr>\n",
       "      <th>1</th>\n",
       "      <td>0.058084</td>\n",
       "      <td>0.969910</td>\n",
       "    </tr>\n",
       "    <tr>\n",
       "      <th>2</th>\n",
       "      <td>0.866176</td>\n",
       "      <td>0.832443</td>\n",
       "    </tr>\n",
       "    <tr>\n",
       "      <th>3</th>\n",
       "      <td>0.601115</td>\n",
       "      <td>0.212339</td>\n",
       "    </tr>\n",
       "    <tr>\n",
       "      <th>4</th>\n",
       "      <td>0.708073</td>\n",
       "      <td>0.181825</td>\n",
       "    </tr>\n",
       "  </tbody>\n",
       "</table>\n",
       "</div>"
      ],
      "text/plain": [
       "          A         B\n",
       "0  0.155995  0.020584\n",
       "1  0.058084  0.969910\n",
       "2  0.866176  0.832443\n",
       "3  0.601115  0.212339\n",
       "4  0.708073  0.181825"
      ]
     },
     "execution_count": 7,
     "metadata": {},
     "output_type": "execute_result"
    }
   ],
   "source": [
    "df = pd.DataFrame({'A': rng.rand(5),\n",
    "                   'B': rng.rand(5)})\n",
    "df"
   ]
  },
  {
   "cell_type": "code",
   "execution_count": 8,
   "metadata": {
    "ExecuteTime": {
     "end_time": "2018-06-06T06:39:04.327888Z",
     "start_time": "2018-06-06T06:39:04.321556Z"
    },
    "nbpresent": {
     "id": "17330600-5f52-42ce-af92-1c3783f2588b"
    },
    "slideshow": {
     "slide_type": "subslide"
    }
   },
   "outputs": [
    {
     "data": {
      "text/plain": [
       "A    0.477888\n",
       "B    0.443420\n",
       "dtype: float64"
      ]
     },
     "execution_count": 8,
     "metadata": {},
     "output_type": "execute_result"
    }
   ],
   "source": [
    "df.mean()"
   ]
  },
  {
   "cell_type": "markdown",
   "metadata": {
    "nbpresent": {
     "id": "e2e7496d-a5b2-4eef-b9a1-ed8edda168dd"
    },
    "slideshow": {
     "slide_type": "subslide"
    }
   },
   "source": [
    "By specifying the ``axis`` argument, you can instead aggregate within each row:"
   ]
  },
  {
   "cell_type": "code",
   "execution_count": 9,
   "metadata": {
    "ExecuteTime": {
     "end_time": "2018-06-06T06:39:14.649902Z",
     "start_time": "2018-06-06T06:39:14.644023Z"
    },
    "nbpresent": {
     "id": "a55d29c6-9df0-451d-a619-0c81b65209a1"
    },
    "slideshow": {
     "slide_type": "fragment"
    }
   },
   "outputs": [
    {
     "data": {
      "text/plain": [
       "0    0.088290\n",
       "1    0.513997\n",
       "2    0.849309\n",
       "3    0.406727\n",
       "4    0.444949\n",
       "dtype: float64"
      ]
     },
     "execution_count": 9,
     "metadata": {},
     "output_type": "execute_result"
    }
   ],
   "source": [
    "df.mean(axis='columns')"
   ]
  },
  {
   "cell_type": "markdown",
   "metadata": {
    "nbpresent": {
     "id": "2e81f311-7836-448f-b54d-50b5305f3900"
    },
    "slideshow": {
     "slide_type": "subslide"
    }
   },
   "source": [
    "Common aggregates mentioned in [Aggregations: Min, Max, and Everything In Between](02.04-Computation-on-arrays-aggregates.ipynb); \n",
    "\n",
    "- Using ``describe()`` method to compute several common aggregates for each column and returns the result.\n",
    "    - To use ``describe()`` for a column, we have to drop rows with missing values:"
   ]
  },
  {
   "cell_type": "code",
   "execution_count": 10,
   "metadata": {
    "ExecuteTime": {
     "end_time": "2018-06-06T06:39:30.135363Z",
     "start_time": "2018-06-06T06:39:30.081351Z"
    },
    "nbpresent": {
     "id": "fbe109d3-03cc-4aa4-8667-06db99614675"
    },
    "slideshow": {
     "slide_type": "subslide"
    }
   },
   "outputs": [
    {
     "data": {
      "text/html": [
       "<div>\n",
       "<table border=\"1\" class=\"dataframe\">\n",
       "  <thead>\n",
       "    <tr style=\"text-align: right;\">\n",
       "      <th></th>\n",
       "      <th>number</th>\n",
       "      <th>orbital_period</th>\n",
       "      <th>mass</th>\n",
       "      <th>distance</th>\n",
       "      <th>year</th>\n",
       "    </tr>\n",
       "  </thead>\n",
       "  <tbody>\n",
       "    <tr>\n",
       "      <th>count</th>\n",
       "      <td>498.00000</td>\n",
       "      <td>498.000000</td>\n",
       "      <td>498.000000</td>\n",
       "      <td>498.000000</td>\n",
       "      <td>498.000000</td>\n",
       "    </tr>\n",
       "    <tr>\n",
       "      <th>mean</th>\n",
       "      <td>1.73494</td>\n",
       "      <td>835.778671</td>\n",
       "      <td>2.509320</td>\n",
       "      <td>52.068213</td>\n",
       "      <td>2007.377510</td>\n",
       "    </tr>\n",
       "    <tr>\n",
       "      <th>std</th>\n",
       "      <td>1.17572</td>\n",
       "      <td>1469.128259</td>\n",
       "      <td>3.636274</td>\n",
       "      <td>46.596041</td>\n",
       "      <td>4.167284</td>\n",
       "    </tr>\n",
       "    <tr>\n",
       "      <th>min</th>\n",
       "      <td>1.00000</td>\n",
       "      <td>1.328300</td>\n",
       "      <td>0.003600</td>\n",
       "      <td>1.350000</td>\n",
       "      <td>1989.000000</td>\n",
       "    </tr>\n",
       "    <tr>\n",
       "      <th>25%</th>\n",
       "      <td>1.00000</td>\n",
       "      <td>38.272250</td>\n",
       "      <td>0.212500</td>\n",
       "      <td>24.497500</td>\n",
       "      <td>2005.000000</td>\n",
       "    </tr>\n",
       "    <tr>\n",
       "      <th>50%</th>\n",
       "      <td>1.00000</td>\n",
       "      <td>357.000000</td>\n",
       "      <td>1.245000</td>\n",
       "      <td>39.940000</td>\n",
       "      <td>2009.000000</td>\n",
       "    </tr>\n",
       "    <tr>\n",
       "      <th>75%</th>\n",
       "      <td>2.00000</td>\n",
       "      <td>999.600000</td>\n",
       "      <td>2.867500</td>\n",
       "      <td>59.332500</td>\n",
       "      <td>2011.000000</td>\n",
       "    </tr>\n",
       "    <tr>\n",
       "      <th>max</th>\n",
       "      <td>6.00000</td>\n",
       "      <td>17337.500000</td>\n",
       "      <td>25.000000</td>\n",
       "      <td>354.000000</td>\n",
       "      <td>2014.000000</td>\n",
       "    </tr>\n",
       "  </tbody>\n",
       "</table>\n",
       "</div>"
      ],
      "text/plain": [
       "          number  orbital_period        mass    distance         year\n",
       "count  498.00000      498.000000  498.000000  498.000000   498.000000\n",
       "mean     1.73494      835.778671    2.509320   52.068213  2007.377510\n",
       "std      1.17572     1469.128259    3.636274   46.596041     4.167284\n",
       "min      1.00000        1.328300    0.003600    1.350000  1989.000000\n",
       "25%      1.00000       38.272250    0.212500   24.497500  2005.000000\n",
       "50%      1.00000      357.000000    1.245000   39.940000  2009.000000\n",
       "75%      2.00000      999.600000    2.867500   59.332500  2011.000000\n",
       "max      6.00000    17337.500000   25.000000  354.000000  2014.000000"
      ]
     },
     "execution_count": 10,
     "metadata": {},
     "output_type": "execute_result"
    }
   ],
   "source": [
    "planets.dropna().describe()"
   ]
  },
  {
   "cell_type": "markdown",
   "metadata": {
    "nbpresent": {
     "id": "bab2df17-6c9c-40a4-adcd-9968db092d75"
    },
    "slideshow": {
     "slide_type": "subslide"
    }
   },
   "source": [
    "This can be a useful way to begin understanding the overall properties of a dataset.\n",
    "- e.g., the ``year`` column that although exoplanets were discovered as far back as 1989, \n",
    "- e.g., half of all known expolanets were not discovered until 2010 or after.\n",
    "    - the **Kepler** space telescope https://www.nasa.gov/mission_pages/kepler/main/index.html"
   ]
  },
  {
   "cell_type": "markdown",
   "metadata": {
    "nbpresent": {
     "id": "b4886b0e-6721-490d-89b4-e7c1517ef6e5"
    },
    "slideshow": {
     "slide_type": "subslide"
    }
   },
   "source": [
    "The following table summarizes some other built-in Pandas aggregations:\n",
    "\n",
    "| Aggregation              | Description                     |\n",
    "|--------------------------|---------------------------------|\n",
    "| ``count()``              | Total number of items           |\n",
    "| ``first()``, ``last()``  | First and last item             |\n",
    "| ``mean()``, ``median()`` | Mean and median                 |\n",
    "| ``min()``, ``max()``     | Minimum and maximum             |\n",
    "| ``std()``, ``var()``     | Standard deviation and variance |\n",
    "| ``mad()``                | Mean absolute deviation         |\n",
    "| ``prod()``               | Product of all items            |\n",
    "| ``sum()``                | Sum of all items                |\n",
    "\n",
    "These are all methods of ``DataFrame`` and ``Series`` objects."
   ]
  },
  {
   "cell_type": "markdown",
   "metadata": {
    "nbpresent": {
     "id": "7b0205be-cac8-4e17-a93d-c9d1b8810405"
    },
    "slideshow": {
     "slide_type": "subslide"
    }
   },
   "source": [
    "- Simple aggregates are often not enough.\n",
    "- The next level of data summarization is the ``groupby`` operation\n",
    "    - it allows you to quickly and efficiently compute aggregates on subsets of data."
   ]
  },
  {
   "cell_type": "markdown",
   "metadata": {
    "nbpresent": {
     "id": "01eed10e-5f32-4b18-9af4-10304e8d40a7"
    },
    "slideshow": {
     "slide_type": "slide"
    }
   },
   "source": [
    "## GroupBy: Split, Apply, Combine\n",
    "\n",
    "- Simple aggregations can give you a flavor of your dataset\n",
    "- But we would prefer to aggregate conditionally on some label or index using the so-called ``groupby`` operation.\n",
    "\n",
    "> The name \"group by\" comes from a command in <font color= 'red'>the SQL database language</font>, but it is perhaps more illuminative to think of it in the terms first coined by Hadley Wickham of Rstats frame: *split, apply, combine*."
   ]
  },
  {
   "cell_type": "markdown",
   "metadata": {
    "nbpresent": {
     "id": "3a41f69c-547b-48e4-bb1d-92a8992a9dc1"
    },
    "slideshow": {
     "slide_type": "subslide"
    }
   },
   "source": [
    "### Split, apply, combine\n",
    "\n",
    "A canonical example of this split-apply-combine operation, where the \"apply\" is a summation aggregation, is illustrated in this figure:"
   ]
  },
  {
   "cell_type": "markdown",
   "metadata": {
    "nbpresent": {
     "id": "8fe5a20f-020b-4eb8-a415-036b4821c4d0"
    },
    "slideshow": {
     "slide_type": "subslide"
    }
   },
   "source": [
    "![](figures/03.08-split-apply-combine.png)\n",
    "[figure source in Appendix](06.00-Figure-Code.ipynb#Split-Apply-Combine)"
   ]
  },
  {
   "cell_type": "markdown",
   "metadata": {
    "nbpresent": {
     "id": "31b8c937-1d70-42b9-b112-f0cba5d03a19"
    },
    "slideshow": {
     "slide_type": "subslide"
    }
   },
   "source": [
    "The power of the ``GroupBy`` make it possible to think about the *operation as a whole*."
   ]
  },
  {
   "cell_type": "code",
   "execution_count": 11,
   "metadata": {
    "ExecuteTime": {
     "end_time": "2018-06-06T06:45:12.333294Z",
     "start_time": "2018-06-06T06:45:12.323285Z"
    },
    "nbpresent": {
     "id": "d36c2b9c-843a-4ef0-8d80-dddd2368386b"
    },
    "slideshow": {
     "slide_type": "fragment"
    }
   },
   "outputs": [
    {
     "data": {
      "text/html": [
       "<div>\n",
       "<table border=\"1\" class=\"dataframe\">\n",
       "  <thead>\n",
       "    <tr style=\"text-align: right;\">\n",
       "      <th></th>\n",
       "      <th>key</th>\n",
       "      <th>data</th>\n",
       "    </tr>\n",
       "  </thead>\n",
       "  <tbody>\n",
       "    <tr>\n",
       "      <th>0</th>\n",
       "      <td>A</td>\n",
       "      <td>0</td>\n",
       "    </tr>\n",
       "    <tr>\n",
       "      <th>1</th>\n",
       "      <td>B</td>\n",
       "      <td>1</td>\n",
       "    </tr>\n",
       "    <tr>\n",
       "      <th>2</th>\n",
       "      <td>C</td>\n",
       "      <td>2</td>\n",
       "    </tr>\n",
       "    <tr>\n",
       "      <th>3</th>\n",
       "      <td>A</td>\n",
       "      <td>3</td>\n",
       "    </tr>\n",
       "    <tr>\n",
       "      <th>4</th>\n",
       "      <td>B</td>\n",
       "      <td>4</td>\n",
       "    </tr>\n",
       "    <tr>\n",
       "      <th>5</th>\n",
       "      <td>C</td>\n",
       "      <td>5</td>\n",
       "    </tr>\n",
       "  </tbody>\n",
       "</table>\n",
       "</div>"
      ],
      "text/plain": [
       "  key  data\n",
       "0   A     0\n",
       "1   B     1\n",
       "2   C     2\n",
       "3   A     3\n",
       "4   B     4\n",
       "5   C     5"
      ]
     },
     "execution_count": 11,
     "metadata": {},
     "output_type": "execute_result"
    }
   ],
   "source": [
    "df = pd.DataFrame({'key': ['A', 'B', 'C', 'A', 'B', 'C'],\n",
    "                   'data': range(6)}, columns=['key', 'data'])\n",
    "df"
   ]
  },
  {
   "cell_type": "code",
   "execution_count": 12,
   "metadata": {
    "ExecuteTime": {
     "end_time": "2018-06-06T06:45:26.758995Z",
     "start_time": "2018-06-06T06:45:26.754188Z"
    },
    "nbpresent": {
     "id": "7fd6b4c6-e18b-4e8e-905b-c099962d1ee2"
    },
    "slideshow": {
     "slide_type": "subslide"
    }
   },
   "outputs": [
    {
     "data": {
      "text/plain": [
       "<pandas.core.groupby.DataFrameGroupBy object at 0x1a203a0898>"
      ]
     },
     "execution_count": 12,
     "metadata": {},
     "output_type": "execute_result"
    }
   ],
   "source": [
    "df.groupby('key')"
   ]
  },
  {
   "cell_type": "markdown",
   "metadata": {
    "nbpresent": {
     "id": "002c1b5d-f6ea-4ec6-be74-a44726e8b7cd"
    },
    "slideshow": {
     "slide_type": "subslide"
    }
   },
   "source": [
    "**Notice:**\n",
    "- what is returned is not a set of ``DataFrame``s, but a ``DataFrameGroupBy`` object.\n",
    "- This object is not actual computation until the aggregation is applied.\n",
    "- To produce a result, we can apply an aggregate to this ``DataFrameGroupBy`` object, e.g., sum()"
   ]
  },
  {
   "cell_type": "code",
   "execution_count": 19,
   "metadata": {
    "ExecuteTime": {
     "end_time": "2018-06-06T06:46:41.729457Z",
     "start_time": "2018-06-06T06:46:41.720630Z"
    },
    "nbpresent": {
     "id": "453ed190-74cd-41cb-8f1a-7644431ec4e5"
    },
    "slideshow": {
     "slide_type": "subslide"
    }
   },
   "outputs": [
    {
     "data": {
      "text/html": [
       "<div>\n",
       "<table border=\"1\" class=\"dataframe\">\n",
       "  <thead>\n",
       "    <tr style=\"text-align: right;\">\n",
       "      <th></th>\n",
       "      <th>data</th>\n",
       "    </tr>\n",
       "    <tr>\n",
       "      <th>key</th>\n",
       "      <th></th>\n",
       "    </tr>\n",
       "  </thead>\n",
       "  <tbody>\n",
       "    <tr>\n",
       "      <th>A</th>\n",
       "      <td>3</td>\n",
       "    </tr>\n",
       "    <tr>\n",
       "      <th>B</th>\n",
       "      <td>5</td>\n",
       "    </tr>\n",
       "    <tr>\n",
       "      <th>C</th>\n",
       "      <td>7</td>\n",
       "    </tr>\n",
       "  </tbody>\n",
       "</table>\n",
       "</div>"
      ],
      "text/plain": [
       "     data\n",
       "key      \n",
       "A       3\n",
       "B       5\n",
       "C       7"
      ]
     },
     "execution_count": 19,
     "metadata": {},
     "output_type": "execute_result"
    }
   ],
   "source": [
    "df.groupby('key').sum()"
   ]
  },
  {
   "cell_type": "markdown",
   "metadata": {
    "nbpresent": {
     "id": "a835f400-3b61-42ca-9d42-7638327a72f0"
    },
    "slideshow": {
     "slide_type": "subslide"
    }
   },
   "source": [
    "The ``sum()`` method is just one possibility here; \n",
    "- you can apply virtually any common Pandas or NumPy aggregation function, as well as virtually any valid ``DataFrame`` operation, as we will see in the following discussion."
   ]
  },
  {
   "cell_type": "markdown",
   "metadata": {
    "nbpresent": {
     "id": "635e229a-1e36-48ad-bae7-a7484112aa8a"
    },
    "slideshow": {
     "slide_type": "slide"
    }
   },
   "source": [
    "### The GroupBy object\n",
    "\n",
    "The ``GroupBy`` object is a very flexible abstraction.\n",
    "\n",
    "- think it as a collection of ``DataFrame``s\n",
    "- Perhaps the most important operations made available by a ``GroupBy`` are [\"Aggregate, Filter, Transform, Apply\"](#Aggregate,-Filter,-Transform,-Apply)"
   ]
  },
  {
   "cell_type": "markdown",
   "metadata": {
    "nbpresent": {
     "id": "98af12e6-94af-47b7-bcdc-1310025dc1d0"
    },
    "slideshow": {
     "slide_type": "subslide"
    }
   },
   "source": [
    "#### Column indexing\n",
    "\n",
    "The ``GroupBy`` object supports column indexing in the same way as the ``DataFrame``, and returns a modified ``GroupBy`` object.\n",
    "\n",
    "For example:"
   ]
  },
  {
   "cell_type": "code",
   "execution_count": 20,
   "metadata": {
    "ExecuteTime": {
     "end_time": "2018-06-06T06:46:55.477376Z",
     "start_time": "2018-06-06T06:46:55.472540Z"
    },
    "nbpresent": {
     "id": "1bd8695e-2b27-4f4c-87a9-b853f1292fcc"
    },
    "slideshow": {
     "slide_type": "subslide"
    }
   },
   "outputs": [
    {
     "data": {
      "text/plain": [
       "<pandas.core.groupby.DataFrameGroupBy object at 0x1a203a0be0>"
      ]
     },
     "execution_count": 20,
     "metadata": {},
     "output_type": "execute_result"
    }
   ],
   "source": [
    "planets.groupby('method')"
   ]
  },
  {
   "cell_type": "code",
   "execution_count": 21,
   "metadata": {
    "ExecuteTime": {
     "end_time": "2018-06-06T06:47:07.771047Z",
     "start_time": "2018-06-06T06:47:07.766320Z"
    },
    "nbpresent": {
     "id": "26e7b6b7-f094-4311-9824-d7b1533abcff"
    },
    "slideshow": {
     "slide_type": "fragment"
    }
   },
   "outputs": [
    {
     "data": {
      "text/plain": [
       "<pandas.core.groupby.SeriesGroupBy object at 0x1a203b0358>"
      ]
     },
     "execution_count": 21,
     "metadata": {},
     "output_type": "execute_result"
    }
   ],
   "source": [
    "planets.groupby('method')['orbital_period']"
   ]
  },
  {
   "cell_type": "markdown",
   "metadata": {
    "nbpresent": {
     "id": "6c62466b-3cf2-4802-9800-400143fe71d2"
    },
    "slideshow": {
     "slide_type": "subslide"
    }
   },
   "source": [
    "Here we've selected a particular ``Series`` group from the original ``DataFrame`` group by reference to its column name.\n",
    "- As with the ``GroupBy`` object, <font color='red'>no computation is done</font> until we call some aggregate on the object:"
   ]
  },
  {
   "cell_type": "code",
   "execution_count": 22,
   "metadata": {
    "ExecuteTime": {
     "end_time": "2018-06-06T06:47:45.197923Z",
     "start_time": "2018-06-06T06:47:45.191632Z"
    },
    "nbpresent": {
     "id": "07416672-5f59-4109-bc00-c1d47eac7bbe"
    },
    "slideshow": {
     "slide_type": "subslide"
    }
   },
   "outputs": [
    {
     "data": {
      "text/plain": [
       "method\n",
       "Astrometry                         631.180000\n",
       "Eclipse Timing Variations         4343.500000\n",
       "Imaging                          27500.000000\n",
       "Microlensing                      3300.000000\n",
       "Orbital Brightness Modulation        0.342887\n",
       "Pulsar Timing                       66.541900\n",
       "Pulsation Timing Variations       1170.000000\n",
       "Radial Velocity                    360.200000\n",
       "Transit                              5.714932\n",
       "Transit Timing Variations           57.011000\n",
       "Name: orbital_period, dtype: float64"
      ]
     },
     "execution_count": 22,
     "metadata": {},
     "output_type": "execute_result"
    }
   ],
   "source": [
    "planets.groupby('method')['orbital_period'].median()"
   ]
  },
  {
   "cell_type": "markdown",
   "metadata": {
    "nbpresent": {
     "id": "02a440d9-f2aa-405a-a521-e0552383970a"
    },
    "slideshow": {
     "slide_type": "subslide"
    }
   },
   "source": [
    "#### Iteration over groups\n",
    "\n",
    "The ``GroupBy`` object supports direct iteration over the groups, \n",
    "- returning each group as a ``Series`` or ``DataFrame``:"
   ]
  },
  {
   "cell_type": "code",
   "execution_count": 17,
   "metadata": {
    "nbpresent": {
     "id": "f4a9fb73-261c-4c8e-9ba3-2858413303e5"
    },
    "slideshow": {
     "slide_type": "subslide"
    }
   },
   "outputs": [
    {
     "name": "stdout",
     "output_type": "stream",
     "text": [
      "Astrometry                     shape=(2, 6)\n",
      "Eclipse Timing Variations      shape=(9, 6)\n",
      "Imaging                        shape=(38, 6)\n",
      "Microlensing                   shape=(23, 6)\n",
      "Orbital Brightness Modulation  shape=(3, 6)\n",
      "Pulsar Timing                  shape=(5, 6)\n",
      "Pulsation Timing Variations    shape=(1, 6)\n",
      "Radial Velocity                shape=(553, 6)\n",
      "Transit                        shape=(397, 6)\n",
      "Transit Timing Variations      shape=(4, 6)\n"
     ]
    }
   ],
   "source": [
    "for (method, group) in planets.groupby('method'):\n",
    "    print(\"{0:30s} shape={1}\".format(method, group.shape))"
   ]
  },
  {
   "cell_type": "markdown",
   "metadata": {
    "nbpresent": {
     "id": "bb00f61a-95ac-46ba-80bf-b1f7ae712cd7"
    },
    "slideshow": {
     "slide_type": "subslide"
    }
   },
   "source": [
    "This can be useful for doing certain things manually, \n",
    "- though it is often much faster to use the built-in ``apply`` functionality, which we will discuss momentarily."
   ]
  },
  {
   "cell_type": "markdown",
   "metadata": {
    "nbpresent": {
     "id": "286b2e3d-c0e8-45dc-84ac-3cece7b8f7c2"
    },
    "slideshow": {
     "slide_type": "subslide"
    }
   },
   "source": [
    "#### Dispatch methods  调用方法\n",
    "\n",
    "Any method will be passed through and called on the groups.\n",
    "\n",
    "> For example, you can use the ``describe()`` method of ``DataFrame``s to perform a set of aggregations that describe each group in the data:"
   ]
  },
  {
   "cell_type": "code",
   "execution_count": 10,
   "metadata": {
    "ExecuteTime": {
     "end_time": "2018-12-13T10:52:46.094057Z",
     "start_time": "2018-12-13T10:52:46.065840Z"
    },
    "nbpresent": {
     "id": "6d9a97f2-99c3-4c00-a19b-1a7c095557ab"
    },
    "slideshow": {
     "slide_type": "subslide"
    }
   },
   "outputs": [
    {
     "data": {
      "text/html": [
       "<div>\n",
       "<table border=\"1\" class=\"dataframe\">\n",
       "  <thead>\n",
       "    <tr style=\"text-align: right;\">\n",
       "      <th></th>\n",
       "      <th>count</th>\n",
       "      <th>mean</th>\n",
       "      <th>std</th>\n",
       "      <th>min</th>\n",
       "      <th>25%</th>\n",
       "      <th>50%</th>\n",
       "      <th>75%</th>\n",
       "      <th>max</th>\n",
       "    </tr>\n",
       "    <tr>\n",
       "      <th>method</th>\n",
       "      <th></th>\n",
       "      <th></th>\n",
       "      <th></th>\n",
       "      <th></th>\n",
       "      <th></th>\n",
       "      <th></th>\n",
       "      <th></th>\n",
       "      <th></th>\n",
       "    </tr>\n",
       "  </thead>\n",
       "  <tbody>\n",
       "    <tr>\n",
       "      <th>Astrometry</th>\n",
       "      <td>2.0</td>\n",
       "      <td>2011.500000</td>\n",
       "      <td>2.121320</td>\n",
       "      <td>2010.0</td>\n",
       "      <td>2010.75</td>\n",
       "      <td>2011.5</td>\n",
       "      <td>2012.25</td>\n",
       "      <td>2013.0</td>\n",
       "    </tr>\n",
       "    <tr>\n",
       "      <th>Eclipse Timing Variations</th>\n",
       "      <td>9.0</td>\n",
       "      <td>2010.000000</td>\n",
       "      <td>1.414214</td>\n",
       "      <td>2008.0</td>\n",
       "      <td>2009.00</td>\n",
       "      <td>2010.0</td>\n",
       "      <td>2011.00</td>\n",
       "      <td>2012.0</td>\n",
       "    </tr>\n",
       "    <tr>\n",
       "      <th>Imaging</th>\n",
       "      <td>38.0</td>\n",
       "      <td>2009.131579</td>\n",
       "      <td>2.781901</td>\n",
       "      <td>2004.0</td>\n",
       "      <td>2008.00</td>\n",
       "      <td>2009.0</td>\n",
       "      <td>2011.00</td>\n",
       "      <td>2013.0</td>\n",
       "    </tr>\n",
       "    <tr>\n",
       "      <th>Microlensing</th>\n",
       "      <td>23.0</td>\n",
       "      <td>2009.782609</td>\n",
       "      <td>2.859697</td>\n",
       "      <td>2004.0</td>\n",
       "      <td>2008.00</td>\n",
       "      <td>2010.0</td>\n",
       "      <td>2012.00</td>\n",
       "      <td>2013.0</td>\n",
       "    </tr>\n",
       "    <tr>\n",
       "      <th>Orbital Brightness Modulation</th>\n",
       "      <td>3.0</td>\n",
       "      <td>2011.666667</td>\n",
       "      <td>1.154701</td>\n",
       "      <td>2011.0</td>\n",
       "      <td>2011.00</td>\n",
       "      <td>2011.0</td>\n",
       "      <td>2012.00</td>\n",
       "      <td>2013.0</td>\n",
       "    </tr>\n",
       "    <tr>\n",
       "      <th>Pulsar Timing</th>\n",
       "      <td>5.0</td>\n",
       "      <td>1998.400000</td>\n",
       "      <td>8.384510</td>\n",
       "      <td>1992.0</td>\n",
       "      <td>1992.00</td>\n",
       "      <td>1994.0</td>\n",
       "      <td>2003.00</td>\n",
       "      <td>2011.0</td>\n",
       "    </tr>\n",
       "    <tr>\n",
       "      <th>Pulsation Timing Variations</th>\n",
       "      <td>1.0</td>\n",
       "      <td>2007.000000</td>\n",
       "      <td>NaN</td>\n",
       "      <td>2007.0</td>\n",
       "      <td>2007.00</td>\n",
       "      <td>2007.0</td>\n",
       "      <td>2007.00</td>\n",
       "      <td>2007.0</td>\n",
       "    </tr>\n",
       "    <tr>\n",
       "      <th>Radial Velocity</th>\n",
       "      <td>553.0</td>\n",
       "      <td>2007.518987</td>\n",
       "      <td>4.249052</td>\n",
       "      <td>1989.0</td>\n",
       "      <td>2005.00</td>\n",
       "      <td>2009.0</td>\n",
       "      <td>2011.00</td>\n",
       "      <td>2014.0</td>\n",
       "    </tr>\n",
       "    <tr>\n",
       "      <th>Transit</th>\n",
       "      <td>397.0</td>\n",
       "      <td>2011.236776</td>\n",
       "      <td>2.077867</td>\n",
       "      <td>2002.0</td>\n",
       "      <td>2010.00</td>\n",
       "      <td>2012.0</td>\n",
       "      <td>2013.00</td>\n",
       "      <td>2014.0</td>\n",
       "    </tr>\n",
       "    <tr>\n",
       "      <th>Transit Timing Variations</th>\n",
       "      <td>4.0</td>\n",
       "      <td>2012.500000</td>\n",
       "      <td>1.290994</td>\n",
       "      <td>2011.0</td>\n",
       "      <td>2011.75</td>\n",
       "      <td>2012.5</td>\n",
       "      <td>2013.25</td>\n",
       "      <td>2014.0</td>\n",
       "    </tr>\n",
       "  </tbody>\n",
       "</table>\n",
       "</div>"
      ],
      "text/plain": [
       "                               count         mean       std     min      25%  \\\n",
       "method                                                                         \n",
       "Astrometry                       2.0  2011.500000  2.121320  2010.0  2010.75   \n",
       "Eclipse Timing Variations        9.0  2010.000000  1.414214  2008.0  2009.00   \n",
       "Imaging                         38.0  2009.131579  2.781901  2004.0  2008.00   \n",
       "Microlensing                    23.0  2009.782609  2.859697  2004.0  2008.00   \n",
       "Orbital Brightness Modulation    3.0  2011.666667  1.154701  2011.0  2011.00   \n",
       "Pulsar Timing                    5.0  1998.400000  8.384510  1992.0  1992.00   \n",
       "Pulsation Timing Variations      1.0  2007.000000       NaN  2007.0  2007.00   \n",
       "Radial Velocity                553.0  2007.518987  4.249052  1989.0  2005.00   \n",
       "Transit                        397.0  2011.236776  2.077867  2002.0  2010.00   \n",
       "Transit Timing Variations        4.0  2012.500000  1.290994  2011.0  2011.75   \n",
       "\n",
       "                                  50%      75%     max  \n",
       "method                                                  \n",
       "Astrometry                     2011.5  2012.25  2013.0  \n",
       "Eclipse Timing Variations      2010.0  2011.00  2012.0  \n",
       "Imaging                        2009.0  2011.00  2013.0  \n",
       "Microlensing                   2010.0  2012.00  2013.0  \n",
       "Orbital Brightness Modulation  2011.0  2012.00  2013.0  \n",
       "Pulsar Timing                  1994.0  2003.00  2011.0  \n",
       "Pulsation Timing Variations    2007.0  2007.00  2007.0  \n",
       "Radial Velocity                2009.0  2011.00  2014.0  \n",
       "Transit                        2012.0  2013.00  2014.0  \n",
       "Transit Timing Variations      2012.5  2013.25  2014.0  "
      ]
     },
     "execution_count": 10,
     "metadata": {},
     "output_type": "execute_result"
    }
   ],
   "source": [
    "planets.groupby('method')['year'].describe().unstack()"
   ]
  },
  {
   "cell_type": "markdown",
   "metadata": {
    "nbpresent": {
     "id": "1d1e95f7-fc73-4363-9be3-a392d9dddb19"
    },
    "slideshow": {
     "slide_type": "subslide"
    }
   },
   "source": [
    "Looking at this table helps us to better understand the data: \n",
    "- the vast majority of planets have been discovered by the Radial Velocity and Transit methods,\n",
    "    - transit methods only became common (due to new, more accurate telescopes) in the last decade.\n",
    "- The newest methods seem to be Transit Timing Variation and Orbital Brightness Modulation, \n",
    "    - which were not used to discover a new planet until 2011.\n",
    "\n",
    "Again, any valid ``DataFrame``/``Series`` method can be used on the corresponding ``GroupBy`` object!"
   ]
  },
  {
   "cell_type": "markdown",
   "metadata": {
    "nbpresent": {
     "id": "211f67ad-b470-4f1e-ae86-6af34198f0b2"
    },
    "slideshow": {
     "slide_type": "slide"
    }
   },
   "source": [
    "# Aggregate, filter, transform, apply\n",
    "\n",
    "useful operations **before** combining the grouped data.\n",
    "\n",
    "For the purpose of the following subsections, we'll use this ``DataFrame``:"
   ]
  },
  {
   "cell_type": "code",
   "execution_count": 13,
   "metadata": {
    "ExecuteTime": {
     "end_time": "2018-12-13T11:11:32.648800Z",
     "start_time": "2018-12-13T11:11:32.636163Z"
    },
    "nbpresent": {
     "id": "1e3f0604-e34a-4beb-97c8-1e8b812d34ae"
    },
    "slideshow": {
     "slide_type": "subslide"
    }
   },
   "outputs": [
    {
     "data": {
      "text/html": [
       "<div>\n",
       "<table border=\"1\" class=\"dataframe\">\n",
       "  <thead>\n",
       "    <tr style=\"text-align: right;\">\n",
       "      <th></th>\n",
       "      <th>key</th>\n",
       "      <th>data1</th>\n",
       "      <th>data2</th>\n",
       "    </tr>\n",
       "  </thead>\n",
       "  <tbody>\n",
       "    <tr>\n",
       "      <th>0</th>\n",
       "      <td>A</td>\n",
       "      <td>0</td>\n",
       "      <td>5</td>\n",
       "    </tr>\n",
       "    <tr>\n",
       "      <th>1</th>\n",
       "      <td>B</td>\n",
       "      <td>1</td>\n",
       "      <td>0</td>\n",
       "    </tr>\n",
       "    <tr>\n",
       "      <th>2</th>\n",
       "      <td>C</td>\n",
       "      <td>2</td>\n",
       "      <td>3</td>\n",
       "    </tr>\n",
       "    <tr>\n",
       "      <th>3</th>\n",
       "      <td>A</td>\n",
       "      <td>3</td>\n",
       "      <td>3</td>\n",
       "    </tr>\n",
       "    <tr>\n",
       "      <th>4</th>\n",
       "      <td>B</td>\n",
       "      <td>4</td>\n",
       "      <td>7</td>\n",
       "    </tr>\n",
       "    <tr>\n",
       "      <th>5</th>\n",
       "      <td>C</td>\n",
       "      <td>5</td>\n",
       "      <td>9</td>\n",
       "    </tr>\n",
       "  </tbody>\n",
       "</table>\n",
       "</div>"
      ],
      "text/plain": [
       "  key  data1  data2\n",
       "0   A      0      5\n",
       "1   B      1      0\n",
       "2   C      2      3\n",
       "3   A      3      3\n",
       "4   B      4      7\n",
       "5   C      5      9"
      ]
     },
     "execution_count": 13,
     "metadata": {},
     "output_type": "execute_result"
    }
   ],
   "source": [
    "rng = np.random.RandomState(0)\n",
    "df = pd.DataFrame({'key': ['A', 'B', 'C', 'A', 'B', 'C'],\n",
    "                   'data1': range(6),\n",
    "                   'data2': rng.randint(0, 10, 6)},\n",
    "                   columns = ['key', 'data1', 'data2'])\n",
    "df"
   ]
  },
  {
   "cell_type": "markdown",
   "metadata": {
    "nbpresent": {
     "id": "f3e32d8e-47f0-4e11-af16-e58946566dbd"
    },
    "slideshow": {
     "slide_type": "subslide"
    }
   },
   "source": [
    "#### Aggregation\n",
    "\n",
    "We're now familiar with ``GroupBy`` aggregations with ``sum()``, ``median()``, and the like, but the ``aggregate()`` method allows for even more flexibility.\n",
    "It can take a string, a function, or a list thereof, and compute all the aggregates at once.\n",
    "Here is a quick example combining all these:"
   ]
  },
  {
   "cell_type": "code",
   "execution_count": 14,
   "metadata": {
    "ExecuteTime": {
     "end_time": "2018-12-13T11:11:34.317057Z",
     "start_time": "2018-12-13T11:11:34.298792Z"
    },
    "nbpresent": {
     "id": "7a676d66-2d54-4536-99c1-f7a3227619ef"
    },
    "slideshow": {
     "slide_type": "subslide"
    }
   },
   "outputs": [
    {
     "data": {
      "text/html": [
       "<div>\n",
       "<table border=\"1\" class=\"dataframe\">\n",
       "  <thead>\n",
       "    <tr>\n",
       "      <th></th>\n",
       "      <th colspan=\"3\" halign=\"left\">data1</th>\n",
       "      <th colspan=\"3\" halign=\"left\">data2</th>\n",
       "    </tr>\n",
       "    <tr>\n",
       "      <th></th>\n",
       "      <th>min</th>\n",
       "      <th>median</th>\n",
       "      <th>max</th>\n",
       "      <th>min</th>\n",
       "      <th>median</th>\n",
       "      <th>max</th>\n",
       "    </tr>\n",
       "    <tr>\n",
       "      <th>key</th>\n",
       "      <th></th>\n",
       "      <th></th>\n",
       "      <th></th>\n",
       "      <th></th>\n",
       "      <th></th>\n",
       "      <th></th>\n",
       "    </tr>\n",
       "  </thead>\n",
       "  <tbody>\n",
       "    <tr>\n",
       "      <th>A</th>\n",
       "      <td>0</td>\n",
       "      <td>1.5</td>\n",
       "      <td>3</td>\n",
       "      <td>3</td>\n",
       "      <td>4.0</td>\n",
       "      <td>5</td>\n",
       "    </tr>\n",
       "    <tr>\n",
       "      <th>B</th>\n",
       "      <td>1</td>\n",
       "      <td>2.5</td>\n",
       "      <td>4</td>\n",
       "      <td>0</td>\n",
       "      <td>3.5</td>\n",
       "      <td>7</td>\n",
       "    </tr>\n",
       "    <tr>\n",
       "      <th>C</th>\n",
       "      <td>2</td>\n",
       "      <td>3.5</td>\n",
       "      <td>5</td>\n",
       "      <td>3</td>\n",
       "      <td>6.0</td>\n",
       "      <td>9</td>\n",
       "    </tr>\n",
       "  </tbody>\n",
       "</table>\n",
       "</div>"
      ],
      "text/plain": [
       "    data1            data2           \n",
       "      min median max   min median max\n",
       "key                                  \n",
       "A       0    1.5   3     3    4.0   5\n",
       "B       1    2.5   4     0    3.5   7\n",
       "C       2    3.5   5     3    6.0   9"
      ]
     },
     "execution_count": 14,
     "metadata": {},
     "output_type": "execute_result"
    }
   ],
   "source": [
    "df.groupby('key').aggregate(['min', np.median, max])"
   ]
  },
  {
   "cell_type": "markdown",
   "metadata": {
    "nbpresent": {
     "id": "4715c2e9-2829-4770-8862-0455ea5c53f1"
    },
    "slideshow": {
     "slide_type": "subslide"
    }
   },
   "source": [
    "Another useful pattern is to pass a dictionary mapping column names to operations to be applied on that column:"
   ]
  },
  {
   "cell_type": "code",
   "execution_count": 15,
   "metadata": {
    "ExecuteTime": {
     "end_time": "2018-12-13T11:11:35.395052Z",
     "start_time": "2018-12-13T11:11:35.385803Z"
    },
    "nbpresent": {
     "id": "c44e599b-0477-4b23-8509-336d3079a998"
    },
    "slideshow": {
     "slide_type": "fragment"
    }
   },
   "outputs": [
    {
     "data": {
      "text/html": [
       "<div>\n",
       "<table border=\"1\" class=\"dataframe\">\n",
       "  <thead>\n",
       "    <tr style=\"text-align: right;\">\n",
       "      <th></th>\n",
       "      <th>data1</th>\n",
       "      <th>data2</th>\n",
       "    </tr>\n",
       "    <tr>\n",
       "      <th>key</th>\n",
       "      <th></th>\n",
       "      <th></th>\n",
       "    </tr>\n",
       "  </thead>\n",
       "  <tbody>\n",
       "    <tr>\n",
       "      <th>A</th>\n",
       "      <td>0</td>\n",
       "      <td>5</td>\n",
       "    </tr>\n",
       "    <tr>\n",
       "      <th>B</th>\n",
       "      <td>1</td>\n",
       "      <td>7</td>\n",
       "    </tr>\n",
       "    <tr>\n",
       "      <th>C</th>\n",
       "      <td>2</td>\n",
       "      <td>9</td>\n",
       "    </tr>\n",
       "  </tbody>\n",
       "</table>\n",
       "</div>"
      ],
      "text/plain": [
       "     data1  data2\n",
       "key              \n",
       "A        0      5\n",
       "B        1      7\n",
       "C        2      9"
      ]
     },
     "execution_count": 15,
     "metadata": {},
     "output_type": "execute_result"
    }
   ],
   "source": [
    "df.groupby('key').aggregate({'data1': 'min',\n",
    "                             'data2': 'max'})"
   ]
  },
  {
   "cell_type": "markdown",
   "metadata": {
    "nbpresent": {
     "id": "80017401-ed2e-40dd-9b19-11cbefcae997"
    },
    "slideshow": {
     "slide_type": "subslide"
    }
   },
   "source": [
    "#### Filtering\n",
    "\n",
    "A filtering operation **allows you to select data** based on the group properties.\n",
    "\n",
    "For example, we might want to keep all groups in which the standard deviation is larger than some critical value:"
   ]
  },
  {
   "cell_type": "code",
   "execution_count": 16,
   "metadata": {
    "ExecuteTime": {
     "end_time": "2018-12-13T11:11:36.812088Z",
     "start_time": "2018-12-13T11:11:36.787611Z"
    },
    "nbpresent": {
     "id": "9491594a-6792-4d65-8e36-cf3844a2bb13"
    },
    "slideshow": {
     "slide_type": "subslide"
    }
   },
   "outputs": [
    {
     "data": {
      "text/html": [
       "<div style=\"float: left; padding: 10px;\"> \n",
       "    <p style='font-family:\"Courier New\", Courier, monospace'>df</p><div>\n",
       "<table border=\"1\" class=\"dataframe\">\n",
       "  <thead>\n",
       "    <tr style=\"text-align: right;\">\n",
       "      <th></th>\n",
       "      <th>key</th>\n",
       "      <th>data1</th>\n",
       "      <th>data2</th>\n",
       "    </tr>\n",
       "  </thead>\n",
       "  <tbody>\n",
       "    <tr>\n",
       "      <th>0</th>\n",
       "      <td>A</td>\n",
       "      <td>0</td>\n",
       "      <td>5</td>\n",
       "    </tr>\n",
       "    <tr>\n",
       "      <th>1</th>\n",
       "      <td>B</td>\n",
       "      <td>1</td>\n",
       "      <td>0</td>\n",
       "    </tr>\n",
       "    <tr>\n",
       "      <th>2</th>\n",
       "      <td>C</td>\n",
       "      <td>2</td>\n",
       "      <td>3</td>\n",
       "    </tr>\n",
       "    <tr>\n",
       "      <th>3</th>\n",
       "      <td>A</td>\n",
       "      <td>3</td>\n",
       "      <td>3</td>\n",
       "    </tr>\n",
       "    <tr>\n",
       "      <th>4</th>\n",
       "      <td>B</td>\n",
       "      <td>4</td>\n",
       "      <td>7</td>\n",
       "    </tr>\n",
       "    <tr>\n",
       "      <th>5</th>\n",
       "      <td>C</td>\n",
       "      <td>5</td>\n",
       "      <td>9</td>\n",
       "    </tr>\n",
       "  </tbody>\n",
       "</table>\n",
       "</div>\n",
       "    </div>\n",
       "<div style=\"float: left; padding: 10px;\"> \n",
       "    <p style='font-family:\"Courier New\", Courier, monospace'>df.groupby('key').std()</p><div>\n",
       "<table border=\"1\" class=\"dataframe\">\n",
       "  <thead>\n",
       "    <tr style=\"text-align: right;\">\n",
       "      <th></th>\n",
       "      <th>data1</th>\n",
       "      <th>data2</th>\n",
       "    </tr>\n",
       "    <tr>\n",
       "      <th>key</th>\n",
       "      <th></th>\n",
       "      <th></th>\n",
       "    </tr>\n",
       "  </thead>\n",
       "  <tbody>\n",
       "    <tr>\n",
       "      <th>A</th>\n",
       "      <td>2.12132</td>\n",
       "      <td>1.414214</td>\n",
       "    </tr>\n",
       "    <tr>\n",
       "      <th>B</th>\n",
       "      <td>2.12132</td>\n",
       "      <td>4.949747</td>\n",
       "    </tr>\n",
       "    <tr>\n",
       "      <th>C</th>\n",
       "      <td>2.12132</td>\n",
       "      <td>4.242641</td>\n",
       "    </tr>\n",
       "  </tbody>\n",
       "</table>\n",
       "</div>\n",
       "    </div>\n",
       "<div style=\"float: left; padding: 10px;\"> \n",
       "    <p style='font-family:\"Courier New\", Courier, monospace'>df.groupby('key').filter(filter_func)</p><div>\n",
       "<table border=\"1\" class=\"dataframe\">\n",
       "  <thead>\n",
       "    <tr style=\"text-align: right;\">\n",
       "      <th></th>\n",
       "      <th>key</th>\n",
       "      <th>data1</th>\n",
       "      <th>data2</th>\n",
       "    </tr>\n",
       "  </thead>\n",
       "  <tbody>\n",
       "    <tr>\n",
       "      <th>1</th>\n",
       "      <td>B</td>\n",
       "      <td>1</td>\n",
       "      <td>0</td>\n",
       "    </tr>\n",
       "    <tr>\n",
       "      <th>2</th>\n",
       "      <td>C</td>\n",
       "      <td>2</td>\n",
       "      <td>3</td>\n",
       "    </tr>\n",
       "    <tr>\n",
       "      <th>4</th>\n",
       "      <td>B</td>\n",
       "      <td>4</td>\n",
       "      <td>7</td>\n",
       "    </tr>\n",
       "    <tr>\n",
       "      <th>5</th>\n",
       "      <td>C</td>\n",
       "      <td>5</td>\n",
       "      <td>9</td>\n",
       "    </tr>\n",
       "  </tbody>\n",
       "</table>\n",
       "</div>\n",
       "    </div>"
      ],
      "text/plain": [
       "df\n",
       "  key  data1  data2\n",
       "0   A      0      5\n",
       "1   B      1      0\n",
       "2   C      2      3\n",
       "3   A      3      3\n",
       "4   B      4      7\n",
       "5   C      5      9\n",
       "\n",
       "df.groupby('key').std()\n",
       "       data1     data2\n",
       "key                   \n",
       "A    2.12132  1.414214\n",
       "B    2.12132  4.949747\n",
       "C    2.12132  4.242641\n",
       "\n",
       "df.groupby('key').filter(filter_func)\n",
       "  key  data1  data2\n",
       "1   B      1      0\n",
       "2   C      2      3\n",
       "4   B      4      7\n",
       "5   C      5      9"
      ]
     },
     "execution_count": 16,
     "metadata": {},
     "output_type": "execute_result"
    }
   ],
   "source": [
    "def filter_func(x):\n",
    "    return x['data2'].std() > 4\n",
    "\n",
    "display('df', \"df.groupby('key').std()\", \"df.groupby('key').filter(filter_func)\")"
   ]
  },
  {
   "cell_type": "markdown",
   "metadata": {
    "nbpresent": {
     "id": "31aaedd2-abaf-4df3-b115-16dd793ecd47"
    },
    "slideshow": {
     "slide_type": "subslide"
    }
   },
   "source": [
    "The filter function should return a Boolean value specifying whether the group passes the filtering. \n",
    "- Here because group A does not have a standard deviation greater than 4, it is dropped from the result."
   ]
  },
  {
   "cell_type": "markdown",
   "metadata": {
    "nbpresent": {
     "id": "a3e58fe3-f857-4159-b123-fb96605c02be"
    },
    "slideshow": {
     "slide_type": "subslide"
    }
   },
   "source": [
    "#### Transformation\n",
    "\n",
    "- return some transformed version of the full data to recombine.\n",
    "\n",
    "A common example is to **center the data** by subtracting the group-wise mean:"
   ]
  },
  {
   "cell_type": "code",
   "execution_count": 17,
   "metadata": {
    "ExecuteTime": {
     "end_time": "2018-12-13T11:11:39.992513Z",
     "start_time": "2018-12-13T11:11:39.978019Z"
    },
    "nbpresent": {
     "id": "7171d570-628d-46bd-a3a8-2024b37f0ee0"
    },
    "slideshow": {
     "slide_type": "subslide"
    }
   },
   "outputs": [
    {
     "data": {
      "text/html": [
       "<div>\n",
       "<table border=\"1\" class=\"dataframe\">\n",
       "  <thead>\n",
       "    <tr style=\"text-align: right;\">\n",
       "      <th></th>\n",
       "      <th>data1</th>\n",
       "      <th>data2</th>\n",
       "    </tr>\n",
       "  </thead>\n",
       "  <tbody>\n",
       "    <tr>\n",
       "      <th>0</th>\n",
       "      <td>-1.5</td>\n",
       "      <td>1.0</td>\n",
       "    </tr>\n",
       "    <tr>\n",
       "      <th>1</th>\n",
       "      <td>-1.5</td>\n",
       "      <td>-3.5</td>\n",
       "    </tr>\n",
       "    <tr>\n",
       "      <th>2</th>\n",
       "      <td>-1.5</td>\n",
       "      <td>-3.0</td>\n",
       "    </tr>\n",
       "    <tr>\n",
       "      <th>3</th>\n",
       "      <td>1.5</td>\n",
       "      <td>-1.0</td>\n",
       "    </tr>\n",
       "    <tr>\n",
       "      <th>4</th>\n",
       "      <td>1.5</td>\n",
       "      <td>3.5</td>\n",
       "    </tr>\n",
       "    <tr>\n",
       "      <th>5</th>\n",
       "      <td>1.5</td>\n",
       "      <td>3.0</td>\n",
       "    </tr>\n",
       "  </tbody>\n",
       "</table>\n",
       "</div>"
      ],
      "text/plain": [
       "   data1  data2\n",
       "0   -1.5    1.0\n",
       "1   -1.5   -3.5\n",
       "2   -1.5   -3.0\n",
       "3    1.5   -1.0\n",
       "4    1.5    3.5\n",
       "5    1.5    3.0"
      ]
     },
     "execution_count": 17,
     "metadata": {},
     "output_type": "execute_result"
    }
   ],
   "source": [
    "df.groupby('key').transform(lambda x: x - x.mean())"
   ]
  },
  {
   "cell_type": "markdown",
   "metadata": {
    "nbpresent": {
     "id": "da0ba9b6-6876-4298-a30e-70e0057c8262"
    },
    "slideshow": {
     "slide_type": "subslide"
    }
   },
   "source": [
    "#### The apply() method\n",
    "\n",
    "- lets you apply an arbitrary function to the group results.\n",
    "\n",
    "For example, here is an ``apply()`` that normalizes the first column by the sum of the second:"
   ]
  },
  {
   "cell_type": "code",
   "execution_count": 18,
   "metadata": {
    "ExecuteTime": {
     "end_time": "2018-12-13T11:11:41.075409Z",
     "start_time": "2018-12-13T11:11:41.049661Z"
    },
    "nbpresent": {
     "id": "3ed22092-43cf-4f07-b54a-63612d9243ba"
    },
    "slideshow": {
     "slide_type": "subslide"
    }
   },
   "outputs": [
    {
     "data": {
      "text/html": [
       "<div style=\"float: left; padding: 10px;\"> \n",
       "    <p style='font-family:\"Courier New\", Courier, monospace'>df</p><div>\n",
       "<table border=\"1\" class=\"dataframe\">\n",
       "  <thead>\n",
       "    <tr style=\"text-align: right;\">\n",
       "      <th></th>\n",
       "      <th>key</th>\n",
       "      <th>data1</th>\n",
       "      <th>data2</th>\n",
       "    </tr>\n",
       "  </thead>\n",
       "  <tbody>\n",
       "    <tr>\n",
       "      <th>0</th>\n",
       "      <td>A</td>\n",
       "      <td>0</td>\n",
       "      <td>5</td>\n",
       "    </tr>\n",
       "    <tr>\n",
       "      <th>1</th>\n",
       "      <td>B</td>\n",
       "      <td>1</td>\n",
       "      <td>0</td>\n",
       "    </tr>\n",
       "    <tr>\n",
       "      <th>2</th>\n",
       "      <td>C</td>\n",
       "      <td>2</td>\n",
       "      <td>3</td>\n",
       "    </tr>\n",
       "    <tr>\n",
       "      <th>3</th>\n",
       "      <td>A</td>\n",
       "      <td>3</td>\n",
       "      <td>3</td>\n",
       "    </tr>\n",
       "    <tr>\n",
       "      <th>4</th>\n",
       "      <td>B</td>\n",
       "      <td>4</td>\n",
       "      <td>7</td>\n",
       "    </tr>\n",
       "    <tr>\n",
       "      <th>5</th>\n",
       "      <td>C</td>\n",
       "      <td>5</td>\n",
       "      <td>9</td>\n",
       "    </tr>\n",
       "  </tbody>\n",
       "</table>\n",
       "</div>\n",
       "    </div>\n",
       "<div style=\"float: left; padding: 10px;\"> \n",
       "    <p style='font-family:\"Courier New\", Courier, monospace'>df.groupby('key').apply(norm_by_data2)</p><div>\n",
       "<table border=\"1\" class=\"dataframe\">\n",
       "  <thead>\n",
       "    <tr style=\"text-align: right;\">\n",
       "      <th></th>\n",
       "      <th>key</th>\n",
       "      <th>data1</th>\n",
       "      <th>data2</th>\n",
       "    </tr>\n",
       "  </thead>\n",
       "  <tbody>\n",
       "    <tr>\n",
       "      <th>0</th>\n",
       "      <td>A</td>\n",
       "      <td>0.000000</td>\n",
       "      <td>5</td>\n",
       "    </tr>\n",
       "    <tr>\n",
       "      <th>1</th>\n",
       "      <td>B</td>\n",
       "      <td>0.142857</td>\n",
       "      <td>0</td>\n",
       "    </tr>\n",
       "    <tr>\n",
       "      <th>2</th>\n",
       "      <td>C</td>\n",
       "      <td>0.166667</td>\n",
       "      <td>3</td>\n",
       "    </tr>\n",
       "    <tr>\n",
       "      <th>3</th>\n",
       "      <td>A</td>\n",
       "      <td>0.375000</td>\n",
       "      <td>3</td>\n",
       "    </tr>\n",
       "    <tr>\n",
       "      <th>4</th>\n",
       "      <td>B</td>\n",
       "      <td>0.571429</td>\n",
       "      <td>7</td>\n",
       "    </tr>\n",
       "    <tr>\n",
       "      <th>5</th>\n",
       "      <td>C</td>\n",
       "      <td>0.416667</td>\n",
       "      <td>9</td>\n",
       "    </tr>\n",
       "  </tbody>\n",
       "</table>\n",
       "</div>\n",
       "    </div>"
      ],
      "text/plain": [
       "df\n",
       "  key  data1  data2\n",
       "0   A      0      5\n",
       "1   B      1      0\n",
       "2   C      2      3\n",
       "3   A      3      3\n",
       "4   B      4      7\n",
       "5   C      5      9\n",
       "\n",
       "df.groupby('key').apply(norm_by_data2)\n",
       "  key     data1  data2\n",
       "0   A  0.000000      5\n",
       "1   B  0.142857      0\n",
       "2   C  0.166667      3\n",
       "3   A  0.375000      3\n",
       "4   B  0.571429      7\n",
       "5   C  0.416667      9"
      ]
     },
     "execution_count": 18,
     "metadata": {},
     "output_type": "execute_result"
    }
   ],
   "source": [
    "def norm_by_data2(x):\n",
    "    # x is a DataFrame of group values\n",
    "    x['data1'] /= x['data2'].sum()\n",
    "    return x\n",
    "\n",
    "display('df', \"df.groupby('key').apply(norm_by_data2)\")"
   ]
  },
  {
   "cell_type": "markdown",
   "metadata": {
    "nbpresent": {
     "id": "bfc1341b-9fd8-40d0-b524-65fcc2d8b6cb"
    },
    "slideshow": {
     "slide_type": "subslide"
    }
   },
   "source": [
    "``apply()`` within a ``GroupBy`` is quite flexible: \n",
    "- the only criterion is that the function takes a ``DataFrame`` "
   ]
  },
  {
   "cell_type": "markdown",
   "metadata": {
    "nbpresent": {
     "id": "3752d51c-0770-408a-80d4-f46954a52bc4"
    },
    "slideshow": {
     "slide_type": "slide"
    }
   },
   "source": [
    "# Specifying the split key\n",
    "\n",
    "Previously, we split the ``DataFrame`` on a single column name.\n",
    "- we'll go through some other options for group specification here."
   ]
  },
  {
   "cell_type": "markdown",
   "metadata": {
    "nbpresent": {
     "id": "d38e9fc9-be30-4ff7-b84a-b25689a6799a"
    },
    "slideshow": {
     "slide_type": "subslide"
    }
   },
   "source": [
    "#### A list, array, series, or index as the grouping keys\n",
    "\n",
    "- with a length matching that of the ``DataFrame``. \n",
    "\n",
    "For example:"
   ]
  },
  {
   "cell_type": "code",
   "execution_count": 19,
   "metadata": {
    "ExecuteTime": {
     "end_time": "2018-12-13T11:11:43.441009Z",
     "start_time": "2018-12-13T11:11:43.425715Z"
    },
    "nbpresent": {
     "id": "b184e08d-fbbd-42b1-94b2-54d0e2735d47"
    },
    "slideshow": {
     "slide_type": "subslide"
    }
   },
   "outputs": [
    {
     "data": {
      "text/html": [
       "<div style=\"float: left; padding: 10px;\"> \n",
       "    <p style='font-family:\"Courier New\", Courier, monospace'>df</p><div>\n",
       "<table border=\"1\" class=\"dataframe\">\n",
       "  <thead>\n",
       "    <tr style=\"text-align: right;\">\n",
       "      <th></th>\n",
       "      <th>key</th>\n",
       "      <th>data1</th>\n",
       "      <th>data2</th>\n",
       "    </tr>\n",
       "  </thead>\n",
       "  <tbody>\n",
       "    <tr>\n",
       "      <th>0</th>\n",
       "      <td>A</td>\n",
       "      <td>0</td>\n",
       "      <td>5</td>\n",
       "    </tr>\n",
       "    <tr>\n",
       "      <th>1</th>\n",
       "      <td>B</td>\n",
       "      <td>1</td>\n",
       "      <td>0</td>\n",
       "    </tr>\n",
       "    <tr>\n",
       "      <th>2</th>\n",
       "      <td>C</td>\n",
       "      <td>2</td>\n",
       "      <td>3</td>\n",
       "    </tr>\n",
       "    <tr>\n",
       "      <th>3</th>\n",
       "      <td>A</td>\n",
       "      <td>3</td>\n",
       "      <td>3</td>\n",
       "    </tr>\n",
       "    <tr>\n",
       "      <th>4</th>\n",
       "      <td>B</td>\n",
       "      <td>4</td>\n",
       "      <td>7</td>\n",
       "    </tr>\n",
       "    <tr>\n",
       "      <th>5</th>\n",
       "      <td>C</td>\n",
       "      <td>5</td>\n",
       "      <td>9</td>\n",
       "    </tr>\n",
       "  </tbody>\n",
       "</table>\n",
       "</div>\n",
       "    </div>\n",
       "<div style=\"float: left; padding: 10px;\"> \n",
       "    <p style='font-family:\"Courier New\", Courier, monospace'>df.groupby(L).sum()</p><div>\n",
       "<table border=\"1\" class=\"dataframe\">\n",
       "  <thead>\n",
       "    <tr style=\"text-align: right;\">\n",
       "      <th></th>\n",
       "      <th>data1</th>\n",
       "      <th>data2</th>\n",
       "    </tr>\n",
       "  </thead>\n",
       "  <tbody>\n",
       "    <tr>\n",
       "      <th>0</th>\n",
       "      <td>7</td>\n",
       "      <td>17</td>\n",
       "    </tr>\n",
       "    <tr>\n",
       "      <th>1</th>\n",
       "      <td>4</td>\n",
       "      <td>3</td>\n",
       "    </tr>\n",
       "    <tr>\n",
       "      <th>2</th>\n",
       "      <td>4</td>\n",
       "      <td>7</td>\n",
       "    </tr>\n",
       "  </tbody>\n",
       "</table>\n",
       "</div>\n",
       "    </div>"
      ],
      "text/plain": [
       "df\n",
       "  key  data1  data2\n",
       "0   A      0      5\n",
       "1   B      1      0\n",
       "2   C      2      3\n",
       "3   A      3      3\n",
       "4   B      4      7\n",
       "5   C      5      9\n",
       "\n",
       "df.groupby(L).sum()\n",
       "   data1  data2\n",
       "0      7     17\n",
       "1      4      3\n",
       "2      4      7"
      ]
     },
     "execution_count": 19,
     "metadata": {},
     "output_type": "execute_result"
    }
   ],
   "source": [
    "L = [0, 1, 0, 1, 2, 0]\n",
    "display('df', 'df.groupby(L).sum()')"
   ]
  },
  {
   "cell_type": "markdown",
   "metadata": {
    "nbpresent": {
     "id": "32f0bafe-60ef-4e97-bcea-f13ce8a67d18"
    },
    "slideshow": {
     "slide_type": "subslide"
    }
   },
   "source": [
    "#### A dictionary or series mapping index to group\n",
    "\n",
    "Another method is to provide a dictionary that maps index values to the group keys:"
   ]
  },
  {
   "cell_type": "code",
   "execution_count": 27,
   "metadata": {
    "nbpresent": {
     "id": "06e4a53c-d134-4bf2-a0af-2a452bdbd776"
    },
    "slideshow": {
     "slide_type": "subslide"
    }
   },
   "outputs": [
    {
     "data": {
      "text/html": [
       "<div style=\"float: left; padding: 10px;\">\n",
       "    <p style='font-family:\"Courier New\", Courier, monospace'>df2</p><div>\n",
       "<table border=\"1\" class=\"dataframe\">\n",
       "  <thead>\n",
       "    <tr style=\"text-align: right;\">\n",
       "      <th></th>\n",
       "      <th>data1</th>\n",
       "      <th>data2</th>\n",
       "    </tr>\n",
       "    <tr>\n",
       "      <th>key</th>\n",
       "      <th></th>\n",
       "      <th></th>\n",
       "    </tr>\n",
       "  </thead>\n",
       "  <tbody>\n",
       "    <tr>\n",
       "      <th>A</th>\n",
       "      <td>0</td>\n",
       "      <td>5</td>\n",
       "    </tr>\n",
       "    <tr>\n",
       "      <th>B</th>\n",
       "      <td>1</td>\n",
       "      <td>0</td>\n",
       "    </tr>\n",
       "    <tr>\n",
       "      <th>C</th>\n",
       "      <td>2</td>\n",
       "      <td>3</td>\n",
       "    </tr>\n",
       "    <tr>\n",
       "      <th>A</th>\n",
       "      <td>3</td>\n",
       "      <td>3</td>\n",
       "    </tr>\n",
       "    <tr>\n",
       "      <th>B</th>\n",
       "      <td>4</td>\n",
       "      <td>7</td>\n",
       "    </tr>\n",
       "    <tr>\n",
       "      <th>C</th>\n",
       "      <td>5</td>\n",
       "      <td>9</td>\n",
       "    </tr>\n",
       "  </tbody>\n",
       "</table>\n",
       "</div>\n",
       "    </div>\n",
       "<div style=\"float: left; padding: 10px;\">\n",
       "    <p style='font-family:\"Courier New\", Courier, monospace'>df2.groupby(mapping).sum()</p><div>\n",
       "<table border=\"1\" class=\"dataframe\">\n",
       "  <thead>\n",
       "    <tr style=\"text-align: right;\">\n",
       "      <th></th>\n",
       "      <th>data1</th>\n",
       "      <th>data2</th>\n",
       "    </tr>\n",
       "  </thead>\n",
       "  <tbody>\n",
       "    <tr>\n",
       "      <th>consonant</th>\n",
       "      <td>12</td>\n",
       "      <td>19</td>\n",
       "    </tr>\n",
       "    <tr>\n",
       "      <th>vowel</th>\n",
       "      <td>3</td>\n",
       "      <td>8</td>\n",
       "    </tr>\n",
       "  </tbody>\n",
       "</table>\n",
       "</div>\n",
       "    </div>"
      ],
      "text/plain": [
       "df2\n",
       "     data1  data2\n",
       "key              \n",
       "A        0      5\n",
       "B        1      0\n",
       "C        2      3\n",
       "A        3      3\n",
       "B        4      7\n",
       "C        5      9\n",
       "\n",
       "df2.groupby(mapping).sum()\n",
       "           data1  data2\n",
       "consonant     12     19\n",
       "vowel          3      8"
      ]
     },
     "execution_count": 27,
     "metadata": {},
     "output_type": "execute_result"
    }
   ],
   "source": [
    "df2 = df.set_index('key')\n",
    "mapping = {'A': 'vowel', 'B': 'consonant', 'C': 'consonant'}\n",
    "display('df2', 'df2.groupby(mapping).sum()')"
   ]
  },
  {
   "cell_type": "markdown",
   "metadata": {
    "nbpresent": {
     "id": "c5e49231-4f71-4000-ba88-93ecc69383c4"
    },
    "slideshow": {
     "slide_type": "subslide"
    }
   },
   "source": [
    "#### Any Python function\n",
    "\n",
    "Similar to mapping, you can pass any Python function that will input the index value and output the group:"
   ]
  },
  {
   "cell_type": "code",
   "execution_count": 28,
   "metadata": {
    "nbpresent": {
     "id": "fc439da8-a75a-43a3-bc79-805ad6f65407"
    },
    "slideshow": {
     "slide_type": "subslide"
    }
   },
   "outputs": [
    {
     "data": {
      "text/html": [
       "<div style=\"float: left; padding: 10px;\">\n",
       "    <p style='font-family:\"Courier New\", Courier, monospace'>df2</p><div>\n",
       "<table border=\"1\" class=\"dataframe\">\n",
       "  <thead>\n",
       "    <tr style=\"text-align: right;\">\n",
       "      <th></th>\n",
       "      <th>data1</th>\n",
       "      <th>data2</th>\n",
       "    </tr>\n",
       "    <tr>\n",
       "      <th>key</th>\n",
       "      <th></th>\n",
       "      <th></th>\n",
       "    </tr>\n",
       "  </thead>\n",
       "  <tbody>\n",
       "    <tr>\n",
       "      <th>A</th>\n",
       "      <td>0</td>\n",
       "      <td>5</td>\n",
       "    </tr>\n",
       "    <tr>\n",
       "      <th>B</th>\n",
       "      <td>1</td>\n",
       "      <td>0</td>\n",
       "    </tr>\n",
       "    <tr>\n",
       "      <th>C</th>\n",
       "      <td>2</td>\n",
       "      <td>3</td>\n",
       "    </tr>\n",
       "    <tr>\n",
       "      <th>A</th>\n",
       "      <td>3</td>\n",
       "      <td>3</td>\n",
       "    </tr>\n",
       "    <tr>\n",
       "      <th>B</th>\n",
       "      <td>4</td>\n",
       "      <td>7</td>\n",
       "    </tr>\n",
       "    <tr>\n",
       "      <th>C</th>\n",
       "      <td>5</td>\n",
       "      <td>9</td>\n",
       "    </tr>\n",
       "  </tbody>\n",
       "</table>\n",
       "</div>\n",
       "    </div>\n",
       "<div style=\"float: left; padding: 10px;\">\n",
       "    <p style='font-family:\"Courier New\", Courier, monospace'>df2.groupby(str.lower).mean()</p><div>\n",
       "<table border=\"1\" class=\"dataframe\">\n",
       "  <thead>\n",
       "    <tr style=\"text-align: right;\">\n",
       "      <th></th>\n",
       "      <th>data1</th>\n",
       "      <th>data2</th>\n",
       "    </tr>\n",
       "  </thead>\n",
       "  <tbody>\n",
       "    <tr>\n",
       "      <th>a</th>\n",
       "      <td>1.5</td>\n",
       "      <td>4.0</td>\n",
       "    </tr>\n",
       "    <tr>\n",
       "      <th>b</th>\n",
       "      <td>2.5</td>\n",
       "      <td>3.5</td>\n",
       "    </tr>\n",
       "    <tr>\n",
       "      <th>c</th>\n",
       "      <td>3.5</td>\n",
       "      <td>6.0</td>\n",
       "    </tr>\n",
       "  </tbody>\n",
       "</table>\n",
       "</div>\n",
       "    </div>"
      ],
      "text/plain": [
       "df2\n",
       "     data1  data2\n",
       "key              \n",
       "A        0      5\n",
       "B        1      0\n",
       "C        2      3\n",
       "A        3      3\n",
       "B        4      7\n",
       "C        5      9\n",
       "\n",
       "df2.groupby(str.lower).mean()\n",
       "   data1  data2\n",
       "a    1.5    4.0\n",
       "b    2.5    3.5\n",
       "c    3.5    6.0"
      ]
     },
     "execution_count": 28,
     "metadata": {},
     "output_type": "execute_result"
    }
   ],
   "source": [
    "display('df2', 'df2.groupby(str.lower).mean()')"
   ]
  },
  {
   "cell_type": "markdown",
   "metadata": {
    "nbpresent": {
     "id": "209a96b5-0d4e-4f5e-80b5-6c999d25e34f"
    },
    "slideshow": {
     "slide_type": "subslide"
    }
   },
   "source": [
    "#### A list of valid keys\n",
    "\n",
    "Further, any of the preceding key choices can be combined to group on a multi-index:"
   ]
  },
  {
   "cell_type": "code",
   "execution_count": 29,
   "metadata": {
    "nbpresent": {
     "id": "79ac9db5-429f-4948-a2b2-4c0f220911a8"
    },
    "slideshow": {
     "slide_type": "subslide"
    }
   },
   "outputs": [
    {
     "data": {
      "text/html": [
       "<div>\n",
       "<table border=\"1\" class=\"dataframe\">\n",
       "  <thead>\n",
       "    <tr style=\"text-align: right;\">\n",
       "      <th></th>\n",
       "      <th></th>\n",
       "      <th>data1</th>\n",
       "      <th>data2</th>\n",
       "    </tr>\n",
       "  </thead>\n",
       "  <tbody>\n",
       "    <tr>\n",
       "      <th>a</th>\n",
       "      <th>vowel</th>\n",
       "      <td>1.5</td>\n",
       "      <td>4.0</td>\n",
       "    </tr>\n",
       "    <tr>\n",
       "      <th>b</th>\n",
       "      <th>consonant</th>\n",
       "      <td>2.5</td>\n",
       "      <td>3.5</td>\n",
       "    </tr>\n",
       "    <tr>\n",
       "      <th>c</th>\n",
       "      <th>consonant</th>\n",
       "      <td>3.5</td>\n",
       "      <td>6.0</td>\n",
       "    </tr>\n",
       "  </tbody>\n",
       "</table>\n",
       "</div>"
      ],
      "text/plain": [
       "             data1  data2\n",
       "a vowel        1.5    4.0\n",
       "b consonant    2.5    3.5\n",
       "c consonant    3.5    6.0"
      ]
     },
     "execution_count": 29,
     "metadata": {},
     "output_type": "execute_result"
    }
   ],
   "source": [
    "df2.groupby([str.lower, mapping]).mean()"
   ]
  },
  {
   "cell_type": "markdown",
   "metadata": {
    "nbpresent": {
     "id": "4726a192-70a9-4c67-84a1-404ee0270389"
    },
    "slideshow": {
     "slide_type": "slide"
    }
   },
   "source": [
    "# An grouping example\n",
    "\n",
    "- To count discovered planets by method and by decade:"
   ]
  },
  {
   "cell_type": "code",
   "execution_count": 30,
   "metadata": {
    "nbpresent": {
     "id": "8239a9bc-8038-40e3-be3d-760eef2dccb4"
    },
    "slideshow": {
     "slide_type": "subslide"
    }
   },
   "outputs": [
    {
     "data": {
      "text/html": [
       "<div>\n",
       "<table border=\"1\" class=\"dataframe\">\n",
       "  <thead>\n",
       "    <tr style=\"text-align: right;\">\n",
       "      <th>decade</th>\n",
       "      <th>1980s</th>\n",
       "      <th>1990s</th>\n",
       "      <th>2000s</th>\n",
       "      <th>2010s</th>\n",
       "    </tr>\n",
       "    <tr>\n",
       "      <th>method</th>\n",
       "      <th></th>\n",
       "      <th></th>\n",
       "      <th></th>\n",
       "      <th></th>\n",
       "    </tr>\n",
       "  </thead>\n",
       "  <tbody>\n",
       "    <tr>\n",
       "      <th>Astrometry</th>\n",
       "      <td>0.0</td>\n",
       "      <td>0.0</td>\n",
       "      <td>0.0</td>\n",
       "      <td>2.0</td>\n",
       "    </tr>\n",
       "    <tr>\n",
       "      <th>Eclipse Timing Variations</th>\n",
       "      <td>0.0</td>\n",
       "      <td>0.0</td>\n",
       "      <td>5.0</td>\n",
       "      <td>10.0</td>\n",
       "    </tr>\n",
       "    <tr>\n",
       "      <th>Imaging</th>\n",
       "      <td>0.0</td>\n",
       "      <td>0.0</td>\n",
       "      <td>29.0</td>\n",
       "      <td>21.0</td>\n",
       "    </tr>\n",
       "    <tr>\n",
       "      <th>Microlensing</th>\n",
       "      <td>0.0</td>\n",
       "      <td>0.0</td>\n",
       "      <td>12.0</td>\n",
       "      <td>15.0</td>\n",
       "    </tr>\n",
       "    <tr>\n",
       "      <th>Orbital Brightness Modulation</th>\n",
       "      <td>0.0</td>\n",
       "      <td>0.0</td>\n",
       "      <td>0.0</td>\n",
       "      <td>5.0</td>\n",
       "    </tr>\n",
       "    <tr>\n",
       "      <th>Pulsar Timing</th>\n",
       "      <td>0.0</td>\n",
       "      <td>9.0</td>\n",
       "      <td>1.0</td>\n",
       "      <td>1.0</td>\n",
       "    </tr>\n",
       "    <tr>\n",
       "      <th>Pulsation Timing Variations</th>\n",
       "      <td>0.0</td>\n",
       "      <td>0.0</td>\n",
       "      <td>1.0</td>\n",
       "      <td>0.0</td>\n",
       "    </tr>\n",
       "    <tr>\n",
       "      <th>Radial Velocity</th>\n",
       "      <td>1.0</td>\n",
       "      <td>52.0</td>\n",
       "      <td>475.0</td>\n",
       "      <td>424.0</td>\n",
       "    </tr>\n",
       "    <tr>\n",
       "      <th>Transit</th>\n",
       "      <td>0.0</td>\n",
       "      <td>0.0</td>\n",
       "      <td>64.0</td>\n",
       "      <td>712.0</td>\n",
       "    </tr>\n",
       "    <tr>\n",
       "      <th>Transit Timing Variations</th>\n",
       "      <td>0.0</td>\n",
       "      <td>0.0</td>\n",
       "      <td>0.0</td>\n",
       "      <td>9.0</td>\n",
       "    </tr>\n",
       "  </tbody>\n",
       "</table>\n",
       "</div>"
      ],
      "text/plain": [
       "decade                         1980s  1990s  2000s  2010s\n",
       "method                                                   \n",
       "Astrometry                       0.0    0.0    0.0    2.0\n",
       "Eclipse Timing Variations        0.0    0.0    5.0   10.0\n",
       "Imaging                          0.0    0.0   29.0   21.0\n",
       "Microlensing                     0.0    0.0   12.0   15.0\n",
       "Orbital Brightness Modulation    0.0    0.0    0.0    5.0\n",
       "Pulsar Timing                    0.0    9.0    1.0    1.0\n",
       "Pulsation Timing Variations      0.0    0.0    1.0    0.0\n",
       "Radial Velocity                  1.0   52.0  475.0  424.0\n",
       "Transit                          0.0    0.0   64.0  712.0\n",
       "Transit Timing Variations        0.0    0.0    0.0    9.0"
      ]
     },
     "execution_count": 30,
     "metadata": {},
     "output_type": "execute_result"
    }
   ],
   "source": [
    "decade = 10 * (planets['year'] // 10)\n",
    "decade = decade.astype(str) + 's'\n",
    "decade.name = 'decade'\n",
    "planets.groupby(['method', decade])['number'].sum().unstack().fillna(0)"
   ]
  },
  {
   "cell_type": "markdown",
   "metadata": {
    "nbpresent": {
     "id": "dd771ffa-7e8e-4f93-b56f-f15e8520fc84"
    },
    "slideshow": {
     "slide_type": "subslide"
    }
   },
   "source": [
    "We immediately gain a coarse understanding of when and how planets have been discovered over the past several decades!"
   ]
  },
  {
   "cell_type": "markdown",
   "metadata": {
    "nbpresent": {
     "id": "990e4d6b-6609-437f-8742-e5c6f8ac9dc5"
    },
    "slideshow": {
     "slide_type": "slide"
    }
   },
   "source": [
    "<!--NAVIGATION-->\n",
    "< [Combining Datasets: Merge and Join](03.07-Merge-and-Join.ipynb) | [Contents](Index.ipynb) | [Pivot Tables](03.09-Pivot-Tables.ipynb) >"
   ]
  }
 ],
 "metadata": {
  "anaconda-cloud": {},
  "celltoolbar": "Slideshow",
  "kernelspec": {
   "display_name": "Python 3",
   "language": "python",
   "name": "python3"
  },
  "language_info": {
   "codemirror_mode": {
    "name": "ipython",
    "version": 3
   },
   "file_extension": ".py",
   "mimetype": "text/x-python",
   "name": "python",
   "nbconvert_exporter": "python",
   "pygments_lexer": "ipython3",
   "version": "3.7.3"
  },
  "latex_envs": {
   "LaTeX_envs_menu_present": true,
   "autoclose": false,
   "autocomplete": true,
   "bibliofile": "biblio.bib",
   "cite_by": "apalike",
   "current_citInitial": 1,
   "eqLabelWithNumbers": true,
   "eqNumInitial": 1,
   "hotkeys": {
    "equation": "Ctrl-E",
    "itemize": "Ctrl-I"
   },
   "labels_anchors": false,
   "latex_user_defs": false,
   "report_style_numbering": false,
   "user_envs_cfg": false
  },
  "nbpresent": {
   "slides": {
    "01c02143-7f15-4661-82fa-dd7150c9e2fb": {
     "id": "01c02143-7f15-4661-82fa-dd7150c9e2fb",
     "prev": "3266be2d-b4b1-4b4b-98b5-aaf8bdf5f96f",
     "regions": {
      "97eea06e-4cf8-4c74-a341-add4f07522f4": {
       "attrs": {
        "height": 0.8,
        "width": 0.8,
        "x": 0.1,
        "y": 0.1
       },
       "content": {
        "cell": "da0ba9b6-6876-4298-a30e-70e0057c8262",
        "part": "whole"
       },
       "id": "97eea06e-4cf8-4c74-a341-add4f07522f4"
      }
     }
    },
    "04fc9d10-185a-4188-9d32-afe8f4a757ce": {
     "id": "04fc9d10-185a-4188-9d32-afe8f4a757ce",
     "prev": "b0cd7a49-4b11-49ae-ae99-06da5c56b4fc",
     "regions": {
      "98867512-cfa8-43c8-af64-a81aaaae4f7f": {
       "attrs": {
        "height": 0.8,
        "width": 0.8,
        "x": 0.1,
        "y": 0.1
       },
       "content": {
        "cell": "c44e599b-0477-4b23-8509-336d3079a998",
        "part": "whole"
       },
       "id": "98867512-cfa8-43c8-af64-a81aaaae4f7f"
      }
     }
    },
    "0a91db39-81da-4aa0-a187-1f534bda8711": {
     "id": "0a91db39-81da-4aa0-a187-1f534bda8711",
     "prev": "9f3d4b33-eead-41e8-abc8-f56e0b6fde28",
     "regions": {
      "2c66f765-74fa-447c-ad05-86a9e85aca52": {
       "attrs": {
        "height": 0.8,
        "width": 0.8,
        "x": 0.1,
        "y": 0.1
       },
       "content": {
        "cell": "b4886b0e-6721-490d-89b4-e7c1517ef6e5",
        "part": "whole"
       },
       "id": "2c66f765-74fa-447c-ad05-86a9e85aca52"
      }
     }
    },
    "0a94c79c-30a9-439a-b5e3-6ec9eb5e5450": {
     "id": "0a94c79c-30a9-439a-b5e3-6ec9eb5e5450",
     "prev": "44f50b4f-3f3d-4b06-93c4-79c4aa7acab5",
     "regions": {
      "70e4cb67-96f7-4bed-84a1-e53eb2ddf800": {
       "attrs": {
        "height": 0.8,
        "width": 0.8,
        "x": 0.1,
        "y": 0.1
       },
       "content": {
        "cell": "2b380727-f083-4e6b-870b-1cd6bc6568d9",
        "part": "whole"
       },
       "id": "70e4cb67-96f7-4bed-84a1-e53eb2ddf800"
      }
     }
    },
    "0e14e6d8-623a-46d7-b8c0-bd9d89331f2c": {
     "id": "0e14e6d8-623a-46d7-b8c0-bd9d89331f2c",
     "prev": "534b8c1a-1a2e-4467-a19c-bbf29435c3f6",
     "regions": {
      "f6fbc655-e8da-4e20-8ea2-d2254d805a88": {
       "attrs": {
        "height": 0.8,
        "width": 0.8,
        "x": 0.1,
        "y": 0.1
       },
       "content": {
        "cell": "1bd8695e-2b27-4f4c-87a9-b853f1292fcc",
        "part": "whole"
       },
       "id": "f6fbc655-e8da-4e20-8ea2-d2254d805a88"
      }
     }
    },
    "0f76485e-e836-4895-bdea-2b1a460fb3b0": {
     "id": "0f76485e-e836-4895-bdea-2b1a460fb3b0",
     "prev": "6fb26d00-6f49-460f-9b5c-9ed640035628",
     "regions": {
      "62add3c1-6624-4af2-900b-25f95a4cc0b4": {
       "attrs": {
        "height": 0.8,
        "width": 0.8,
        "x": 0.1,
        "y": 0.1
       },
       "content": {
        "cell": "f3e32d8e-47f0-4e11-af16-e58946566dbd",
        "part": "whole"
       },
       "id": "62add3c1-6624-4af2-900b-25f95a4cc0b4"
      }
     }
    },
    "0f7fd2e1-8e52-403f-b214-62b08353a11b": {
     "id": "0f7fd2e1-8e52-403f-b214-62b08353a11b",
     "prev": "9f5f54f3-66d2-4b3c-bc32-dfb7a807a87b",
     "regions": {
      "527a1764-f6b6-453c-8246-1a7a8a826188": {
       "attrs": {
        "height": 0.8,
        "width": 0.8,
        "x": 0.1,
        "y": 0.1
       },
       "content": {
        "cell": "c5e49231-4f71-4000-ba88-93ecc69383c4",
        "part": "whole"
       },
       "id": "527a1764-f6b6-453c-8246-1a7a8a826188"
      }
     }
    },
    "10c5f7b5-c5e0-4c4c-b9ec-157477e03348": {
     "id": "10c5f7b5-c5e0-4c4c-b9ec-157477e03348",
     "prev": "f3fdd70f-529d-4f14-bb5b-a14b4c69182f",
     "regions": {
      "5bf98001-ac48-4a76-9b3d-c5e50e627457": {
       "attrs": {
        "height": 0.8,
        "width": 0.8,
        "x": 0.1,
        "y": 0.1
       },
       "content": {
        "cell": "07416672-5f59-4109-bc00-c1d47eac7bbe",
        "part": "whole"
       },
       "id": "5bf98001-ac48-4a76-9b3d-c5e50e627457"
      }
     }
    },
    "15823d67-1858-4573-93a9-8f02ebbc6c00": {
     "id": "15823d67-1858-4573-93a9-8f02ebbc6c00",
     "prev": "36d764fc-9681-4a29-9046-7500cd3bcbe9",
     "regions": {
      "0f6a100d-c783-4d4e-ad1c-55137d910765": {
       "attrs": {
        "height": 0.8,
        "width": 0.8,
        "x": 0.1,
        "y": 0.1
       },
       "content": {
        "cell": "bb00f61a-95ac-46ba-80bf-b1f7ae712cd7",
        "part": "whole"
       },
       "id": "0f6a100d-c783-4d4e-ad1c-55137d910765"
      }
     }
    },
    "169b6911-05e0-4c33-a2ec-194bf3ffa2a4": {
     "id": "169b6911-05e0-4c33-a2ec-194bf3ffa2a4",
     "prev": "0f76485e-e836-4895-bdea-2b1a460fb3b0",
     "regions": {
      "8a7e7fda-df60-4169-a1ba-0fc5ba265b2a": {
       "attrs": {
        "height": 0.8,
        "width": 0.8,
        "x": 0.1,
        "y": 0.1
       },
       "content": {
        "cell": "7a676d66-2d54-4536-99c1-f7a3227619ef",
        "part": "whole"
       },
       "id": "8a7e7fda-df60-4169-a1ba-0fc5ba265b2a"
      }
     }
    },
    "1b783724-6047-4d33-b116-3e7502ca83ba": {
     "id": "1b783724-6047-4d33-b116-3e7502ca83ba",
     "prev": "6a9e938e-4344-4199-a067-c933f121f9ff",
     "regions": {
      "6a61e660-3fb8-4f99-9d9c-5a3dbbe3f2d1": {
       "attrs": {
        "height": 0.8,
        "width": 0.8,
        "x": 0.1,
        "y": 0.1
       },
       "content": {
        "cell": "211f67ad-b470-4f1e-ae86-6af34198f0b2",
        "part": "whole"
       },
       "id": "6a61e660-3fb8-4f99-9d9c-5a3dbbe3f2d1"
      }
     }
    },
    "1e38aa2d-0b93-4464-a297-d0f2775069e6": {
     "id": "1e38aa2d-0b93-4464-a297-d0f2775069e6",
     "prev": "7c55fd6c-2bd3-491c-a4c6-2c71d7db49ec",
     "regions": {
      "1977c9e3-2c20-4f61-8972-837b4e3e6457": {
       "attrs": {
        "height": 0.8,
        "width": 0.8,
        "x": 0.1,
        "y": 0.1
       },
       "content": {
        "cell": "44b62813-91d0-4af9-95c2-e90e3c1559c1",
        "part": "whole"
       },
       "id": "1977c9e3-2c20-4f61-8972-837b4e3e6457"
      }
     }
    },
    "23f5eac0-d9e1-4c5c-ae42-bc9578a10731": {
     "id": "23f5eac0-d9e1-4c5c-ae42-bc9578a10731",
     "prev": "ed137761-d2c8-4b0a-9dec-bdfafcb2bf06",
     "regions": {
      "f9a632a7-5e87-4ba7-bc4f-7aacae90771f": {
       "attrs": {
        "height": 0.8,
        "width": 0.8,
        "x": 0.1,
        "y": 0.1
       },
       "content": {
        "cell": "7fd6b4c6-e18b-4e8e-905b-c099962d1ee2",
        "part": "whole"
       },
       "id": "f9a632a7-5e87-4ba7-bc4f-7aacae90771f"
      }
     }
    },
    "24685d0d-b99f-4916-843b-8e3f1145019f": {
     "id": "24685d0d-b99f-4916-843b-8e3f1145019f",
     "prev": "a6b5be05-dfb0-4a0d-bfdd-eee6ba20ae90",
     "regions": {
      "28e87f84-05c3-439d-b3c4-535a92eae5df": {
       "attrs": {
        "height": 0.8,
        "width": 0.8,
        "x": 0.1,
        "y": 0.1
       },
       "content": {
        "cell": "3a41f69c-547b-48e4-bb1d-92a8992a9dc1",
        "part": "whole"
       },
       "id": "28e87f84-05c3-439d-b3c4-535a92eae5df"
      }
     }
    },
    "26bd2aa1-15e7-4e56-a10c-cef1351640ce": {
     "id": "26bd2aa1-15e7-4e56-a10c-cef1351640ce",
     "prev": "4e4e9f93-4b50-4ed7-96cc-43b469afdb4c",
     "regions": {
      "0ad9d610-c576-4f42-b41c-2f97668170b3": {
       "attrs": {
        "height": 0.8,
        "width": 0.8,
        "x": 0.1,
        "y": 0.1
       },
       "content": {
        "cell": "2e81f311-7836-448f-b54d-50b5305f3900",
        "part": "whole"
       },
       "id": "0ad9d610-c576-4f42-b41c-2f97668170b3"
      }
     }
    },
    "2fc10ff7-77ab-4536-b6eb-88ed479baa6e": {
     "id": "2fc10ff7-77ab-4536-b6eb-88ed479baa6e",
     "prev": "c512fa0f-1246-4851-a5da-edabcb6dee16",
     "regions": {
      "6002e779-026d-4f30-b354-0e61ed274150": {
       "attrs": {
        "height": 0.8,
        "width": 0.8,
        "x": 0.1,
        "y": 0.1
       },
       "content": {
        "cell": "32f0bafe-60ef-4e97-bcea-f13ce8a67d18",
        "part": "whole"
       },
       "id": "6002e779-026d-4f30-b354-0e61ed274150"
      }
     }
    },
    "3266be2d-b4b1-4b4b-98b5-aaf8bdf5f96f": {
     "id": "3266be2d-b4b1-4b4b-98b5-aaf8bdf5f96f",
     "prev": "d1c134eb-778e-476c-8303-d91cd2c754c8",
     "regions": {
      "3bbd22ec-167e-459b-8946-c1507e608ccc": {
       "attrs": {
        "height": 0.8,
        "width": 0.8,
        "x": 0.1,
        "y": 0.1
       },
       "content": {
        "cell": "7171d570-628d-46bd-a3a8-2024b37f0ee0",
        "part": "whole"
       },
       "id": "3bbd22ec-167e-459b-8946-c1507e608ccc"
      }
     }
    },
    "36d764fc-9681-4a29-9046-7500cd3bcbe9": {
     "id": "36d764fc-9681-4a29-9046-7500cd3bcbe9",
     "prev": "e40219a6-da5c-4998-9bee-56199b078d5b",
     "regions": {
      "c8ba3829-9a9c-4cf5-80dc-848691493a30": {
       "attrs": {
        "height": 0.8,
        "width": 0.8,
        "x": 0.1,
        "y": 0.1
       },
       "content": {
        "cell": "f4a9fb73-261c-4c8e-9ba3-2858413303e5",
        "part": "whole"
       },
       "id": "c8ba3829-9a9c-4cf5-80dc-848691493a30"
      }
     }
    },
    "396cac4f-a262-4df4-9bd1-25604ff80105": {
     "id": "396cac4f-a262-4df4-9bd1-25604ff80105",
     "prev": "5807198a-fe7b-4391-9e74-61418b071a72",
     "regions": {
      "05934479-9bfb-4639-879e-18076fe369c3": {
       "attrs": {
        "height": 0.8,
        "width": 0.8,
        "x": 0.1,
        "y": 0.1
       },
       "content": {
        "cell": "79ac9db5-429f-4948-a2b2-4c0f220911a8",
        "part": "whole"
       },
       "id": "05934479-9bfb-4639-879e-18076fe369c3"
      }
     }
    },
    "3b9c224e-eecc-4bcc-912c-6b27d7fd9271": {
     "id": "3b9c224e-eecc-4bcc-912c-6b27d7fd9271",
     "prev": null,
     "regions": {
      "5896f9ee-8c34-44f1-952a-fa3610edeaca": {
       "attrs": {
        "height": 0.8,
        "width": 0.8,
        "x": 0.1,
        "y": 0.1
       },
       "content": {
        "cell": "2c735ccb-2901-467b-963b-f61ddedd95b6",
        "part": "whole"
       },
       "id": "5896f9ee-8c34-44f1-952a-fa3610edeaca"
      }
     }
    },
    "406a4ea2-fdd6-4764-ac1e-674e627cac85": {
     "id": "406a4ea2-fdd6-4764-ac1e-674e627cac85",
     "prev": "cf44a691-874c-4aa5-866a-9bb3f5fbd946",
     "regions": {
      "01a5769c-43ff-4a8e-80ca-f6cdc0f7c788": {
       "attrs": {
        "height": 0.8,
        "width": 0.8,
        "x": 0.1,
        "y": 0.1
       },
       "content": {
        "cell": "453ed190-74cd-41cb-8f1a-7644431ec4e5",
        "part": "whole"
       },
       "id": "01a5769c-43ff-4a8e-80ca-f6cdc0f7c788"
      }
     }
    },
    "413a93de-882c-49b0-98e8-cca50bec70fc": {
     "id": "413a93de-882c-49b0-98e8-cca50bec70fc",
     "prev": "26bd2aa1-15e7-4e56-a10c-cef1351640ce",
     "regions": {
      "2dcce22d-97ae-41ac-a941-1d28b6d4786b": {
       "attrs": {
        "height": 0.8,
        "width": 0.8,
        "x": 0.1,
        "y": 0.1
       },
       "content": {
        "cell": "fbe109d3-03cc-4aa4-8667-06db99614675",
        "part": "whole"
       },
       "id": "2dcce22d-97ae-41ac-a941-1d28b6d4786b"
      }
     }
    },
    "441c1f4a-1b69-46e4-a054-421b231c7426": {
     "id": "441c1f4a-1b69-46e4-a054-421b231c7426",
     "prev": "0a94c79c-30a9-439a-b5e3-6ec9eb5e5450",
     "regions": {
      "d4e05551-7a95-4ec1-9a9e-e5a22e580c11": {
       "attrs": {
        "height": 0.8,
        "width": 0.8,
        "x": 0.1,
        "y": 0.1
       },
       "content": {
        "cell": "17330600-5f52-42ce-af92-1c3783f2588b",
        "part": "whole"
       },
       "id": "d4e05551-7a95-4ec1-9a9e-e5a22e580c11"
      }
     }
    },
    "44f50b4f-3f3d-4b06-93c4-79c4aa7acab5": {
     "id": "44f50b4f-3f3d-4b06-93c4-79c4aa7acab5",
     "prev": "e426506e-3e8e-4b85-9de0-6724247e1f97",
     "regions": {
      "315d0238-f12b-4e8a-a1d3-6cd695ff1215": {
       "attrs": {
        "height": 0.8,
        "width": 0.8,
        "x": 0.1,
        "y": 0.1
       },
       "content": {
        "cell": "4057b8f9-2549-400f-9acf-a55d35bda7fa",
        "part": "whole"
       },
       "id": "315d0238-f12b-4e8a-a1d3-6cd695ff1215"
      }
     }
    },
    "4d13f046-b9a9-43df-98b3-c2a524ec663c": {
     "id": "4d13f046-b9a9-43df-98b3-c2a524ec663c",
     "prev": "baab90c7-35e8-45c4-bcc4-75c5b6da0192",
     "regions": {
      "cde5d7af-7625-40dd-b20a-36801d50fad9": {
       "attrs": {
        "height": 0.8,
        "width": 0.8,
        "x": 0.1,
        "y": 0.1
       },
       "content": {
        "cell": "3752d51c-0770-408a-80d4-f46954a52bc4",
        "part": "whole"
       },
       "id": "cde5d7af-7625-40dd-b20a-36801d50fad9"
      }
     }
    },
    "4e4e9f93-4b50-4ed7-96cc-43b469afdb4c": {
     "id": "4e4e9f93-4b50-4ed7-96cc-43b469afdb4c",
     "prev": "97878f9a-9dd9-4e3d-8e42-4a8dea4c5253",
     "regions": {
      "e7f7e2b8-d8d0-448b-a604-fa41a6ef6e85": {
       "attrs": {
        "height": 0.8,
        "width": 0.8,
        "x": 0.1,
        "y": 0.1
       },
       "content": {
        "cell": "a55d29c6-9df0-451d-a619-0c81b65209a1",
        "part": "whole"
       },
       "id": "e7f7e2b8-d8d0-448b-a604-fa41a6ef6e85"
      }
     }
    },
    "534b8c1a-1a2e-4467-a19c-bbf29435c3f6": {
     "id": "534b8c1a-1a2e-4467-a19c-bbf29435c3f6",
     "prev": "93436836-b3e9-49c0-b72e-bbc515ae3575",
     "regions": {
      "eff6c4e7-e030-4a40-8177-8d3f8e699805": {
       "attrs": {
        "height": 0.8,
        "width": 0.8,
        "x": 0.1,
        "y": 0.1
       },
       "content": {
        "cell": "98af12e6-94af-47b7-bcdc-1310025dc1d0",
        "part": "whole"
       },
       "id": "eff6c4e7-e030-4a40-8177-8d3f8e699805"
      }
     }
    },
    "5807198a-fe7b-4391-9e74-61418b071a72": {
     "id": "5807198a-fe7b-4391-9e74-61418b071a72",
     "prev": "aaa279f3-0b35-4c7a-9ce6-75d60f675645",
     "regions": {
      "3107c5d1-3741-4a9a-938e-cda6bb6f68db": {
       "attrs": {
        "height": 0.8,
        "width": 0.8,
        "x": 0.1,
        "y": 0.1
       },
       "content": {
        "cell": "209a96b5-0d4e-4f5e-80b5-6c999d25e34f",
        "part": "whole"
       },
       "id": "3107c5d1-3741-4a9a-938e-cda6bb6f68db"
      }
     }
    },
    "5a9542c9-040e-4e80-9a58-f6ecf19102f1": {
     "id": "5a9542c9-040e-4e80-9a58-f6ecf19102f1",
     "prev": "1e38aa2d-0b93-4464-a297-d0f2775069e6",
     "regions": {
      "645658cb-ebef-4a3d-b860-d84473a9b4b1": {
       "attrs": {
        "height": 0.8,
        "width": 0.8,
        "x": 0.1,
        "y": 0.1
       },
       "content": {
        "cell": "422c3757-7adb-4598-92bd-0ab924a9de12",
        "part": "whole"
       },
       "id": "645658cb-ebef-4a3d-b860-d84473a9b4b1"
      }
     }
    },
    "5ef9ecfd-54e4-4d31-a0f1-62900da4831e": {
     "id": "5ef9ecfd-54e4-4d31-a0f1-62900da4831e",
     "prev": "15823d67-1858-4573-93a9-8f02ebbc6c00",
     "regions": {
      "a5959706-3c2f-41fc-bc40-4ce0b9cd7131": {
       "attrs": {
        "height": 0.8,
        "width": 0.8,
        "x": 0.1,
        "y": 0.1
       },
       "content": {
        "cell": "286b2e3d-c0e8-45dc-84ac-3cece7b8f7c2",
        "part": "whole"
       },
       "id": "a5959706-3c2f-41fc-bc40-4ce0b9cd7131"
      }
     }
    },
    "65983f67-3858-4929-8ded-310810034fad": {
     "id": "65983f67-3858-4929-8ded-310810034fad",
     "prev": "8ceb1d2b-1b55-4900-9fa4-a8c7aa27747e",
     "regions": {
      "a9e23edc-e009-461f-905e-b3b72db5aad7": {
       "attrs": {
        "height": 0.8,
        "width": 0.8,
        "x": 0.1,
        "y": 0.1
       },
       "content": {
        "cell": "8afff9a6-73c5-4301-994f-172a5a0fd1ac",
        "part": "whole"
       },
       "id": "a9e23edc-e009-461f-905e-b3b72db5aad7"
      }
     }
    },
    "674d7c87-c38f-463d-aa2f-a1061244124d": {
     "id": "674d7c87-c38f-463d-aa2f-a1061244124d",
     "prev": "01c02143-7f15-4661-82fa-dd7150c9e2fb",
     "regions": {
      "9d1097e7-81ff-464a-8245-021fdbeef529": {
       "attrs": {
        "height": 0.8,
        "width": 0.8,
        "x": 0.1,
        "y": 0.1
       },
       "content": {
        "cell": "3ed22092-43cf-4f07-b54a-63612d9243ba",
        "part": "whole"
       },
       "id": "9d1097e7-81ff-464a-8245-021fdbeef529"
      }
     }
    },
    "6982f566-ca3f-4f1b-886a-9152eb6f3cff": {
     "id": "6982f566-ca3f-4f1b-886a-9152eb6f3cff",
     "prev": "6a9e7ec9-3a99-48a0-a5a1-41d92875a557",
     "regions": {
      "0d97b6d9-25c3-4043-82b6-2f0843e1a992": {
       "attrs": {
        "height": 0.8,
        "width": 0.8,
        "x": 0.1,
        "y": 0.1
       },
       "content": {
        "cell": "31aaedd2-abaf-4df3-b115-16dd793ecd47",
        "part": "whole"
       },
       "id": "0d97b6d9-25c3-4043-82b6-2f0843e1a992"
      }
     }
    },
    "69cba751-9ba6-41f0-9ed2-6cb022c71e02": {
     "id": "69cba751-9ba6-41f0-9ed2-6cb022c71e02",
     "prev": "6add2e85-21d1-4410-bcee-3191e063be75",
     "regions": {
      "19afc47b-c4ee-47ea-974b-c8549a1c5df1": {
       "attrs": {
        "height": 0.8,
        "width": 0.8,
        "x": 0.1,
        "y": 0.1
       },
       "content": {
        "cell": "3e5b02c6-9b6c-40e4-8b47-6e635bc907f8",
        "part": "whole"
       },
       "id": "19afc47b-c4ee-47ea-974b-c8549a1c5df1"
      }
     }
    },
    "69dedea9-ab0c-4e5f-a0a7-344e425093b1": {
     "id": "69dedea9-ab0c-4e5f-a0a7-344e425093b1",
     "prev": "69cba751-9ba6-41f0-9ed2-6cb022c71e02",
     "regions": {
      "01385e44-d7e8-41df-ba5a-7ab43595c487": {
       "attrs": {
        "height": 0.8,
        "width": 0.8,
        "x": 0.1,
        "y": 0.1
       },
       "content": {
        "cell": "3d37baa5-b17e-4fce-b43d-f471f4fc086a",
        "part": "whole"
       },
       "id": "01385e44-d7e8-41df-ba5a-7ab43595c487"
      }
     }
    },
    "6a9e7ec9-3a99-48a0-a5a1-41d92875a557": {
     "id": "6a9e7ec9-3a99-48a0-a5a1-41d92875a557",
     "prev": "e77363b2-f213-40b9-8dec-de4c29f8e81a",
     "regions": {
      "93949e65-c2f3-41b2-986b-e4fe0feebe70": {
       "attrs": {
        "height": 0.8,
        "width": 0.8,
        "x": 0.1,
        "y": 0.1
       },
       "content": {
        "cell": "9491594a-6792-4d65-8e36-cf3844a2bb13",
        "part": "whole"
       },
       "id": "93949e65-c2f3-41b2-986b-e4fe0feebe70"
      }
     }
    },
    "6a9e938e-4344-4199-a067-c933f121f9ff": {
     "id": "6a9e938e-4344-4199-a067-c933f121f9ff",
     "prev": "e7a6d659-8f5e-4544-ac55-d5d6e2fa5335",
     "regions": {
      "33b8e8fc-b892-4882-983f-68e29810a323": {
       "attrs": {
        "height": 0.8,
        "width": 0.8,
        "x": 0.1,
        "y": 0.1
       },
       "content": {
        "cell": "1d1e95f7-fc73-4363-9be3-a392d9dddb19",
        "part": "whole"
       },
       "id": "33b8e8fc-b892-4882-983f-68e29810a323"
      }
     }
    },
    "6add2e85-21d1-4410-bcee-3191e063be75": {
     "id": "6add2e85-21d1-4410-bcee-3191e063be75",
     "prev": "f6530334-8954-4e25-a6bc-8dac23a973dc",
     "regions": {
      "524453b8-ebcb-47ad-bed8-66035e0711c1": {
       "attrs": {
        "height": 0.8,
        "width": 0.8,
        "x": 0.1,
        "y": 0.1
       },
       "content": {
        "cell": "8729a805-54d9-45c3-b71c-06829c87693f",
        "part": "whole"
       },
       "id": "524453b8-ebcb-47ad-bed8-66035e0711c1"
      }
     }
    },
    "6c7bde1d-5d72-455a-8d10-d9010ceaa94d": {
     "id": "6c7bde1d-5d72-455a-8d10-d9010ceaa94d",
     "prev": "406a4ea2-fdd6-4764-ac1e-674e627cac85",
     "regions": {
      "52f03783-ba9e-4246-baa2-7dd362e19393": {
       "attrs": {
        "height": 0.8,
        "width": 0.8,
        "x": 0.1,
        "y": 0.1
       },
       "content": {
        "cell": "a835f400-3b61-42ca-9d42-7638327a72f0",
        "part": "whole"
       },
       "id": "52f03783-ba9e-4246-baa2-7dd362e19393"
      }
     }
    },
    "6fb26d00-6f49-460f-9b5c-9ed640035628": {
     "id": "6fb26d00-6f49-460f-9b5c-9ed640035628",
     "prev": "1b783724-6047-4d33-b116-3e7502ca83ba",
     "regions": {
      "3ba7b0e0-9114-47aa-9f96-f3e931f21214": {
       "attrs": {
        "height": 0.8,
        "width": 0.8,
        "x": 0.1,
        "y": 0.1
       },
       "content": {
        "cell": "1e3f0604-e34a-4beb-97c8-1e8b812d34ae",
        "part": "whole"
       },
       "id": "3ba7b0e0-9114-47aa-9f96-f3e931f21214"
      }
     }
    },
    "70afbec6-4a1c-42c0-8134-010a1a587335": {
     "id": "70afbec6-4a1c-42c0-8134-010a1a587335",
     "prev": "849cc5e4-77c7-4093-87b3-1c9267768ea0",
     "regions": {
      "bce10e4f-7e50-490f-80b8-5baec997b176": {
       "attrs": {
        "height": 0.8,
        "width": 0.8,
        "x": 0.1,
        "y": 0.1
       },
       "content": {
        "cell": "dd771ffa-7e8e-4f93-b56f-f15e8520fc84",
        "part": "whole"
       },
       "id": "bce10e4f-7e50-490f-80b8-5baec997b176"
      }
     }
    },
    "70efb9a4-589e-49fb-9c9a-b3ab2114c6c5": {
     "id": "70efb9a4-589e-49fb-9c9a-b3ab2114c6c5",
     "prev": "b2008f07-1a2d-4317-b282-f6ed3cd78d05",
     "regions": {
      "7b69975f-9465-4d13-86e4-56afd3e855a0": {
       "attrs": {
        "height": 0.8,
        "width": 0.8,
        "x": 0.1,
        "y": 0.1
       },
       "content": {
        "cell": "e4a9ee56-601a-4270-9a30-f30eafbc0bad",
        "part": "whole"
       },
       "id": "7b69975f-9465-4d13-86e4-56afd3e855a0"
      }
     }
    },
    "79693454-c1b0-4bd1-9602-f6e8b6879fb2": {
     "id": "79693454-c1b0-4bd1-9602-f6e8b6879fb2",
     "prev": "8b77fe6e-a85e-4d66-9f75-beea121b9eec",
     "regions": {
      "b991eefc-8d38-4f0f-8582-dbef998fc812": {
       "attrs": {
        "height": 0.8,
        "width": 0.8,
        "x": 0.1,
        "y": 0.1
       },
       "content": {
        "cell": "e33d7275-1641-4277-871e-cec3db32154b",
        "part": "whole"
       },
       "id": "b991eefc-8d38-4f0f-8582-dbef998fc812"
      }
     }
    },
    "79efa7bf-a29c-4aaf-9b9d-f381cc031caf": {
     "id": "79efa7bf-a29c-4aaf-9b9d-f381cc031caf",
     "prev": "4d13f046-b9a9-43df-98b3-c2a524ec663c",
     "regions": {
      "0e2d9961-e7e4-45f0-8dc5-cc99948f791c": {
       "attrs": {
        "height": 0.8,
        "width": 0.8,
        "x": 0.1,
        "y": 0.1
       },
       "content": {
        "cell": "d38e9fc9-be30-4ff7-b84a-b25689a6799a",
        "part": "whole"
       },
       "id": "0e2d9961-e7e4-45f0-8dc5-cc99948f791c"
      }
     }
    },
    "7a4bd8dd-0427-42f2-bfa0-496e8569bf8b": {
     "id": "7a4bd8dd-0427-42f2-bfa0-496e8569bf8b",
     "prev": "0a91db39-81da-4aa0-a187-1f534bda8711",
     "regions": {
      "db6a3587-746b-4ff1-9bbf-71fc71e5d16d": {
       "attrs": {
        "height": 0.8,
        "width": 0.8,
        "x": 0.1,
        "y": 0.1
       },
       "content": {
        "cell": "7b0205be-cac8-4e17-a93d-c9d1b8810405",
        "part": "whole"
       },
       "id": "db6a3587-746b-4ff1-9bbf-71fc71e5d16d"
      }
     }
    },
    "7c55fd6c-2bd3-491c-a4c6-2c71d7db49ec": {
     "id": "7c55fd6c-2bd3-491c-a4c6-2c71d7db49ec",
     "prev": "65983f67-3858-4929-8ded-310810034fad",
     "regions": {
      "4f5f81df-082c-4a08-a3cd-96189e924574": {
       "attrs": {
        "height": 0.8,
        "width": 0.8,
        "x": 0.1,
        "y": 0.1
       },
       "content": {
        "cell": "e056489f-224c-4708-9a66-f87f1167d1e4",
        "part": "whole"
       },
       "id": "4f5f81df-082c-4a08-a3cd-96189e924574"
      }
     }
    },
    "81429130-4260-41c9-9667-e0d1295302cd": {
     "id": "81429130-4260-41c9-9667-e0d1295302cd",
     "prev": "70afbec6-4a1c-42c0-8134-010a1a587335",
     "regions": {
      "4104f54c-7288-4816-aa66-4c6ac02f6672": {
       "attrs": {
        "height": 0.8,
        "width": 0.8,
        "x": 0.1,
        "y": 0.1
       },
       "content": {
        "cell": "990e4d6b-6609-437f-8742-e5c6f8ac9dc5",
        "part": "whole"
       },
       "id": "4104f54c-7288-4816-aa66-4c6ac02f6672"
      }
     }
    },
    "849cc5e4-77c7-4093-87b3-1c9267768ea0": {
     "id": "849cc5e4-77c7-4093-87b3-1c9267768ea0",
     "prev": "ae94f8d9-4c4e-4845-85ea-ca394678bc50",
     "regions": {
      "e26ee9c9-171d-4235-aaf4-0a21ebd7ce3b": {
       "attrs": {
        "height": 0.8,
        "width": 0.8,
        "x": 0.1,
        "y": 0.1
       },
       "content": {
        "cell": "8239a9bc-8038-40e3-be3d-760eef2dccb4",
        "part": "whole"
       },
       "id": "e26ee9c9-171d-4235-aaf4-0a21ebd7ce3b"
      }
     }
    },
    "8b2ac229-565d-4e89-a6bb-60a30a5742a4": {
     "id": "8b2ac229-565d-4e89-a6bb-60a30a5742a4",
     "prev": "24685d0d-b99f-4916-843b-8e3f1145019f",
     "regions": {
      "c2d46836-4055-4fbe-976d-a84bb059561d": {
       "attrs": {
        "height": 0.8,
        "width": 0.8,
        "x": 0.1,
        "y": 0.1
       },
       "content": {
        "cell": "8fe5a20f-020b-4eb8-a415-036b4821c4d0",
        "part": "whole"
       },
       "id": "c2d46836-4055-4fbe-976d-a84bb059561d"
      }
     }
    },
    "8b77fe6e-a85e-4d66-9f75-beea121b9eec": {
     "id": "8b77fe6e-a85e-4d66-9f75-beea121b9eec",
     "prev": "70efb9a4-589e-49fb-9c9a-b3ab2114c6c5",
     "regions": {
      "4e6001ac-b693-460d-b8e9-ac26b2525458": {
       "attrs": {
        "height": 0.8,
        "width": 0.8,
        "x": 0.1,
        "y": 0.1
       },
       "content": {
        "cell": "e2f0b12e-084d-4667-b892-98687deac445",
        "part": "whole"
       },
       "id": "4e6001ac-b693-460d-b8e9-ac26b2525458"
      }
     }
    },
    "8ceb1d2b-1b55-4900-9fa4-a8c7aa27747e": {
     "id": "8ceb1d2b-1b55-4900-9fa4-a8c7aa27747e",
     "prev": "79693454-c1b0-4bd1-9602-f6e8b6879fb2",
     "regions": {
      "fb38cf8e-ee8c-4041-9329-9f41acca4f89": {
       "attrs": {
        "height": 0.8,
        "width": 0.8,
        "x": 0.1,
        "y": 0.1
       },
       "content": {
        "cell": "39d2ce34-3884-45cf-9339-019e5b583f2f",
        "part": "whole"
       },
       "id": "fb38cf8e-ee8c-4041-9329-9f41acca4f89"
      }
     }
    },
    "93436836-b3e9-49c0-b72e-bbc515ae3575": {
     "id": "93436836-b3e9-49c0-b72e-bbc515ae3575",
     "prev": "6c7bde1d-5d72-455a-8d10-d9010ceaa94d",
     "regions": {
      "7cc67108-41e2-4855-81bf-e7262e8bc31d": {
       "attrs": {
        "height": 0.8,
        "width": 0.8,
        "x": 0.1,
        "y": 0.1
       },
       "content": {
        "cell": "635e229a-1e36-48ad-bae7-a7484112aa8a",
        "part": "whole"
       },
       "id": "7cc67108-41e2-4855-81bf-e7262e8bc31d"
      }
     }
    },
    "949fb718-e594-459e-bae8-5a148aa4657d": {
     "id": "949fb718-e594-459e-bae8-5a148aa4657d",
     "prev": "0e14e6d8-623a-46d7-b8c0-bd9d89331f2c",
     "regions": {
      "5c60525e-0c4a-4460-8221-156ed31e1e17": {
       "attrs": {
        "height": 0.8,
        "width": 0.8,
        "x": 0.1,
        "y": 0.1
       },
       "content": {
        "cell": "26e7b6b7-f094-4311-9824-d7b1533abcff",
        "part": "whole"
       },
       "id": "5c60525e-0c4a-4460-8221-156ed31e1e17"
      }
     }
    },
    "97878f9a-9dd9-4e3d-8e42-4a8dea4c5253": {
     "id": "97878f9a-9dd9-4e3d-8e42-4a8dea4c5253",
     "prev": "441c1f4a-1b69-46e4-a054-421b231c7426",
     "regions": {
      "b69cec8b-9e3f-4fc7-a0fe-ef88383aab7d": {
       "attrs": {
        "height": 0.8,
        "width": 0.8,
        "x": 0.1,
        "y": 0.1
       },
       "content": {
        "cell": "e2e7496d-a5b2-4eef-b9a1-ed8edda168dd",
        "part": "whole"
       },
       "id": "b69cec8b-9e3f-4fc7-a0fe-ef88383aab7d"
      }
     }
    },
    "9f3d4b33-eead-41e8-abc8-f56e0b6fde28": {
     "id": "9f3d4b33-eead-41e8-abc8-f56e0b6fde28",
     "prev": "413a93de-882c-49b0-98e8-cca50bec70fc",
     "regions": {
      "acd847b3-633a-4896-83eb-742a6285ee27": {
       "attrs": {
        "height": 0.8,
        "width": 0.8,
        "x": 0.1,
        "y": 0.1
       },
       "content": {
        "cell": "bab2df17-6c9c-40a4-adcd-9968db092d75",
        "part": "whole"
       },
       "id": "acd847b3-633a-4896-83eb-742a6285ee27"
      }
     }
    },
    "9f5f54f3-66d2-4b3c-bc32-dfb7a807a87b": {
     "id": "9f5f54f3-66d2-4b3c-bc32-dfb7a807a87b",
     "prev": "2fc10ff7-77ab-4536-b6eb-88ed479baa6e",
     "regions": {
      "5d8feb78-aa9a-4219-86ab-72bcf950f680": {
       "attrs": {
        "height": 0.8,
        "width": 0.8,
        "x": 0.1,
        "y": 0.1
       },
       "content": {
        "cell": "06e4a53c-d134-4bf2-a0af-2a452bdbd776",
        "part": "whole"
       },
       "id": "5d8feb78-aa9a-4219-86ab-72bcf950f680"
      }
     }
    },
    "a6b5be05-dfb0-4a0d-bfdd-eee6ba20ae90": {
     "id": "a6b5be05-dfb0-4a0d-bfdd-eee6ba20ae90",
     "prev": "7a4bd8dd-0427-42f2-bfa0-496e8569bf8b",
     "regions": {
      "d5d832ab-a8ef-4c05-b1ac-dc0d420bafe8": {
       "attrs": {
        "height": 0.8,
        "width": 0.8,
        "x": 0.1,
        "y": 0.1
       },
       "content": {
        "cell": "01eed10e-5f32-4b18-9af4-10304e8d40a7",
        "part": "whole"
       },
       "id": "d5d832ab-a8ef-4c05-b1ac-dc0d420bafe8"
      }
     }
    },
    "aaa279f3-0b35-4c7a-9ce6-75d60f675645": {
     "id": "aaa279f3-0b35-4c7a-9ce6-75d60f675645",
     "prev": "0f7fd2e1-8e52-403f-b214-62b08353a11b",
     "regions": {
      "47284f53-cc16-4dec-97b4-d9241e4fb293": {
       "attrs": {
        "height": 0.8,
        "width": 0.8,
        "x": 0.1,
        "y": 0.1
       },
       "content": {
        "cell": "fc439da8-a75a-43a3-bc79-805ad6f65407",
        "part": "whole"
       },
       "id": "47284f53-cc16-4dec-97b4-d9241e4fb293"
      }
     }
    },
    "ae94f8d9-4c4e-4845-85ea-ca394678bc50": {
     "id": "ae94f8d9-4c4e-4845-85ea-ca394678bc50",
     "prev": "396cac4f-a262-4df4-9bd1-25604ff80105",
     "regions": {
      "0c0fb65d-441a-4eba-b450-1aa7922ad7f0": {
       "attrs": {
        "height": 0.8,
        "width": 0.8,
        "x": 0.1,
        "y": 0.1
       },
       "content": {
        "cell": "4726a192-70a9-4c67-84a1-404ee0270389",
        "part": "whole"
       },
       "id": "0c0fb65d-441a-4eba-b450-1aa7922ad7f0"
      }
     }
    },
    "b0cd7a49-4b11-49ae-ae99-06da5c56b4fc": {
     "id": "b0cd7a49-4b11-49ae-ae99-06da5c56b4fc",
     "prev": "169b6911-05e0-4c33-a2ec-194bf3ffa2a4",
     "regions": {
      "a353163b-d03b-4e64-a90e-96a6182fc8d5": {
       "attrs": {
        "height": 0.8,
        "width": 0.8,
        "x": 0.1,
        "y": 0.1
       },
       "content": {
        "cell": "4715c2e9-2829-4770-8862-0455ea5c53f1",
        "part": "whole"
       },
       "id": "a353163b-d03b-4e64-a90e-96a6182fc8d5"
      }
     }
    },
    "b2008f07-1a2d-4317-b282-f6ed3cd78d05": {
     "id": "b2008f07-1a2d-4317-b282-f6ed3cd78d05",
     "prev": "ce14db18-3217-4507-9ce4-f333020d91da",
     "regions": {
      "33355e51-02ed-452c-8912-9b56673f856b": {
       "attrs": {
        "height": 0.8,
        "width": 0.8,
        "x": 0.1,
        "y": 0.1
       },
       "content": {
        "cell": "8349a302-8eac-4c59-8dca-1fc61eb39f71",
        "part": "whole"
       },
       "id": "33355e51-02ed-452c-8912-9b56673f856b"
      }
     }
    },
    "baab90c7-35e8-45c4-bcc4-75c5b6da0192": {
     "id": "baab90c7-35e8-45c4-bcc4-75c5b6da0192",
     "prev": "674d7c87-c38f-463d-aa2f-a1061244124d",
     "regions": {
      "92e740d3-014c-4b5c-b9de-f673a4502de0": {
       "attrs": {
        "height": 0.8,
        "width": 0.8,
        "x": 0.1,
        "y": 0.1
       },
       "content": {
        "cell": "bfc1341b-9fd8-40d0-b524-65fcc2d8b6cb",
        "part": "whole"
       },
       "id": "92e740d3-014c-4b5c-b9de-f673a4502de0"
      }
     }
    },
    "c512fa0f-1246-4851-a5da-edabcb6dee16": {
     "id": "c512fa0f-1246-4851-a5da-edabcb6dee16",
     "prev": "79efa7bf-a29c-4aaf-9b9d-f381cc031caf",
     "regions": {
      "48060a55-9508-4916-8a45-e24eb7e2c2f6": {
       "attrs": {
        "height": 0.8,
        "width": 0.8,
        "x": 0.1,
        "y": 0.1
       },
       "content": {
        "cell": "b184e08d-fbbd-42b1-94b2-54d0e2735d47",
        "part": "whole"
       },
       "id": "48060a55-9508-4916-8a45-e24eb7e2c2f6"
      }
     }
    },
    "ce14db18-3217-4507-9ce4-f333020d91da": {
     "id": "ce14db18-3217-4507-9ce4-f333020d91da",
     "prev": "69dedea9-ab0c-4e5f-a0a7-344e425093b1",
     "regions": {
      "e4af0b3c-202a-4287-8b33-d26bb6a597a3": {
       "attrs": {
        "height": 0.8,
        "width": 0.8,
        "x": 0.1,
        "y": 0.1
       },
       "content": {
        "cell": "9cb97e93-f128-44cb-9a8b-edddefa30265",
        "part": "whole"
       },
       "id": "e4af0b3c-202a-4287-8b33-d26bb6a597a3"
      }
     }
    },
    "cf44a691-874c-4aa5-866a-9bb3f5fbd946": {
     "id": "cf44a691-874c-4aa5-866a-9bb3f5fbd946",
     "prev": "23f5eac0-d9e1-4c5c-ae42-bc9578a10731",
     "regions": {
      "b21f64c0-992b-43ea-91ac-c93cccf885fe": {
       "attrs": {
        "height": 0.8,
        "width": 0.8,
        "x": 0.1,
        "y": 0.1
       },
       "content": {
        "cell": "002c1b5d-f6ea-4ec6-be74-a44726e8b7cd",
        "part": "whole"
       },
       "id": "b21f64c0-992b-43ea-91ac-c93cccf885fe"
      }
     }
    },
    "d1c134eb-778e-476c-8303-d91cd2c754c8": {
     "id": "d1c134eb-778e-476c-8303-d91cd2c754c8",
     "prev": "6982f566-ca3f-4f1b-886a-9152eb6f3cff",
     "regions": {
      "b20752d9-a759-450b-b978-52316ad93e6d": {
       "attrs": {
        "height": 0.8,
        "width": 0.8,
        "x": 0.1,
        "y": 0.1
       },
       "content": {
        "cell": "a3e58fe3-f857-4159-b123-fb96605c02be",
        "part": "whole"
       },
       "id": "b20752d9-a759-450b-b978-52316ad93e6d"
      }
     }
    },
    "e40219a6-da5c-4998-9bee-56199b078d5b": {
     "id": "e40219a6-da5c-4998-9bee-56199b078d5b",
     "prev": "10c5f7b5-c5e0-4c4c-b9ec-157477e03348",
     "regions": {
      "1f9604eb-b48e-4980-a3c3-38246133ddb6": {
       "attrs": {
        "height": 0.8,
        "width": 0.8,
        "x": 0.1,
        "y": 0.1
       },
       "content": {
        "cell": "02a440d9-f2aa-405a-a521-e0552383970a",
        "part": "whole"
       },
       "id": "1f9604eb-b48e-4980-a3c3-38246133ddb6"
      }
     }
    },
    "e426506e-3e8e-4b85-9de0-6724247e1f97": {
     "id": "e426506e-3e8e-4b85-9de0-6724247e1f97",
     "prev": "5a9542c9-040e-4e80-9a58-f6ecf19102f1",
     "regions": {
      "ab964274-e6a7-4ffc-b978-064758e4e340": {
       "attrs": {
        "height": 0.8,
        "width": 0.8,
        "x": 0.1,
        "y": 0.1
       },
       "content": {
        "cell": "a9d0823a-1b6d-4595-9c86-bffa8cd6eb76",
        "part": "whole"
       },
       "id": "ab964274-e6a7-4ffc-b978-064758e4e340"
      }
     }
    },
    "e77363b2-f213-40b9-8dec-de4c29f8e81a": {
     "id": "e77363b2-f213-40b9-8dec-de4c29f8e81a",
     "prev": "04fc9d10-185a-4188-9d32-afe8f4a757ce",
     "regions": {
      "523c77fa-c834-4444-b55e-5c622b6fe815": {
       "attrs": {
        "height": 0.8,
        "width": 0.8,
        "x": 0.1,
        "y": 0.1
       },
       "content": {
        "cell": "80017401-ed2e-40dd-9b19-11cbefcae997",
        "part": "whole"
       },
       "id": "523c77fa-c834-4444-b55e-5c622b6fe815"
      }
     }
    },
    "e7a6d659-8f5e-4544-ac55-d5d6e2fa5335": {
     "id": "e7a6d659-8f5e-4544-ac55-d5d6e2fa5335",
     "prev": "5ef9ecfd-54e4-4d31-a0f1-62900da4831e",
     "regions": {
      "ed21a1fe-5833-4421-b43b-539252989d69": {
       "attrs": {
        "height": 0.8,
        "width": 0.8,
        "x": 0.1,
        "y": 0.1
       },
       "content": {
        "cell": "6d9a97f2-99c3-4c00-a19b-1a7c095557ab",
        "part": "whole"
       },
       "id": "ed21a1fe-5833-4421-b43b-539252989d69"
      }
     }
    },
    "ed137761-d2c8-4b0a-9dec-bdfafcb2bf06": {
     "id": "ed137761-d2c8-4b0a-9dec-bdfafcb2bf06",
     "prev": "fe4530df-2b73-469d-9fe3-0bc9af5b00c4",
     "regions": {
      "e8413fac-8de1-41ec-9098-6e3d131c8739": {
       "attrs": {
        "height": 0.8,
        "width": 0.8,
        "x": 0.1,
        "y": 0.1
       },
       "content": {
        "cell": "d36c2b9c-843a-4ef0-8d80-dddd2368386b",
        "part": "whole"
       },
       "id": "e8413fac-8de1-41ec-9098-6e3d131c8739"
      }
     }
    },
    "f3fdd70f-529d-4f14-bb5b-a14b4c69182f": {
     "id": "f3fdd70f-529d-4f14-bb5b-a14b4c69182f",
     "prev": "949fb718-e594-459e-bae8-5a148aa4657d",
     "regions": {
      "fe1cee56-64bf-4086-aa88-b05976e1a2a8": {
       "attrs": {
        "height": 0.8,
        "width": 0.8,
        "x": 0.1,
        "y": 0.1
       },
       "content": {
        "cell": "6c62466b-3cf2-4802-9800-400143fe71d2",
        "part": "whole"
       },
       "id": "fe1cee56-64bf-4086-aa88-b05976e1a2a8"
      }
     }
    },
    "f6530334-8954-4e25-a6bc-8dac23a973dc": {
     "id": "f6530334-8954-4e25-a6bc-8dac23a973dc",
     "prev": "3b9c224e-eecc-4bcc-912c-6b27d7fd9271",
     "regions": {
      "2860053d-1929-4672-8562-c1a1d0d41c94": {
       "attrs": {
        "height": 0.8,
        "width": 0.8,
        "x": 0.1,
        "y": 0.1
       },
       "content": {
        "cell": "732e1927-5582-4f60-8f4d-46631f6b3f27",
        "part": "whole"
       },
       "id": "2860053d-1929-4672-8562-c1a1d0d41c94"
      }
     }
    },
    "fe4530df-2b73-469d-9fe3-0bc9af5b00c4": {
     "id": "fe4530df-2b73-469d-9fe3-0bc9af5b00c4",
     "prev": "8b2ac229-565d-4e89-a6bb-60a30a5742a4",
     "regions": {
      "fa4e15dd-0c12-4b5f-82d0-9ab5c12eb018": {
       "attrs": {
        "height": 0.8,
        "width": 0.8,
        "x": 0.1,
        "y": 0.1
       },
       "content": {
        "cell": "31b8c937-1d70-42b9-b112-f0cba5d03a19",
        "part": "whole"
       },
       "id": "fa4e15dd-0c12-4b5f-82d0-9ab5c12eb018"
      }
     }
    }
   },
   "themes": {}
  },
  "toc": {
   "base_numbering": 1,
   "nav_menu": {},
   "number_sections": false,
   "sideBar": true,
   "skip_h1_title": false,
   "title_cell": "Table of Contents",
   "title_sidebar": "Contents",
   "toc_cell": false,
   "toc_position": {},
   "toc_section_display": true,
   "toc_window_display": false
  }
 },
 "nbformat": 4,
 "nbformat_minor": 1
}
