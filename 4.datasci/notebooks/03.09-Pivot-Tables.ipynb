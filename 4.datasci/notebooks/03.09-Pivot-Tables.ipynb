{
 "cells": [
  {
   "cell_type": "markdown",
   "metadata": {
    "nbpresent": {
     "id": "d8cc9731-0e5b-4783-aee3-7a68618e7340"
    },
    "slideshow": {
     "slide_type": "slide"
    }
   },
   "source": [
    "# Pivot Tables "
   ]
  },
  {
   "cell_type": "markdown",
   "metadata": {
    "nbpresent": {
     "id": "9bf1de4d-1fae-4bdb-b844-5ef6881aad57"
    },
    "slideshow": {
     "slide_type": "subslide"
    }
   },
   "source": [
    "The pivot table takes simple column-wise data as input, and groups the entries into a two-dimensional table that provides **a multidimensional summarization of the data**.\n",
    "- think of pivot tables as essentially a *multidimensional* version of ``GroupBy`` aggregation.\n",
    "    - To split-apply-combine across a two-dimensional grid."
   ]
  },
  {
   "cell_type": "markdown",
   "metadata": {
    "nbpresent": {
     "id": "3478133e-5848-4b41-9a5c-5f8bc3a92333"
    },
    "slideshow": {
     "slide_type": "slide"
    }
   },
   "source": [
    "<!--BOOK_INFORMATION-->\n",
    "<img align=\"left\" style=\"padding-right:10px;\" src=\"figures/PDSH-cover-small.png\">\n",
    "*This notebook contains an excerpt from the [Python Data Science Handbook](http://shop.oreilly.com/product/0636920034919.do) by Jake VanderPlas; the content is available [on GitHub](https://github.com/jakevdp/PythonDataScienceHandbook).*\n",
    "\n",
    "*The text is released under the [CC-BY-NC-ND license](https://creativecommons.org/licenses/by-nc-nd/3.0/us/legalcode), and code is released under the [MIT license](https://opensource.org/licenses/MIT). If you find this content useful, please consider supporting the work by [buying the book](http://shop.oreilly.com/product/0636920034919.do)!*"
   ]
  },
  {
   "cell_type": "markdown",
   "metadata": {
    "nbpresent": {
     "id": "3fd63ba4-0188-4c4f-a7c5-970f05f4d0ac"
    },
    "slideshow": {
     "slide_type": "fragment"
    }
   },
   "source": [
    "<!--NAVIGATION-->\n",
    "< [Aggregation and Grouping](03.08-Aggregation-and-Grouping.ipynb) | [Contents](Index.ipynb) | [Vectorized String Operations](03.10-Working-With-Strings.ipynb) >"
   ]
  },
  {
   "cell_type": "markdown",
   "metadata": {
    "nbpresent": {
     "id": "0cda9fb9-91a9-4735-a403-328171467eba"
    },
    "slideshow": {
     "slide_type": "slide"
    }
   },
   "source": [
    "## Motivating Pivot Tables\n",
    "\n",
    "For the examples in this section, we'll use the database of passengers on the *Titanic*, available through the Seaborn library (see [Visualization With Seaborn](04.14-Visualization-With-Seaborn.ipynb)):"
   ]
  },
  {
   "cell_type": "code",
   "execution_count": 1,
   "metadata": {
    "ExecuteTime": {
     "end_time": "2019-06-09T03:08:33.313950Z",
     "start_time": "2019-06-09T03:08:32.054374Z"
    },
    "nbpresent": {
     "id": "a8755c5f-5f60-4e08-8160-29f8885ceff2"
    },
    "slideshow": {
     "slide_type": "subslide"
    }
   },
   "outputs": [],
   "source": [
    "import numpy as np\n",
    "import pandas as pd\n",
    "import seaborn as sns\n",
    "titanic = sns.load_dataset('titanic')"
   ]
  },
  {
   "cell_type": "code",
   "execution_count": 2,
   "metadata": {
    "ExecuteTime": {
     "end_time": "2019-06-09T03:08:34.909881Z",
     "start_time": "2019-06-09T03:08:34.886027Z"
    },
    "nbpresent": {
     "id": "f209435f-28fc-4330-ae04-b070944bc34f"
    },
    "slideshow": {
     "slide_type": "subslide"
    }
   },
   "outputs": [
    {
     "data": {
      "text/html": [
       "<div>\n",
       "<style scoped>\n",
       "    .dataframe tbody tr th:only-of-type {\n",
       "        vertical-align: middle;\n",
       "    }\n",
       "\n",
       "    .dataframe tbody tr th {\n",
       "        vertical-align: top;\n",
       "    }\n",
       "\n",
       "    .dataframe thead th {\n",
       "        text-align: right;\n",
       "    }\n",
       "</style>\n",
       "<table border=\"1\" class=\"dataframe\">\n",
       "  <thead>\n",
       "    <tr style=\"text-align: right;\">\n",
       "      <th></th>\n",
       "      <th>survived</th>\n",
       "      <th>pclass</th>\n",
       "      <th>sex</th>\n",
       "      <th>age</th>\n",
       "      <th>sibsp</th>\n",
       "      <th>parch</th>\n",
       "      <th>fare</th>\n",
       "      <th>embarked</th>\n",
       "      <th>class</th>\n",
       "      <th>who</th>\n",
       "      <th>adult_male</th>\n",
       "      <th>deck</th>\n",
       "      <th>embark_town</th>\n",
       "      <th>alive</th>\n",
       "      <th>alone</th>\n",
       "    </tr>\n",
       "  </thead>\n",
       "  <tbody>\n",
       "    <tr>\n",
       "      <th>0</th>\n",
       "      <td>0</td>\n",
       "      <td>3</td>\n",
       "      <td>male</td>\n",
       "      <td>22.0</td>\n",
       "      <td>1</td>\n",
       "      <td>0</td>\n",
       "      <td>7.2500</td>\n",
       "      <td>S</td>\n",
       "      <td>Third</td>\n",
       "      <td>man</td>\n",
       "      <td>True</td>\n",
       "      <td>NaN</td>\n",
       "      <td>Southampton</td>\n",
       "      <td>no</td>\n",
       "      <td>False</td>\n",
       "    </tr>\n",
       "    <tr>\n",
       "      <th>1</th>\n",
       "      <td>1</td>\n",
       "      <td>1</td>\n",
       "      <td>female</td>\n",
       "      <td>38.0</td>\n",
       "      <td>1</td>\n",
       "      <td>0</td>\n",
       "      <td>71.2833</td>\n",
       "      <td>C</td>\n",
       "      <td>First</td>\n",
       "      <td>woman</td>\n",
       "      <td>False</td>\n",
       "      <td>C</td>\n",
       "      <td>Cherbourg</td>\n",
       "      <td>yes</td>\n",
       "      <td>False</td>\n",
       "    </tr>\n",
       "    <tr>\n",
       "      <th>2</th>\n",
       "      <td>1</td>\n",
       "      <td>3</td>\n",
       "      <td>female</td>\n",
       "      <td>26.0</td>\n",
       "      <td>0</td>\n",
       "      <td>0</td>\n",
       "      <td>7.9250</td>\n",
       "      <td>S</td>\n",
       "      <td>Third</td>\n",
       "      <td>woman</td>\n",
       "      <td>False</td>\n",
       "      <td>NaN</td>\n",
       "      <td>Southampton</td>\n",
       "      <td>yes</td>\n",
       "      <td>True</td>\n",
       "    </tr>\n",
       "    <tr>\n",
       "      <th>3</th>\n",
       "      <td>1</td>\n",
       "      <td>1</td>\n",
       "      <td>female</td>\n",
       "      <td>35.0</td>\n",
       "      <td>1</td>\n",
       "      <td>0</td>\n",
       "      <td>53.1000</td>\n",
       "      <td>S</td>\n",
       "      <td>First</td>\n",
       "      <td>woman</td>\n",
       "      <td>False</td>\n",
       "      <td>C</td>\n",
       "      <td>Southampton</td>\n",
       "      <td>yes</td>\n",
       "      <td>False</td>\n",
       "    </tr>\n",
       "    <tr>\n",
       "      <th>4</th>\n",
       "      <td>0</td>\n",
       "      <td>3</td>\n",
       "      <td>male</td>\n",
       "      <td>35.0</td>\n",
       "      <td>0</td>\n",
       "      <td>0</td>\n",
       "      <td>8.0500</td>\n",
       "      <td>S</td>\n",
       "      <td>Third</td>\n",
       "      <td>man</td>\n",
       "      <td>True</td>\n",
       "      <td>NaN</td>\n",
       "      <td>Southampton</td>\n",
       "      <td>no</td>\n",
       "      <td>True</td>\n",
       "    </tr>\n",
       "  </tbody>\n",
       "</table>\n",
       "</div>"
      ],
      "text/plain": [
       "   survived  pclass     sex   age  sibsp  parch     fare embarked  class  \\\n",
       "0         0       3    male  22.0      1      0   7.2500        S  Third   \n",
       "1         1       1  female  38.0      1      0  71.2833        C  First   \n",
       "2         1       3  female  26.0      0      0   7.9250        S  Third   \n",
       "3         1       1  female  35.0      1      0  53.1000        S  First   \n",
       "4         0       3    male  35.0      0      0   8.0500        S  Third   \n",
       "\n",
       "     who  adult_male deck  embark_town alive  alone  \n",
       "0    man        True  NaN  Southampton    no  False  \n",
       "1  woman       False    C    Cherbourg   yes  False  \n",
       "2  woman       False  NaN  Southampton   yes   True  \n",
       "3  woman       False    C  Southampton   yes  False  \n",
       "4    man        True  NaN  Southampton    no   True  "
      ]
     },
     "execution_count": 2,
     "metadata": {},
     "output_type": "execute_result"
    }
   ],
   "source": [
    "titanic.head()"
   ]
  },
  {
   "cell_type": "markdown",
   "metadata": {
    "nbpresent": {
     "id": "a1797023-9c70-48f1-baf2-798c9ad826e4"
    },
    "slideshow": {
     "slide_type": "subslide"
    }
   },
   "source": [
    "This contains a wealth of information on each passenger of that ill-fated voyage, including gender, age, class, fare paid, and much more."
   ]
  },
  {
   "cell_type": "code",
   "execution_count": 4,
   "metadata": {
    "ExecuteTime": {
     "end_time": "2019-06-09T03:08:47.672136Z",
     "start_time": "2019-06-09T03:08:47.667541Z"
    },
    "slideshow": {
     "slide_type": "fragment"
    }
   },
   "outputs": [
    {
     "data": {
      "text/plain": [
       "(891, 15)"
      ]
     },
     "execution_count": 4,
     "metadata": {},
     "output_type": "execute_result"
    }
   ],
   "source": [
    "titanic.shape"
   ]
  },
  {
   "cell_type": "markdown",
   "metadata": {
    "nbpresent": {
     "id": "7da726fd-3214-4863-bdbc-1968bd901b78"
    },
    "slideshow": {
     "slide_type": "slide"
    }
   },
   "source": [
    "## Pivot Tables by Hand\n",
    "\n",
    "Let's begin by grouping according to gender, survival status."
   ]
  },
  {
   "cell_type": "code",
   "execution_count": 28,
   "metadata": {
    "ExecuteTime": {
     "end_time": "2018-12-13T13:21:40.135526Z",
     "start_time": "2018-12-13T13:21:40.126574Z"
    },
    "nbpresent": {
     "id": "442f62aa-4632-4e3d-a8c9-86d38abce329"
    },
    "slideshow": {
     "slide_type": "fragment"
    }
   },
   "outputs": [
    {
     "data": {
      "text/html": [
       "<div>\n",
       "<table border=\"1\" class=\"dataframe\">\n",
       "  <thead>\n",
       "    <tr style=\"text-align: right;\">\n",
       "      <th></th>\n",
       "      <th>survived</th>\n",
       "    </tr>\n",
       "    <tr>\n",
       "      <th>sex</th>\n",
       "      <th></th>\n",
       "    </tr>\n",
       "  </thead>\n",
       "  <tbody>\n",
       "    <tr>\n",
       "      <th>female</th>\n",
       "      <td>0.742038</td>\n",
       "    </tr>\n",
       "    <tr>\n",
       "      <th>male</th>\n",
       "      <td>0.188908</td>\n",
       "    </tr>\n",
       "  </tbody>\n",
       "</table>\n",
       "</div>"
      ],
      "text/plain": [
       "        survived\n",
       "sex             \n",
       "female  0.742038\n",
       "male    0.188908"
      ]
     },
     "execution_count": 28,
     "metadata": {},
     "output_type": "execute_result"
    }
   ],
   "source": [
    "titanic.groupby('sex')[['survived']].mean()"
   ]
  },
  {
   "cell_type": "markdown",
   "metadata": {
    "nbpresent": {
     "id": "d37fd56d-fbcc-48d7-a3fd-eb7d3fe0a0e0"
    },
    "slideshow": {
     "slide_type": "subslide"
    }
   },
   "source": [
    "This immediately gives us some insight: \n",
    "- three of every four females on board survived, while only one in five males survived!\n",
    "- go one step deeper and look at survival by both sex and class."
   ]
  },
  {
   "cell_type": "code",
   "execution_count": 29,
   "metadata": {
    "ExecuteTime": {
     "end_time": "2018-12-13T13:21:40.161558Z",
     "start_time": "2018-12-13T13:21:40.148806Z"
    },
    "nbpresent": {
     "id": "ad5363d9-9f5a-4181-bebf-f9eb29f046f8"
    },
    "slideshow": {
     "slide_type": "fragment"
    }
   },
   "outputs": [
    {
     "data": {
      "text/html": [
       "<div>\n",
       "<table border=\"1\" class=\"dataframe\">\n",
       "  <thead>\n",
       "    <tr style=\"text-align: right;\">\n",
       "      <th>class</th>\n",
       "      <th>First</th>\n",
       "      <th>Second</th>\n",
       "      <th>Third</th>\n",
       "    </tr>\n",
       "    <tr>\n",
       "      <th>sex</th>\n",
       "      <th></th>\n",
       "      <th></th>\n",
       "      <th></th>\n",
       "    </tr>\n",
       "  </thead>\n",
       "  <tbody>\n",
       "    <tr>\n",
       "      <th>female</th>\n",
       "      <td>0.968085</td>\n",
       "      <td>0.921053</td>\n",
       "      <td>0.500000</td>\n",
       "    </tr>\n",
       "    <tr>\n",
       "      <th>male</th>\n",
       "      <td>0.368852</td>\n",
       "      <td>0.157407</td>\n",
       "      <td>0.135447</td>\n",
       "    </tr>\n",
       "  </tbody>\n",
       "</table>\n",
       "</div>"
      ],
      "text/plain": [
       "class      First    Second     Third\n",
       "sex                                 \n",
       "female  0.968085  0.921053  0.500000\n",
       "male    0.368852  0.157407  0.135447"
      ]
     },
     "execution_count": 29,
     "metadata": {},
     "output_type": "execute_result"
    }
   ],
   "source": [
    "titanic.groupby(['sex', 'class'])['survived'].aggregate('mean').unstack()"
   ]
  },
  {
   "cell_type": "markdown",
   "metadata": {
    "nbpresent": {
     "id": "4c2756c0-ad55-4e04-a1e9-0c1544d1ec36"
    },
    "slideshow": {
     "slide_type": "subslide"
    }
   },
   "source": [
    "Pandas includes a convenience routine, ``pivot_table``\n",
    "- which succinctly handles this type of **multi-dimensional aggregation**."
   ]
  },
  {
   "cell_type": "markdown",
   "metadata": {
    "nbpresent": {
     "id": "7645c1c7-140d-4530-99f3-3dfc22d1c7c8"
    },
    "slideshow": {
     "slide_type": "slide"
    }
   },
   "source": [
    "## Pivot Table Syntax\n",
    "\n",
    "Here is the equivalent to the preceding operation using the ``pivot_table`` method of ``DataFrame``s:"
   ]
  },
  {
   "cell_type": "code",
   "execution_count": 30,
   "metadata": {
    "ExecuteTime": {
     "end_time": "2018-12-13T13:21:40.204891Z",
     "start_time": "2018-12-13T13:21:40.186631Z"
    },
    "nbpresent": {
     "id": "47b63f8b-0e0f-41b5-835a-51cf62432be9"
    },
    "slideshow": {
     "slide_type": "subslide"
    }
   },
   "outputs": [
    {
     "data": {
      "text/html": [
       "<div>\n",
       "<table border=\"1\" class=\"dataframe\">\n",
       "  <thead>\n",
       "    <tr style=\"text-align: right;\">\n",
       "      <th>class</th>\n",
       "      <th>First</th>\n",
       "      <th>Second</th>\n",
       "      <th>Third</th>\n",
       "    </tr>\n",
       "    <tr>\n",
       "      <th>sex</th>\n",
       "      <th></th>\n",
       "      <th></th>\n",
       "      <th></th>\n",
       "    </tr>\n",
       "  </thead>\n",
       "  <tbody>\n",
       "    <tr>\n",
       "      <th>female</th>\n",
       "      <td>0.968085</td>\n",
       "      <td>0.921053</td>\n",
       "      <td>0.500000</td>\n",
       "    </tr>\n",
       "    <tr>\n",
       "      <th>male</th>\n",
       "      <td>0.368852</td>\n",
       "      <td>0.157407</td>\n",
       "      <td>0.135447</td>\n",
       "    </tr>\n",
       "  </tbody>\n",
       "</table>\n",
       "</div>"
      ],
      "text/plain": [
       "class      First    Second     Third\n",
       "sex                                 \n",
       "female  0.968085  0.921053  0.500000\n",
       "male    0.368852  0.157407  0.135447"
      ]
     },
     "execution_count": 30,
     "metadata": {},
     "output_type": "execute_result"
    }
   ],
   "source": [
    "titanic.pivot_table('survived', index='sex', columns='class')"
   ]
  },
  {
   "cell_type": "markdown",
   "metadata": {
    "nbpresent": {
     "id": "4c808740-63a3-47f2-a0a8-43c14d8cbe86"
    },
    "slideshow": {
     "slide_type": "subslide"
    }
   },
   "source": [
    "This is eminently more readable than the ``groupby`` approach, \n",
    "- the survival gradient favors both women and higher classes.\n",
    "    - First-class women survived with near certainty (hi, Rose!), \n",
    "    - while only one in ten third-class men survived (sorry, Jack!)."
   ]
  },
  {
   "cell_type": "markdown",
   "metadata": {
    "nbpresent": {
     "id": "ce68c61a-513c-4f81-99d9-496d08ddb4d0"
    },
    "slideshow": {
     "slide_type": "slide"
    }
   },
   "source": [
    "### Multi-level pivot tables\n",
    "\n",
    "Just as in the ``GroupBy``, the grouping in pivot tables can be specified with multiple levels, and via a number of options.\n",
    "For example, we might be interested in looking at age as a third dimension.\n",
    "We'll bin the age using the ``pd.cut`` function:"
   ]
  },
  {
   "cell_type": "code",
   "execution_count": 31,
   "metadata": {
    "ExecuteTime": {
     "end_time": "2018-12-13T13:21:40.247713Z",
     "start_time": "2018-12-13T13:21:40.222798Z"
    },
    "nbpresent": {
     "id": "3580c5cf-46f1-4276-b007-0fb89817d307"
    },
    "slideshow": {
     "slide_type": "subslide"
    }
   },
   "outputs": [
    {
     "data": {
      "text/html": [
       "<div>\n",
       "<table border=\"1\" class=\"dataframe\">\n",
       "  <thead>\n",
       "    <tr style=\"text-align: right;\">\n",
       "      <th></th>\n",
       "      <th>class</th>\n",
       "      <th>First</th>\n",
       "      <th>Second</th>\n",
       "      <th>Third</th>\n",
       "    </tr>\n",
       "    <tr>\n",
       "      <th>sex</th>\n",
       "      <th>age</th>\n",
       "      <th></th>\n",
       "      <th></th>\n",
       "      <th></th>\n",
       "    </tr>\n",
       "  </thead>\n",
       "  <tbody>\n",
       "    <tr>\n",
       "      <th rowspan=\"2\" valign=\"top\">female</th>\n",
       "      <th>(0, 18]</th>\n",
       "      <td>0.909091</td>\n",
       "      <td>1.000000</td>\n",
       "      <td>0.511628</td>\n",
       "    </tr>\n",
       "    <tr>\n",
       "      <th>(18, 80]</th>\n",
       "      <td>0.972973</td>\n",
       "      <td>0.900000</td>\n",
       "      <td>0.423729</td>\n",
       "    </tr>\n",
       "    <tr>\n",
       "      <th rowspan=\"2\" valign=\"top\">male</th>\n",
       "      <th>(0, 18]</th>\n",
       "      <td>0.800000</td>\n",
       "      <td>0.600000</td>\n",
       "      <td>0.215686</td>\n",
       "    </tr>\n",
       "    <tr>\n",
       "      <th>(18, 80]</th>\n",
       "      <td>0.375000</td>\n",
       "      <td>0.071429</td>\n",
       "      <td>0.133663</td>\n",
       "    </tr>\n",
       "  </tbody>\n",
       "</table>\n",
       "</div>"
      ],
      "text/plain": [
       "class               First    Second     Third\n",
       "sex    age                                   \n",
       "female (0, 18]   0.909091  1.000000  0.511628\n",
       "       (18, 80]  0.972973  0.900000  0.423729\n",
       "male   (0, 18]   0.800000  0.600000  0.215686\n",
       "       (18, 80]  0.375000  0.071429  0.133663"
      ]
     },
     "execution_count": 31,
     "metadata": {},
     "output_type": "execute_result"
    }
   ],
   "source": [
    "age = pd.cut(titanic['age'], [0, 18, 80])\n",
    "titanic.pivot_table('survived', ['sex', age], 'class')"
   ]
  },
  {
   "cell_type": "markdown",
   "metadata": {
    "nbpresent": {
     "id": "fff5e681-4f89-449c-9ff0-127206f2d854"
    },
    "slideshow": {
     "slide_type": "subslide"
    }
   },
   "source": [
    "We can apply the same strategy when working with the columns as well; \n",
    "- let's add info on the fare paid using ``pd.qcut`` to automatically compute quantiles:"
   ]
  },
  {
   "cell_type": "code",
   "execution_count": 32,
   "metadata": {
    "ExecuteTime": {
     "end_time": "2018-12-13T13:21:40.278221Z",
     "start_time": "2018-12-13T13:21:40.250016Z"
    },
    "nbpresent": {
     "id": "f74d23bd-2d1a-45ba-9e60-7158a300d642"
    },
    "slideshow": {
     "slide_type": "subslide"
    }
   },
   "outputs": [
    {
     "data": {
      "text/html": [
       "<div>\n",
       "<table border=\"1\" class=\"dataframe\">\n",
       "  <thead>\n",
       "    <tr>\n",
       "      <th></th>\n",
       "      <th>fare</th>\n",
       "      <th colspan=\"3\" halign=\"left\">[0, 14.454]</th>\n",
       "      <th colspan=\"3\" halign=\"left\">(14.454, 512.329]</th>\n",
       "    </tr>\n",
       "    <tr>\n",
       "      <th></th>\n",
       "      <th>class</th>\n",
       "      <th>First</th>\n",
       "      <th>Second</th>\n",
       "      <th>Third</th>\n",
       "      <th>First</th>\n",
       "      <th>Second</th>\n",
       "      <th>Third</th>\n",
       "    </tr>\n",
       "    <tr>\n",
       "      <th>sex</th>\n",
       "      <th>age</th>\n",
       "      <th></th>\n",
       "      <th></th>\n",
       "      <th></th>\n",
       "      <th></th>\n",
       "      <th></th>\n",
       "      <th></th>\n",
       "    </tr>\n",
       "  </thead>\n",
       "  <tbody>\n",
       "    <tr>\n",
       "      <th rowspan=\"2\" valign=\"top\">female</th>\n",
       "      <th>(0, 18]</th>\n",
       "      <td>NaN</td>\n",
       "      <td>1.000000</td>\n",
       "      <td>0.714286</td>\n",
       "      <td>0.909091</td>\n",
       "      <td>1.000000</td>\n",
       "      <td>0.318182</td>\n",
       "    </tr>\n",
       "    <tr>\n",
       "      <th>(18, 80]</th>\n",
       "      <td>NaN</td>\n",
       "      <td>0.880000</td>\n",
       "      <td>0.444444</td>\n",
       "      <td>0.972973</td>\n",
       "      <td>0.914286</td>\n",
       "      <td>0.391304</td>\n",
       "    </tr>\n",
       "    <tr>\n",
       "      <th rowspan=\"2\" valign=\"top\">male</th>\n",
       "      <th>(0, 18]</th>\n",
       "      <td>NaN</td>\n",
       "      <td>0.000000</td>\n",
       "      <td>0.260870</td>\n",
       "      <td>0.800000</td>\n",
       "      <td>0.818182</td>\n",
       "      <td>0.178571</td>\n",
       "    </tr>\n",
       "    <tr>\n",
       "      <th>(18, 80]</th>\n",
       "      <td>0.0</td>\n",
       "      <td>0.098039</td>\n",
       "      <td>0.125000</td>\n",
       "      <td>0.391304</td>\n",
       "      <td>0.030303</td>\n",
       "      <td>0.192308</td>\n",
       "    </tr>\n",
       "  </tbody>\n",
       "</table>\n",
       "</div>"
      ],
      "text/plain": [
       "fare            [0, 14.454]                     (14.454, 512.329]            \\\n",
       "class                 First    Second     Third             First    Second   \n",
       "sex    age                                                                    \n",
       "female (0, 18]          NaN  1.000000  0.714286          0.909091  1.000000   \n",
       "       (18, 80]         NaN  0.880000  0.444444          0.972973  0.914286   \n",
       "male   (0, 18]          NaN  0.000000  0.260870          0.800000  0.818182   \n",
       "       (18, 80]         0.0  0.098039  0.125000          0.391304  0.030303   \n",
       "\n",
       "fare                       \n",
       "class               Third  \n",
       "sex    age                 \n",
       "female (0, 18]   0.318182  \n",
       "       (18, 80]  0.391304  \n",
       "male   (0, 18]   0.178571  \n",
       "       (18, 80]  0.192308  "
      ]
     },
     "execution_count": 32,
     "metadata": {},
     "output_type": "execute_result"
    }
   ],
   "source": [
    "fare = pd.qcut(titanic['fare'], 2)\n",
    "titanic.pivot_table('survived', ['sex', age], [fare, 'class'])"
   ]
  },
  {
   "cell_type": "markdown",
   "metadata": {
    "nbpresent": {
     "id": "df00c893-600a-4b0c-8443-af7de3289795"
    },
    "slideshow": {
     "slide_type": "fragment"
    }
   },
   "source": [
    "The result is a four-dimensional aggregation with hierarchical indices (see [Hierarchical Indexing](03.05-Hierarchical-Indexing.ipynb))"
   ]
  },
  {
   "cell_type": "markdown",
   "metadata": {
    "nbpresent": {
     "id": "d18df46f-ea68-4fda-a34d-f3e30f62aa9b"
    },
    "slideshow": {
     "slide_type": "slide"
    }
   },
   "source": [
    "### Additional pivot table options\n",
    "\n",
    "The full call signature of the ``pivot_table`` method of ``DataFrame``s is as follows:\n",
    "\n",
    "```python\n",
    "# call signature as of Pandas 0.18\n",
    "DataFrame.pivot_table(data, values=None, index=None, columns=None,\n",
    "                      aggfunc='mean', fill_value=None, margins=False,\n",
    "                      dropna=True, margins_name='All')\n",
    "```\n"
   ]
  },
  {
   "cell_type": "markdown",
   "metadata": {
    "slideshow": {
     "slide_type": "subslide"
    }
   },
   "source": [
    "### Additional pivot table options\n",
    "\n",
    "- ``fill_value`` and ``dropna``do with missing data \n",
    "- The ``aggfunc`` keyword controls what type of aggregation is applied, which is a mean by default.\n",
    "    - one of several common choices (e.g., ``'sum'``, ``'mean'``, ``'count'``, ``'min'``, ``'max'``, etc.) or a function that implements an aggregation (e.g., ``np.sum()``, ``min()``, ``sum()``, etc.).\n",
    "- Additionally, it can be specified as a dictionary mapping a column to any of the above desired options:"
   ]
  },
  {
   "cell_type": "code",
   "execution_count": 33,
   "metadata": {
    "ExecuteTime": {
     "end_time": "2018-12-13T13:21:40.308186Z",
     "start_time": "2018-12-13T13:21:40.289053Z"
    },
    "nbpresent": {
     "id": "047e06d9-d6c3-4e52-8d83-bd9975f8c192"
    },
    "slideshow": {
     "slide_type": "subslide"
    }
   },
   "outputs": [
    {
     "data": {
      "text/html": [
       "<div>\n",
       "<table border=\"1\" class=\"dataframe\">\n",
       "  <thead>\n",
       "    <tr>\n",
       "      <th></th>\n",
       "      <th colspan=\"3\" halign=\"left\">fare</th>\n",
       "      <th colspan=\"3\" halign=\"left\">survived</th>\n",
       "    </tr>\n",
       "    <tr>\n",
       "      <th>class</th>\n",
       "      <th>First</th>\n",
       "      <th>Second</th>\n",
       "      <th>Third</th>\n",
       "      <th>First</th>\n",
       "      <th>Second</th>\n",
       "      <th>Third</th>\n",
       "    </tr>\n",
       "    <tr>\n",
       "      <th>sex</th>\n",
       "      <th></th>\n",
       "      <th></th>\n",
       "      <th></th>\n",
       "      <th></th>\n",
       "      <th></th>\n",
       "      <th></th>\n",
       "    </tr>\n",
       "  </thead>\n",
       "  <tbody>\n",
       "    <tr>\n",
       "      <th>female</th>\n",
       "      <td>106.125798</td>\n",
       "      <td>21.970121</td>\n",
       "      <td>16.118810</td>\n",
       "      <td>91.0</td>\n",
       "      <td>70.0</td>\n",
       "      <td>72.0</td>\n",
       "    </tr>\n",
       "    <tr>\n",
       "      <th>male</th>\n",
       "      <td>67.226127</td>\n",
       "      <td>19.741782</td>\n",
       "      <td>12.661633</td>\n",
       "      <td>45.0</td>\n",
       "      <td>17.0</td>\n",
       "      <td>47.0</td>\n",
       "    </tr>\n",
       "  </tbody>\n",
       "</table>\n",
       "</div>"
      ],
      "text/plain": [
       "              fare                       survived             \n",
       "class        First     Second      Third    First Second Third\n",
       "sex                                                           \n",
       "female  106.125798  21.970121  16.118810     91.0   70.0  72.0\n",
       "male     67.226127  19.741782  12.661633     45.0   17.0  47.0"
      ]
     },
     "execution_count": 33,
     "metadata": {},
     "output_type": "execute_result"
    }
   ],
   "source": [
    "titanic.pivot_table(index='sex', columns='class',\n",
    "                    aggfunc={'survived':sum, 'fare':'mean'})"
   ]
  },
  {
   "cell_type": "markdown",
   "metadata": {
    "nbpresent": {
     "id": "5b23b2a6-8f4e-4a3b-bbb5-f0524334b044"
    },
    "slideshow": {
     "slide_type": "fragment"
    }
   },
   "source": [
    "Notice also here that we've omitted the ``values`` keyword; \n",
    "- when specifying a mapping for ``aggfunc``, this is determined automatically."
   ]
  },
  {
   "cell_type": "markdown",
   "metadata": {
    "collapsed": true,
    "nbpresent": {
     "id": "61b339ae-3521-4bf5-a70c-1650cba78b91"
    },
    "slideshow": {
     "slide_type": "subslide"
    }
   },
   "source": [
    "At times it's useful to compute totals along each grouping.\n",
    "This can be done via the ``margins`` keyword:"
   ]
  },
  {
   "cell_type": "code",
   "execution_count": 34,
   "metadata": {
    "ExecuteTime": {
     "end_time": "2018-12-13T13:21:40.359931Z",
     "start_time": "2018-12-13T13:21:40.329769Z"
    },
    "nbpresent": {
     "id": "6b8fd46b-98ac-4049-8be7-9669b0f31a91"
    },
    "slideshow": {
     "slide_type": "fragment"
    }
   },
   "outputs": [
    {
     "data": {
      "text/html": [
       "<div>\n",
       "<table border=\"1\" class=\"dataframe\">\n",
       "  <thead>\n",
       "    <tr style=\"text-align: right;\">\n",
       "      <th>class</th>\n",
       "      <th>First</th>\n",
       "      <th>Second</th>\n",
       "      <th>Third</th>\n",
       "      <th>All</th>\n",
       "    </tr>\n",
       "    <tr>\n",
       "      <th>sex</th>\n",
       "      <th></th>\n",
       "      <th></th>\n",
       "      <th></th>\n",
       "      <th></th>\n",
       "    </tr>\n",
       "  </thead>\n",
       "  <tbody>\n",
       "    <tr>\n",
       "      <th>female</th>\n",
       "      <td>0.968085</td>\n",
       "      <td>0.921053</td>\n",
       "      <td>0.500000</td>\n",
       "      <td>0.742038</td>\n",
       "    </tr>\n",
       "    <tr>\n",
       "      <th>male</th>\n",
       "      <td>0.368852</td>\n",
       "      <td>0.157407</td>\n",
       "      <td>0.135447</td>\n",
       "      <td>0.188908</td>\n",
       "    </tr>\n",
       "    <tr>\n",
       "      <th>All</th>\n",
       "      <td>0.629630</td>\n",
       "      <td>0.472826</td>\n",
       "      <td>0.242363</td>\n",
       "      <td>0.383838</td>\n",
       "    </tr>\n",
       "  </tbody>\n",
       "</table>\n",
       "</div>"
      ],
      "text/plain": [
       "class      First    Second     Third       All\n",
       "sex                                           \n",
       "female  0.968085  0.921053  0.500000  0.742038\n",
       "male    0.368852  0.157407  0.135447  0.188908\n",
       "All     0.629630  0.472826  0.242363  0.383838"
      ]
     },
     "execution_count": 34,
     "metadata": {},
     "output_type": "execute_result"
    }
   ],
   "source": [
    "titanic.pivot_table('survived', index='sex', columns='class', margins=True)"
   ]
  },
  {
   "cell_type": "markdown",
   "metadata": {
    "nbpresent": {
     "id": "0b06b27d-470e-4a2e-a8b5-89d138f4fdc1"
    },
    "slideshow": {
     "slide_type": "subslide"
    }
   },
   "source": [
    "Here this automatically gives us information about \n",
    "- the class-agnostic survival rate by gender, \n",
    "- the gender-agnostic survival rate by class,  \n",
    "- the overall survival rate of 38%.\n",
    "\n",
    "The margin label can be specified with the ``margins_name`` keyword, which defaults to ``\"All\"``."
   ]
  },
  {
   "cell_type": "markdown",
   "metadata": {
    "nbpresent": {
     "id": "255ecb47-30ce-488b-894e-0c7fe3743424"
    },
    "slideshow": {
     "slide_type": "slide"
    }
   },
   "source": [
    "## Example: Birthrate Data\n",
    "\n",
    "the freely available data on births in the United States, provided by the Centers for Disease Control (CDC).\n",
    "- This data can be found at https://raw.githubusercontent.com/jakevdp/data-CDCbirths/master/births.csv\n",
    "- this dataset has been analyzed rather extensively by Andrew Gelman and his group; see, for example, [this blog post](http://andrewgelman.com/2012/06/14/cool-ass-signal-processing-using-gaussian-processes/)"
   ]
  },
  {
   "cell_type": "code",
   "execution_count": 35,
   "metadata": {
    "ExecuteTime": {
     "end_time": "2018-12-13T13:21:40.370386Z",
     "start_time": "2018-12-13T13:21:40.367611Z"
    },
    "nbpresent": {
     "id": "b1c2ec9f-d2ea-48a1-8f88-3fb5183f0989"
    },
    "slideshow": {
     "slide_type": "subslide"
    }
   },
   "outputs": [],
   "source": [
    "# shell command to download the data:\n",
    "#!curl -O https://raw.githubusercontent.com/jakevdp/data-CDCbirths/master/births.csv"
   ]
  },
  {
   "cell_type": "code",
   "execution_count": 36,
   "metadata": {
    "ExecuteTime": {
     "end_time": "2018-12-13T13:21:40.385212Z",
     "start_time": "2018-12-13T13:21:40.372401Z"
    },
    "nbpresent": {
     "id": "35fa60bf-1f55-4b3f-a787-d572cf2e7511"
    },
    "slideshow": {
     "slide_type": "subslide"
    }
   },
   "outputs": [],
   "source": [
    "births = pd.read_csv('data/births.csv')"
   ]
  },
  {
   "cell_type": "code",
   "execution_count": 37,
   "metadata": {
    "ExecuteTime": {
     "end_time": "2018-12-13T13:21:40.403461Z",
     "start_time": "2018-12-13T13:21:40.393269Z"
    },
    "nbpresent": {
     "id": "c4a5e9d8-4bf3-4259-ab4f-d5569a8e55d7"
    },
    "slideshow": {
     "slide_type": "subslide"
    }
   },
   "outputs": [
    {
     "data": {
      "text/html": [
       "<div>\n",
       "<table border=\"1\" class=\"dataframe\">\n",
       "  <thead>\n",
       "    <tr style=\"text-align: right;\">\n",
       "      <th></th>\n",
       "      <th>year</th>\n",
       "      <th>month</th>\n",
       "      <th>day</th>\n",
       "      <th>gender</th>\n",
       "      <th>births</th>\n",
       "    </tr>\n",
       "  </thead>\n",
       "  <tbody>\n",
       "    <tr>\n",
       "      <th>0</th>\n",
       "      <td>1969</td>\n",
       "      <td>1</td>\n",
       "      <td>1</td>\n",
       "      <td>F</td>\n",
       "      <td>4046</td>\n",
       "    </tr>\n",
       "    <tr>\n",
       "      <th>1</th>\n",
       "      <td>1969</td>\n",
       "      <td>1</td>\n",
       "      <td>1</td>\n",
       "      <td>M</td>\n",
       "      <td>4440</td>\n",
       "    </tr>\n",
       "    <tr>\n",
       "      <th>2</th>\n",
       "      <td>1969</td>\n",
       "      <td>1</td>\n",
       "      <td>2</td>\n",
       "      <td>F</td>\n",
       "      <td>4454</td>\n",
       "    </tr>\n",
       "    <tr>\n",
       "      <th>3</th>\n",
       "      <td>1969</td>\n",
       "      <td>1</td>\n",
       "      <td>2</td>\n",
       "      <td>M</td>\n",
       "      <td>4548</td>\n",
       "    </tr>\n",
       "    <tr>\n",
       "      <th>4</th>\n",
       "      <td>1969</td>\n",
       "      <td>1</td>\n",
       "      <td>3</td>\n",
       "      <td>F</td>\n",
       "      <td>4548</td>\n",
       "    </tr>\n",
       "  </tbody>\n",
       "</table>\n",
       "</div>"
      ],
      "text/plain": [
       "   year  month day gender  births\n",
       "0  1969      1   1      F    4046\n",
       "1  1969      1   1      M    4440\n",
       "2  1969      1   2      F    4454\n",
       "3  1969      1   2      M    4548\n",
       "4  1969      1   3      F    4548"
      ]
     },
     "execution_count": 37,
     "metadata": {},
     "output_type": "execute_result"
    }
   ],
   "source": [
    "births.head()"
   ]
  },
  {
   "cell_type": "markdown",
   "metadata": {
    "nbpresent": {
     "id": "8cb19b6f-b8c8-4be7-aece-cda54df2b17a"
    },
    "slideshow": {
     "slide_type": "fragment"
    }
   },
   "source": [
    "Taking a look at the data, we see that it's relatively simple–it contains the number of births grouped by date and gender:"
   ]
  },
  {
   "cell_type": "markdown",
   "metadata": {
    "nbpresent": {
     "id": "0cb00ee6-3a68-48f7-97a1-a8592e4ed259"
    },
    "slideshow": {
     "slide_type": "subslide"
    }
   },
   "source": [
    "We can start to understand this data a bit more by using a pivot table.\n",
    "- Let's add a decade column, and \n",
    "- take a look at male and female births as a function of decade:"
   ]
  },
  {
   "cell_type": "code",
   "execution_count": 38,
   "metadata": {
    "ExecuteTime": {
     "end_time": "2018-12-13T13:21:40.439057Z",
     "start_time": "2018-12-13T13:21:40.420722Z"
    },
    "nbpresent": {
     "id": "96a6c796-c01a-4c08-a16c-aa333e2b7f0a"
    },
    "slideshow": {
     "slide_type": "subslide"
    }
   },
   "outputs": [
    {
     "data": {
      "text/html": [
       "<div>\n",
       "<table border=\"1\" class=\"dataframe\">\n",
       "  <thead>\n",
       "    <tr style=\"text-align: right;\">\n",
       "      <th>gender</th>\n",
       "      <th>F</th>\n",
       "      <th>M</th>\n",
       "    </tr>\n",
       "    <tr>\n",
       "      <th>decade</th>\n",
       "      <th></th>\n",
       "      <th></th>\n",
       "    </tr>\n",
       "  </thead>\n",
       "  <tbody>\n",
       "    <tr>\n",
       "      <th>1960</th>\n",
       "      <td>1753634</td>\n",
       "      <td>1846572</td>\n",
       "    </tr>\n",
       "    <tr>\n",
       "      <th>1970</th>\n",
       "      <td>16263075</td>\n",
       "      <td>17121550</td>\n",
       "    </tr>\n",
       "    <tr>\n",
       "      <th>1980</th>\n",
       "      <td>18310351</td>\n",
       "      <td>19243452</td>\n",
       "    </tr>\n",
       "    <tr>\n",
       "      <th>1990</th>\n",
       "      <td>19479454</td>\n",
       "      <td>20420553</td>\n",
       "    </tr>\n",
       "    <tr>\n",
       "      <th>2000</th>\n",
       "      <td>18229309</td>\n",
       "      <td>19106428</td>\n",
       "    </tr>\n",
       "  </tbody>\n",
       "</table>\n",
       "</div>"
      ],
      "text/plain": [
       "gender         F         M\n",
       "decade                    \n",
       "1960     1753634   1846572\n",
       "1970    16263075  17121550\n",
       "1980    18310351  19243452\n",
       "1990    19479454  20420553\n",
       "2000    18229309  19106428"
      ]
     },
     "execution_count": 38,
     "metadata": {},
     "output_type": "execute_result"
    }
   ],
   "source": [
    "births['decade'] = 10 * (births['year'] // 10)\n",
    "births.pivot_table('births', index='decade', columns='gender', aggfunc='sum')"
   ]
  },
  {
   "cell_type": "markdown",
   "metadata": {
    "nbpresent": {
     "id": "b92f4e07-6f55-4519-945f-7c07f1eb7b70"
    },
    "slideshow": {
     "slide_type": "subslide"
    }
   },
   "source": [
    "We immediately see that male births outnumber female births in every decade.\n",
    "- To use the built-in plotting tools in Pandas to visualize the total number of births by year \n",
    "- see [Introduction to Matplotlib](04.00-Introduction-To-Matplotlib.ipynb) for a discussion of plotting with Matplotlib"
   ]
  },
  {
   "cell_type": "code",
   "execution_count": 39,
   "metadata": {
    "ExecuteTime": {
     "end_time": "2018-12-13T13:21:40.830014Z",
     "start_time": "2018-12-13T13:21:40.444554Z"
    },
    "nbpresent": {
     "id": "d2e4d724-c6a2-4a4d-96e7-a7dc9c321262"
    },
    "slideshow": {
     "slide_type": "subslide"
    }
   },
   "outputs": [
    {
     "data": {
      "image/png": "[encoded data removed]",
      "text/plain": [
       "<Figure size 432x288 with 1 Axes>"
      ]
     },
     "metadata": {},
     "output_type": "display_data"
    }
   ],
   "source": [
    "%matplotlib inline\n",
    "import matplotlib.pyplot as plt\n",
    "sns.set()  # use Seaborn styles\n",
    "births.pivot_table('births', index='year', columns='gender', aggfunc='sum').plot()\n",
    "plt.ylabel('total births per year');"
   ]
  },
  {
   "cell_type": "markdown",
   "metadata": {
    "nbpresent": {
     "id": "82b1eb86-97a0-4698-bee6-4f6d6e6ae81f"
    },
    "slideshow": {
     "slide_type": "subslide"
    }
   },
   "source": [
    "By eye, it appears that over the past 50 years male births have outnumbered female births by around 5%."
   ]
  },
  {
   "cell_type": "markdown",
   "metadata": {
    "nbpresent": {
     "id": "66878029-216e-4ad3-9d7c-da29c6eccd10"
    },
    "slideshow": {
     "slide_type": "subslide"
    }
   },
   "source": [
    "### Further data exploration\n",
    "this doesn't necessarily relate to the pivot table\n",
    "- We must start by cleaning the data a bit, \n",
    "    - removing outliers caused by mistyped dates (e.g., June 31st) or missing values (e.g., June 99th).\n",
    "    - One easy way to remove these all at once is to cut outliers; \n",
    "    - we'll do this via a robust sigma-clipping operation:"
   ]
  },
  {
   "cell_type": "code",
   "execution_count": 40,
   "metadata": {
    "ExecuteTime": {
     "end_time": "2018-12-13T13:21:40.838787Z",
     "start_time": "2018-12-13T13:21:40.832866Z"
    },
    "nbpresent": {
     "id": "6a23b864-79c0-4531-90d7-8d909fb29b36"
    },
    "slideshow": {
     "slide_type": "subslide"
    }
   },
   "outputs": [],
   "source": [
    "quartiles = np.percentile(births['births'], [25, 50, 75])\n",
    "mu = quartiles[1]\n",
    "sig = 0.74 * (quartiles[2] - quartiles[0])"
   ]
  },
  {
   "cell_type": "markdown",
   "metadata": {
    "nbpresent": {
     "id": "9faa05ac-2342-461f-9e24-3a9e30d29a72"
    },
    "slideshow": {
     "slide_type": "subslide"
    }
   },
   "source": [
    "This final line is a robust estimate of the sample mean, \n",
    "- where the 0.74 comes from the interquartile range of a Gaussian distribution \n",
    "\n",
    "[\"Statistics, Data Mining, and Machine Learning in Astronomy\"](http://press.princeton.edu/titles/10159.html) (Princeton University Press, 2014)).\n",
    "\n",
    "With this we can use the ``query()`` method (discussed further in [High-Performance Pandas: ``eval()`` and ``query()``](03.12-Performance-Eval-and-Query.ipynb)) to filter-out rows with births outside these values:"
   ]
  },
  {
   "cell_type": "code",
   "execution_count": 41,
   "metadata": {
    "ExecuteTime": {
     "end_time": "2018-12-13T13:21:40.852770Z",
     "start_time": "2018-12-13T13:21:40.841257Z"
    },
    "nbpresent": {
     "id": "4ed10d69-db6e-4c06-aa49-0fbb7be75d45"
    },
    "slideshow": {
     "slide_type": "subslide"
    }
   },
   "outputs": [],
   "source": [
    "births = births.query('(births > @mu - 5 * @sig) & (births < @mu + 5 * @sig)')"
   ]
  },
  {
   "cell_type": "markdown",
   "metadata": {
    "nbpresent": {
     "id": "cbf43b43-5179-4cdf-b76a-16df5f22efb3"
    },
    "slideshow": {
     "slide_type": "subslide"
    }
   },
   "source": [
    "Next we set the ``day`` column to integers; previously it had been a string because some columns in the dataset contained the value ``'null'``:"
   ]
  },
  {
   "cell_type": "code",
   "execution_count": 42,
   "metadata": {
    "ExecuteTime": {
     "end_time": "2018-12-13T13:21:40.906650Z",
     "start_time": "2018-12-13T13:21:40.855085Z"
    },
    "nbpresent": {
     "id": "76e8d276-d6fd-4c4d-892b-a01e06a10beb"
    },
    "slideshow": {
     "slide_type": "fragment"
    }
   },
   "outputs": [],
   "source": [
    "# set 'day' column to integer; it originally was a string due to nulls\n",
    "births['day'] = births['day'].astype(int)"
   ]
  },
  {
   "cell_type": "markdown",
   "metadata": {
    "nbpresent": {
     "id": "a205a680-170f-4e63-a3bb-203ef267263f"
    },
    "slideshow": {
     "slide_type": "subslide"
    }
   },
   "source": [
    "Finally, we can combine the day, month, and year to create a Date index (see [Working with Time Series](03.11-Working-with-Time-Series.ipynb)).\n",
    "This allows us to quickly compute the weekday corresponding to each row:"
   ]
  },
  {
   "cell_type": "code",
   "execution_count": 43,
   "metadata": {
    "ExecuteTime": {
     "end_time": "2018-12-13T13:21:40.931503Z",
     "start_time": "2018-12-13T13:21:40.909226Z"
    },
    "nbpresent": {
     "id": "8861f30a-56c4-4a3d-8195-8bf681741f38"
    },
    "slideshow": {
     "slide_type": "subslide"
    }
   },
   "outputs": [],
   "source": [
    "# create a datetime index from the year, month, day\n",
    "births.index = pd.to_datetime(10000 * births.year +\n",
    "                              100 * births.month +\n",
    "                              births.day, format='%Y%m%d')\n",
    "\n",
    "births['dayofweek'] = births.index.dayofweek"
   ]
  },
  {
   "cell_type": "markdown",
   "metadata": {
    "nbpresent": {
     "id": "38bf6e7f-a15e-427c-bc68-9917b9210b37"
    },
    "slideshow": {
     "slide_type": "subslide"
    }
   },
   "source": [
    "Using this we can plot births by weekday for several decades:"
   ]
  },
  {
   "cell_type": "code",
   "execution_count": 44,
   "metadata": {
    "ExecuteTime": {
     "end_time": "2018-12-13T13:21:41.194356Z",
     "start_time": "2018-12-13T13:21:40.934015Z"
    },
    "nbpresent": {
     "id": "3dadf646-103f-41d9-90be-c94e0c3344f3"
    },
    "slideshow": {
     "slide_type": "subslide"
    }
   },
   "outputs": [
    {
     "data": {
      "image/png": "[encoded data removed]",
      "text/plain": [
       "<Figure size 432x288 with 1 Axes>"
      ]
     },
     "metadata": {},
     "output_type": "display_data"
    }
   ],
   "source": [
    "import matplotlib.pyplot as plt\n",
    "import matplotlib as mpl\n",
    "\n",
    "births.pivot_table('births', index='dayofweek',s\n",
    "                    columns='decade', aggfunc='mean').plot()\n",
    "plt.gca().set_xticklabels(['Mon', 'Tues', 'Wed', 'Thurs', 'Fri', 'Sat', 'Sun'])\n",
    "plt.ylabel('mean births by day');"
   ]
  },
  {
   "cell_type": "markdown",
   "metadata": {
    "nbpresent": {
     "id": "7aaa80aa-62f5-45a6-b876-e59c0d1fe7ae"
    },
    "slideshow": {
     "slide_type": "subslide"
    }
   },
   "source": [
    "Apparently births are slightly less common on weekends than on weekdays! Note that the 1990s and 2000s are missing because the CDC data contains only the month of birth starting in 1989.\n",
    "\n",
    "Another intersting view is to plot the mean number of births by the day of the *year*.\n",
    "Let's first group the data by month and day separately:"
   ]
  },
  {
   "cell_type": "code",
   "execution_count": 45,
   "metadata": {
    "ExecuteTime": {
     "end_time": "2018-12-13T13:21:41.208690Z",
     "start_time": "2018-12-13T13:21:41.196693Z"
    },
    "nbpresent": {
     "id": "591b9a76-bf5e-456f-92c2-8f3b347d7f0b"
    },
    "slideshow": {
     "slide_type": "subslide"
    }
   },
   "outputs": [
    {
     "data": {
      "text/plain": [
       "1  1    4009.225\n",
       "   2    4247.400\n",
       "   3    4500.900\n",
       "   4    4571.350\n",
       "   5    4603.625\n",
       "Name: births, dtype: float64"
      ]
     },
     "execution_count": 45,
     "metadata": {},
     "output_type": "execute_result"
    }
   ],
   "source": [
    "births_by_date = births.pivot_table('births', \n",
    "                                    [births.index.month, births.index.day])\n",
    "births_by_date.head()"
   ]
  },
  {
   "cell_type": "markdown",
   "metadata": {
    "nbpresent": {
     "id": "5f84b533-6296-4325-af47-f1492ba75a10"
    },
    "slideshow": {
     "slide_type": "subslide"
    }
   },
   "source": [
    "The result is a multi-index over months and days.\n",
    "To make this easily plottable, let's turn these months and days into a date by associating them with a dummy year variable (making sure to choose a leap year so February 29th is correctly handled!)"
   ]
  },
  {
   "cell_type": "code",
   "execution_count": 46,
   "metadata": {
    "ExecuteTime": {
     "end_time": "2018-12-13T13:21:41.226212Z",
     "start_time": "2018-12-13T13:21:41.210789Z"
    },
    "nbpresent": {
     "id": "313b9bff-0a96-4dd4-b7c4-bec1645c36e2"
    },
    "slideshow": {
     "slide_type": "subslide"
    }
   },
   "outputs": [
    {
     "data": {
      "text/plain": [
       "2012-01-01    4009.225\n",
       "2012-01-02    4247.400\n",
       "2012-01-03    4500.900\n",
       "2012-01-04    4571.350\n",
       "2012-01-05    4603.625\n",
       "Name: births, dtype: float64"
      ]
     },
     "execution_count": 46,
     "metadata": {},
     "output_type": "execute_result"
    }
   ],
   "source": [
    "births_by_date.index = [pd.datetime(2012, month, day)\n",
    "                        for (month, day) in births_by_date.index]\n",
    "births_by_date.head()"
   ]
  },
  {
   "cell_type": "markdown",
   "metadata": {
    "nbpresent": {
     "id": "9174aee0-6eb3-48ea-a460-16411c49c0aa"
    },
    "slideshow": {
     "slide_type": "subslide"
    }
   },
   "source": [
    "Focusing on the month and day only, we now have a time series reflecting the average number of births by date of the year.\n",
    "From this, we can use the ``plot`` method to plot the data. It reveals some interesting trends:"
   ]
  },
  {
   "cell_type": "code",
   "execution_count": 47,
   "metadata": {
    "ExecuteTime": {
     "end_time": "2018-12-13T13:21:41.749605Z",
     "start_time": "2018-12-13T13:21:41.228483Z"
    },
    "nbpresent": {
     "id": "9b2229a6-6b1e-4954-8768-b9211d27d03b"
    },
    "slideshow": {
     "slide_type": "subslide"
    }
   },
   "outputs": [
    {
     "data": {
      "image/png": "[encoded data removed]",
      "text/plain": [
       "<Figure size 864x288 with 1 Axes>"
      ]
     },
     "metadata": {},
     "output_type": "display_data"
    }
   ],
   "source": [
    "# Plot the results\n",
    "fig, ax = plt.subplots(figsize=(12, 4))\n",
    "births_by_date.plot(ax=ax);"
   ]
  },
  {
   "cell_type": "markdown",
   "metadata": {
    "collapsed": true,
    "nbpresent": {
     "id": "7e9ca1c2-a686-4133-a8c7-ae608d53c601"
    },
    "slideshow": {
     "slide_type": "subslide"
    }
   },
   "source": [
    "In particular, the striking feature of this graph is <font color='red'>the dip in birthrate on US holidays (e.g., Independence Day, Labor Day, Thanksgiving, Christmas, New Year's Day)</font>\n",
    "- although this likely reflects trends in scheduled/induced births rather than some deep psychosomatic effect on natural births.\n",
    "- For more discussion on this trend, see the analysis and links in [Andrew Gelman's blog post](http://andrewgelman.com/2012/06/14/cool-ass-signal-processing-using-gaussian-processes/) on the subject.\n",
    "\n",
    "We'll return to this figure in [Example:-Effect-of-Holidays-on-US-Births](04.09-Text-and-Annotation.ipynb#Example:-Effect-of-Holidays-on-US-Births), where we will use Matplotlib's tools to annotate this plot.\n",
    "\n",
    "Looking at this short example, you can see that many of the Python and Pandas tools we've seen to this point can be combined and used to gain insight from a variety of datasets.\n"
   ]
  },
  {
   "cell_type": "markdown",
   "metadata": {
    "nbpresent": {
     "id": "81a6113b-7f47-4d65-b182-e05a4b8c62e4"
    },
    "slideshow": {
     "slide_type": "slide"
    }
   },
   "source": [
    "<!--NAVIGATION-->\n",
    "< [Aggregation and Grouping](03.08-Aggregation-and-Grouping.ipynb) | [Contents](Index.ipynb) | [Vectorized String Operations](03.10-Working-With-Strings.ipynb) >"
   ]
  }
 ],
 "metadata": {
  "anaconda-cloud": {},
  "celltoolbar": "Slideshow",
  "kernelspec": {
   "display_name": "Python 3",
   "language": "python",
   "name": "python3"
  },
  "language_info": {
   "codemirror_mode": {
    "name": "ipython",
    "version": 3
   },
   "file_extension": ".py",
   "mimetype": "text/x-python",
   "name": "python",
   "nbconvert_exporter": "python",
   "pygments_lexer": "ipython3",
   "version": "3.7.3"
  },
  "latex_envs": {
   "LaTeX_envs_menu_present": true,
   "autoclose": false,
   "autocomplete": true,
   "bibliofile": "biblio.bib",
   "cite_by": "apalike",
   "current_citInitial": 1,
   "eqLabelWithNumbers": true,
   "eqNumInitial": 1,
   "hotkeys": {
    "equation": "Ctrl-E",
    "itemize": "Ctrl-I"
   },
   "labels_anchors": false,
   "latex_user_defs": false,
   "report_style_numbering": false,
   "user_envs_cfg": false
  },
  "nbpresent": {
   "slides": {
    "0205087d-f6da-4c86-af79-235d2fc72048": {
     "id": "0205087d-f6da-4c86-af79-235d2fc72048",
     "prev": "cd73cd06-e81c-4151-a87c-c6f01c3c6977",
     "regions": {
      "b4026a8d-92b2-4d45-b775-fd7ce7a59d18": {
       "attrs": {
        "height": 0.8,
        "width": 0.8,
        "x": 0.1,
        "y": 0.1
       },
       "content": {
        "cell": "f209435f-28fc-4330-ae04-b070944bc34f",
        "part": "whole"
       },
       "id": "b4026a8d-92b2-4d45-b775-fd7ce7a59d18"
      }
     }
    },
    "03adbd00-d9c0-4863-8e61-c33c488b2291": {
     "id": "03adbd00-d9c0-4863-8e61-c33c488b2291",
     "prev": "24edce3d-201e-4fb9-a673-8f5813cf7a6b",
     "regions": {
      "f0ecf497-8da5-4511-82bd-dccbb6b3d1ee": {
       "attrs": {
        "height": 0.8,
        "width": 0.8,
        "x": 0.1,
        "y": 0.1
       },
       "content": {
        "cell": "0cda9fb9-91a9-4735-a403-328171467eba",
        "part": "whole"
       },
       "id": "f0ecf497-8da5-4511-82bd-dccbb6b3d1ee"
      }
     }
    },
    "0499f131-2db5-476a-9578-52f207cd862c": {
     "id": "0499f131-2db5-476a-9578-52f207cd862c",
     "prev": "a02c33c1-85d3-4d47-a966-1dcabf60c0e6",
     "regions": {
      "49004e8d-0030-472b-a2c8-ef7b6a2ac742": {
       "attrs": {
        "height": 0.8,
        "width": 0.8,
        "x": 0.1,
        "y": 0.1
       },
       "content": {
        "cell": "96a6c796-c01a-4c08-a16c-aa333e2b7f0a",
        "part": "whole"
       },
       "id": "49004e8d-0030-472b-a2c8-ef7b6a2ac742"
      }
     }
    },
    "06d932c2-b2cb-4c64-922f-1d71f42684ea": {
     "id": "06d932c2-b2cb-4c64-922f-1d71f42684ea",
     "prev": "ee43c751-413b-4ea3-b7fc-f86ac475c707",
     "regions": {
      "7aceb84e-d239-41a3-ad40-04305769bdd3": {
       "attrs": {
        "height": 0.8,
        "width": 0.8,
        "x": 0.1,
        "y": 0.1
       },
       "content": {
        "cell": "9174aee0-6eb3-48ea-a460-16411c49c0aa",
        "part": "whole"
       },
       "id": "7aceb84e-d239-41a3-ad40-04305769bdd3"
      }
     }
    },
    "0a789817-77c7-439f-a585-3d4986b955ee": {
     "id": "0a789817-77c7-439f-a585-3d4986b955ee",
     "prev": "0205087d-f6da-4c86-af79-235d2fc72048",
     "regions": {
      "f2ccde96-a7c4-4690-8955-6cce01271636": {
       "attrs": {
        "height": 0.8,
        "width": 0.8,
        "x": 0.1,
        "y": 0.1
       },
       "content": {
        "cell": "a1797023-9c70-48f1-baf2-798c9ad826e4",
        "part": "whole"
       },
       "id": "f2ccde96-a7c4-4690-8955-6cce01271636"
      }
     }
    },
    "0d1ff533-bc4e-407c-8d02-44d2a7c1e17e": {
     "id": "0d1ff533-bc4e-407c-8d02-44d2a7c1e17e",
     "prev": "cdcacc29-d0c3-4677-be70-59a0d31542f6",
     "regions": {
      "570c975a-1c1d-4146-8b16-8658f483c220": {
       "attrs": {
        "height": 0.8,
        "width": 0.8,
        "x": 0.1,
        "y": 0.1
       },
       "content": {
        "cell": "b1c2ec9f-d2ea-48a1-8f88-3fb5183f0989",
        "part": "whole"
       },
       "id": "570c975a-1c1d-4146-8b16-8658f483c220"
      }
     }
    },
    "10f556d9-5054-489d-a0bd-991c86c576f9": {
     "id": "10f556d9-5054-489d-a0bd-991c86c576f9",
     "prev": "3188e7ce-ba3d-4cf5-8e3c-e64ff6d1ebd4",
     "regions": {
      "86c9ea2f-6e33-45d6-ba46-e624376a79de": {
       "attrs": {
        "height": 0.8,
        "width": 0.8,
        "x": 0.1,
        "y": 0.1
       },
       "content": {
        "cell": "76e8d276-d6fd-4c4d-892b-a01e06a10beb",
        "part": "whole"
       },
       "id": "86c9ea2f-6e33-45d6-ba46-e624376a79de"
      }
     }
    },
    "165b9bfd-15b9-4b92-8227-4cfd8cb4dc39": {
     "id": "165b9bfd-15b9-4b92-8227-4cfd8cb4dc39",
     "prev": "f7fab5d7-efca-4a06-8f17-baed2c63d7cb",
     "regions": {
      "9d5a03fa-9e79-49b1-9f85-d04ca9c51391": {
       "attrs": {
        "height": 0.8,
        "width": 0.8,
        "x": 0.1,
        "y": 0.1
       },
       "content": {
        "cell": "d18df46f-ea68-4fda-a34d-f3e30f62aa9b",
        "part": "whole"
       },
       "id": "9d5a03fa-9e79-49b1-9f85-d04ca9c51391"
      }
     }
    },
    "19a84014-3931-4525-853c-577e7312d273": {
     "id": "19a84014-3931-4525-853c-577e7312d273",
     "prev": "f0ff8a7b-cfdc-4ced-a3d1-13e347e6d5b9",
     "regions": {
      "6b09ac92-93fc-4025-a4d8-01b03c9253d5": {
       "attrs": {
        "height": 0.8,
        "width": 0.8,
        "x": 0.1,
        "y": 0.1
       },
       "content": {
        "cell": "3580c5cf-46f1-4276-b007-0fb89817d307",
        "part": "whole"
       },
       "id": "6b09ac92-93fc-4025-a4d8-01b03c9253d5"
      }
     }
    },
    "1d9c26c8-0ccd-49c9-8eb0-400b3c99f476": {
     "id": "1d9c26c8-0ccd-49c9-8eb0-400b3c99f476",
     "prev": "ada0fcd2-223e-4f25-ae2d-6e5fc61b027b",
     "regions": {
      "820870fa-ff96-4fa2-8d19-1a167036dcaa": {
       "attrs": {
        "height": 0.8,
        "width": 0.8,
        "x": 0.1,
        "y": 0.1
       },
       "content": {
        "cell": "4ed10d69-db6e-4c06-aa49-0fbb7be75d45",
        "part": "whole"
       },
       "id": "820870fa-ff96-4fa2-8d19-1a167036dcaa"
      }
     }
    },
    "24edce3d-201e-4fb9-a673-8f5813cf7a6b": {
     "id": "24edce3d-201e-4fb9-a673-8f5813cf7a6b",
     "prev": "480a99cd-da06-4dab-a65f-43415522ca66",
     "regions": {
      "ee852c8e-d4c1-45f3-b3d3-7dbf003755c9": {
       "attrs": {
        "height": 0.8,
        "width": 0.8,
        "x": 0.1,
        "y": 0.1
       },
       "content": {
        "cell": "3fd63ba4-0188-4c4f-a7c5-970f05f4d0ac",
        "part": "whole"
       },
       "id": "ee852c8e-d4c1-45f3-b3d3-7dbf003755c9"
      }
     }
    },
    "2b3e9c19-d312-4edc-a7aa-4ff03678cb89": {
     "id": "2b3e9c19-d312-4edc-a7aa-4ff03678cb89",
     "prev": "5a0d469d-23e3-456a-b115-2ae03eef68ba",
     "regions": {
      "e8f4499e-bf97-4877-9260-d46ce5fe26dd": {
       "attrs": {
        "height": 0.8,
        "width": 0.8,
        "x": 0.1,
        "y": 0.1
       },
       "content": {
        "cell": "591b9a76-bf5e-456f-92c2-8f3b347d7f0b",
        "part": "whole"
       },
       "id": "e8f4499e-bf97-4877-9260-d46ce5fe26dd"
      }
     }
    },
    "3188e7ce-ba3d-4cf5-8e3c-e64ff6d1ebd4": {
     "id": "3188e7ce-ba3d-4cf5-8e3c-e64ff6d1ebd4",
     "prev": "1d9c26c8-0ccd-49c9-8eb0-400b3c99f476",
     "regions": {
      "16d14fdb-39de-4575-b8a0-c347f5ed8977": {
       "attrs": {
        "height": 0.8,
        "width": 0.8,
        "x": 0.1,
        "y": 0.1
       },
       "content": {
        "cell": "cbf43b43-5179-4cdf-b76a-16df5f22efb3",
        "part": "whole"
       },
       "id": "16d14fdb-39de-4575-b8a0-c347f5ed8977"
      }
     }
    },
    "32d7263a-2271-4dc2-b86a-b2256ffdc9cb": {
     "id": "32d7263a-2271-4dc2-b86a-b2256ffdc9cb",
     "prev": "d0e8346c-c60a-4e20-948a-fe84f39b6999",
     "regions": {
      "3d940ed3-cc22-4246-a7f3-3e64d04cc829": {
       "attrs": {
        "height": 0.8,
        "width": 0.8,
        "x": 0.1,
        "y": 0.1
       },
       "content": {
        "cell": "5b23b2a6-8f4e-4a3b-bbb5-f0524334b044",
        "part": "whole"
       },
       "id": "3d940ed3-cc22-4246-a7f3-3e64d04cc829"
      }
     }
    },
    "3af187dc-5d8d-433b-b806-e5f00ac66fc8": {
     "id": "3af187dc-5d8d-433b-b806-e5f00ac66fc8",
     "prev": "af87f355-73c6-436a-964a-7ba5ee93539e",
     "regions": {
      "63a854c8-11fe-4aae-850d-73a9ef4313a1": {
       "attrs": {
        "height": 0.8,
        "width": 0.8,
        "x": 0.1,
        "y": 0.1
       },
       "content": {
        "cell": "d37fd56d-fbcc-48d7-a3fd-eb7d3fe0a0e0",
        "part": "whole"
       },
       "id": "63a854c8-11fe-4aae-850d-73a9ef4313a1"
      }
     }
    },
    "3ec91f83-393c-48b0-b900-e94646178ae9": {
     "id": "3ec91f83-393c-48b0-b900-e94646178ae9",
     "prev": "ccecfbf7-cb2f-414a-a03d-6aee2013f265",
     "regions": {
      "32d3b4e4-c8b7-4722-8ebd-76dd03d9fb47": {
       "attrs": {
        "height": 0.8,
        "width": 0.8,
        "x": 0.1,
        "y": 0.1
       },
       "content": {
        "cell": "7e9ca1c2-a686-4133-a8c7-ae608d53c601",
        "part": "whole"
       },
       "id": "32d3b4e4-c8b7-4722-8ebd-76dd03d9fb47"
      }
     }
    },
    "480a99cd-da06-4dab-a65f-43415522ca66": {
     "id": "480a99cd-da06-4dab-a65f-43415522ca66",
     "prev": "ac394711-6000-4cae-ab8f-59053ec93c2c",
     "regions": {
      "26a47523-4641-4035-98f7-d96df0dc4ffb": {
       "attrs": {
        "height": 0.8,
        "width": 0.8,
        "x": 0.1,
        "y": 0.1
       },
       "content": {
        "cell": "3478133e-5848-4b41-9a5c-5f8bc3a92333",
        "part": "whole"
       },
       "id": "26a47523-4641-4035-98f7-d96df0dc4ffb"
      }
     }
    },
    "50da3f93-781c-47ba-8266-f04da53e3abd": {
     "id": "50da3f93-781c-47ba-8266-f04da53e3abd",
     "prev": "3af187dc-5d8d-433b-b806-e5f00ac66fc8",
     "regions": {
      "4a25288f-fdcf-4cd2-80d1-0576612efd7c": {
       "attrs": {
        "height": 0.8,
        "width": 0.8,
        "x": 0.1,
        "y": 0.1
       },
       "content": {
        "cell": "ad5363d9-9f5a-4181-bebf-f9eb29f046f8",
        "part": "whole"
       },
       "id": "4a25288f-fdcf-4cd2-80d1-0576612efd7c"
      }
     }
    },
    "52412d60-afe9-4a84-8591-0655d7f8ff3f": {
     "id": "52412d60-afe9-4a84-8591-0655d7f8ff3f",
     "prev": "c329ba49-bbac-41d7-be5c-8cbf55e06bbd",
     "regions": {
      "103729bc-ed29-4ee9-b44f-43841054baf3": {
       "attrs": {
        "height": 0.8,
        "width": 0.8,
        "x": 0.1,
        "y": 0.1
       },
       "content": {
        "cell": "38bf6e7f-a15e-427c-bc68-9917b9210b37",
        "part": "whole"
       },
       "id": "103729bc-ed29-4ee9-b44f-43841054baf3"
      }
     }
    },
    "565a6cd9-6045-4e63-96f8-fa41337d58b8": {
     "id": "565a6cd9-6045-4e63-96f8-fa41337d58b8",
     "prev": "52412d60-afe9-4a84-8591-0655d7f8ff3f",
     "regions": {
      "a4119896-0fba-4b6e-a489-2484f30449be": {
       "attrs": {
        "height": 0.8,
        "width": 0.8,
        "x": 0.1,
        "y": 0.1
       },
       "content": {
        "cell": "3dadf646-103f-41d9-90be-c94e0c3344f3",
        "part": "whole"
       },
       "id": "a4119896-0fba-4b6e-a489-2484f30449be"
      }
     }
    },
    "5a0d469d-23e3-456a-b115-2ae03eef68ba": {
     "id": "5a0d469d-23e3-456a-b115-2ae03eef68ba",
     "prev": "565a6cd9-6045-4e63-96f8-fa41337d58b8",
     "regions": {
      "a91ae335-6cc1-43f2-a55d-27c0ef945b71": {
       "attrs": {
        "height": 0.8,
        "width": 0.8,
        "x": 0.1,
        "y": 0.1
       },
       "content": {
        "cell": "7aaa80aa-62f5-45a6-b876-e59c0d1fe7ae",
        "part": "whole"
       },
       "id": "a91ae335-6cc1-43f2-a55d-27c0ef945b71"
      }
     }
    },
    "731c024d-686e-4bc4-bccd-635608e62c48": {
     "id": "731c024d-686e-4bc4-bccd-635608e62c48",
     "prev": "3ec91f83-393c-48b0-b900-e94646178ae9",
     "regions": {
      "8fb09f1c-c311-4ad5-9e5c-1e524efa1a64": {
       "attrs": {
        "height": 0.8,
        "width": 0.8,
        "x": 0.1,
        "y": 0.1
       },
       "content": {
        "cell": "81a6113b-7f47-4d65-b182-e05a4b8c62e4",
        "part": "whole"
       },
       "id": "8fb09f1c-c311-4ad5-9e5c-1e524efa1a64"
      }
     }
    },
    "8334e13b-f9e2-44f1-a192-869cc48344ca": {
     "id": "8334e13b-f9e2-44f1-a192-869cc48344ca",
     "prev": "e37427a7-7955-4731-98a4-aa0f41f5c9e5",
     "regions": {
      "e2592759-de6d-49f2-a4bb-bff27b190fee": {
       "attrs": {
        "height": 0.8,
        "width": 0.8,
        "x": 0.1,
        "y": 0.1
       },
       "content": {
        "cell": "82b1eb86-97a0-4698-bee6-4f6d6e6ae81f",
        "part": "whole"
       },
       "id": "e2592759-de6d-49f2-a4bb-bff27b190fee"
      }
     }
    },
    "9c8ace27-8797-4d39-96e3-8c3687fd13f0": {
     "id": "9c8ace27-8797-4d39-96e3-8c3687fd13f0",
     "prev": "2b3e9c19-d312-4edc-a7aa-4ff03678cb89",
     "regions": {
      "69422583-9c38-4600-8a66-352bd215d1f7": {
       "attrs": {
        "height": 0.8,
        "width": 0.8,
        "x": 0.1,
        "y": 0.1
       },
       "content": {
        "cell": "5f84b533-6296-4325-af47-f1492ba75a10",
        "part": "whole"
       },
       "id": "69422583-9c38-4600-8a66-352bd215d1f7"
      }
     }
    },
    "a02c33c1-85d3-4d47-a966-1dcabf60c0e6": {
     "id": "a02c33c1-85d3-4d47-a966-1dcabf60c0e6",
     "prev": "e966ff0d-567f-4ad2-928e-4564964cc06a",
     "regions": {
      "8396befa-43e5-4444-aa39-5319c7ab14fd": {
       "attrs": {
        "height": 0.8,
        "width": 0.8,
        "x": 0.1,
        "y": 0.1
       },
       "content": {
        "cell": "0cb00ee6-3a68-48f7-97a1-a8592e4ed259",
        "part": "whole"
       },
       "id": "8396befa-43e5-4444-aa39-5319c7ab14fd"
      }
     }
    },
    "aa006822-c51e-41fe-9c57-6bc49cf88654": {
     "id": "aa006822-c51e-41fe-9c57-6bc49cf88654",
     "prev": "10f556d9-5054-489d-a0bd-991c86c576f9",
     "regions": {
      "c0b1f438-fde3-4fa7-aa29-68d68d6a20a0": {
       "attrs": {
        "height": 0.8,
        "width": 0.8,
        "x": 0.1,
        "y": 0.1
       },
       "content": {
        "cell": "a205a680-170f-4e63-a3bb-203ef267263f",
        "part": "whole"
       },
       "id": "c0b1f438-fde3-4fa7-aa29-68d68d6a20a0"
      }
     }
    },
    "ab690fce-5d0b-45e9-8f08-54077454c819": {
     "id": "ab690fce-5d0b-45e9-8f08-54077454c819",
     "prev": "50da3f93-781c-47ba-8266-f04da53e3abd",
     "regions": {
      "4e61aa47-b7a3-483a-b4b9-b1c12b067cf9": {
       "attrs": {
        "height": 0.8,
        "width": 0.8,
        "x": 0.1,
        "y": 0.1
       },
       "content": {
        "cell": "4c2756c0-ad55-4e04-a1e9-0c1544d1ec36",
        "part": "whole"
       },
       "id": "4e61aa47-b7a3-483a-b4b9-b1c12b067cf9"
      }
     }
    },
    "abd42224-a74a-4ac9-b03e-9887f14a7201": {
     "id": "abd42224-a74a-4ac9-b03e-9887f14a7201",
     "prev": "8334e13b-f9e2-44f1-a192-869cc48344ca",
     "regions": {
      "a20cf3f5-2190-44d3-b614-f72b6868c14c": {
       "attrs": {
        "height": 0.8,
        "width": 0.8,
        "x": 0.1,
        "y": 0.1
       },
       "content": {
        "cell": "66878029-216e-4ad3-9d7c-da29c6eccd10",
        "part": "whole"
       },
       "id": "a20cf3f5-2190-44d3-b614-f72b6868c14c"
      }
     }
    },
    "ac394711-6000-4cae-ab8f-59053ec93c2c": {
     "id": "ac394711-6000-4cae-ab8f-59053ec93c2c",
     "prev": "b8c4df91-e621-404d-871c-ae06896cce47",
     "regions": {
      "a64b7d3f-21f3-4c49-9bbc-9ff28b36c89c": {
       "attrs": {
        "height": 0.8,
        "width": 0.8,
        "x": 0.1,
        "y": 0.1
       },
       "content": {
        "cell": "9bf1de4d-1fae-4bdb-b844-5ef6881aad57",
        "part": "whole"
       },
       "id": "a64b7d3f-21f3-4c49-9bbc-9ff28b36c89c"
      }
     }
    },
    "ada0fcd2-223e-4f25-ae2d-6e5fc61b027b": {
     "id": "ada0fcd2-223e-4f25-ae2d-6e5fc61b027b",
     "prev": "c8379674-fad4-4df7-a12b-5fa2a5fe42e1",
     "regions": {
      "f79c6b1a-48c2-486d-afcf-2cd050e0f94b": {
       "attrs": {
        "height": 0.8,
        "width": 0.8,
        "x": 0.1,
        "y": 0.1
       },
       "content": {
        "cell": "9faa05ac-2342-461f-9e24-3a9e30d29a72",
        "part": "whole"
       },
       "id": "f79c6b1a-48c2-486d-afcf-2cd050e0f94b"
      }
     }
    },
    "af87f355-73c6-436a-964a-7ba5ee93539e": {
     "id": "af87f355-73c6-436a-964a-7ba5ee93539e",
     "prev": "e5c8eac8-33c1-4a8f-a108-745abaeefb0a",
     "regions": {
      "a0bac7c9-83d9-4233-a454-605daa5c1bcf": {
       "attrs": {
        "height": 0.8,
        "width": 0.8,
        "x": 0.1,
        "y": 0.1
       },
       "content": {
        "cell": "442f62aa-4632-4e3d-a8c9-86d38abce329",
        "part": "whole"
       },
       "id": "a0bac7c9-83d9-4233-a454-605daa5c1bcf"
      }
     }
    },
    "b0e28334-26aa-4d00-979e-64e14948138e": {
     "id": "b0e28334-26aa-4d00-979e-64e14948138e",
     "prev": "0d1ff533-bc4e-407c-8d02-44d2a7c1e17e",
     "regions": {
      "3ca727ae-80b0-42e0-817d-d8b78f992c6c": {
       "attrs": {
        "height": 0.8,
        "width": 0.8,
        "x": 0.1,
        "y": 0.1
       },
       "content": {
        "cell": "35fa60bf-1f55-4b3f-a787-d572cf2e7511",
        "part": "whole"
       },
       "id": "3ca727ae-80b0-42e0-817d-d8b78f992c6c"
      }
     }
    },
    "b8c4df91-e621-404d-871c-ae06896cce47": {
     "id": "b8c4df91-e621-404d-871c-ae06896cce47",
     "prev": null,
     "regions": {
      "8912d0f9-bff3-402d-b38a-17edffa9c48e": {
       "attrs": {
        "height": 0.8,
        "width": 0.8,
        "x": 0.1,
        "y": 0.1
       },
       "content": {
        "cell": "d8cc9731-0e5b-4783-aee3-7a68618e7340",
        "part": "whole"
       },
       "id": "8912d0f9-bff3-402d-b38a-17edffa9c48e"
      }
     }
    },
    "c1ae913b-4c88-4662-9fe7-f8a8da34f664": {
     "id": "c1ae913b-4c88-4662-9fe7-f8a8da34f664",
     "prev": "ddb6f65b-5ab3-46ba-83ff-3b3e02611add",
     "regions": {
      "f6b325f4-4803-421f-943d-ddc9a0ca0ace": {
       "attrs": {
        "height": 0.8,
        "width": 0.8,
        "x": 0.1,
        "y": 0.1
       },
       "content": {
        "cell": "6b8fd46b-98ac-4049-8be7-9669b0f31a91",
        "part": "whole"
       },
       "id": "f6b325f4-4803-421f-943d-ddc9a0ca0ace"
      }
     }
    },
    "c329ba49-bbac-41d7-be5c-8cbf55e06bbd": {
     "id": "c329ba49-bbac-41d7-be5c-8cbf55e06bbd",
     "prev": "aa006822-c51e-41fe-9c57-6bc49cf88654",
     "regions": {
      "8fd9943d-173e-4029-bdd2-ad4f67eb3073": {
       "attrs": {
        "height": 0.8,
        "width": 0.8,
        "x": 0.1,
        "y": 0.1
       },
       "content": {
        "cell": "8861f30a-56c4-4a3d-8195-8bf681741f38",
        "part": "whole"
       },
       "id": "8fd9943d-173e-4029-bdd2-ad4f67eb3073"
      }
     }
    },
    "c8379674-fad4-4df7-a12b-5fa2a5fe42e1": {
     "id": "c8379674-fad4-4df7-a12b-5fa2a5fe42e1",
     "prev": "abd42224-a74a-4ac9-b03e-9887f14a7201",
     "regions": {
      "3eb13997-e059-4edd-a2f2-a7bb0108a6a5": {
       "attrs": {
        "height": 0.8,
        "width": 0.8,
        "x": 0.1,
        "y": 0.1
       },
       "content": {
        "cell": "6a23b864-79c0-4531-90d7-8d909fb29b36",
        "part": "whole"
       },
       "id": "3eb13997-e059-4edd-a2f2-a7bb0108a6a5"
      }
     }
    },
    "cc9a801e-c4bd-4e1e-a69a-44c07a5ab558": {
     "id": "cc9a801e-c4bd-4e1e-a69a-44c07a5ab558",
     "prev": "b0e28334-26aa-4d00-979e-64e14948138e",
     "regions": {
      "c26182fc-51a6-48dc-849e-709518e546b0": {
       "attrs": {
        "height": 0.8,
        "width": 0.8,
        "x": 0.1,
        "y": 0.1
       },
       "content": {
        "cell": "8cb19b6f-b8c8-4be7-aece-cda54df2b17a",
        "part": "whole"
       },
       "id": "c26182fc-51a6-48dc-849e-709518e546b0"
      }
     }
    },
    "ccecfbf7-cb2f-414a-a03d-6aee2013f265": {
     "id": "ccecfbf7-cb2f-414a-a03d-6aee2013f265",
     "prev": "06d932c2-b2cb-4c64-922f-1d71f42684ea",
     "regions": {
      "24d01366-58d4-49ef-84e7-0887fa1fc56b": {
       "attrs": {
        "height": 0.8,
        "width": 0.8,
        "x": 0.1,
        "y": 0.1
       },
       "content": {
        "cell": "9b2229a6-6b1e-4954-8768-b9211d27d03b",
        "part": "whole"
       },
       "id": "24d01366-58d4-49ef-84e7-0887fa1fc56b"
      }
     }
    },
    "cd73cd06-e81c-4151-a87c-c6f01c3c6977": {
     "id": "cd73cd06-e81c-4151-a87c-c6f01c3c6977",
     "prev": "03adbd00-d9c0-4863-8e61-c33c488b2291",
     "regions": {
      "c104ea75-5f59-4478-a8b8-4487dd2fcb1e": {
       "attrs": {
        "height": 0.8,
        "width": 0.8,
        "x": 0.1,
        "y": 0.1
       },
       "content": {
        "cell": "a8755c5f-5f60-4e08-8160-29f8885ceff2",
        "part": "whole"
       },
       "id": "c104ea75-5f59-4478-a8b8-4487dd2fcb1e"
      }
     }
    },
    "cdcacc29-d0c3-4677-be70-59a0d31542f6": {
     "id": "cdcacc29-d0c3-4677-be70-59a0d31542f6",
     "prev": "e07f6fa5-3367-455a-b25c-71bfce44b0be",
     "regions": {
      "5f967612-8acc-47e7-a271-739ee3cac1b9": {
       "attrs": {
        "height": 0.8,
        "width": 0.8,
        "x": 0.1,
        "y": 0.1
       },
       "content": {
        "cell": "255ecb47-30ce-488b-894e-0c7fe3743424",
        "part": "whole"
       },
       "id": "5f967612-8acc-47e7-a271-739ee3cac1b9"
      }
     }
    },
    "d0e8346c-c60a-4e20-948a-fe84f39b6999": {
     "id": "d0e8346c-c60a-4e20-948a-fe84f39b6999",
     "prev": "165b9bfd-15b9-4b92-8227-4cfd8cb4dc39",
     "regions": {
      "436c81dd-c533-4cbb-b60e-da789196bdf2": {
       "attrs": {
        "height": 0.8,
        "width": 0.8,
        "x": 0.1,
        "y": 0.1
       },
       "content": {
        "cell": "047e06d9-d6c3-4e52-8d83-bd9975f8c192",
        "part": "whole"
       },
       "id": "436c81dd-c533-4cbb-b60e-da789196bdf2"
      }
     }
    },
    "d3ff4f70-d660-4539-9137-e4527bd3a037": {
     "id": "d3ff4f70-d660-4539-9137-e4527bd3a037",
     "prev": "e0e36665-deb0-47e8-84cb-0b5fef064b3f",
     "regions": {
      "ee7153f1-fa35-4829-a0d1-735a242bce6a": {
       "attrs": {
        "height": 0.8,
        "width": 0.8,
        "x": 0.1,
        "y": 0.1
       },
       "content": {
        "cell": "4c808740-63a3-47f2-a0a8-43c14d8cbe86",
        "part": "whole"
       },
       "id": "ee7153f1-fa35-4829-a0d1-735a242bce6a"
      }
     }
    },
    "ddb6f65b-5ab3-46ba-83ff-3b3e02611add": {
     "id": "ddb6f65b-5ab3-46ba-83ff-3b3e02611add",
     "prev": "32d7263a-2271-4dc2-b86a-b2256ffdc9cb",
     "regions": {
      "b3668e17-63e7-4054-a95b-b6a05dbfdb01": {
       "attrs": {
        "height": 0.8,
        "width": 0.8,
        "x": 0.1,
        "y": 0.1
       },
       "content": {
        "cell": "61b339ae-3521-4bf5-a70c-1650cba78b91",
        "part": "whole"
       },
       "id": "b3668e17-63e7-4054-a95b-b6a05dbfdb01"
      }
     }
    },
    "e07f6fa5-3367-455a-b25c-71bfce44b0be": {
     "id": "e07f6fa5-3367-455a-b25c-71bfce44b0be",
     "prev": "c1ae913b-4c88-4662-9fe7-f8a8da34f664",
     "regions": {
      "ee290636-135f-4e34-85dd-0a1cd48c562f": {
       "attrs": {
        "height": 0.8,
        "width": 0.8,
        "x": 0.1,
        "y": 0.1
       },
       "content": {
        "cell": "0b06b27d-470e-4a2e-a8b5-89d138f4fdc1",
        "part": "whole"
       },
       "id": "ee290636-135f-4e34-85dd-0a1cd48c562f"
      }
     }
    },
    "e0e36665-deb0-47e8-84cb-0b5fef064b3f": {
     "id": "e0e36665-deb0-47e8-84cb-0b5fef064b3f",
     "prev": "e50bb0af-5363-4773-9339-e8a1ab50c6b9",
     "regions": {
      "644cdf36-9e83-48b4-a167-f65fab7efc9f": {
       "attrs": {
        "height": 0.8,
        "width": 0.8,
        "x": 0.1,
        "y": 0.1
       },
       "content": {
        "cell": "47b63f8b-0e0f-41b5-835a-51cf62432be9",
        "part": "whole"
       },
       "id": "644cdf36-9e83-48b4-a167-f65fab7efc9f"
      }
     }
    },
    "e37427a7-7955-4731-98a4-aa0f41f5c9e5": {
     "id": "e37427a7-7955-4731-98a4-aa0f41f5c9e5",
     "prev": "e46e96e6-c65c-4ffa-8eeb-564de1b17277",
     "regions": {
      "e1413d4c-787c-4f41-a3bf-849c551d1570": {
       "attrs": {
        "height": 0.8,
        "width": 0.8,
        "x": 0.1,
        "y": 0.1
       },
       "content": {
        "cell": "d2e4d724-c6a2-4a4d-96e7-a7dc9c321262",
        "part": "whole"
       },
       "id": "e1413d4c-787c-4f41-a3bf-849c551d1570"
      }
     }
    },
    "e46e96e6-c65c-4ffa-8eeb-564de1b17277": {
     "id": "e46e96e6-c65c-4ffa-8eeb-564de1b17277",
     "prev": "0499f131-2db5-476a-9578-52f207cd862c",
     "regions": {
      "a895c5fc-1dba-4069-9546-b394f2cbc27d": {
       "attrs": {
        "height": 0.8,
        "width": 0.8,
        "x": 0.1,
        "y": 0.1
       },
       "content": {
        "cell": "b92f4e07-6f55-4519-945f-7c07f1eb7b70",
        "part": "whole"
       },
       "id": "a895c5fc-1dba-4069-9546-b394f2cbc27d"
      }
     }
    },
    "e50bb0af-5363-4773-9339-e8a1ab50c6b9": {
     "id": "e50bb0af-5363-4773-9339-e8a1ab50c6b9",
     "prev": "ab690fce-5d0b-45e9-8f08-54077454c819",
     "regions": {
      "46af9212-fa9b-4a60-a74c-daf7747b40c7": {
       "attrs": {
        "height": 0.8,
        "width": 0.8,
        "x": 0.1,
        "y": 0.1
       },
       "content": {
        "cell": "7645c1c7-140d-4530-99f3-3dfc22d1c7c8",
        "part": "whole"
       },
       "id": "46af9212-fa9b-4a60-a74c-daf7747b40c7"
      }
     }
    },
    "e5c8eac8-33c1-4a8f-a108-745abaeefb0a": {
     "id": "e5c8eac8-33c1-4a8f-a108-745abaeefb0a",
     "prev": "0a789817-77c7-439f-a585-3d4986b955ee",
     "regions": {
      "5890f845-115a-43f2-86da-069fd6de3cdd": {
       "attrs": {
        "height": 0.8,
        "width": 0.8,
        "x": 0.1,
        "y": 0.1
       },
       "content": {
        "cell": "7da726fd-3214-4863-bdbc-1968bd901b78",
        "part": "whole"
       },
       "id": "5890f845-115a-43f2-86da-069fd6de3cdd"
      }
     }
    },
    "e966ff0d-567f-4ad2-928e-4564964cc06a": {
     "id": "e966ff0d-567f-4ad2-928e-4564964cc06a",
     "prev": "cc9a801e-c4bd-4e1e-a69a-44c07a5ab558",
     "regions": {
      "43479c96-9448-4b46-9421-b1c80c7e23b9": {
       "attrs": {
        "height": 0.8,
        "width": 0.8,
        "x": 0.1,
        "y": 0.1
       },
       "content": {
        "cell": "c4a5e9d8-4bf3-4259-ab4f-d5569a8e55d7",
        "part": "whole"
       },
       "id": "43479c96-9448-4b46-9421-b1c80c7e23b9"
      }
     }
    },
    "ee43c751-413b-4ea3-b7fc-f86ac475c707": {
     "id": "ee43c751-413b-4ea3-b7fc-f86ac475c707",
     "prev": "9c8ace27-8797-4d39-96e3-8c3687fd13f0",
     "regions": {
      "0e16a3f0-9fbf-4999-854d-1a1e015bedcc": {
       "attrs": {
        "height": 0.8,
        "width": 0.8,
        "x": 0.1,
        "y": 0.1
       },
       "content": {
        "cell": "313b9bff-0a96-4dd4-b7c4-bec1645c36e2",
        "part": "whole"
       },
       "id": "0e16a3f0-9fbf-4999-854d-1a1e015bedcc"
      }
     }
    },
    "f0ff8a7b-cfdc-4ced-a3d1-13e347e6d5b9": {
     "id": "f0ff8a7b-cfdc-4ced-a3d1-13e347e6d5b9",
     "prev": "d3ff4f70-d660-4539-9137-e4527bd3a037",
     "regions": {
      "014e7be4-8816-4827-82eb-08a2424ea38d": {
       "attrs": {
        "height": 0.8,
        "width": 0.8,
        "x": 0.1,
        "y": 0.1
       },
       "content": {
        "cell": "ce68c61a-513c-4f81-99d9-496d08ddb4d0",
        "part": "whole"
       },
       "id": "014e7be4-8816-4827-82eb-08a2424ea38d"
      }
     }
    },
    "f1bf790d-a79c-452a-b440-9e7c33b1fe32": {
     "id": "f1bf790d-a79c-452a-b440-9e7c33b1fe32",
     "prev": "f2808be3-5857-42cd-ac6a-5ff48c94c111",
     "regions": {
      "1b9818dd-3b78-4ef0-b1b3-7556e10dfe6d": {
       "attrs": {
        "height": 0.8,
        "width": 0.8,
        "x": 0.1,
        "y": 0.1
       },
       "content": {
        "cell": "f74d23bd-2d1a-45ba-9e60-7158a300d642",
        "part": "whole"
       },
       "id": "1b9818dd-3b78-4ef0-b1b3-7556e10dfe6d"
      }
     }
    },
    "f2808be3-5857-42cd-ac6a-5ff48c94c111": {
     "id": "f2808be3-5857-42cd-ac6a-5ff48c94c111",
     "prev": "19a84014-3931-4525-853c-577e7312d273",
     "regions": {
      "4c62c8a7-c292-41ea-b3bc-812db94e39b6": {
       "attrs": {
        "height": 0.8,
        "width": 0.8,
        "x": 0.1,
        "y": 0.1
       },
       "content": {
        "cell": "fff5e681-4f89-449c-9ff0-127206f2d854",
        "part": "whole"
       },
       "id": "4c62c8a7-c292-41ea-b3bc-812db94e39b6"
      }
     }
    },
    "f7fab5d7-efca-4a06-8f17-baed2c63d7cb": {
     "id": "f7fab5d7-efca-4a06-8f17-baed2c63d7cb",
     "prev": "f1bf790d-a79c-452a-b440-9e7c33b1fe32",
     "regions": {
      "09a04833-8304-4141-8c3d-3a6cf11dba83": {
       "attrs": {
        "height": 0.8,
        "width": 0.8,
        "x": 0.1,
        "y": 0.1
       },
       "content": {
        "cell": "df00c893-600a-4b0c-8443-af7de3289795",
        "part": "whole"
       },
       "id": "09a04833-8304-4141-8c3d-3a6cf11dba83"
      }
     }
    }
   },
   "themes": {}
  },
  "toc": {
   "base_numbering": 1,
   "nav_menu": {},
   "number_sections": false,
   "sideBar": true,
   "skip_h1_title": false,
   "title_cell": "Table of Contents",
   "title_sidebar": "Contents",
   "toc_cell": false,
   "toc_position": {
    "height": "calc(100% - 180px)",
    "left": "10px",
    "top": "150px",
    "width": "165px"
   },
   "toc_section_display": true,
   "toc_window_display": true
  }
 },
 "nbformat": 4,
 "nbformat_minor": 1
}
