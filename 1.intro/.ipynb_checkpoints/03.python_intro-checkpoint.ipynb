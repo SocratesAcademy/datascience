{
 "cells": [
  {
   "cell_type": "markdown",
   "metadata": {
    "collapsed": true,
    "slideshow": {
     "slide_type": "slide"
    }
   },
   "source": [
    "***\n",
    "# 数据科学的编程工具\n",
    "> # Python使用简介\n",
    "***\n",
    "\n",
    "王成军\n",
    "\n",
    "wangchengjun@nju.edu.cn\n",
    "\n",
    "计算传播网 http://computational-communication.com"
   ]
  },
  {
   "cell_type": "markdown",
   "metadata": {
    "slideshow": {
     "slide_type": "slide"
    }
   },
   "source": [
    "## 参考资料\n",
    "- 课程代码 http://github.com/computational-class/datascience\n",
    "- 课程讲义 https://computational-class.github.io/ccbook/"
   ]
  },
  {
   "cell_type": "markdown",
   "metadata": {
    "slideshow": {
     "slide_type": "slide"
    }
   },
   "source": [
    "# 人生苦短，我用Python。\n",
    "\n",
    "Python（/ˈpaɪθən/）是一种面向对象、解释型计算机程序设计语言\n",
    "- 由Guido van Rossum于1989年底发明\n",
    "- 第一个公开发行版发行于1991年\n",
    "- Python语法简洁而清晰\n",
    "- 具有强大的标准库和丰富的第三方模块\n",
    "- 它常被昵称为胶水语言\n",
    "- TIOBE编程语言排行榜“2010年度编程语言”\n",
    "\n"
   ]
  },
  {
   "cell_type": "markdown",
   "metadata": {
    "slideshow": {
     "slide_type": "slide"
    }
   },
   "source": [
    "# 特点\n",
    "- 免费、功能强大、使用者众多\n",
    "- 与R和MATLAB相比，Python是一门更易学、更严谨的程序设计语言。使用Python编写的脚本更易于理解和维护。\n",
    "- 如同其它编程语言一样，Python语言的基础知识包括：类型、列表（list）和元组（tuple）、字典（dictionary）、条件、循环、异常处理等。\n",
    "- 关于这些，初阶读者可以阅读《Beginning Python》一书（Hetland, 2005)。\n"
   ]
  },
  {
   "cell_type": "markdown",
   "metadata": {
    "slideshow": {
     "slide_type": "slide"
    }
   },
   "source": [
    "## Python中包含了丰富的类库。\n",
    "- 众多开源的科学计算软件包都提供了Python的调用接口\n",
    "    - 例如著名的计算机视觉库OpenCV。\n",
    "- Python本身的科学计算类库发展也十分完善\n",
    "    - 例如NumPy、SciPy和matplotlib等。\n",
    "- 就社会网络分析而言\n",
    "    - igraph, networkx, graph-tool, Snap.py"
   ]
  },
  {
   "cell_type": "markdown",
   "metadata": {
    "slideshow": {
     "slide_type": "slide"
    }
   },
   "source": [
    "## Python软件与IDE\n",
    "- 目前最新的Python版本为3.X。\n",
    "- 编译器是编写程序的重要工具。\n",
    "\n",
    "<del>免费的Python编译器有Spyder、PyCharm(免费社区版)、Ipython、Vim、 Emacs、 Eclipse(加上PyDev插件)。\n",
    "    \n",
    " - 推荐使用  **Jupyter Notebook**\n"
   ]
  },
  {
   "cell_type": "markdown",
   "metadata": {
    "collapsed": true,
    "slideshow": {
     "slide_type": "slide"
    }
   },
   "source": [
    "# Installing Anaconda Python\n",
    "- Use the Anaconda Python\n",
    "- https://www.anaconda.com/distribution/\n",
    "- https://mirrors.tuna.tsinghua.edu.cn/anaconda/archive/\n"
   ]
  },
  {
   "cell_type": "markdown",
   "metadata": {
    "slideshow": {
     "slide_type": "slide"
    }
   },
   "source": [
    "# 第三方包可以使用pip install的方法安装。\n",
    "- 可以点击ToolsOpen command prompt\n",
    "- 然后在打开的命令窗口中输入：\n"
   ]
  },
  {
   "cell_type": "markdown",
   "metadata": {
    "slideshow": {
     "slide_type": "fragment"
    }
   },
   "source": [
    "> pip install flownetwork"
   ]
  },
  {
   "cell_type": "code",
   "execution_count": 59,
   "metadata": {
    "ExecuteTime": {
     "end_time": "2020-02-27T09:43:37.590454Z",
     "start_time": "2020-02-27T09:43:32.547946Z"
    },
    "slideshow": {
     "slide_type": "slide"
    }
   },
   "outputs": [
    {
     "name": "stdout",
     "output_type": "stream",
     "text": [
      "9"
     ]
    }
   ],
   "source": [
    "from flownetwork import flownetwork as flow\n",
    "from time import sleep\n",
    "for i in range(10):\n",
    "    sleep(0.5)\n",
    "    flow.flushPrint(i)"
   ]
  },
  {
   "cell_type": "markdown",
   "metadata": {
    "slideshow": {
     "slide_type": "subslide"
    }
   },
   "source": [
    "- NumPy /SciPy for scientific computing\n",
    "- pandas to make Python usable for data analysis\n",
    "- matplotlib to make graphics\n",
    "- scikit-learn for machine learning\n"
   ]
  },
  {
   "cell_type": "markdown",
   "metadata": {
    "slideshow": {
     "slide_type": "slide"
    }
   },
   "source": [
    "# Python速成课程\n",
    "\n",
    "A crash course of Python"
   ]
  },
  {
   "cell_type": "code",
   "execution_count": 56,
   "metadata": {
    "ExecuteTime": {
     "end_time": "2020-03-02T14:15:22.565962Z",
     "start_time": "2020-03-02T14:15:22.562753Z"
    },
    "slideshow": {
     "slide_type": "subslide"
    }
   },
   "outputs": [],
   "source": [
    "import random, datetime\n",
    "import numpy as np\n",
    "import pylab as plt\n",
    "import matplotlib\n",
    "import statsmodels.api as sm\n",
    "from scipy.stats import norm\n",
    "from scipy.stats.stats import pearsonr"
   ]
  },
  {
   "cell_type": "markdown",
   "metadata": {
    "slideshow": {
     "slide_type": "slide"
    }
   },
   "source": [
    "## Part 1. Variable Type\n"
   ]
  },
  {
   "cell_type": "code",
   "execution_count": 8,
   "metadata": {
    "ExecuteTime": {
     "end_time": "2020-02-27T08:45:58.562435Z",
     "start_time": "2020-02-27T08:45:58.558112Z"
    },
    "slideshow": {
     "slide_type": "fragment"
    }
   },
   "outputs": [
    {
     "data": {
      "text/plain": [
       "('data science', 2020, 3.14)"
      ]
     },
     "execution_count": 8,
     "metadata": {},
     "output_type": "execute_result"
    }
   ],
   "source": [
    "# str, int, float\n",
    "v_str = 'data science'\n",
    "v_int = 2020\n",
    "v_float = 3.14\n",
    "\n",
    "v_str, v_int, v_float"
   ]
  },
  {
   "cell_type": "code",
   "execution_count": 24,
   "metadata": {
    "ExecuteTime": {
     "end_time": "2020-02-27T09:06:41.739260Z",
     "start_time": "2020-02-27T09:06:41.730297Z"
    },
    "slideshow": {
     "slide_type": "subslide"
    }
   },
   "outputs": [
    {
     "data": {
      "text/plain": [
       "'2020'"
      ]
     },
     "execution_count": 24,
     "metadata": {},
     "output_type": "execute_result"
    }
   ],
   "source": [
    "# str\n",
    "v_int2str = str(v_int)\n",
    "v_int2str"
   ]
  },
  {
   "cell_type": "code",
   "execution_count": 16,
   "metadata": {
    "ExecuteTime": {
     "end_time": "2020-02-27T08:49:01.755605Z",
     "start_time": "2020-02-27T08:49:01.752061Z"
    },
    "slideshow": {
     "slide_type": "fragment"
    }
   },
   "outputs": [
    {
     "data": {
      "text/plain": [
       "'3.14'"
      ]
     },
     "execution_count": 16,
     "metadata": {},
     "output_type": "execute_result"
    }
   ],
   "source": [
    "v_float2str = str(v_float)\n",
    "v_float2str"
   ]
  },
  {
   "cell_type": "code",
   "execution_count": 25,
   "metadata": {
    "ExecuteTime": {
     "end_time": "2020-02-27T09:07:22.643594Z",
     "start_time": "2020-02-27T09:07:22.635184Z"
    },
    "slideshow": {
     "slide_type": "subslide"
    }
   },
   "outputs": [
    {
     "data": {
      "text/plain": [
       "2020"
      ]
     },
     "execution_count": 25,
     "metadata": {},
     "output_type": "execute_result"
    }
   ],
   "source": [
    "# int\n",
    "int(v_int2str)"
   ]
  },
  {
   "cell_type": "code",
   "execution_count": 26,
   "metadata": {
    "ExecuteTime": {
     "end_time": "2020-02-27T09:07:32.594117Z",
     "start_time": "2020-02-27T09:07:32.589406Z"
    },
    "slideshow": {
     "slide_type": "fragment"
    }
   },
   "outputs": [
    {
     "data": {
      "text/plain": [
       "3.14"
      ]
     },
     "execution_count": 26,
     "metadata": {},
     "output_type": "execute_result"
    }
   ],
   "source": [
    "# float\n",
    "float(v_float2str)"
   ]
  },
  {
   "cell_type": "markdown",
   "metadata": {
    "slideshow": {
     "slide_type": "slide"
    }
   },
   "source": [
    "## Part2. help & dir\n",
    "\n",
    "当你想要了解对象的详细信息时使用"
   ]
  },
  {
   "cell_type": "code",
   "execution_count": 28,
   "metadata": {
    "ExecuteTime": {
     "end_time": "2020-02-27T09:10:03.137762Z",
     "start_time": "2020-02-27T09:10:03.135652Z"
    },
    "slideshow": {
     "slide_type": "subslide"
    }
   },
   "outputs": [],
   "source": [
    "#help(str)"
   ]
  },
  {
   "cell_type": "code",
   "execution_count": 21,
   "metadata": {
    "ExecuteTime": {
     "end_time": "2020-02-27T08:52:29.617949Z",
     "start_time": "2020-02-27T08:52:29.608947Z"
    },
    "slideshow": {
     "slide_type": "subslide"
    }
   },
   "outputs": [
    {
     "name": "stdout",
     "output_type": "stream",
     "text": [
      "__add__ __class__ __contains__ __delattr__ __dir__ __doc__ __eq__ __format__ __ge__ __getattribute__ __getitem__ __getnewargs__ __gt__ __hash__ __init__ __init_subclass__ __iter__ __le__ __len__ __lt__ __mod__ __mul__ __ne__ __new__ __reduce__ __reduce_ex__ __repr__ __rmod__ __rmul__ __setattr__ __sizeof__ __str__ __subclasshook__ capitalize casefold center count encode endswith expandtabs find format format_map index isalnum isalpha isascii isdecimal isdigit isidentifier islower isnumeric isprintable isspace istitle isupper join ljust lower lstrip maketrans partition replace rfind rindex rjust rpartition rsplit rstrip split splitlines startswith strip swapcase title translate upper zfill\n"
     ]
    }
   ],
   "source": [
    "dir_str = dir(str)\n",
    "print(*dir_str)"
   ]
  },
  {
   "cell_type": "code",
   "execution_count": 29,
   "metadata": {
    "ExecuteTime": {
     "end_time": "2020-02-27T09:11:21.998510Z",
     "start_time": "2020-02-27T09:11:21.995620Z"
    },
    "slideshow": {
     "slide_type": "fragment"
    }
   },
   "outputs": [],
   "source": [
    "#help(dir)"
   ]
  },
  {
   "cell_type": "code",
   "execution_count": 1,
   "metadata": {
    "ExecuteTime": {
     "end_time": "2020-03-03T01:06:04.019465Z",
     "start_time": "2020-03-03T01:06:04.015007Z"
    },
    "slideshow": {
     "slide_type": "subslide"
    }
   },
   "outputs": [],
   "source": [
    "dir?"
   ]
  },
  {
   "cell_type": "markdown",
   "metadata": {
    "slideshow": {
     "slide_type": "slide"
    }
   },
   "source": [
    "## Part3. Strings "
   ]
  },
  {
   "cell_type": "code",
   "execution_count": 30,
   "metadata": {
    "ExecuteTime": {
     "end_time": "2020-02-27T09:11:58.661838Z",
     "start_time": "2020-02-27T09:11:58.659540Z"
    },
    "slideshow": {
     "slide_type": "fragment"
    }
   },
   "outputs": [],
   "source": [
    "x = ' Hello WorlD  '"
   ]
  },
  {
   "cell_type": "markdown",
   "metadata": {
    "slideshow": {
     "slide_type": "subslide"
    }
   },
   "source": [
    "### Type\n",
    "当你想要了解变量类型时使用type"
   ]
  },
  {
   "cell_type": "code",
   "execution_count": 31,
   "metadata": {
    "ExecuteTime": {
     "end_time": "2020-02-27T09:12:11.948902Z",
     "start_time": "2020-02-27T09:12:11.941041Z"
    },
    "slideshow": {
     "slide_type": "subslide"
    }
   },
   "outputs": [
    {
     "data": {
      "text/plain": [
       "str"
      ]
     },
     "execution_count": 31,
     "metadata": {},
     "output_type": "execute_result"
    }
   ],
   "source": [
    "type(x)"
   ]
  },
  {
   "cell_type": "code",
   "execution_count": 32,
   "metadata": {
    "ExecuteTime": {
     "end_time": "2020-02-27T09:12:34.615722Z",
     "start_time": "2020-02-27T09:12:34.610417Z"
    },
    "slideshow": {
     "slide_type": "subslide"
    }
   },
   "outputs": [
    {
     "data": {
      "text/plain": [
       "' hello world  '"
      ]
     },
     "execution_count": 32,
     "metadata": {},
     "output_type": "execute_result"
    }
   ],
   "source": [
    "# lower\n",
    "x.lower()"
   ]
  },
  {
   "cell_type": "code",
   "execution_count": 19,
   "metadata": {
    "ExecuteTime": {
     "end_time": "2020-02-25T01:07:11.489364Z",
     "start_time": "2020-02-25T01:07:11.486061Z"
    },
    "slideshow": {
     "slide_type": "fragment"
    }
   },
   "outputs": [
    {
     "data": {
      "text/plain": [
       "' HELLO WORLD  '"
      ]
     },
     "execution_count": 19,
     "metadata": {},
     "output_type": "execute_result"
    }
   ],
   "source": [
    "# upper\n",
    "x.upper()"
   ]
  },
  {
   "cell_type": "code",
   "execution_count": 34,
   "metadata": {
    "ExecuteTime": {
     "end_time": "2020-02-27T09:13:11.835452Z",
     "start_time": "2020-02-27T09:13:11.831629Z"
    },
    "slideshow": {
     "slide_type": "fragment"
    }
   },
   "outputs": [
    {
     "data": {
      "text/plain": [
       "'Hello WorlD  '"
      ]
     },
     "execution_count": 34,
     "metadata": {},
     "output_type": "execute_result"
    }
   ],
   "source": [
    "# rstrip\n",
    "x.rstrip()"
   ]
  },
  {
   "cell_type": "code",
   "execution_count": 35,
   "metadata": {
    "ExecuteTime": {
     "end_time": "2020-02-27T09:13:21.895986Z",
     "start_time": "2020-02-27T09:13:21.891595Z"
    },
    "slideshow": {
     "slide_type": "fragment"
    }
   },
   "outputs": [
    {
     "data": {
      "text/plain": [
       "'Hello WorlD'"
      ]
     },
     "execution_count": 35,
     "metadata": {},
     "output_type": "execute_result"
    }
   ],
   "source": [
    "# strip\n",
    "x.strip()"
   ]
  },
  {
   "cell_type": "code",
   "execution_count": 36,
   "metadata": {
    "ExecuteTime": {
     "end_time": "2020-02-27T09:13:52.737837Z",
     "start_time": "2020-02-27T09:13:52.726821Z"
    },
    "slideshow": {
     "slide_type": "subslide"
    }
   },
   "outputs": [
    {
     "data": {
      "text/plain": [
       "' Hel WorlD  '"
      ]
     },
     "execution_count": 36,
     "metadata": {},
     "output_type": "execute_result"
    }
   ],
   "source": [
    "# replace\n",
    "x.replace('lo', '') "
   ]
  },
  {
   "cell_type": "code",
   "execution_count": 37,
   "metadata": {
    "ExecuteTime": {
     "end_time": "2020-02-27T09:14:37.279462Z",
     "start_time": "2020-02-27T09:14:37.275666Z"
    },
    "slideshow": {
     "slide_type": "fragment"
    }
   },
   "outputs": [
    {
     "data": {
      "text/plain": [
       "[' Hel', ' WorlD  ']"
      ]
     },
     "execution_count": 37,
     "metadata": {},
     "output_type": "execute_result"
    }
   ],
   "source": [
    "# split\n",
    "x.split('lo')"
   ]
  },
  {
   "cell_type": "code",
   "execution_count": 41,
   "metadata": {
    "ExecuteTime": {
     "end_time": "2020-02-27T09:15:37.203625Z",
     "start_time": "2020-02-27T09:15:37.198620Z"
    },
    "slideshow": {
     "slide_type": "subslide"
    }
   },
   "outputs": [
    {
     "data": {
      "text/plain": [
       "'a, b, c'"
      ]
     },
     "execution_count": 41,
     "metadata": {},
     "output_type": "execute_result"
    }
   ],
   "source": [
    "# join \n",
    "alist = ['a', 'b', 'c']\n",
    "\n",
    "', '.join(alist) "
   ]
  },
  {
   "cell_type": "markdown",
   "metadata": {
    "slideshow": {
     "slide_type": "subslide"
    }
   },
   "source": [
    "## 作业\n",
    "\n",
    "编写python代码，数一下这一段话共有多少个单词？\n",
    "\n",
    "> Republic begins by posing a central question: \"What is justice, and why should we be just, especially when the wicked often seem happier and more successful?\" For Plato, the answer lies with the ways people, groups, and institutions organize and behave. A brilliant inquiry into the problems of constructing the perfect state, and the roles education, the arts, family, and religion should play in our lives, Republic employs picturesque settings, sharply outlined characters, and conversational dialogue to drive home the philosopher's often provocative arguments.\n",
    "\n"
   ]
  },
  {
   "cell_type": "code",
   "execution_count": 58,
   "metadata": {
    "ExecuteTime": {
     "end_time": "2020-02-27T09:40:28.663147Z",
     "start_time": "2020-02-27T09:40:28.657981Z"
    },
    "slideshow": {
     "slide_type": "skip"
    }
   },
   "outputs": [
    {
     "data": {
      "text/plain": [
       "84"
      ]
     },
     "execution_count": 58,
     "metadata": {},
     "output_type": "execute_result"
    }
   ],
   "source": [
    "s = '''Republic begins by posing a central question: \"What is justice, and why should we be just, especially when the wicked often seem happier and more successful?\" For Plato, the answer lies with the ways people, groups, and institutions organize and behave. A brilliant inquiry into the problems of constructing the perfect state, and the roles education, the arts, family, and religion should play in our lives, Republic employs picturesque settings, sharply outlined characters, and conversational dialogue to drive home the philosopher's often provocative arguments.'''\n",
    "\n",
    "s = s.replace(',', '').replace('.', '').replace(':', '').replace('\"', '').replace('?', '').replace(\"'s\", '')\n",
    "s = s.lower()\n",
    "s = s.split(' ')\n",
    "len(s)\n"
   ]
  },
  {
   "cell_type": "markdown",
   "metadata": {
    "slideshow": {
     "slide_type": "slide"
    }
   },
   "source": [
    "## Part 4. Data Structure\n",
    "- list 列表\n",
    "- tuple 元组\n",
    "- set 集合\n",
    "- dictionary 字典\n",
    "- array 数组\n"
   ]
  },
  {
   "cell_type": "code",
   "execution_count": 31,
   "metadata": {
    "ExecuteTime": {
     "end_time": "2020-02-25T01:17:29.235255Z",
     "start_time": "2020-02-25T01:17:29.230096Z"
    },
    "slideshow": {
     "slide_type": "subslide"
    }
   },
   "outputs": [
    {
     "name": "stdout",
     "output_type": "stream",
     "text": [
      "[1, 2, 3, 3] (1, 2, 3, 3) {1, 2, 3} {'a': 1, 'b': 2, 'c': 3} [1 2 3 3]\n"
     ]
    }
   ],
   "source": [
    "l = [1, 2, 3, 3] # list 列表\n",
    "t = (1, 2, 3, 3) # tuple 元组\n",
    "s = {1, 2, 3, 3} # set 集合\n",
    "# s = set([1,2,3,3]) # set\n",
    "d = {'a':1,'b':2,'c':3} # dict 字典\n",
    "a = np.array(l) # array 数组\n",
    "print(l, t, s, d, a)\n"
   ]
  },
  {
   "cell_type": "code",
   "execution_count": 61,
   "metadata": {
    "ExecuteTime": {
     "end_time": "2020-02-27T09:55:14.467615Z",
     "start_time": "2020-02-27T09:55:14.460598Z"
    },
    "slideshow": {
     "slide_type": "subslide"
    }
   },
   "outputs": [
    {
     "data": {
      "text/plain": [
       "4"
      ]
     },
     "execution_count": 61,
     "metadata": {},
     "output_type": "execute_result"
    }
   ],
   "source": [
    "l = [1,2,3,3]\n",
    "len(l)"
   ]
  },
  {
   "cell_type": "code",
   "execution_count": 62,
   "metadata": {
    "ExecuteTime": {
     "end_time": "2020-02-27T09:55:16.536682Z",
     "start_time": "2020-02-27T09:55:16.533101Z"
    },
    "slideshow": {
     "slide_type": "fragment"
    }
   },
   "outputs": [
    {
     "data": {
      "text/plain": [
       "[1, 2, 3, 3, 4]"
      ]
     },
     "execution_count": 62,
     "metadata": {},
     "output_type": "execute_result"
    }
   ],
   "source": [
    "l.append(4)\n",
    "l"
   ]
  },
  {
   "cell_type": "code",
   "execution_count": 63,
   "metadata": {
    "ExecuteTime": {
     "end_time": "2020-02-27T09:56:26.664528Z",
     "start_time": "2020-02-27T09:56:26.660500Z"
    },
    "slideshow": {
     "slide_type": "fragment"
    }
   },
   "outputs": [
    {
     "data": {
      "text/plain": [
       "[1, 2, 3, 4, 5]"
      ]
     },
     "execution_count": 63,
     "metadata": {},
     "output_type": "execute_result"
    }
   ],
   "source": [
    "[1, 2, 3] + [4, 5]"
   ]
  },
  {
   "cell_type": "code",
   "execution_count": 36,
   "metadata": {
    "ExecuteTime": {
     "end_time": "2020-02-25T01:20:47.541182Z",
     "start_time": "2020-02-25T01:20:47.537084Z"
    },
    "slideshow": {
     "slide_type": "subslide"
    }
   },
   "outputs": [
    {
     "data": {
      "text/plain": [
       "2"
      ]
     },
     "execution_count": 36,
     "metadata": {},
     "output_type": "execute_result"
    }
   ],
   "source": [
    "d = {'a':1,'b':2,'c':3} # dict\n",
    "d['b']"
   ]
  },
  {
   "cell_type": "code",
   "execution_count": 33,
   "metadata": {
    "ExecuteTime": {
     "end_time": "2020-02-25T01:19:29.933505Z",
     "start_time": "2020-02-25T01:19:29.929760Z"
    },
    "slideshow": {
     "slide_type": "fragment"
    }
   },
   "outputs": [
    {
     "data": {
      "text/plain": [
       "dict_keys(['a', 'b', 'c'])"
      ]
     },
     "execution_count": 33,
     "metadata": {},
     "output_type": "execute_result"
    }
   ],
   "source": [
    "d = {'a':1,'b':2,'c':3} # dict\n",
    "d.keys() "
   ]
  },
  {
   "cell_type": "code",
   "execution_count": 34,
   "metadata": {
    "ExecuteTime": {
     "end_time": "2020-02-25T01:19:54.328945Z",
     "start_time": "2020-02-25T01:19:54.324717Z"
    },
    "slideshow": {
     "slide_type": "fragment"
    }
   },
   "outputs": [
    {
     "data": {
      "text/plain": [
       "dict_values([1, 2, 3])"
      ]
     },
     "execution_count": 34,
     "metadata": {},
     "output_type": "execute_result"
    }
   ],
   "source": [
    "d = {'a':1,'b':2,'c':3} # dict\n",
    "d.values()"
   ]
  },
  {
   "cell_type": "code",
   "execution_count": 28,
   "metadata": {
    "ExecuteTime": {
     "end_time": "2018-09-12T07:41:50.545469Z",
     "start_time": "2018-09-12T07:41:50.540708Z"
    },
    "slideshow": {
     "slide_type": "fragment"
    }
   },
   "outputs": [
    {
     "data": {
      "text/plain": [
       "dict_items([('b', 2), ('a', 1), ('c', 3)])"
      ]
     },
     "execution_count": 28,
     "metadata": {},
     "output_type": "execute_result"
    }
   ],
   "source": [
    "d = {'a':1,'b':2,'c':3} # dict\n",
    "d.items()"
   ]
  },
  {
   "cell_type": "markdown",
   "metadata": {
    "slideshow": {
     "slide_type": "slide"
    }
   },
   "source": [
    "## Part 5. 定义函数 & For 循环"
   ]
  },
  {
   "cell_type": "code",
   "execution_count": 38,
   "metadata": {
    "ExecuteTime": {
     "end_time": "2020-02-25T01:24:14.775939Z",
     "start_time": "2020-02-25T01:24:14.773480Z"
    },
    "code_folding": [
     0
    ],
    "slideshow": {
     "slide_type": "fragment"
    }
   },
   "outputs": [],
   "source": [
    "def devidePlus(m, n): # 结尾是冒号\n",
    "    y = m/n + 1 # 注意：空格\n",
    "    return y          # 注意：return"
   ]
  },
  {
   "cell_type": "code",
   "execution_count": 67,
   "metadata": {
    "ExecuteTime": {
     "end_time": "2020-02-27T11:41:43.122995Z",
     "start_time": "2020-02-27T11:41:43.118766Z"
    },
    "slideshow": {
     "slide_type": "fragment"
    }
   },
   "outputs": [
    {
     "name": "stdout",
     "output_type": "stream",
     "text": [
      "0 1 2 3 4 5 6 7 8 9\n"
     ]
    }
   ],
   "source": [
    "print(*range(10))"
   ]
  },
  {
   "cell_type": "code",
   "execution_count": 68,
   "metadata": {
    "ExecuteTime": {
     "end_time": "2020-02-27T11:42:01.164580Z",
     "start_time": "2020-02-27T11:42:01.159741Z"
    },
    "code_folding": [],
    "scrolled": true,
    "slideshow": {
     "slide_type": "fragment"
    }
   },
   "outputs": [
    {
     "name": "stdout",
     "output_type": "stream",
     "text": [
      "1\n",
      "2\n",
      "3\n",
      "4\n",
      "5\n",
      "6\n",
      "7\n",
      "8\n",
      "9\n"
     ]
    }
   ],
   "source": [
    "for i in range(1, 10):\n",
    "    print(i)"
   ]
  },
  {
   "cell_type": "code",
   "execution_count": 43,
   "metadata": {
    "ExecuteTime": {
     "end_time": "2020-02-25T01:24:59.738742Z",
     "start_time": "2020-02-25T01:24:59.732819Z"
    },
    "slideshow": {
     "slide_type": "fragment"
    }
   },
   "outputs": [
    {
     "name": "stdout",
     "output_type": "stream",
     "text": [
      "0 0 0\n",
      "1 10 1\n",
      "2 20 4\n",
      "3 30 9\n",
      "4 40 16\n",
      "5 50 25\n",
      "6 60 36\n",
      "7 70 49\n",
      "8 80 64\n",
      "9 90 81\n"
     ]
    }
   ],
   "source": [
    "for i in range(10):\n",
    "    print(i, i*10, i**2)"
   ]
  },
  {
   "cell_type": "code",
   "execution_count": 45,
   "metadata": {
    "ExecuteTime": {
     "end_time": "2020-02-25T01:25:31.013871Z",
     "start_time": "2020-02-25T01:25:31.006598Z"
    },
    "slideshow": {
     "slide_type": "fragment"
    }
   },
   "outputs": [
    {
     "name": "stdout",
     "output_type": "stream",
     "text": [
      "1.0\n",
      "1.5\n",
      "2.0\n",
      "2.5\n",
      "3.0\n",
      "3.5\n",
      "4.0\n",
      "4.5\n",
      "5.0\n",
      "5.5\n"
     ]
    }
   ],
   "source": [
    "for i in range(10):\n",
    "    print(devidePlus(i, 2))"
   ]
  },
  {
   "cell_type": "code",
   "execution_count": 69,
   "metadata": {
    "ExecuteTime": {
     "end_time": "2020-02-27T11:43:04.798168Z",
     "start_time": "2020-02-27T11:43:04.792610Z"
    },
    "slideshow": {
     "slide_type": "subslide"
    }
   },
   "outputs": [
    {
     "data": {
      "text/plain": [
       "[1.0, 1.5, 2.0, 2.5, 3.0, 3.5, 4.0, 4.5, 5.0, 5.5]"
      ]
     },
     "execution_count": 69,
     "metadata": {},
     "output_type": "execute_result"
    }
   ],
   "source": [
    "# 列表内部的for循环  列表推演 list comprehension\n",
    "r = [devidePlus(i, 2) for i in range(10)]\n",
    "r  "
   ]
  },
  {
   "cell_type": "code",
   "execution_count": 70,
   "metadata": {
    "ExecuteTime": {
     "end_time": "2020-02-27T11:44:14.323163Z",
     "start_time": "2020-02-27T11:44:14.319086Z"
    },
    "slideshow": {
     "slide_type": "subslide"
    }
   },
   "outputs": [
    {
     "name": "stdout",
     "output_type": "stream",
     "text": [
      "3.0 4.0 1.4\n"
     ]
    }
   ],
   "source": [
    "m1 = map(devidePlus, [4,3,2], [2, 1, 5])\n",
    "print(*m1)\n",
    "#print(*map(devidePlus, [4,3,2], [2, 1, 5]))\n",
    "# 注意： 将（4， 2)作为一个组合进行计算，将（3， 1）作为一个组合进行计算"
   ]
  },
  {
   "cell_type": "code",
   "execution_count": 71,
   "metadata": {
    "ExecuteTime": {
     "end_time": "2020-02-27T11:44:57.096297Z",
     "start_time": "2020-02-27T11:44:57.091920Z"
    },
    "slideshow": {
     "slide_type": "fragment"
    }
   },
   "outputs": [
    {
     "name": "stdout",
     "output_type": "stream",
     "text": [
      "3.0 4.0 1.4\n"
     ]
    }
   ],
   "source": [
    "m2 = map(lambda x, y: x/y+1, [4, 3, 2], [2,1,5])\n",
    "print(*m2) "
   ]
  },
  {
   "cell_type": "code",
   "execution_count": 72,
   "metadata": {
    "ExecuteTime": {
     "end_time": "2020-02-27T11:45:29.597831Z",
     "start_time": "2020-02-27T11:45:29.593187Z"
    },
    "slideshow": {
     "slide_type": "fragment"
    }
   },
   "outputs": [
    {
     "name": "stdout",
     "output_type": "stream",
     "text": [
      "0 4 9 13 14\n"
     ]
    }
   ],
   "source": [
    "m3 = map(lambda x, y, z: x + y - z, [1, 3, 5, 7, 9], [2, 4, 6, 8, 10], [3, 3, 2, 2, 5])\n",
    "print(*m3)"
   ]
  },
  {
   "cell_type": "markdown",
   "metadata": {
    "slideshow": {
     "slide_type": "slide"
    }
   },
   "source": [
    "# if elif else 语句"
   ]
  },
  {
   "cell_type": "code",
   "execution_count": 73,
   "metadata": {
    "ExecuteTime": {
     "end_time": "2020-02-27T11:47:34.604422Z",
     "start_time": "2020-02-27T11:47:34.597350Z"
    },
    "slideshow": {
     "slide_type": "fragment"
    }
   },
   "outputs": [
    {
     "name": "stdout",
     "output_type": "stream",
     "text": [
      "余数是1\n"
     ]
    }
   ],
   "source": [
    "j = 3\n",
    "if j%2 == 1:\n",
    "    print(r'余数是1')\n",
    "elif j%2 ==0:\n",
    "    print(r'余数是0')\n",
    "else:\n",
    "    print(r'余数既不是1也不是0')"
   ]
  },
  {
   "cell_type": "code",
   "execution_count": 74,
   "metadata": {
    "ExecuteTime": {
     "end_time": "2020-02-27T11:48:46.384702Z",
     "start_time": "2020-02-27T11:48:46.378110Z"
    },
    "slideshow": {
     "slide_type": "subslide"
    }
   },
   "outputs": [
    {
     "name": "stdout",
     "output_type": "stream",
     "text": [
      "5 0 10\n"
     ]
    }
   ],
   "source": [
    "x = 5\n",
    "if x < 5:\n",
    "    y = -1\n",
    "    z = 5\n",
    "elif x > 5:\n",
    "    y = 1\n",
    "    z = 11\n",
    "else:\n",
    "    y = 0\n",
    "    z = 10\n",
    "print(x, y, z) "
   ]
  },
  {
   "cell_type": "markdown",
   "metadata": {
    "slideshow": {
     "slide_type": "slide"
    }
   },
   "source": [
    "# while循环"
   ]
  },
  {
   "cell_type": "code",
   "execution_count": 75,
   "metadata": {
    "ExecuteTime": {
     "end_time": "2020-02-27T11:51:01.342343Z",
     "start_time": "2020-02-27T11:51:01.337738Z"
    },
    "slideshow": {
     "slide_type": "fragment"
    }
   },
   "outputs": [
    {
     "name": "stdout",
     "output_type": "stream",
     "text": [
      "0\n",
      "1\n",
      "2\n",
      "3\n",
      "4\n",
      "5\n",
      "6\n",
      "7\n",
      "8\n",
      "9\n"
     ]
    }
   ],
   "source": [
    "j = 0\n",
    "while j <10:\n",
    "    print(j)\n",
    "    j+=1 # avoid dead loop j = j+1"
   ]
  },
  {
   "cell_type": "code",
   "execution_count": 56,
   "metadata": {
    "ExecuteTime": {
     "end_time": "2020-02-25T01:34:43.361333Z",
     "start_time": "2020-02-25T01:34:43.353079Z"
    },
    "code_folding": [
     1
    ],
    "slideshow": {
     "slide_type": "subslide"
    }
   },
   "outputs": [
    {
     "name": "stdout",
     "output_type": "stream",
     "text": [
      "1\n",
      "9\n",
      "25\n",
      "49\n",
      "81\n"
     ]
    }
   ],
   "source": [
    "j = 0\n",
    "while j <10:\n",
    "    if j%2 != 0: \n",
    "        print(j**2)\n",
    "    j+=1 # avoid dead loop "
   ]
  },
  {
   "cell_type": "code",
   "execution_count": 76,
   "metadata": {
    "ExecuteTime": {
     "end_time": "2020-02-27T11:52:33.684842Z",
     "start_time": "2020-02-27T11:52:33.679206Z"
    },
    "code_folding": [
     1
    ],
    "slideshow": {
     "slide_type": "fragment"
    }
   },
   "outputs": [
    {
     "name": "stdout",
     "output_type": "stream",
     "text": [
      "1\n",
      "9\n",
      "25\n",
      "49\n",
      "81\n",
      "121\n",
      "169\n",
      "225\n",
      "289\n",
      "361\n",
      "441\n",
      "529\n",
      "625\n",
      "729\n",
      "841\n"
     ]
    }
   ],
   "source": [
    "j = 0\n",
    "while j <50:\n",
    "    if j == 30:\n",
    "        break\n",
    "    if j%2 != 0: \n",
    "        print(j**2)\n",
    "    j+=1 # avoid dead loop"
   ]
  },
  {
   "cell_type": "code",
   "execution_count": 79,
   "metadata": {
    "ExecuteTime": {
     "end_time": "2020-02-27T11:55:07.660653Z",
     "start_time": "2020-02-27T11:55:07.656771Z"
    },
    "slideshow": {
     "slide_type": "subslide"
    }
   },
   "outputs": [
    {
     "name": "stdout",
     "output_type": "stream",
     "text": [
      "4\n",
      "3\n"
     ]
    }
   ],
   "source": [
    "a = 4\n",
    "while a: # 0, None, False, []\n",
    "    print(a) \n",
    "    a -= 1 # a = a-1\n",
    "    if a == 2:\n",
    "        a = 0 # None # [] False"
   ]
  },
  {
   "cell_type": "markdown",
   "metadata": {
    "slideshow": {
     "slide_type": "slide"
    }
   },
   "source": [
    "# try except 异常处理"
   ]
  },
  {
   "cell_type": "code",
   "execution_count": 81,
   "metadata": {
    "ExecuteTime": {
     "end_time": "2020-02-27T11:58:48.970214Z",
     "start_time": "2020-02-27T11:58:48.965189Z"
    },
    "code_folding": [],
    "slideshow": {
     "slide_type": "fragment"
    }
   },
   "outputs": [
    {
     "name": "stdout",
     "output_type": "stream",
     "text": [
      "3.0\n",
      "0 division by zero\n",
      "1.8\n"
     ]
    }
   ],
   "source": [
    "# try except\n",
    "for i in [2, 0, 5]:\n",
    "#     devidePlus(4, i)\n",
    "    try:\n",
    "        print(devidePlus(4, i))\n",
    "    except Exception as e:\n",
    "        print(i, e)\n",
    "        pass "
   ]
  },
  {
   "cell_type": "code",
   "execution_count": 85,
   "metadata": {
    "ExecuteTime": {
     "end_time": "2020-02-27T12:02:20.362803Z",
     "start_time": "2020-02-27T12:02:20.357826Z"
    },
    "slideshow": {
     "slide_type": "subslide"
    }
   },
   "outputs": [
    {
     "name": "stdout",
     "output_type": "stream",
     "text": [
      "10.0\n",
      "10.0\n",
      "0 division by zero\n"
     ]
    }
   ],
   "source": [
    "alist = [[1,1], [0, 0, 1]]\n",
    "for aa in alist:\n",
    "    try:\n",
    "        for a in aa:\n",
    "            print(10 / a)\n",
    "    except Exception as e:\n",
    "        print(a, e)\n",
    "        pass "
   ]
  },
  {
   "cell_type": "code",
   "execution_count": 86,
   "metadata": {
    "ExecuteTime": {
     "end_time": "2020-02-27T12:03:27.777107Z",
     "start_time": "2020-02-27T12:03:27.771437Z"
    },
    "slideshow": {
     "slide_type": "subslide"
    }
   },
   "outputs": [
    {
     "name": "stdout",
     "output_type": "stream",
     "text": [
      "10.0\n",
      "10.0\n",
      "0 division by zero\n",
      "0 division by zero\n",
      "10.0\n"
     ]
    }
   ],
   "source": [
    "alist = [[1,1], [0, 0, 1]]\n",
    "for aa in alist:\n",
    "    for a in aa:\n",
    "        try:\n",
    "            print(10 / a)\n",
    "        except Exception as e:\n",
    "            print(a, e)\n",
    "            pass"
   ]
  },
  {
   "cell_type": "markdown",
   "metadata": {
    "slideshow": {
     "slide_type": "slide"
    }
   },
   "source": [
    "# Python Crash Course\n",
    "## Part 6. Write and Read data"
   ]
  },
  {
   "cell_type": "code",
   "execution_count": 16,
   "metadata": {
    "ExecuteTime": {
     "end_time": "2020-03-02T11:39:22.799241Z",
     "start_time": "2020-03-02T11:39:22.793273Z"
    },
    "slideshow": {
     "slide_type": "subslide"
    }
   },
   "outputs": [
    {
     "data": {
      "text/plain": [
       "[[0, 0, 0],\n",
       " [1, 1, 1],\n",
       " [2, 4, 8],\n",
       " [3, 9, 27],\n",
       " [4, 16, 64],\n",
       " [5, 25, 125],\n",
       " [6, 36, 216],\n",
       " [7, 49, 343],\n",
       " [8, 64, 512],\n",
       " [9, 81, 729]]"
      ]
     },
     "execution_count": 16,
     "metadata": {},
     "output_type": "execute_result"
    }
   ],
   "source": [
    "data =[[i, i**2, i**3] for i in range(10)] \n",
    "data "
   ]
  },
  {
   "cell_type": "code",
   "execution_count": 19,
   "metadata": {
    "ExecuteTime": {
     "end_time": "2020-03-02T11:42:04.661897Z",
     "start_time": "2020-03-02T11:42:04.658237Z"
    },
    "slideshow": {
     "slide_type": "subslide"
    }
   },
   "outputs": [
    {
     "data": {
      "text/plain": [
       "'0\\t0\\t0'"
      ]
     },
     "execution_count": 19,
     "metadata": {},
     "output_type": "execute_result"
    }
   ],
   "source": [
    "alist = [0, 0, 0]\n",
    "# alist = [str(i) for i in alist]\n",
    "# '\\t'.join(alist)\n",
    "#print(*map(str, alist))\n",
    "'\\t'.join(map(str, alist))"
   ]
  },
  {
   "cell_type": "code",
   "execution_count": 20,
   "metadata": {
    "ExecuteTime": {
     "end_time": "2020-03-02T11:42:47.206732Z",
     "start_time": "2020-03-02T11:42:47.202990Z"
    },
    "slideshow": {
     "slide_type": "fragment"
    }
   },
   "outputs": [
    {
     "name": "stdout",
     "output_type": "stream",
     "text": [
      "0\t0\t0\n",
      "1\t1\t1\n",
      "2\t4\t8\n",
      "3\t9\t27\n",
      "4\t16\t64\n",
      "5\t25\t125\n",
      "6\t36\t216\n",
      "7\t49\t343\n",
      "8\t64\t512\n",
      "9\t81\t729\n"
     ]
    }
   ],
   "source": [
    "for i in data:\n",
    "    print('\\t'.join(map(str, i))) "
   ]
  },
  {
   "cell_type": "code",
   "execution_count": 21,
   "metadata": {
    "ExecuteTime": {
     "end_time": "2020-03-02T11:42:53.752460Z",
     "start_time": "2020-03-02T11:42:53.749234Z"
    },
    "slideshow": {
     "slide_type": "subslide"
    }
   },
   "outputs": [
    {
     "data": {
      "text/plain": [
       "list"
      ]
     },
     "execution_count": 21,
     "metadata": {},
     "output_type": "execute_result"
    }
   ],
   "source": [
    "type(data)"
   ]
  },
  {
   "cell_type": "code",
   "execution_count": 22,
   "metadata": {
    "ExecuteTime": {
     "end_time": "2020-03-02T11:42:58.799859Z",
     "start_time": "2020-03-02T11:42:58.796856Z"
    },
    "slideshow": {
     "slide_type": "fragment"
    }
   },
   "outputs": [
    {
     "data": {
      "text/plain": [
       "10"
      ]
     },
     "execution_count": 22,
     "metadata": {},
     "output_type": "execute_result"
    }
   ],
   "source": [
    "len(data)"
   ]
  },
  {
   "cell_type": "code",
   "execution_count": 23,
   "metadata": {
    "ExecuteTime": {
     "end_time": "2020-03-02T11:43:02.324377Z",
     "start_time": "2020-03-02T11:43:02.320971Z"
    },
    "slideshow": {
     "slide_type": "fragment"
    }
   },
   "outputs": [
    {
     "data": {
      "text/plain": [
       "[2, 4, 8]"
      ]
     },
     "execution_count": 23,
     "metadata": {},
     "output_type": "execute_result"
    }
   ],
   "source": [
    "data[2]"
   ]
  },
  {
   "cell_type": "code",
   "execution_count": 24,
   "metadata": {
    "ExecuteTime": {
     "end_time": "2020-03-02T11:43:12.704502Z",
     "start_time": "2020-03-02T11:43:12.699881Z"
    },
    "slideshow": {
     "slide_type": "subslide"
    }
   },
   "outputs": [
    {
     "name": "stdout",
     "output_type": "stream",
     "text": [
      "Help on built-in function write:\n",
      "\n",
      "write(text, /) method of _io.TextIOWrapper instance\n",
      "    Write string to stream.\n",
      "    Returns the number of characters written (which is always equal to\n",
      "    the length of the string).\n",
      "\n"
     ]
    }
   ],
   "source": [
    "help(f.write)  "
   ]
  },
  {
   "cell_type": "code",
   "execution_count": 25,
   "metadata": {
    "ExecuteTime": {
     "end_time": "2020-03-02T11:44:48.087585Z",
     "start_time": "2020-03-02T11:44:48.055722Z"
    },
    "slideshow": {
     "slide_type": "subslide"
    }
   },
   "outputs": [],
   "source": [
    "# 保存数据\n",
    "data =[[i, i**2, i**3] for i in range(10000)] \n",
    "\n",
    "f = open(\"../data/data_write_to_file2020.txt\", \"w\")\n",
    "for i in data:\n",
    "    f.write('\\t'.join(map(str,i)) + '\\n')\n",
    "f.close()\n"
   ]
  },
  {
   "cell_type": "code",
   "execution_count": 29,
   "metadata": {
    "ExecuteTime": {
     "end_time": "2020-03-02T11:45:43.669045Z",
     "start_time": "2020-03-02T11:45:43.661977Z"
    },
    "slideshow": {
     "slide_type": "subslide"
    }
   },
   "outputs": [
    {
     "data": {
      "text/plain": [
       "(['0\\t0\\t0\\n', '1\\t1\\t1\\n', '2\\t4\\t8\\n', '3\\t9\\t27\\n', '4\\t16\\t64\\n'], 10000)"
      ]
     },
     "execution_count": 29,
     "metadata": {},
     "output_type": "execute_result"
    }
   ],
   "source": [
    "with open('../data/data_write_to_file2020.txt','r') as f:\n",
    "    data = f.readlines()\n",
    "data[:5], len(data)"
   ]
  },
  {
   "cell_type": "code",
   "execution_count": 31,
   "metadata": {
    "ExecuteTime": {
     "end_time": "2020-03-02T11:46:38.001776Z",
     "start_time": "2020-03-02T11:46:37.997454Z"
    },
    "slideshow": {
     "slide_type": "fragment"
    }
   },
   "outputs": [
    {
     "data": {
      "text/plain": [
       "77"
      ]
     },
     "execution_count": 31,
     "metadata": {},
     "output_type": "execute_result"
    }
   ],
   "source": [
    "with open('../data/data_write_to_file2020.txt','r') as f:\n",
    "    data = f.readlines(1000) # bytes\n",
    "len(data) "
   ]
  },
  {
   "cell_type": "code",
   "execution_count": 32,
   "metadata": {
    "ExecuteTime": {
     "end_time": "2020-03-02T11:47:08.260794Z",
     "start_time": "2020-03-02T11:47:08.256547Z"
    },
    "slideshow": {
     "slide_type": "fragment"
    }
   },
   "outputs": [
    {
     "name": "stdout",
     "output_type": "stream",
     "text": [
      "0\t0\t0\n",
      "\n"
     ]
    }
   ],
   "source": [
    "with open('../data/data_write_to_file2020.txt','r') as f:\n",
    "    print(f.readline())"
   ]
  },
  {
   "cell_type": "code",
   "execution_count": 34,
   "metadata": {
    "ExecuteTime": {
     "end_time": "2020-03-02T11:48:25.123942Z",
     "start_time": "2020-03-02T11:48:25.119066Z"
    },
    "slideshow": {
     "slide_type": "subslide"
    }
   },
   "outputs": [
    {
     "name": "stdout",
     "output_type": "stream",
     "text": [
      "0 1\n",
      "1 2\n",
      "2 3\n",
      "3 4\n",
      "4 5\n"
     ]
    }
   ],
   "source": [
    "f = [1, 2, 3, 4, 5]\n",
    "\n",
    "for k, i in enumerate(f):\n",
    "    print(k, i)"
   ]
  },
  {
   "cell_type": "code",
   "execution_count": 35,
   "metadata": {
    "ExecuteTime": {
     "end_time": "2020-03-02T11:49:41.869953Z",
     "start_time": "2020-03-02T11:49:41.861257Z"
    },
    "slideshow": {
     "slide_type": "subslide"
    }
   },
   "outputs": [
    {
     "name": "stdout",
     "output_type": "stream",
     "text": [
      "10000 10000\n"
     ]
    }
   ],
   "source": [
    "line_num = 0\n",
    "data_list = []\n",
    "with open('../data/data_write_to_file2020.txt','r') as f:\n",
    "    for i in f:\n",
    "        line_num+=1\n",
    "        data_list.append(i)\n",
    "print(line_num, len(data_list))"
   ]
  },
  {
   "cell_type": "code",
   "execution_count": 36,
   "metadata": {
    "ExecuteTime": {
     "end_time": "2020-03-02T11:51:06.000490Z",
     "start_time": "2020-03-02T11:51:05.991849Z"
    },
    "slideshow": {
     "slide_type": "subslide"
    }
   },
   "outputs": [
    {
     "name": "stdout",
     "output_type": "stream",
     "text": [
      "0\t0\t0\n",
      "\n",
      "2000\t4000000\t8000000000\n",
      "\n",
      "4000\t16000000\t64000000000\n",
      "\n",
      "6000\t36000000\t216000000000\n",
      "\n",
      "8000\t64000000\t512000000000\n",
      "\n"
     ]
    }
   ],
   "source": [
    "with open('../data/data_write_to_file2020.txt','r') as f:\n",
    "    for k, i in enumerate(f):\n",
    "        if k%2000 == 0:\n",
    "            print(i)"
   ]
  },
  {
   "cell_type": "code",
   "execution_count": 37,
   "metadata": {
    "ExecuteTime": {
     "end_time": "2020-03-02T11:51:59.697234Z",
     "start_time": "2020-03-02T11:51:59.692159Z"
    },
    "slideshow": {
     "slide_type": "subslide"
    }
   },
   "outputs": [
    {
     "data": {
      "text/plain": [
       "[[0, 0, 0]]"
      ]
     },
     "execution_count": 37,
     "metadata": {},
     "output_type": "execute_result"
    }
   ],
   "source": [
    "data = []\n",
    "line = '0\\t0\\t0\\n'\n",
    "line = line.replace('\\n', '')\n",
    "line = line.split('\\t')\n",
    "line = [int(i) for i in line] # convert str to int\n",
    "data.append(line)\n",
    "data"
   ]
  },
  {
   "cell_type": "code",
   "execution_count": 38,
   "metadata": {
    "ExecuteTime": {
     "end_time": "2020-03-02T11:52:22.904337Z",
     "start_time": "2020-03-02T11:52:22.870382Z"
    },
    "slideshow": {
     "slide_type": "subslide"
    }
   },
   "outputs": [
    {
     "data": {
      "text/plain": [
       "[[9995, 99900025, 998500749875],\n",
       " [9996, 99920016, 998800479936],\n",
       " [9997, 99940009, 999100269973],\n",
       " [9998, 99960004, 999400119992],\n",
       " [9999, 99980001, 999700029999]]"
      ]
     },
     "execution_count": 38,
     "metadata": {},
     "output_type": "execute_result"
    }
   ],
   "source": [
    "# 读取数据\n",
    "data = []\n",
    "with open('../data/data_write_to_file2020.txt','r') as f:\n",
    "    for line in f:\n",
    "        line = line.replace('\\n', '').split('\\t')\n",
    "        line = [int(i) for i in line]\n",
    "        data.append(line)\n",
    "data[-5:]"
   ]
  },
  {
   "cell_type": "code",
   "execution_count": 2,
   "metadata": {
    "ExecuteTime": {
     "end_time": "2020-03-02T11:28:48.204570Z",
     "start_time": "2020-03-02T11:28:48.173408Z"
    },
    "slideshow": {
     "slide_type": "subslide"
    }
   },
   "outputs": [
    {
     "data": {
      "text/plain": [
       "[[0, 0, 0], [1, 1, 1], [2, 4, 8], [3, 9, 27], [4, 16, 64]]"
      ]
     },
     "execution_count": 2,
     "metadata": {},
     "output_type": "execute_result"
    }
   ],
   "source": [
    "# 读取数据\n",
    "data = []\n",
    "with open('../data/data_write_to_file.txt','r') as f:\n",
    "    for line in f:\n",
    "        line = line.replace('\\n', '').split('\\t')\n",
    "        line = [int(i) for i in line]\n",
    "        data.append(line)\n",
    "data[:5]\n"
   ]
  },
  {
   "cell_type": "markdown",
   "metadata": {
    "slideshow": {
     "slide_type": "slide"
    }
   },
   "source": [
    "## 使用Pandas读写数据"
   ]
  },
  {
   "cell_type": "code",
   "execution_count": 39,
   "metadata": {
    "ExecuteTime": {
     "end_time": "2020-03-02T11:53:13.020445Z",
     "start_time": "2020-03-02T11:53:13.018232Z"
    },
    "slideshow": {
     "slide_type": "subslide"
    }
   },
   "outputs": [],
   "source": [
    "import pandas as pd"
   ]
  },
  {
   "cell_type": "code",
   "execution_count": 40,
   "metadata": {
    "ExecuteTime": {
     "end_time": "2020-03-02T11:53:33.207066Z",
     "start_time": "2020-03-02T11:53:33.197075Z"
    },
    "slideshow": {
     "slide_type": "fragment"
    }
   },
   "outputs": [],
   "source": [
    "pd.read_csv?"
   ]
  },
  {
   "cell_type": "code",
   "execution_count": 41,
   "metadata": {
    "ExecuteTime": {
     "end_time": "2020-03-02T11:56:22.237572Z",
     "start_time": "2020-03-02T11:56:22.197896Z"
    },
    "slideshow": {
     "slide_type": "subslide"
    }
   },
   "outputs": [
    {
     "data": {
      "text/html": [
       "<div>\n",
       "<style scoped>\n",
       "    .dataframe tbody tr th:only-of-type {\n",
       "        vertical-align: middle;\n",
       "    }\n",
       "\n",
       "    .dataframe tbody tr th {\n",
       "        vertical-align: top;\n",
       "    }\n",
       "\n",
       "    .dataframe thead th {\n",
       "        text-align: right;\n",
       "    }\n",
       "</style>\n",
       "<table border=\"1\" class=\"dataframe\">\n",
       "  <thead>\n",
       "    <tr style=\"text-align: right;\">\n",
       "      <th></th>\n",
       "      <th>a</th>\n",
       "      <th>b</th>\n",
       "      <th>c</th>\n",
       "    </tr>\n",
       "  </thead>\n",
       "  <tbody>\n",
       "    <tr>\n",
       "      <th>9995</th>\n",
       "      <td>9995</td>\n",
       "      <td>99900025</td>\n",
       "      <td>998500749875</td>\n",
       "    </tr>\n",
       "    <tr>\n",
       "      <th>9996</th>\n",
       "      <td>9996</td>\n",
       "      <td>99920016</td>\n",
       "      <td>998800479936</td>\n",
       "    </tr>\n",
       "    <tr>\n",
       "      <th>9997</th>\n",
       "      <td>9997</td>\n",
       "      <td>99940009</td>\n",
       "      <td>999100269973</td>\n",
       "    </tr>\n",
       "    <tr>\n",
       "      <th>9998</th>\n",
       "      <td>9998</td>\n",
       "      <td>99960004</td>\n",
       "      <td>999400119992</td>\n",
       "    </tr>\n",
       "    <tr>\n",
       "      <th>9999</th>\n",
       "      <td>9999</td>\n",
       "      <td>99980001</td>\n",
       "      <td>999700029999</td>\n",
       "    </tr>\n",
       "  </tbody>\n",
       "</table>\n",
       "</div>"
      ],
      "text/plain": [
       "         a         b             c\n",
       "9995  9995  99900025  998500749875\n",
       "9996  9996  99920016  998800479936\n",
       "9997  9997  99940009  999100269973\n",
       "9998  9998  99960004  999400119992\n",
       "9999  9999  99980001  999700029999"
      ]
     },
     "execution_count": 41,
     "metadata": {},
     "output_type": "execute_result"
    }
   ],
   "source": [
    "df = pd.read_csv('../data/data_write_to_file.txt', \n",
    "                 sep = '\\t', names = ['a', 'b', 'c'])\n",
    "df[-5:]"
   ]
  },
  {
   "cell_type": "markdown",
   "metadata": {
    "slideshow": {
     "slide_type": "slide"
    }
   },
   "source": [
    "# 保存中间步骤产生的字典数据"
   ]
  },
  {
   "cell_type": "code",
   "execution_count": 43,
   "metadata": {
    "ExecuteTime": {
     "end_time": "2020-03-02T11:59:00.083226Z",
     "start_time": "2020-03-02T11:59:00.078029Z"
    },
    "slideshow": {
     "slide_type": "fragment"
    }
   },
   "outputs": [],
   "source": [
    "import json\n",
    "data_dict = {'a':1, 'b':2, 'c':3}\n",
    "with open('../data/save_dict2020.json', 'w') as f:\n",
    "    json.dump(data_dict, f)"
   ]
  },
  {
   "cell_type": "code",
   "execution_count": 45,
   "metadata": {
    "ExecuteTime": {
     "end_time": "2020-03-02T11:59:24.230622Z",
     "start_time": "2020-03-02T11:59:24.210379Z"
    },
    "slideshow": {
     "slide_type": "fragment"
    }
   },
   "outputs": [
    {
     "data": {
      "text/plain": [
       "{'a': 1, 'b': 2, 'c': 3}"
      ]
     },
     "execution_count": 45,
     "metadata": {},
     "output_type": "execute_result"
    }
   ],
   "source": [
    "dd = json.load(open(\"../data/save_dict2020.json\"))\n",
    "dd"
   ]
  },
  {
   "cell_type": "markdown",
   "metadata": {
    "slideshow": {
     "slide_type": "fragment"
    }
   },
   "source": [
    "## 重新读入json"
   ]
  },
  {
   "cell_type": "markdown",
   "metadata": {
    "slideshow": {
     "slide_type": "slide"
    }
   },
   "source": [
    "# 保存中间步骤产生的列表数据"
   ]
  },
  {
   "cell_type": "code",
   "execution_count": 71,
   "metadata": {
    "ExecuteTime": {
     "end_time": "2018-04-27T07:11:56.415515Z",
     "start_time": "2018-04-27T07:11:56.411564Z"
    },
    "slideshow": {
     "slide_type": "fragment"
    }
   },
   "outputs": [],
   "source": [
    "data_list = list(range(10))\n",
    "with open('../data/save_list.json', 'w') as f:\n",
    "    json.dump(data_list, f) "
   ]
  },
  {
   "cell_type": "code",
   "execution_count": 72,
   "metadata": {
    "ExecuteTime": {
     "end_time": "2018-04-27T07:12:32.842754Z",
     "start_time": "2018-04-27T07:12:32.837820Z"
    },
    "slideshow": {
     "slide_type": "fragment"
    }
   },
   "outputs": [
    {
     "data": {
      "text/plain": [
       "[0, 1, 2, 3, 4, 5, 6, 7, 8, 9]"
      ]
     },
     "execution_count": 72,
     "metadata": {},
     "output_type": "execute_result"
    }
   ],
   "source": [
    "dl = json.load(open(\"../data/save_list.json\"))\n",
    "dl"
   ]
  },
  {
   "cell_type": "markdown",
   "metadata": {
    "slideshow": {
     "slide_type": "slide"
    }
   },
   "source": [
    "# 使用matplotlib绘图"
   ]
  },
  {
   "cell_type": "code",
   "execution_count": 2,
   "metadata": {
    "ExecuteTime": {
     "end_time": "2020-03-03T01:08:12.810646Z",
     "start_time": "2020-03-03T01:08:10.984271Z"
    },
    "slideshow": {
     "slide_type": "subslide"
    }
   },
   "outputs": [
    {
     "data": {
      "image/png": "[encoded data removed]",
      "text/plain": [
       "<Figure size 432x288 with 1 Axes>"
      ]
     },
     "metadata": {
      "needs_background": "light"
     },
     "output_type": "display_data"
    }
   ],
   "source": [
    "%matplotlib inline\n",
    "\n",
    "import pylab as plt\n",
    "x = range(1, 100)\n",
    "y = [i**-3 for i in x]\n",
    "plt.plot(x, y, 'b-s')\n",
    "plt.ylabel('$p(k)$', fontsize = 20)\n",
    "plt.xlabel('$k$', fontsize = 20)\n",
    "plt.xscale('log')\n",
    "plt.yscale('log')\n",
    "plt.title('Degree Distribution')\n",
    "plt.show()"
   ]
  },
  {
   "cell_type": "code",
   "execution_count": 47,
   "metadata": {
    "ExecuteTime": {
     "end_time": "2020-03-02T14:15:01.944986Z",
     "start_time": "2020-03-02T14:15:01.784445Z"
    },
    "slideshow": {
     "slide_type": "subslide"
    }
   },
   "outputs": [
    {
     "data": {
      "image/png": "[encoded data removed]",
      "text/plain": [
       "<Figure size 432x288 with 1 Axes>"
      ]
     },
     "metadata": {
      "needs_background": "light"
     },
     "output_type": "display_data"
    }
   ],
   "source": [
    "import numpy as np\n",
    "# red dashes, blue squares and green triangles\n",
    "t = np.arange(0., 5., 0.2)\n",
    "plt.plot(t, t, 'r--')\n",
    "plt.plot(t, t**2, 'bs')\n",
    "plt.plot(t, t**3, 'g^')\n",
    "plt.show()"
   ]
  },
  {
   "cell_type": "code",
   "execution_count": 48,
   "metadata": {
    "ExecuteTime": {
     "end_time": "2020-03-02T14:15:03.268429Z",
     "start_time": "2020-03-02T14:15:03.031393Z"
    },
    "slideshow": {
     "slide_type": "subslide"
    }
   },
   "outputs": [
    {
     "data": {
      "image/png": "[encoded data removed]",
      "text/plain": [
       "<Figure size 432x288 with 1 Axes>"
      ]
     },
     "metadata": {
      "needs_background": "light"
     },
     "output_type": "display_data"
    }
   ],
   "source": [
    "# red dashes, blue squares and green triangles\n",
    "t = np.arange(0., 5., 0.2)\n",
    "plt.plot(t, t**2, 'b-s', label = '1')\n",
    "plt.plot(t, t**2.5, 'r-o', label = '2')\n",
    "plt.plot(t, t**3, 'g-^', label = '3')\n",
    "plt.annotate(r'$\\alpha = 3$', xy=(3.5, 40), xytext=(2, 80),\n",
    "            arrowprops=dict(facecolor='black', shrink=0.05),\n",
    "            fontsize = 20)\n",
    "plt.ylabel('$f(t)$', fontsize = 20)\n",
    "plt.xlabel('$t$', fontsize = 20)\n",
    "plt.legend(loc=2,numpoints=1,fontsize=10)\n",
    "plt.show()\n",
    "# plt.savefig('/Users/chengjun/GitHub/cjc/figure/save_figure.png',\n",
    "#             dpi = 300, bbox_inches=\"tight\",transparent = True)\n"
   ]
  },
  {
   "cell_type": "code",
   "execution_count": 49,
   "metadata": {
    "ExecuteTime": {
     "end_time": "2020-03-02T14:15:04.453454Z",
     "start_time": "2020-03-02T14:15:04.022863Z"
    },
    "slideshow": {
     "slide_type": "subslide"
    }
   },
   "outputs": [
    {
     "data": {
      "image/png": "[encoded data removed]",
      "text/plain": [
       "<Figure size 432x288 with 4 Axes>"
      ]
     },
     "metadata": {
      "needs_background": "light"
     },
     "output_type": "display_data"
    }
   ],
   "source": [
    "plt.figure(1)\n",
    "plt.subplot(221)\n",
    "plt.plot(t, t, 'r--')\n",
    "plt.text(2, 0.8*np.max(t), r'$\\alpha = 1$', fontsize = 20)\n",
    "plt.subplot(222)\n",
    "plt.plot(t, t**2, 'bs')\n",
    "plt.text(2, 0.8*np.max(t**2), r'$\\alpha = 2$', fontsize = 20)\n",
    "plt.subplot(223)\n",
    "plt.plot(t, t**3, 'g^')\n",
    "plt.text(2, 0.8*np.max(t**3), r'$\\alpha = 3$', fontsize = 20)\n",
    "plt.subplot(224)\n",
    "plt.plot(t, t**4, 'r-o')\n",
    "plt.text(2, 0.8*np.max(t**4), r'$\\alpha = 4$', fontsize = 20)\n",
    "plt.show()"
   ]
  },
  {
   "cell_type": "code",
   "execution_count": 50,
   "metadata": {
    "ExecuteTime": {
     "end_time": "2020-03-02T14:15:05.221542Z",
     "start_time": "2020-03-02T14:15:05.217942Z"
    },
    "slideshow": {
     "slide_type": "subslide"
    }
   },
   "outputs": [],
   "source": [
    "def f(t):\n",
    "    return np.exp(-t) * np.cos(2*np.pi*t)\n",
    "\n",
    "t1 = np.arange(0.0, 5.0, 0.1)\n",
    "t2 = np.arange(0.0, 5.0, 0.02)"
   ]
  },
  {
   "cell_type": "code",
   "execution_count": 51,
   "metadata": {
    "ExecuteTime": {
     "end_time": "2020-03-02T14:15:06.288745Z",
     "start_time": "2020-03-02T14:15:06.047015Z"
    },
    "slideshow": {
     "slide_type": "subslide"
    }
   },
   "outputs": [
    {
     "data": {
      "image/png": "[encoded data removed]",
      "text/plain": [
       "<Figure size 432x288 with 2 Axes>"
      ]
     },
     "metadata": {
      "needs_background": "light"
     },
     "output_type": "display_data"
    }
   ],
   "source": [
    "plt.figure(1)\n",
    "plt.subplot(211)\n",
    "plt.plot(t1, f(t1), 'bo')\n",
    "plt.plot(t2, f(t2), 'k')\n",
    "\n",
    "plt.subplot(212)\n",
    "plt.plot(t2, np.cos(2*np.pi*t2), 'r--')\n",
    "plt.show()"
   ]
  },
  {
   "cell_type": "code",
   "execution_count": 52,
   "metadata": {
    "ExecuteTime": {
     "end_time": "2020-03-02T14:15:07.846923Z",
     "start_time": "2020-03-02T14:15:07.256156Z"
    },
    "slideshow": {
     "slide_type": "subslide"
    }
   },
   "outputs": [
    {
     "data": {
      "image/png": "[encoded data removed]",
      "text/plain": [
       "<Figure size 432x288 with 5 Axes>"
      ]
     },
     "metadata": {
      "needs_background": "light"
     },
     "output_type": "display_data"
    }
   ],
   "source": [
    "import matplotlib.gridspec as gridspec\n",
    "import numpy as np\n",
    "\n",
    "t = np.arange(0., 5., 0.2)\n",
    "\n",
    "gs = gridspec.GridSpec(3, 3)\n",
    "ax1 = plt.subplot(gs[0, :])\n",
    "plt.plot(t, t**2, 'b-s')\n",
    "ax2 = plt.subplot(gs[1,:-1])\n",
    "plt.plot(t, t**2, 'g-s')\n",
    "ax3 = plt.subplot(gs[1:, -1])\n",
    "plt.plot(t, t**2, 'r-o')\n",
    "ax4 = plt.subplot(gs[-1,0])\n",
    "plt.plot(t, t**2, 'g-^')\n",
    "ax5 = plt.subplot(gs[-1,1])\n",
    "plt.plot(t, t**2, 'b-<')\n",
    "plt.tight_layout()\n"
   ]
  },
  {
   "cell_type": "code",
   "execution_count": 53,
   "metadata": {
    "ExecuteTime": {
     "end_time": "2020-03-02T14:15:08.525724Z",
     "start_time": "2020-03-02T14:15:08.520615Z"
    },
    "slideshow": {
     "slide_type": "subslide"
    }
   },
   "outputs": [],
   "source": [
    "\n",
    "def OLSRegressPlot(x,y,col,xlab,ylab):\n",
    "    xx = sm.add_constant(x, prepend=True)\n",
    "    res = sm.OLS(y,xx).fit()\n",
    "    constant, beta = res.params\n",
    "    r2 = res.rsquared\n",
    "    lab = r'$\\beta = %.2f, \\,R^2 = %.2f$' %(beta,r2)\n",
    "    plt.scatter(x,y,s=60,facecolors='none', edgecolors=col)\n",
    "    plt.plot(x,constant + x*beta,\"red\",label=lab)\n",
    "    plt.legend(loc = 'upper left',fontsize=16)\n",
    "    plt.xlabel(xlab,fontsize=26)\n",
    "    plt.ylabel(ylab,fontsize=26)\n",
    "\n",
    "    "
   ]
  },
  {
   "cell_type": "code",
   "execution_count": 57,
   "metadata": {
    "ExecuteTime": {
     "end_time": "2020-03-02T14:15:31.781737Z",
     "start_time": "2020-03-02T14:15:31.513066Z"
    },
    "slideshow": {
     "slide_type": "subslide"
    }
   },
   "outputs": [
    {
     "data": {
      "image/png": "[encoded data removed]",
      "text/plain": [
       "<Figure size 720x288 with 1 Axes>"
      ]
     },
     "metadata": {},
     "output_type": "display_data"
    }
   ],
   "source": [
    "x = np.random.randn(50)\n",
    "y = np.random.randn(50) + 3*x\n",
    "pearsonr(x, y)\n",
    "fig = plt.figure(figsize=(10, 4),facecolor='white')\n",
    "OLSRegressPlot(x,y,'RoyalBlue',r'$x$',r'$y$')\n",
    "plt.show()\n"
   ]
  },
  {
   "cell_type": "code",
   "execution_count": 206,
   "metadata": {
    "slideshow": {
     "slide_type": "subslide"
    }
   },
   "outputs": [
    {
     "data": {
      "image/png": "[encoded data removed]",
      "text/plain": [
       "<matplotlib.figure.Figure at 0x114197590>"
      ]
     },
     "metadata": {},
     "output_type": "display_data"
    }
   ],
   "source": [
    "fig = plt.figure(figsize=(7, 4),facecolor='white')\n",
    "data = norm.rvs(10.0, 2.5, size=5000)\n",
    "mu, std = norm.fit(data)\n",
    "plt.hist(data, bins=25, normed=True, alpha=0.6, color='g')\n",
    "xmin, xmax = plt.xlim()\n",
    "x = np.linspace(xmin, xmax, 100)\n",
    "p = norm.pdf(x, mu, std)\n",
    "plt.plot(x, p, 'r', linewidth=2)\n",
    "title = r\"$\\mu = %.2f, \\,  \\sigma = %.2f$\" % (mu, std)\n",
    "plt.title(title,size=16)\n",
    "plt.show()"
   ]
  },
  {
   "cell_type": "code",
   "execution_count": 4,
   "metadata": {
    "ExecuteTime": {
     "end_time": "2017-05-11T22:18:55.087571",
     "start_time": "2017-05-11T22:18:55.070993"
    },
    "slideshow": {
     "slide_type": "slide"
    }
   },
   "outputs": [
    {
     "data": {
      "text/html": [
       "<div>\n",
       "<table border=\"1\" class=\"dataframe\">\n",
       "  <thead>\n",
       "    <tr style=\"text-align: right;\">\n",
       "      <th></th>\n",
       "      <th>a</th>\n",
       "      <th>b</th>\n",
       "      <th>c</th>\n",
       "    </tr>\n",
       "  </thead>\n",
       "  <tbody>\n",
       "    <tr>\n",
       "      <th>0</th>\n",
       "      <td>0</td>\n",
       "      <td>0</td>\n",
       "      <td>0</td>\n",
       "    </tr>\n",
       "    <tr>\n",
       "      <th>1</th>\n",
       "      <td>1</td>\n",
       "      <td>1</td>\n",
       "      <td>1</td>\n",
       "    </tr>\n",
       "    <tr>\n",
       "      <th>2</th>\n",
       "      <td>2</td>\n",
       "      <td>4</td>\n",
       "      <td>8</td>\n",
       "    </tr>\n",
       "    <tr>\n",
       "      <th>3</th>\n",
       "      <td>3</td>\n",
       "      <td>9</td>\n",
       "      <td>27</td>\n",
       "    </tr>\n",
       "    <tr>\n",
       "      <th>4</th>\n",
       "      <td>4</td>\n",
       "      <td>16</td>\n",
       "      <td>64</td>\n",
       "    </tr>\n",
       "  </tbody>\n",
       "</table>\n",
       "</div>"
      ],
      "text/plain": [
       "   a   b   c\n",
       "0  0   0   0\n",
       "1  1   1   1\n",
       "2  2   4   8\n",
       "3  3   9  27\n",
       "4  4  16  64"
      ]
     },
     "execution_count": 4,
     "metadata": {},
     "output_type": "execute_result"
    }
   ],
   "source": [
    "import pandas as pd\n",
    "df = pd.read_csv('../data/data_write_to_file.txt', sep = '\\t', names = ['a', 'b', 'c'])\n",
    "df[:5]"
   ]
  },
  {
   "cell_type": "code",
   "execution_count": 7,
   "metadata": {
    "ExecuteTime": {
     "end_time": "2017-05-11T22:21:09.150592",
     "start_time": "2017-05-11T22:21:08.103623"
    },
    "slideshow": {
     "slide_type": "subslide"
    }
   },
   "outputs": [
    {
     "data": {
      "image/png": "[encoded data removed]",
      "text/plain": [
       "<matplotlib.figure.Figure at 0x11a3fc048>"
      ]
     },
     "metadata": {},
     "output_type": "display_data"
    }
   ],
   "source": [
    "df.plot.line()\n",
    "plt.yscale('log')\n",
    "plt.ylabel('$values$', fontsize = 20)\n",
    "plt.xlabel('$index$', fontsize = 20)\n",
    "plt.show()"
   ]
  },
  {
   "cell_type": "code",
   "execution_count": 27,
   "metadata": {
    "ExecuteTime": {
     "end_time": "2017-05-11T22:32:42.105831",
     "start_time": "2017-05-11T22:32:41.789998"
    },
    "slideshow": {
     "slide_type": "subslide"
    }
   },
   "outputs": [
    {
     "data": {
      "image/png": "[encoded data removed]",
      "text/plain": [
       "<matplotlib.figure.Figure at 0x118312150>"
      ]
     },
     "metadata": {},
     "output_type": "display_data"
    }
   ],
   "source": [
    "df.plot.scatter(x='a', y='b')\n",
    "plt.show()"
   ]
  },
  {
   "cell_type": "code",
   "execution_count": 18,
   "metadata": {
    "ExecuteTime": {
     "end_time": "2017-05-11T22:26:59.893837",
     "start_time": "2017-05-11T22:26:59.528857"
    },
    "slideshow": {
     "slide_type": "subslide"
    }
   },
   "outputs": [
    {
     "data": {
      "image/png": "[encoded data removed]",
      "text/plain": [
       "<matplotlib.figure.Figure at 0x1136cc310>"
      ]
     },
     "metadata": {},
     "output_type": "display_data"
    }
   ],
   "source": [
    "df.plot.hexbin(x='a', y='b', gridsize=25)\n",
    "plt.show()"
   ]
  },
  {
   "cell_type": "code",
   "execution_count": 22,
   "metadata": {
    "ExecuteTime": {
     "end_time": "2017-05-11T22:28:39.025521",
     "start_time": "2017-05-11T22:28:38.630099"
    },
    "slideshow": {
     "slide_type": "subslide"
    }
   },
   "outputs": [
    {
     "data": {
      "image/png": "[encoded data removed]",
      "text/plain": [
       "<matplotlib.figure.Figure at 0x1138f4350>"
      ]
     },
     "metadata": {},
     "output_type": "display_data"
    }
   ],
   "source": [
    "df['a'].plot.kde()\n",
    "plt.show()"
   ]
  },
  {
   "cell_type": "code",
   "execution_count": 32,
   "metadata": {
    "ExecuteTime": {
     "end_time": "2017-05-11T22:37:06.791001",
     "start_time": "2017-05-11T22:37:06.226303"
    },
    "slideshow": {
     "slide_type": "subslide"
    }
   },
   "outputs": [
    {
     "name": "stderr",
     "output_type": "stream",
     "text": [
      "/Users/chengjun/anaconda/lib/python2.7/site-packages/ipykernel/__main__.py:1: FutureWarning: \n",
      "The default value for 'return_type' will change to 'axes' in a future release.\n",
      " To use the future behavior now, set return_type='axes'.\n",
      " To keep the previous behavior and silence this warning, set return_type='dict'.\n",
      "  if __name__ == '__main__':\n"
     ]
    },
    {
     "data": {
      "image/png": "[encoded data removed]",
      "text/plain": [
       "<matplotlib.figure.Figure at 0x113a708d0>"
      ]
     },
     "metadata": {},
     "output_type": "display_data"
    }
   ],
   "source": [
    "bp = df.boxplot()\n",
    "plt.yscale('log')\n",
    "plt.show()"
   ]
  },
  {
   "cell_type": "code",
   "execution_count": 41,
   "metadata": {
    "ExecuteTime": {
     "end_time": "2017-05-11T22:39:16.120016",
     "start_time": "2017-05-11T22:39:15.913844"
    },
    "slideshow": {
     "slide_type": "subslide"
    }
   },
   "outputs": [
    {
     "data": {
      "image/png": "[encoded data removed]",
      "text/plain": [
       "<matplotlib.figure.Figure at 0x11a0b9890>"
      ]
     },
     "metadata": {},
     "output_type": "display_data"
    }
   ],
   "source": [
    "df['c'].diff().hist()\n",
    "plt.show()"
   ]
  },
  {
   "cell_type": "code",
   "execution_count": 45,
   "metadata": {
    "ExecuteTime": {
     "end_time": "2017-05-11T22:40:14.418943",
     "start_time": "2017-05-11T22:40:14.037032"
    },
    "slideshow": {
     "slide_type": "subslide"
    }
   },
   "outputs": [
    {
     "data": {
      "image/png": "[encoded data removed]",
      "text/plain": [
       "<matplotlib.figure.Figure at 0x11905c310>"
      ]
     },
     "metadata": {},
     "output_type": "display_data"
    }
   ],
   "source": [
    "df.plot.hist(stacked=True, bins=20)\n",
    "# plt.yscale('log')\n",
    "plt.show()"
   ]
  },
  {
   "cell_type": "markdown",
   "metadata": {
    "slideshow": {
     "slide_type": "slide"
    }
   },
   "source": [
    "> To be a programmer is to develop a carefully managed relationship with error. There's no getting around it. You either make your accommodations with failure, or the work will become intolerable.\n",
    "\n",
    "Ellen Ullman  （an American computer programmer and author）\n",
    "\n",
    "<a href=\"http://www.azquotes.com/quote/1385379\" title=\"Ellen Ullman quote\"><img src=\"http://www.azquotes.com/picture-quotes/quote-to-be-a-programmer-is-to-develop-a-carefully-managed-relationship-with-error-there-s-ellen-ullman-138-53-79.jpg\" alt=\"To be a programmer is to develop a carefully managed relationship with error. There's no getting around it. You either make your accommodations with failure, or the work will become intolerable. - Ellen Ullman\"></a>"
   ]
  },
  {
   "cell_type": "markdown",
   "metadata": {
    "slideshow": {
     "slide_type": "slide"
    }
   },
   "source": [
    "# This is the end.\n",
    "> Thank you for your attention."
   ]
  },
  {
   "cell_type": "code",
   "execution_count": 23,
   "metadata": {
    "ExecuteTime": {
     "end_time": "2020-03-10T01:24:41.128412Z",
     "start_time": "2020-03-10T01:24:41.119672Z"
    },
    "slideshow": {
     "slide_type": "slide"
    }
   },
   "outputs": [
    {
     "data": {
      "text/plain": [
       "16960"
      ]
     },
     "execution_count": 23,
     "metadata": {},
     "output_type": "execute_result"
    }
   ],
   "source": [
    "with open('../data/pg150.txt', 'r') as f:\n",
    "    txt = f.readlines()\n",
    "\n",
    "len(txt)\n",
    "#txt[61]"
   ]
  },
  {
   "cell_type": "code",
   "execution_count": 24,
   "metadata": {
    "ExecuteTime": {
     "end_time": "2020-03-10T01:24:42.024346Z",
     "start_time": "2020-03-10T01:24:41.968306Z"
    },
    "code_folding": [],
    "slideshow": {
     "slide_type": "slide"
    }
   },
   "outputs": [],
   "source": [
    "txt = ' '.join(txt)\n",
    "txt = txt.replace('\\n', '').replace('*', '').replace(\"\\'s\", '').replace(\"\\'S\", '')\n",
    "txt = txt.replace('.', ' ').replace(',','').replace(\"\\'\", '').replace('/', ' ')\n",
    "txt = txt.replace('\\ufeff', '').replace(':', ' ').replace(';', '').replace('-', '')\n",
    "txt = txt.replace('(', '').replace(')', '').replace('\"', '').replace('?', '')\n",
    "txt = txt.split(' ')\n",
    "txt = [j.lower()  for j in txt if j]\n",
    "\n",
    "#txt[50:80]"
   ]
  },
  {
   "cell_type": "code",
   "execution_count": 25,
   "metadata": {
    "ExecuteTime": {
     "end_time": "2020-03-10T01:25:31.172574Z",
     "start_time": "2020-03-10T01:25:31.167352Z"
    }
   },
   "outputs": [
    {
     "data": {
      "text/plain": [
       "127554"
      ]
     },
     "execution_count": 25,
     "metadata": {},
     "output_type": "execute_result"
    }
   ],
   "source": [
    "len(txt)"
   ]
  },
  {
   "cell_type": "code",
   "execution_count": 30,
   "metadata": {
    "ExecuteTime": {
     "end_time": "2020-03-10T01:27:36.546310Z",
     "start_time": "2020-03-10T01:27:36.530612Z"
    }
   },
   "outputs": [
    {
     "data": {
      "text/plain": [
       "8526"
      ]
     },
     "execution_count": 30,
     "metadata": {},
     "output_type": "execute_result"
    }
   ],
   "source": [
    "unique_words = set(txt)\n",
    "dic = {i:0 for i in unique_words}\n",
    "len(unique_words)"
   ]
  },
  {
   "cell_type": "code",
   "execution_count": 32,
   "metadata": {
    "ExecuteTime": {
     "end_time": "2020-03-10T01:27:58.171385Z",
     "start_time": "2020-03-10T01:27:58.138277Z"
    }
   },
   "outputs": [],
   "source": [
    "for i in txt:\n",
    "    dic[i] += 1"
   ]
  },
  {
   "cell_type": "code",
   "execution_count": 18,
   "metadata": {
    "ExecuteTime": {
     "end_time": "2020-03-10T01:18:24.333893Z",
     "start_time": "2020-03-10T01:18:24.316193Z"
    },
    "slideshow": {
     "slide_type": "slide"
    }
   },
   "outputs": [
    {
     "data": {
      "text/plain": [
       "[('the', 7840), ('and', 6029), ('of', 5196), ('to', 3518), ('is', 2691)]"
      ]
     },
     "execution_count": 18,
     "metadata": {},
     "output_type": "execute_result"
    }
   ],
   "source": [
    "from collections import Counter\n",
    "dic = Counter(txt)\n",
    "dic.most_common(5)  "
   ]
  },
  {
   "cell_type": "code",
   "execution_count": 19,
   "metadata": {
    "ExecuteTime": {
     "end_time": "2020-03-10T01:18:45.832511Z",
     "start_time": "2020-03-10T01:18:45.698687Z"
    }
   },
   "outputs": [
    {
     "name": "stdout",
     "output_type": "stream",
     "text": [
      "0.about.ipynb              03.python_intro.ipynb.zip\r\n",
      "0.common_questions.ipynb   first_python.ipynb\r\n",
      "01.intro2datasci.ipynb     \u001b[31mhello\u001b[m\u001b[m*\r\n",
      "01.jupyter_notebook.ipynb  hello.c\r\n",
      "02.bigdata.ipynb           \u001b[34mimg\u001b[m\u001b[m/\r\n",
      "03.python_intro.ipynb\r\n"
     ]
    }
   ],
   "source": [
    "ls"
   ]
  },
  {
   "cell_type": "code",
   "execution_count": 21,
   "metadata": {
    "ExecuteTime": {
     "end_time": "2020-03-10T01:21:26.594562Z",
     "start_time": "2020-03-10T01:21:26.583954Z"
    }
   },
   "outputs": [],
   "source": [
    "with open('../data/pg150_most_common5.txt', 'a') as f:\n",
    "    for i, j in dic.most_common(1000):\n",
    "        f.write(i + '\\t'+ str(j)+ '\\n')"
   ]
  },
  {
   "cell_type": "code",
   "execution_count": 48,
   "metadata": {
    "ExecuteTime": {
     "end_time": "2020-03-03T02:44:20.795875Z",
     "start_time": "2020-03-03T02:44:20.789159Z"
    }
   },
   "outputs": [
    {
     "data": {
      "text/plain": [
       "3518"
      ]
     },
     "execution_count": 48,
     "metadata": {},
     "output_type": "execute_result"
    }
   ],
   "source": [
    "i.count('to')"
   ]
  },
  {
   "cell_type": "code",
   "execution_count": 173,
   "metadata": {
    "ExecuteTime": {
     "end_time": "2020-03-03T09:30:02.480462Z",
     "start_time": "2020-03-03T09:30:02.473788Z"
    }
   },
   "outputs": [],
   "source": [
    "import math\n",
    "def contains(small, big):\n",
    "    for i in range(len(big)-len(small)+1):\n",
    "        if big[i:i+len(small)] == small:\n",
    "            return True\n",
    "    return False\n",
    "\n",
    "def actual_entropy(l):\n",
    "    n = len(l)\n",
    "    sequence = [l[0]]\n",
    "    sum_gamma = 0\n",
    "    shortest_substrings = [[0, l[0], None]]\n",
    "    for i in range(1, n):\n",
    "        for j in range(i+1, n+1):\n",
    "            s = l[i:j]\n",
    "            if not contains(list(s), sequence): # s is not contained in previous sequence\n",
    "                shortest_substrings.append([i,l[i], list(s)])\n",
    "                sum_gamma += len(s)\n",
    "                sequence.append(l[i])\n",
    "                break\n",
    "\n",
    "    ae = 1 / (sum_gamma / n ) * math.log(n)            \n",
    "    return ae, sum_gamma, n, shortest_substrings"
   ]
  },
  {
   "cell_type": "code",
   "execution_count": 174,
   "metadata": {
    "ExecuteTime": {
     "end_time": "2020-03-03T09:30:02.936493Z",
     "start_time": "2020-03-03T09:30:02.934200Z"
    }
   },
   "outputs": [],
   "source": [
    "D1='1212121212'\n",
    "D2='2112221121'"
   ]
  },
  {
   "cell_type": "code",
   "execution_count": 175,
   "metadata": {
    "ExecuteTime": {
     "end_time": "2020-03-03T09:30:03.382836Z",
     "start_time": "2020-03-03T09:30:03.378170Z"
    }
   },
   "outputs": [
    {
     "data": {
      "text/plain": [
       "1.3544618194082623"
      ]
     },
     "execution_count": 175,
     "metadata": {},
     "output_type": "execute_result"
    }
   ],
   "source": [
    "1/1.7 * math.log(10)"
   ]
  },
  {
   "cell_type": "code",
   "execution_count": 176,
   "metadata": {
    "ExecuteTime": {
     "end_time": "2020-03-03T09:30:03.879821Z",
     "start_time": "2020-03-03T09:30:03.875819Z"
    }
   },
   "outputs": [
    {
     "data": {
      "text/plain": [
       "True"
      ]
     },
     "execution_count": 176,
     "metadata": {},
     "output_type": "execute_result"
    }
   ],
   "source": [
    "contains(['1'], ['1', '2'])"
   ]
  },
  {
   "cell_type": "code",
   "execution_count": 177,
   "metadata": {
    "ExecuteTime": {
     "end_time": "2020-03-03T09:30:04.996311Z",
     "start_time": "2020-03-03T09:30:04.992078Z"
    }
   },
   "outputs": [
    {
     "data": {
      "text/plain": [
       "(1.3544618194082623,\n",
       " 17,\n",
       " 10,\n",
       " [[0, '1', None],\n",
       "  [1, '2', ['2']],\n",
       "  [2, '1', ['1', '2', '1']],\n",
       "  [3, '2', ['2', '1', '2']],\n",
       "  [4, '1', ['1', '2', '1', '2', '1']],\n",
       "  [5, '2', ['2', '1', '2', '1', '2']]])"
      ]
     },
     "execution_count": 177,
     "metadata": {},
     "output_type": "execute_result"
    }
   ],
   "source": [
    "actual_entropy(D1)#, actual_entropy(D2)"
   ]
  },
  {
   "cell_type": "code",
   "execution_count": 178,
   "metadata": {
    "ExecuteTime": {
     "end_time": "2020-03-03T09:30:10.907688Z",
     "start_time": "2020-03-03T09:30:10.903351Z"
    }
   },
   "outputs": [
    {
     "data": {
      "text/plain": [
       "(1.2118868910494978,\n",
       " 19,\n",
       " 10,\n",
       " [[0, '2', None],\n",
       "  [1, '1', ['1']],\n",
       "  [2, '1', ['1', '2']],\n",
       "  [3, '2', ['2', '2']],\n",
       "  [4, '2', ['2', '2']],\n",
       "  [5, '2', ['2', '1', '1', '2', '1']],\n",
       "  [6, '1', ['1', '1', '2', '1']],\n",
       "  [7, '1', ['1', '2', '1']]])"
      ]
     },
     "execution_count": 178,
     "metadata": {},
     "output_type": "execute_result"
    }
   ],
   "source": [
    "actual_entropy(D2)"
   ]
  },
  {
   "cell_type": "code",
   "execution_count": 187,
   "metadata": {
    "ExecuteTime": {
     "end_time": "2020-03-03T13:51:01.111562Z",
     "start_time": "2020-03-03T13:51:01.108266Z"
    }
   },
   "outputs": [
    {
     "data": {
      "text/plain": [
       "'12121212121212121212121212121212121212121212121212121212121212121212121212121212121212121212121212121212121212121212121212121212121212121212121212121212121212121212121212121212121212121212121212121212'"
      ]
     },
     "execution_count": 187,
     "metadata": {},
     "output_type": "execute_result"
    }
   ],
   "source": []
  },
  {
   "cell_type": "code",
   "execution_count": 2,
   "metadata": {
    "ExecuteTime": {
     "end_time": "2020-03-05T05:50:55.328518Z",
     "start_time": "2020-03-05T05:50:55.314374Z"
    }
   },
   "outputs": [
    {
     "name": "stdout",
     "output_type": "stream",
     "text": [
      "10 11 12 13 14 15 16 17 18 19 20 21 22 23 24 25 26 27 28 29 30 31 32 33 34 35 36 37 38 39 40 41 42 43 44 45 46 47 48 49 50 51 52 53 54 55 56 57 58 59 60 61 62 63 64 65 66 67 68 69 70 71 72 73 74 75 76 77 78 79 80 81 82 83 84 85 86 87 88 89 90 91 92 93 94 95 96 97 98 99\n"
     ]
    }
   ],
   "source": [
    "print(*range(10, 100))"
   ]
  },
  {
   "cell_type": "code",
   "execution_count": 3,
   "metadata": {
    "ExecuteTime": {
     "end_time": "2020-03-05T05:52:46.246574Z",
     "start_time": "2020-03-05T05:52:46.240501Z"
    }
   },
   "outputs": [],
   "source": [
    "import math\n",
    "def contains(small, big):\n",
    "    for i in range(len(big)-len(small)+1):\n",
    "        if big[i:i+len(small)] == small:\n",
    "            return True\n",
    "    return False\n",
    "\n",
    "def actual_entropy(l):\n",
    "    n = len(l)\n",
    "    sequence = [l[0]]\n",
    "    sum_gamma = 0\n",
    "    #shortest_substrings = [[0, l[0], None]]\n",
    "    for i in range(1, n):\n",
    "        for j in range(i+1, n+1):\n",
    "            s = l[i:j]\n",
    "            if not contains(list(s), sequence): # s is not contained in previous sequence\n",
    "                #shortest_substrings.append([i,l[i], list(s)])\n",
    "                sum_gamma += len(s)\n",
    "                sequence.append(l[i])\n",
    "                break\n",
    "\n",
    "    ae = 1 / (sum_gamma / n ) * math.log(n)            \n",
    "    return ae"
   ]
  },
  {
   "cell_type": "code",
   "execution_count": 26,
   "metadata": {
    "ExecuteTime": {
     "end_time": "2020-03-05T06:04:01.326925Z",
     "start_time": "2020-03-05T06:03:53.562708Z"
    }
   },
   "outputs": [],
   "source": [
    "import random \n",
    "import numpy as np\n",
    "\n",
    "random.seed(2020)\n",
    "ent_list = []\n",
    "\n",
    "for n in range(5, 200):\n",
    "    D2 = []\n",
    "    for i in range(n*2):\n",
    "        if random.random() >= 0.5:\n",
    "            D2.append('1')\n",
    "        else:\n",
    "            D2.append('2')\n",
    "    D2  = ''.join(D2)\n",
    "    D1 = '12'*n\n",
    "    ent_list.append([n, actual_entropy(D1), actual_entropy(D2)])  \n",
    "\n",
    "n, ent1, ent2 = np.array(ent_list).T"
   ]
  },
  {
   "cell_type": "code",
   "execution_count": 36,
   "metadata": {
    "ExecuteTime": {
     "end_time": "2020-03-05T06:07:45.286290Z",
     "start_time": "2020-03-05T06:07:45.044296Z"
    }
   },
   "outputs": [
    {
     "data": {
      "image/png": "[encoded data removed]",
      "text/plain": [
       "<Figure size 432x288 with 1 Axes>"
      ]
     },
     "metadata": {
      "needs_background": "light"
     },
     "output_type": "display_data"
    }
   ],
   "source": [
    "import pylab as plt\n",
    "\n",
    "plt.plot(2*n, ent1, label = 'regular string')\n",
    "plt.plot(2*n, ent2, label = 'random string')\n",
    "plt.axhline(y=0.8,ls=\":\",c=\"red\", alpha = 0.3)#添加水平直线\n",
    "plt.axhline(y=0.7,ls=\":\",c=\"red\", alpha = 0.3)#添加水平直线\n",
    "plt.axhline(y=0.2,ls=\":\",c=\"red\", alpha = 0.3)#添加水平直线\n",
    "plt.axhline(y=0.1,ls=\":\",c=\"red\", alpha = 0.3)#添加水平直线\n",
    "\n",
    "plt.ylim(0, 2)\n",
    "plt.legend(fontsize = 15)\n",
    "#plt.xscale('log', basex=2)\n",
    "plt.xlabel('length of string',fontsize = 15)\n",
    "plt.ylabel('actual entropy',fontsize = 15)\n",
    "plt.show()"
   ]
  },
  {
   "cell_type": "code",
   "execution_count": null,
   "metadata": {},
   "outputs": [],
   "source": []
  },
  {
   "cell_type": "code",
   "execution_count": 195,
   "metadata": {
    "ExecuteTime": {
     "end_time": "2020-03-03T13:56:02.693004Z",
     "start_time": "2020-03-03T13:56:02.658321Z"
    }
   },
   "outputs": [
    {
     "data": {
      "text/plain": [
       "(0.21197508967985743, 0.7645479605408423)"
      ]
     },
     "execution_count": 195,
     "metadata": {},
     "output_type": "execute_result"
    }
   ],
   "source": [
    "actual_entropy(D1), actual_entropy(D2)"
   ]
  },
  {
   "cell_type": "code",
   "execution_count": 179,
   "metadata": {
    "ExecuteTime": {
     "end_time": "2020-03-03T10:34:10.690612Z",
     "start_time": "2020-03-03T10:34:10.188638Z"
    }
   },
   "outputs": [],
   "source": [
    "%matplotlib inline\n",
    "import numpy as np\n",
    "import pylab as pl\n",
    "import pandas as pd"
   ]
  },
  {
   "cell_type": "code",
   "execution_count": 182,
   "metadata": {
    "ExecuteTime": {
     "end_time": "2020-03-03T10:35:04.092847Z",
     "start_time": "2020-03-03T10:35:04.084396Z"
    }
   },
   "outputs": [
    {
     "data": {
      "text/plain": [
       "0.9639047615927534"
      ]
     },
     "execution_count": 182,
     "metadata": {},
     "output_type": "execute_result"
    }
   ],
   "source": [
    "import mpmath\n",
    "N = 201\n",
    "S = 0.5\n",
    "\n",
    "def getPredictability(N, S):\n",
    "    f = lambda x: (((1-x)/(N-1)) **(1-x))* x**x - 2**(-S)\n",
    "    root = mpmath.findroot(f, 1)\n",
    "    return float(root.real)\n",
    "\n",
    "getPredictability(N, S)"
   ]
  },
  {
   "cell_type": "code",
   "execution_count": 183,
   "metadata": {
    "ExecuteTime": {
     "end_time": "2020-03-03T10:35:12.548246Z",
     "start_time": "2020-03-03T10:35:12.523416Z"
    }
   },
   "outputs": [],
   "source": [
    "N  = 201\n",
    "slist = np.arange(0, 1.1 ,0.1)\n",
    "plist = []\n",
    "for S in slist:\n",
    "    p = getPredictability(N, S)\n",
    "    plist.append(p)"
   ]
  },
  {
   "cell_type": "code",
   "execution_count": 184,
   "metadata": {
    "ExecuteTime": {
     "end_time": "2020-03-03T10:35:20.830504Z",
     "start_time": "2020-03-03T10:35:20.636211Z"
    }
   },
   "outputs": [
    {
     "data": {
      "image/png": "[encoded data removed]",
      "text/plain": [
       "<Figure size 432x288 with 1 Axes>"
      ]
     },
     "metadata": {
      "needs_background": "light"
     },
     "output_type": "display_data"
    }
   ],
   "source": [
    "pl.plot(slist, plist, 'g-o')\n",
    "pl.xlabel('$S$', fontsize = 20)\n",
    "pl.ylabel('$\\Pi{max}$ ', fontsize = 20)\n",
    "pl.show()"
   ]
  },
  {
   "cell_type": "code",
   "execution_count": 185,
   "metadata": {
    "ExecuteTime": {
     "end_time": "2020-03-03T10:35:35.605285Z",
     "start_time": "2020-03-03T10:35:35.219495Z"
    }
   },
   "outputs": [
    {
     "data": {
      "image/png": "[encoded data removed]",
      "text/plain": [
       "<Figure size 432x288 with 1 Axes>"
      ]
     },
     "metadata": {
      "needs_background": "light"
     },
     "output_type": "display_data"
    }
   ],
   "source": [
    "nlist  = np.arange(100, 1000, 200)\n",
    "slist = np.arange(0, 1.1 ,0.1)\n",
    "nsplist = []\n",
    "for N in nlist:\n",
    "    for S in slist:\n",
    "        p = getPredictability(N, S)\n",
    "        nsplist.append([N, S, p])\n",
    "\n",
    "df = pd.DataFrame(nsplist, columns = ['N', 'S', 'P'])\n",
    "groups = df.groupby('N')\n",
    "for name, group in groups:\n",
    "    pl.plot(group.S, group.P, label = \"N = \"+ str(name), marker='o', linestyle='-')\n",
    "pl.legend()\n",
    "pl.xlabel('$S$', fontsize = 20)\n",
    "pl.ylabel('$\\Pi{max}$ ', fontsize = 20)\n",
    "pl.show()\n"
   ]
  },
  {
   "cell_type": "code",
   "execution_count": null,
   "metadata": {},
   "outputs": [],
   "source": []
  }
 ],
 "metadata": {
  "celltoolbar": "Slideshow",
  "kernelspec": {
   "display_name": "Python 3",
   "language": "python",
   "name": "python3"
  },
  "language_info": {
   "codemirror_mode": {
    "name": "ipython",
    "version": 3
   },
   "file_extension": ".py",
   "mimetype": "text/x-python",
   "name": "python",
   "nbconvert_exporter": "python",
   "pygments_lexer": "ipython3",
   "version": "3.7.3"
  },
  "latex_envs": {
   "LaTeX_envs_menu_present": true,
   "autoclose": false,
   "autocomplete": true,
   "bibliofile": "biblio.bib",
   "cite_by": "apalike",
   "current_citInitial": 1,
   "eqLabelWithNumbers": true,
   "eqNumInitial": 0,
   "hotkeys": {
    "equation": "Ctrl-E",
    "itemize": "Ctrl-I"
   },
   "labels_anchors": false,
   "latex_user_defs": false,
   "report_style_numbering": false,
   "user_envs_cfg": false
  },
  "toc": {
   "base_numbering": 1,
   "nav_menu": {},
   "number_sections": false,
   "sideBar": false,
   "skip_h1_title": false,
   "title_cell": "Table of Contents",
   "title_sidebar": "Contents",
   "toc_cell": false,
   "toc_position": {
    "height": "48px",
    "left": "1263px",
    "top": "0px",
    "width": "159px"
   },
   "toc_section_display": false,
   "toc_window_display": true
  },
  "toc_position": {
   "height": "339px",
   "left": "1245.99px",
   "right": "20px",
   "top": "120px",
   "width": "196px"
  }
 },
 "nbformat": 4,
 "nbformat_minor": 1
}
