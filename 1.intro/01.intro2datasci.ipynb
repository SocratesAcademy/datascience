{
 "cells": [
  {
   "cell_type": "markdown",
   "metadata": {
    "slideshow": {
     "slide_type": "slide"
    }
   },
   "source": [
    "\n",
    "***\n",
    "***\n",
    "# 数据科学简介\n",
    "***\n",
    "***\n",
    "\n",
    "王成军 \n",
    "\n",
    "wangchengjun@nju.edu.cn\n",
    "\n",
    "计算传播网 http://computational-communication.com\n"
   ]
  },
  {
   "cell_type": "markdown",
   "metadata": {
    "slideshow": {
     "slide_type": "slide"
    }
   },
   "source": [
    "# DIKUW\n",
    "\n",
    "<img src = './img/dikuw2.png' width = 800px>"
   ]
  },
  {
   "cell_type": "markdown",
   "metadata": {
    "slideshow": {
     "slide_type": "slide"
    }
   },
   "source": [
    "## 学习目的\n",
    "\n",
    "- 【掌握】数据科学中的基础理论,尤其是核心术语、研究目的、理论体系与基本原则;\n",
    "- 【理解】数据科学家的的主要职责与能力要求;\n",
    "- 【了解】数据科学的发展简史。"
   ]
  },
  {
   "cell_type": "markdown",
   "metadata": {
    "slideshow": {
     "slide_type": "subslide"
    }
   },
   "source": [
    "### 学习重点\n",
    "- 大数据挑战的本质 \n",
    "- 数据科学的研究目的\n",
    "- 数据科学的理论体系\n",
    "- 数据科学的基本原则"
   ]
  },
  {
   "cell_type": "markdown",
   "metadata": {
    "slideshow": {
     "slide_type": "slide"
    }
   },
   "source": [
    "1. 我为什么需要学习《数据科学》?\n",
    "    - 大数据挑战的本质(1.1) 数据科学的提出背景(1.1)\n",
    "2. 什么是数据科学?\n",
    "    - 数据科学的定义(1.1)、数据科学的研究目的(1.2)\n",
    "3. 数据科学的发展现状与趋势是什么?\n",
    "    - 数据科学的发展简史(1.3)\n",
    "4. 数据科学中应学习哪些主要内容?\n",
    "    - 数据科学的理论体系(1.4)\n",
    "5. 数据科学的特殊性在哪里\n",
    "    - 数据科学的基本原则(1.5)\n",
    "6. 数据科学的学习目的是什么?\n",
    "    - 成为专业数据科学家或专业中的数据科学家(1.6)"
   ]
  },
  {
   "cell_type": "markdown",
   "metadata": {
    "slideshow": {
     "slide_type": "slide"
    }
   },
   "source": [
    "# 大数据时代的到来\n",
    "\n",
    "数据与知识之间的矛盾日益突出\n",
    "- 计算机科学：数据已经超现有的计算和存储能力\n",
    "- 统计学：数据不抽样也可以计算、预测?解释?\n",
    "- 机器学习：有了数据, 可以用简 单方法实 现较好的 “智能” 啦\n",
    "- 社会科学不再是关键节点的数据"
   ]
  },
  {
   "cell_type": "markdown",
   "metadata": {
    "slideshow": {
     "slide_type": "subslide"
    }
   },
   "source": [
    "### 什么是数据(Data)\n",
    "\n",
    "数据 != 数值\n",
    "- 文字\n",
    "- 图像\n",
    "- 语音\n",
    "- 视频"
   ]
  },
  {
   "cell_type": "markdown",
   "metadata": {
    "slideshow": {
     "slide_type": "slide"
    }
   },
   "source": [
    "\n",
    "\n",
    "<img src = './img/Hilbert_InfoGrowth.png' width = 800px>"
   ]
  },
  {
   "cell_type": "markdown",
   "metadata": {
    "slideshow": {
     "slide_type": "subslide"
    }
   },
   "source": [
    "### 大数据：数字化“指纹”\n",
    "- Behavioral Data\n",
    "- Relational Data\n",
    "- Longitudinal \n",
    "- Big Data\n",
    "- Digital Data"
   ]
  },
  {
   "cell_type": "markdown",
   "metadata": {
    "slideshow": {
     "slide_type": "subslide"
    }
   },
   "source": [
    "D. Watts, A twenty-first century science. Nature 445, 489 (2007).\n",
    "> If handled appropriately, data about Internet-based communication and interactivity could revolutionize our understanding of collective human behaviour.\n",
    "\n",
    "很少有人会认为社会科学会成为21世纪科学的中心\n",
    "- 因为社会现象是最难解决的科学问题之一\n",
    "- 社会现象当中卷入了海量的异质性的个体之间的互动\n",
    "\n",
    "网站记录（Website Logs）与基于互联网的实验（Web-based experiments）\n",
    "    - 互联网公司与研究者的合作\n"
   ]
  },
  {
   "cell_type": "markdown",
   "metadata": {
    "slideshow": {
     "slide_type": "slide"
    }
   },
   "source": [
    "### 大数据的热与冷\n",
    "- 一个既热又冷的领域\n",
    "- 大数据的奥妙不在于 “数据”，更不在于“大”\n",
    "- 大数据的形与神—— 到底谁发明了 术语“大数据”\n",
    "\n"
   ]
  },
  {
   "cell_type": "markdown",
   "metadata": {
    "slideshow": {
     "slide_type": "subslide"
    }
   },
   "source": [
    "### 如何理解大数据的4V特征\n",
    "\n",
    "- Volume 数据量大\n",
    "    - 相对于计算与存储能力，数据量大\n",
    "    - 数据的时间分布并不均匀。近几年的数据占比最高。\n",
    "- Variety 类型多\n",
    "    - 不同类型的数据占比不同，非结构化数据的占比最高(未来 90%)\n",
    "- Value 价值密度低\n",
    "    - 数据价值与数据量之间不一定存在线性关系\n",
    "    - “有用数据”隐藏在海量的数据之中,需要对大数据进行挖掘，提取“洞见”\n",
    "- Velocity 速度快\n",
    "    - 数据增长速度快（年均增长率 41%）,数据处理的时间要求高\n",
    "\n"
   ]
  },
  {
   "cell_type": "markdown",
   "metadata": {
    "ExecuteTime": {
     "end_time": "2018-09-04T07:38:06.932811Z",
     "start_time": "2018-09-04T07:38:06.928020Z"
    },
    "slideshow": {
     "slide_type": "subslide"
    }
   },
   "source": [
    "### 基于“小数据”的传统理论不能解释“大数据现象”\n",
    "- “涌现”\n",
    "    - 系统大于元素之和或者说系统在跨越层次时发生了新的属性或新的质。\n",
    "        - 大数据中个别数据可以有误允许缺失、冗余、垃圾数据的存在但不影响大数据的质量\n",
    "        - 大数据中的每一条数据都“没什么用”但放在一起就“很有用”\n",
    "        - 大数据中的每一条信息都“不是什么秘密”放在一起“就得保密”了。\n",
    "    - “涌现现象是以相互作用为中心的,它比单个行为的简单累加要复杂得多。”\n",
    "\n",
    "\n",
    "约翰·霍兰（2001）涌现:从混沌到有序. 上海科学技术出版社"
   ]
  },
  {
   "cell_type": "markdown",
   "metadata": {
    "slideshow": {
     "slide_type": "subslide"
    }
   },
   "source": [
    "### 第四范式\n",
    "\n",
    "- 2007年，图灵奖获得者Jim Gray提出了科学研究的第四范式——数据密集型科学发现（Data-intensive Scientific Discovery）。\n",
    "\n",
    "人类科学研究活动已经历过三种不同范式的演变过程\n",
    "- 原始社会的“实验科学范式”\n",
    "- 以模型和归纳为特征的“理论科学范式”\n",
    "- 以模拟仿真为特征的“计算科学范式”\n",
    "- 目前正在转向“数据密集型科学发现范式”。\n",
    "    - 科学研究人员只需要从大数据中查找和挖掘所需要的信息和知识\n",
    "    - 无须直接面对所研究的物理对象。"
   ]
  },
  {
   "cell_type": "markdown",
   "metadata": {
    "slideshow": {
     "slide_type": "subslide"
    }
   },
   "source": [
    "### 大数据时代的10大变革\n",
    "- 研究范式：第三范式 —> 第四范式\n",
    "- 数据的属性：数据是资源 —> 数据是资产\n",
    "- 方法论：基于知识的方法 —> 基于数据的方法\n",
    "- 数据分析：统计学 —> 数据科学\n",
    "- 计算智能：复杂算法 —> 简单算法\n",
    "- 数据管理：业务数据化 —> 数据业务化\n",
    "- 决策方式：目标驱动型 —> 数据驱动\n",
    "- 产业竞合关系：以战略为中心 —> 以数据为中心\n",
    "- 数据复杂性：不接受 —> 接受\n",
    "- 数据处理模式：小众参与 —> 大规模协同"
   ]
  },
  {
   "cell_type": "markdown",
   "metadata": {
    "slideshow": {
     "slide_type": "subslide"
    }
   },
   "source": [
    "### 大数据思维\n",
    "【例】将中文中的“您好吗?” 翻译成英文\n",
    "- 传统思维:数据→ 知识→ 问题\n",
    "    - 知识范式\n",
    "- 大数据思维:数据→ 问题\n",
    "    - 数据范式 \n",
    "        - 全体数据、混杂性、相关性\n",
    "        - 元分析方法：基于多组独立的分析进行分析"
   ]
  },
  {
   "cell_type": "markdown",
   "metadata": {
    "slideshow": {
     "slide_type": "subslide"
    }
   },
   "source": [
    "# 如何定义数据科学(Data Science)\n",
    "\n",
    "- 是一门将“现实世界 ”映射到“数据世界” 之后,在“数据层次 ”上研究“现实世界” 的问题,并根据“数 据世界”的分析结果, 对“现实世界”进行预测、洞见、解释 或决策的新兴科学;\n",
    "\n"
   ]
  },
  {
   "cell_type": "markdown",
   "metadata": {
    "slideshow": {
     "slide_type": "subslide"
    }
   },
   "source": [
    "### 如何定义数据科学(Data Science)\n",
    "\n",
    "- 是一门以“数据”, 尤其是“大数据”为 研究对象,并以数据统计、机器学习、 数据可视化等为理 论基础,主要研究数据预处理、数据 管理、数据计算、 数据产品开发等活 动的交叉性学科;\n"
   ]
  },
  {
   "cell_type": "markdown",
   "metadata": {
    "slideshow": {
     "slide_type": "subslide"
    }
   },
   "source": [
    "### 如何定义数据科学(Data Science)\n",
    "\n",
    "- 是一门以实现“从数据到信息”、“从 据到知识”和(或) “从数据到智慧”的转化为主要研究目的,以“数据驱动”、 “数据业务化”、“数据洞见”、“数据产品研发”和(或)“ 数据生态系统的建设”为主要研究任务的独立学科;\n",
    "\n"
   ]
  },
  {
   "cell_type": "markdown",
   "metadata": {
    "slideshow": {
     "slide_type": "subslide"
    }
   },
   "source": [
    "### 如何定义数据科学(Data Science)\n",
    "\n",
    "- 是一门以“大数据时代”面临的新挑战、新机会、新思维和新方法为核心内容的,包括新的理论、方法、模型、技术、平台、工具、应用和实践在内的一整套知识体系。\n",
    "\n"
   ]
  },
  {
   "cell_type": "markdown",
   "metadata": {
    "slideshow": {
     "slide_type": "subslide"
    }
   },
   "source": [
    "### 讨论:数据科学的学科定位\n",
    "\n",
    "![](./img/datascience.png)\n",
    "\n",
    "Drew Conway的数据科学韦恩图(2010)"
   ]
  },
  {
   "cell_type": "markdown",
   "metadata": {
    "slideshow": {
     "slide_type": "subslide"
    }
   },
   "source": [
    "### 讨论:数据科学的学科定位\n",
    "\n",
    "<img src = './img/datasci2.png' width = 600px>\n",
    "\n",
    "Jerry Overton.Going Pro in Data Science [M].O’Reilly Media, Inc,2016:12."
   ]
  },
  {
   "cell_type": "markdown",
   "metadata": {
    "slideshow": {
     "slide_type": "subslide"
    }
   },
   "source": [
    "### 数据科学的目标\n",
    "\n",
    "\n",
    "- 大数据及其运动规律的揭示 \n",
    "- 从数据到智慧的转化 \n",
    "- 数据洞见(Data Insights) \n",
    "- 数据业务化\n",
    "- 数据分析\n",
    "- 数据驱动型决策(支持)\n",
    "- 数据产品的研发\n",
    "- 数据生态系统的建设"
   ]
  },
  {
   "cell_type": "markdown",
   "metadata": {
    "slideshow": {
     "slide_type": "subslide"
    }
   },
   "source": [
    "### “数据科学”的主要里程碑\n",
    "- 1974 Peter Naur在《Concise Survey of Computer Methods》中首次出现术语“数据科学\n",
    "- 2001 William S. Cleveland, Data Science: an Action Plan for Expanding the Technical Areas of the Field of Statistics\n",
    "- 2003 The Data Science Journal\n",
    "- 2009 The Data Scientists Group on LinkIn"
   ]
  },
  {
   "cell_type": "markdown",
   "metadata": {
    "slideshow": {
     "slide_type": "slide"
    }
   },
   "source": [
    "### “数据科学”的主要里程碑\n",
    "- 2010 Drew Conway, The Data Science Venn Diagram\n",
    "- 2011 Patil D J. Building data science teams\n",
    "- 2012 Davenport T H & Patil D J. Data Scientist: the sexiest job of the 21st centry\n",
    "- 2013 \n",
    "    - Mattmann C A 在Nature 上发表题目为A vision for data science 的论文;\n",
    "    - Dhar V 在Communications of the ACM 上发表论文Data science and prediction;\n",
    "    - Provost F和Fawcett T出版了专著Data Science for Business:\n",
    "    - Mayer- Schönberger V和 Cukier K出版了专著Big data: A Revolution That Will Transform How We Live, Work, and Think; Schutt R\n",
    "    - O'Neil C出版专著Doing Data Science;"
   ]
  },
  {
   "cell_type": "markdown",
   "metadata": {
    "slideshow": {
     "slide_type": "slide"
    }
   },
   "source": [
    "### “数据科学”的主要里程碑\n",
    "\n",
    "- 2014\n",
    "    - Zumel N, Mount J, Porzak J等的专著Practical data science with R\n",
    "    - Dj Patil 出版Data Jujitsu: The Art of Turning Data into Product\n",
    "\n",
    "- 2015\n",
    "    - 美国白宫任命 Patil DJ作为首席数据科学家 \n",
    "    - Lillian Pierson出版Data science for dummies \n",
    "    - Monya Baker 在 Nature上发表论文《Data Science:Industry allure》\n",
    "    \n",
    "- 2016 \n",
    "    - Jerry Overton 出版了专著 Going Pro in Data Science\n"
   ]
  },
  {
   "cell_type": "markdown",
   "metadata": {
    "slideshow": {
     "slide_type": "slide"
    }
   },
   "source": [
    "# 数据科学的理论体系\n",
    "\n",
    "- 数据加工、数据计算、数据管理、数据分析、数据产品开发\n",
    "- 理念、理论、方法、技术、工具\n",
    "- 统计学、机器学习、数据可视化、(某一)领域实务知识与经验\n",
    "\n",
    "数据科学≠ 统计学 or(and) 机器学习"
   ]
  },
  {
   "cell_type": "markdown",
   "metadata": {
    "slideshow": {
     "slide_type": "subslide"
    }
   },
   "source": [
    "<img src = './img/framework2.jpg' width = 800>"
   ]
  },
  {
   "cell_type": "markdown",
   "metadata": {
    "slideshow": {
     "slide_type": "slide"
    }
   },
   "source": [
    "### 数据科学\n",
    "\n",
    "- 数据化( Datafication )≠ 数字化（Digitalization）\n",
    "    - 3C原则=Critical+Creative+Curious\n",
    "- ￼￼数据加工(Data Munging)&数据打磨(Data Wrangling) \n",
    "    - 原始数据(没有经过预处理)\n",
    "    - 干净数据(预处理过的数据)\n",
    "    - 增值数据(分析处理的结果)\n",
    "    - 洞见数据(直接可以用于决策)\n",
    "- 数据洞见(Data Insights)\n",
    "- 数据产品(Data Products)：能够通过数据来帮助用户实现某一个(些)目标的产品"
   ]
  },
  {
   "cell_type": "markdown",
   "metadata": {
    "slideshow": {
     "slide_type": "slide"
    }
   },
   "source": [
    "### “数据科学”的基本流程\n",
    "\n",
    "![](./img/process.jpg)\n"
   ]
  },
  {
   "cell_type": "markdown",
   "metadata": {
    "slideshow": {
     "slide_type": "slide"
    }
   },
   "source": [
    "### “数据科学”的基本流程\n",
    "\n",
    "<img src = './img/process2.jpg' width = 600>"
   ]
  },
  {
   "cell_type": "markdown",
   "metadata": {
    "slideshow": {
     "slide_type": "subslide"
    }
   },
   "source": [
    "<img src = './img/dikuw3.jpg' width = 800px>"
   ]
  },
  {
   "cell_type": "markdown",
   "metadata": {
    "ExecuteTime": {
     "end_time": "2018-09-05T02:34:00.176411Z",
     "start_time": "2018-09-05T02:34:00.169522Z"
    },
    "slideshow": {
     "slide_type": "subslide"
    }
   },
   "source": [
    "### 数据科学家\n",
    "\n",
    "![](./img/datascientist.jpg)\n"
   ]
  },
  {
   "cell_type": "markdown",
   "metadata": {
    "slideshow": {
     "slide_type": "slide"
    }
   },
   "source": [
    "#### 数据科学家的技能\n",
    "\n",
    "<img src = './img/skills.jpg' width = 400>"
   ]
  },
  {
   "cell_type": "markdown",
   "metadata": {
    "slideshow": {
     "slide_type": "slide"
    }
   },
   "source": [
    "#### 数据科学家的技能\n",
    "\n",
    "<img src = './img/skills2.jpg' width = 900>"
   ]
  },
  {
   "cell_type": "markdown",
   "metadata": {
    "slideshow": {
     "slide_type": "slide"
    }
   },
   "source": [
    "# 数据科学项目\n",
    "\n",
    "- 项目发起人 ￼￼(Project Sponsor)\n",
    "- 项目经理 (Project Manager)\n",
    "- 客户(Client) \n",
    "- 数据科学家 (Data Scientist) \n",
    "- 数据工程师 (Data Engineer)\n",
    "- 操作人员 (Operations)"
   ]
  },
  {
   "cell_type": "markdown",
   "metadata": {
    "collapsed": true,
    "slideshow": {
     "slide_type": "subslide"
    }
   },
   "source": [
    "# 数据科学是科学吗？\n",
    "### Geology is not a real science\n",
    "> Sheldon from the big bang theory\n",
    "\n",
    "http://www.youtube.com/watch?v=sYMFHON8LFw\n"
   ]
  },
  {
   "cell_type": "markdown",
   "metadata": {
    "slideshow": {
     "slide_type": "slide"
    }
   },
   "source": [
    "### 科学的四重境界\n",
    "科学的金字塔\n",
    "\n",
    "- 数据\n",
    "- 模式、定律\n",
    "- 机制\n",
    "- 原则\n"
   ]
  },
  {
   "cell_type": "markdown",
   "metadata": {
    "slideshow": {
     "slide_type": "subslide"
    }
   },
   "source": [
    "### 引力研究为例\n",
    "托勒密：地球处于宇宙中心\n",
    "\n",
    "- 引力第一重境界\n",
    "    - 哥白尼、弟谷\n",
    "- 引力第二重境界\n",
    "    - 开普勒\n",
    "- 引力第三重境界\n",
    "    - 牛顿\n",
    "- 引力的第四重境界\n",
    "    - 爱因斯坦\n",
    "\n",
    "Richard Feynman, which is titled The Character of Physical Law – Part 1 The Law of Gravitation http://v.youku.com/v_show/id_XNzc4Mjk1NjA=.html\n",
    "\n"
   ]
  },
  {
   "cell_type": "markdown",
   "metadata": {
    "slideshow": {
     "slide_type": "subslide"
    }
   },
   "source": [
    "### 开普勒定律\n",
    "\n",
    "- ①椭圆定律所有行星绕太阳的轨道都是椭圆，太阳在椭圆的一个焦点上。\n",
    "- ②面积定律行星和太阳的连线在相等的时间间隔内扫过相等的面积。\n",
    "- ③调和定律所有行星绕太阳一周的恒星时间T的平方与它们轨道长半轴A的立方成比例\n",
    "\n"
   ]
  },
  {
   "cell_type": "markdown",
   "metadata": {
    "slideshow": {
     "slide_type": "subslide"
    }
   },
   "source": [
    "### 牛顿运动定律\n",
    "由艾萨克·牛顿在1687年于《自然哲学的数学原理》一书中总结提出。\n",
    "- 第一定律说明了力的含义：力是改变物体运动状态的原因；\n",
    "- 第二定律指出了力的作用效果：力使物体获得加速度；\n",
    "- 第三定律揭示出力的本质：力是物体间的相互作用。[2] \n",
    "\n"
   ]
  },
  {
   "cell_type": "markdown",
   "metadata": {
    "slideshow": {
     "slide_type": "subslide"
    }
   },
   "source": [
    "### 伽利略的相对性原理\n",
    "- 一切彼此做匀速直线运动的惯性系，对于描写机械运动的力学规律来说是完全等价的。并不存在一个比其它惯性系更为优越的惯性系。\n",
    "- 在一个惯性系内部所作的任何力学实验都不能够确定这一惯性系本身是在静止状态，还是在作匀速直线运动。\n"
   ]
  },
  {
   "cell_type": "markdown",
   "metadata": {
    "slideshow": {
     "slide_type": "subslide"
    }
   },
   "source": [
    "### 等待牛顿\n",
    "\n",
    "- 太阳系行星的椭圆轨道\n",
    "- 彗星的抛物线轨道\n",
    "- 地球上的抛物线运动"
   ]
  },
  {
   "cell_type": "markdown",
   "metadata": {
    "slideshow": {
     "slide_type": "slide"
    }
   },
   "source": [
    "# 可计算性\n",
    "\n",
    "- 关注事物本身可以被计算的程度\n",
    "> Computability is the ability to solve a problem in an effective manner。\n",
    "The computability of a problem is closely linked to the existence of an algorithm to solve the problem.\n",
    "- 算法的可计算函数\n",
    "    - 图灵停机：你能用编程语言写出来并运行的都是可计算函数\n"
   ]
  },
  {
   "cell_type": "markdown",
   "metadata": {
    "slideshow": {
     "slide_type": "subslide"
    }
   },
   "source": [
    "### 可计算化(Computational)\n",
    "- 关注事物本身可以被计算的方式\n",
    "- 可计算化思维（computational thinking）\n",
    "    - 任务的分解与自动化实现。\n",
    "        - Analyzing and logically organizing data\n",
    "        - Data modeling, data abstractions, and simulations\n",
    "        - Formulating problems such that computers may assist\n",
    "        - Identifying, testing, and implementing possible solutions\n",
    "        - Automating solutions via algorithmic thinking\n",
    "        - Generalizing and applying this process to other problems\n",
    "\n"
   ]
  },
  {
   "cell_type": "markdown",
   "metadata": {
    "slideshow": {
     "slide_type": "subslide"
    }
   },
   "source": [
    "### 可计算性与科学研究\n",
    "\n",
    "<img src = './img/comcom.png' width = 500px >"
   ]
  },
  {
   "cell_type": "markdown",
   "metadata": {
    "slideshow": {
     "slide_type": "slide"
    }
   },
   "source": [
    "# 通往数据科学之路\n",
    "- 方法：从数据到模型\n",
    "    - 开放数据 (open data)\n",
    "        - 实证数据\n",
    "        - 工具\n",
    "            - 开源（open source）\n",
    "            - R和Python\n",
    "    - 开放科学（open science）\n",
    "        - 数值模拟\n",
    "        - 多主体建模\n",
    "        - 分析模型\n",
    "        - 计算模型\n"
   ]
  },
  {
   "cell_type": "markdown",
   "metadata": {
    "slideshow": {
     "slide_type": "subslide"
    }
   },
   "source": [
    "### 书籍\n",
    "- Big Data\n",
    "- <del>Doing data science<del>\n",
    "- Beginning Python\n",
    "    \n",
    "- **Whirlwind Tour Of Python** https://jakevdp.github.io/WhirlwindTourOfPython/\n",
    "- **Python Data Science Handbook** https://jakevdp.github.io/PythonDataScienceHandbook/\n",
    "- **Data Science from Scratch** https://github.com/joelgrus/data-science-from-scratch\n",
    "- **Python for Data Analysis** by Wes McKinney, published by O'Reilly Media https://github.com/data-science-lab/pydata-book\n",
    "- Easley, David and [Jon Kleinberg](http://www.cs.cornell.edu/home/kleinber/). 2011.[Networks, Crowds, and Markets: Reasoning About a Highly Connected World](http://www.cs.cornell.edu/home/kleinber/networks-book/). New York: Cambridge University. 大卫・伊斯利, & 乔恩・克莱因伯格. (2011). [网络、群体与市场](https://www.baidu.com/s?wd=%E7%BD%91%E7%BB%9C%E3%80%81%E7%BE%A4%E4%BD%93%E4%B8%8E%E5%B8%82%E5%9C%BA):揭示高度互联世界的行为原理与效应机制. 清华大学出版社.\n"
   ]
  },
  {
   "cell_type": "markdown",
   "metadata": {
    "slideshow": {
     "slide_type": "subslide"
    }
   },
   "source": [
    "### 学科基础\n",
    "- 物理学\n",
    "- 数学\n",
    "- 计算机科学\n",
    "- 计算语言学\n",
    "- 网络科学"
   ]
  },
  {
   "cell_type": "markdown",
   "metadata": {
    "slideshow": {
     "slide_type": "subslide"
    }
   },
   "source": [
    "# 案例\n",
    "\n",
    "<img src = './img/allowmetric.png' width = 500px>\n",
    "\n",
    "http://www.nature.com/scitable/knowledge/library/allometry-the-study-of-biological-scaling-13228439\n"
   ]
  },
  {
   "cell_type": "markdown",
   "metadata": {
    "slideshow": {
     "slide_type": "subslide"
    }
   },
   "source": [
    "<img src = './img/allowmetric2.png' width = 500px >"
   ]
  },
  {
   "cell_type": "markdown",
   "metadata": {
    "slideshow": {
     "slide_type": "subslide"
    }
   },
   "source": [
    "<img src = './img/allowmetric3.png' widht = 500px>\n",
    "\n",
    "Wu & Zhang (2011) Accelerating growth and size-dependent distribution of human online activities. PhysRevE.84.026113\n"
   ]
  },
  {
   "cell_type": "markdown",
   "metadata": {
    "slideshow": {
     "slide_type": "subslide"
    }
   },
   "source": [
    "### 在线社交网络\n",
    "\n",
    "选举行为可以通过社交网络传染\n",
    "\n",
    "<img src = './img/sns.png' width = 500px>\n",
    "\n",
    "Robert M. Bond et al. A 61-million-person experiment in social influence and political mobilization. Nature. 2012\n"
   ]
  },
  {
   "cell_type": "markdown",
   "metadata": {
    "slideshow": {
     "slide_type": "subslide"
    }
   },
   "source": [
    "### 手机通话网络\n",
    "传播的多样性制约社会经济的发展?\n",
    "\n",
    "<img src = './img/macy.png' width = 500px>\n",
    "\n",
    "Nathan Eagle, Michael Macy and Rob Claxton: Network Diversity and Economic Development, Science 328, 1029–1031, 2010.\n"
   ]
  },
  {
   "cell_type": "markdown",
   "metadata": {
    "slideshow": {
     "slide_type": "subslide"
    }
   },
   "source": [
    "### 情感分析\n",
    "\n",
    "<img src = './img/miller.png' width = 500px>\n",
    "\n",
    "Miller (2011) Social scientists wade into the tweet stream. Science\n"
   ]
  },
  {
   "cell_type": "markdown",
   "metadata": {
    "slideshow": {
     "slide_type": "subslide"
    }
   },
   "source": [
    "### 预测股票市场？\n",
    "Emotion: Calm\\Alert\\Sure\\Vital\\Kind\\Happy\n",
    "\n",
    "<img src = './img/bollen.png' width = 300px>\n",
    "\n",
    "Bollen (2011) Twitter mood predicts the stock market. JOCS\n"
   ]
  },
  {
   "cell_type": "markdown",
   "metadata": {
    "slideshow": {
     "slide_type": "subslide"
    }
   },
   "source": [
    "### The Twitter Political Index\n",
    "\n",
    "<img src = './img/twitter.png' width  = 500px>\n",
    "\n",
    "Figures source: election.twitter.com"
   ]
  },
  {
   "cell_type": "markdown",
   "metadata": {
    "slideshow": {
     "slide_type": "subslide"
    }
   },
   "source": [
    "### Google Flu Trends\n",
    "使用搜索引擎预测流感\n",
    "\n",
    "<img src = './img/googleflu.png' width = 500px>\n",
    "\n",
    "Ginsberg et al. Detecting influenza epidemics using search engine query data. Nature 457, 1012-1014 (19 February 2009)\n",
    "\n",
    "\n",
    "http://www.google.com/trends/correlate/comic\n"
   ]
  },
  {
   "cell_type": "markdown",
   "metadata": {
    "slideshow": {
     "slide_type": "subslide"
    }
   },
   "source": [
    "<img src = './img/cdc.png' width = 500px>\n",
    "\n",
    "“Nature reported that Google flu trends (GFT) was predicting more than double the proportion of doctor visits for influenza-like illness (ILI) than the Centers for Disease Control and Prevention (CDC), which bases its estimates on surveillance reports from laboratories across the United States (1, 2).”\n",
    "\n",
    "Lazer et al. (2014) The parable of Google Flu Traps in big data analysis. Science\n",
    "\n"
   ]
  },
  {
   "cell_type": "markdown",
   "metadata": {
    "slideshow": {
     "slide_type": "subslide"
    }
   },
   "source": [
    "> # Before God we are all equally wise and equally foolish. Do not worry about your difficulties in Mathematics. I can assure you mine are still greater.\n",
    "——Albert Einstein \n"
   ]
  },
  {
   "cell_type": "markdown",
   "metadata": {
    "collapsed": true,
    "slideshow": {
     "slide_type": "subslide"
    }
   },
   "source": [
    "# 不管时代的潮流和社会的风尚怎样，人总可以凭着自己高尚的品质，超脱时代和社会，走自己正确的道路。现在，大家都为了电冰箱、汽车、房子而奔波、追逐、竞争。这就是我们这个时代的特征了。但是也还有不少人，他们不追求这些物质的东西，他们追求理想和真理，得到了内心的自由和安宁。\n",
    "> ## — 爱因斯坦"
   ]
  },
  {
   "cell_type": "markdown",
   "metadata": {
    "slideshow": {
     "slide_type": "slide"
    }
   },
   "source": [
    "# This is the End.\n",
    "> Thank you for your attention!"
   ]
  }
 ],
 "metadata": {
  "celltoolbar": "Slideshow",
  "kernelspec": {
   "display_name": "Python 3",
   "language": "python",
   "name": "python3"
  },
  "language_info": {
   "codemirror_mode": {
    "name": "ipython",
    "version": 3
   },
   "file_extension": ".py",
   "mimetype": "text/x-python",
   "name": "python",
   "nbconvert_exporter": "python",
   "pygments_lexer": "ipython3",
   "version": "3.7.3"
  },
  "latex_envs": {
   "LaTeX_envs_menu_present": true,
   "autoclose": false,
   "autocomplete": true,
   "bibliofile": "biblio.bib",
   "cite_by": "apalike",
   "current_citInitial": 1,
   "eqLabelWithNumbers": true,
   "eqNumInitial": 0,
   "hotkeys": {
    "equation": "Ctrl-E",
    "itemize": "Ctrl-I"
   },
   "labels_anchors": false,
   "latex_user_defs": false,
   "report_style_numbering": false,
   "user_envs_cfg": false
  },
  "toc": {
   "base_numbering": 1,
   "nav_menu": {},
   "number_sections": false,
   "sideBar": false,
   "skip_h1_title": false,
   "title_cell": "Table of Contents",
   "title_sidebar": "Contents",
   "toc_cell": false,
   "toc_position": {
    "height": "47px",
    "left": "1083px",
    "top": "110.5px",
    "width": "159px"
   },
   "toc_section_display": false,
   "toc_window_display": true
  }
 },
 "nbformat": 4,
 "nbformat_minor": 1
}
