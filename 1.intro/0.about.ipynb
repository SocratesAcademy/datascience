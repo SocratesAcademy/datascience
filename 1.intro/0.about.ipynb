{
 "cells": [
  {
   "cell_type": "markdown",
   "metadata": {
    "slideshow": {
     "slide_type": "slide"
    }
   },
   "source": [
    "\n",
    "\n",
    "***\n",
    "***\n",
    "# 数据科学Python编程基础\n",
    "\n",
    "## 课程简介\n",
    "***\n",
    "***\n",
    "\n",
    "王成军 \n",
    "\n",
    "wangchengjun@nju.edu.cn\n",
    "\n",
    "计算传播网 http://computational-communication.com\n"
   ]
  },
  {
   "cell_type": "markdown",
   "metadata": {
    "slideshow": {
     "slide_type": "slide"
    }
   },
   "source": [
    "# 内容\n",
    "- 时间安排\n",
    "- 课程资料\n",
    "- 授课计划\n",
    "- 课前准备"
   ]
  },
  {
   "cell_type": "markdown",
   "metadata": {
    "slideshow": {
     "slide_type": "slide"
    }
   },
   "source": [
    "# 课程资料\n",
    "- (包括数据、PPT、可视化、图片、代码) http://github.com/computational-class/datascience/\n"
   ]
  },
  {
   "cell_type": "markdown",
   "metadata": {
    "slideshow": {
     "slide_type": "slide"
    }
   },
   "source": [
    "# 时间安排\n",
    "\n",
    "- 周二 第1-2节 1-17周\n",
    "\n",
    "\n",
    "\n",
    "| 序号          |  日期         |    时间   |内容        | 课时数量   |\n",
    "| -------------|:-------------:|:-------------:|:-------------:|-----:|\n",
    "| 1 | 2月17日 | 8:00-9:45 | 引言：数据科学简介/课程简介 | 2学时\n",
    "| 2 | 2月24日 |  8:00-9:45 | Python基础: [Introduction](/PythonTour/00-Introduction.ipynb)、[How to Run Python Code](/PythonTour/01-How-to-Run-Python-Code.ipynb)、[Basic Python Syntax](/PythonTour/02-Basic-Python-Syntax.ipynb)| 2学时|\n",
    "| 3 | 9月19日 | 14:00-16:00 |  Python基础: [ Variables](/PythonTour/03-Semantics-Variables.ipynb) & [Operators](/PythonTour/04-Semantics-Operators.ipynb) |2学时|\n",
    "| 4 | 9月26日 | 14:00-16:00 | Python基础: [Built-In Scalar Types](/PythonTour/05-Built-in-Scalar-Types.ipynb) & [Data Structures](/PythonTour/06-Built-in-Data-Structures.ipynb) | 2学时|\n",
    "| 5 | 10月3日 | 14:00-16:00 | <del>**国庆节放假**(不补课)</del> | 0学时|\n",
    "| 6 | 10月10日| 14:00-16:00 | Python基础: [Control Flow Statements](/PythonTour/07-Control-Flow-Statements.ipynb)、[Defining Functions](/PythonTour/08-Defining-Functions.ipynb)、[Errors and Exceptions](/PythonTour/09-Errors-and-Exceptions.ipynb)| 2学时|\n",
    "| 7 | 10月17日 | 14:00-16:00 | Python基础: [Iterators](/PythonTour/10-Iterators.ipynb) & [List Comprehensions](/PythonTour/11-List-Comprehensions.ipynb)| 2学时|\n",
    "| 8 | 10月24日 | 14:00-16:00 | Python基础: [Generators and Generator Expressions](/PythonTour/12-Generators.ipynb)、[Modules and Packages](/PythonTour/13-Modules-and-Packages.ipynb)、[Strings and Regular Expressions](/PythonTour/14-Strings-and-Regular-Expressions.ipynb)| 2学时|\n",
    "| 9 | 10月31日 | 14:00-16:00 | Python基础: [Preview of Data Science Tools](/PythonTour/15-Preview-of-Data-Science-Tools.ipynb)、[Resources for Further Learning](/PythonTour/16-Further-Resources.ipynb)、[Appendix: Code To Reproduce Figures](/PythonTour/17-Figures.ipynb) | 2学时|\n",
    "| 10 | 11月7日 |  14:00-16:00  | 学生研究项目介绍 |0学时|\n",
    "| 11 | 11月14日 | 14:00-16:00 | 数据科学: [IPython: Beyond Normal Python](/PythonDataScience/notebooks/01.00-IPython-Beyond-Normal-Python.ipynb)| 2学时\n",
    "| 12 | 11月21日 | 14:00-16:00 | 数据科学: [Introduction to NumPy](/PythonDataScience/notebooks/02.00-Introduction-to-NumPy.ipynb)| 2学时|\n",
    "| 13| 11月28日 | 14:00-16:00 |  数据科学:[Data Manipulation with Pandas](/PythonDataScience/notebooks/03.00-Introduction-to-Pandas.ipynb) | 2学时|\n",
    "| 14 | 12月5日 | 14:00-16:00 | 数据科学: [Visualization with Matplotlib](/PythonDataScience/notebooks/04.00-Introduction-To-Matplotlib.ipynb) | 2学时|\n",
    "| 15 | 12月12日| 14:00-16:00 |数据科学:[Machine Learning](/PythonDataScience/notebooks/05.00-Machine-Learning.ipynb)| 2学时|\n",
    "| 16 | 12月19日 | 14:00-16:00 | 数据科学:[Machine Learning](/PythonDataScience/notebooks/05.00-Machine-Learning.ipynb)| 2学时|\n",
    "| 17 | 12月26日 | 14:00-16:00 | 数据科学:[Machine Learning](/PythonDataScience/notebooks/05.00-Machine-Learning.ipynb)| 2学时|\n"
   ]
  },
  {
   "cell_type": "markdown",
   "metadata": {
    "slideshow": {
     "slide_type": "slide"
    }
   },
   "source": [
    "# 课前准备\n",
    "\n",
    "- 下载&安装anaconda python\n",
    "\n",
    "https://www.anaconda.com/download/\n",
    "\n",
    "**注意**: 选择python 3.x 版本\n"
   ]
  },
  {
   "cell_type": "markdown",
   "metadata": {
    "slideshow": {
     "slide_type": "slide"
    }
   },
   "source": [
    "# 课前准备\n",
    "\n",
    "- [Beginning Python 《Python基础教程》](http://book.douban.com/subject/5948760/)\n",
    "- Python入门 http://www.imooc.com/view/177\n",
    "- 用Python玩转数据 http://www.icourse163.org/course/nju-1001571005#/info\n",
    "- Datacamp: Data Scientist with Python https://www.datacamp.com/tracks/data-scientist-with-python"
   ]
  },
  {
   "cell_type": "markdown",
   "metadata": {
    "slideshow": {
     "slide_type": "slide"
    }
   },
   "source": [
    "# 课前准备\n",
    "- 注册github账户 http://github.com\n",
    "- watch本课程repo: https://github.com/computational-class/datascience/\n",
    "- 下载并安装github desktop客户端 （建议：非必须内容）： https://desktop.github.com/"
   ]
  },
  {
   "cell_type": "markdown",
   "metadata": {
    "slideshow": {
     "slide_type": "slide"
    }
   },
   "source": [
    "# Python's Role in Big Data Analytics\n"
   ]
  },
  {
   "cell_type": "markdown",
   "metadata": {
    "slideshow": {
     "slide_type": "slide"
    }
   },
   "source": [
    "# This is the End.\n",
    "> Thank you for your attention!"
   ]
  }
 ],
 "metadata": {
  "anaconda-cloud": {},
  "celltoolbar": "Slideshow",
  "kernelspec": {
   "display_name": "Python 3",
   "language": "python",
   "name": "python3"
  },
  "language_info": {
   "codemirror_mode": {
    "name": "ipython",
    "version": 3
   },
   "file_extension": ".py",
   "mimetype": "text/x-python",
   "name": "python",
   "nbconvert_exporter": "python",
   "pygments_lexer": "ipython3",
   "version": "3.7.3"
  },
  "latex_envs": {
   "LaTeX_envs_menu_present": true,
   "autoclose": false,
   "autocomplete": true,
   "bibliofile": "biblio.bib",
   "cite_by": "apalike",
   "current_citInitial": 1,
   "eqLabelWithNumbers": true,
   "eqNumInitial": 0,
   "hotkeys": {
    "equation": "Ctrl-E",
    "itemize": "Ctrl-I"
   },
   "labels_anchors": false,
   "latex_user_defs": false,
   "report_style_numbering": false,
   "user_envs_cfg": false
  },
  "toc": {
   "base_numbering": 1,
   "nav_menu": {},
   "number_sections": false,
   "sideBar": false,
   "skip_h1_title": false,
   "title_cell": "Table of Contents",
   "title_sidebar": "Contents",
   "toc_cell": false,
   "toc_position": {
    "height": "47px",
    "left": "1121px",
    "top": "110.5px",
    "width": "159px"
   },
   "toc_section_display": false,
   "toc_window_display": true
  },
  "toc_position": {
   "height": "158px",
   "left": "1166.02px",
   "right": "20px",
   "top": "120px",
   "width": "312px"
  }
 },
 "nbformat": 4,
 "nbformat_minor": 1
}
