{
 "cells": [
  {
   "cell_type": "markdown",
   "metadata": {},
   "source": [
    "# Print a formatted price list with a given width"
   ]
  },
  {
   "cell_type": "code",
   "execution_count": 9,
   "metadata": {
    "ExecuteTime": {
     "end_time": "2020-02-25T06:44:49.727597Z",
     "start_time": "2020-02-25T06:44:48.108808Z"
    }
   },
   "outputs": [
    {
     "name": "stdout",
     "output_type": "stream",
     "text": [
      "Please enter width: 50\n",
      "==================================================\n",
      "Item                                         Price\n",
      "--------------------------------------------------\n",
      "Apples                                        0.40\n",
      "Pears                                         0.50\n",
      "Cantaloupes                                   1.92\n",
      "Dried Apricots (16 oz.)                       8.00\n",
      "Prunes (4 lbs.)                              12.00\n",
      "==================================================\n"
     ]
    }
   ],
   "source": [
    "width = int(input('Please enter width: ')) # the width of table with two columns, e.g., 50\n",
    " \n",
    "price_width = 10  # the width of the column of price\n",
    "item_width  = width - price_width # the width of the column of item\n",
    "\n",
    "header_fmt = '{{:{}}}{{:>{}}}'.format(item_width, price_width)\n",
    "fmt        = '{{:{}}}{{:>{}.2f}}'.format(item_width, price_width)\n",
    "\n",
    "print('=' * width)\n",
    "\n",
    "print(header_fmt.format('Item', 'Price'))\n",
    "\n",
    "print('-' * width)\n",
    "\n",
    "print(fmt.format('Apples', 0.4))\n",
    "print(fmt.format('Pears', 0.5))\n",
    "print(fmt.format('Cantaloupes', 1.92))\n",
    "print(fmt.format('Dried Apricots (16 oz.)', 8))\n",
    "print(fmt.format('Prunes (4 lbs.)', 12))\n",
    "\n",
    "print('=' * width)"
   ]
  },
  {
   "cell_type": "code",
   "execution_count": 13,
   "metadata": {
    "ExecuteTime": {
     "end_time": "2020-02-25T06:47:55.651549Z",
     "start_time": "2020-02-25T06:47:55.648440Z"
    }
   },
   "outputs": [
    {
     "data": {
      "text/plain": [
       "'{:40}{:>10}'"
      ]
     },
     "execution_count": 13,
     "metadata": {},
     "output_type": "execute_result"
    }
   ],
   "source": [
    "header_fmt"
   ]
  },
  {
   "cell_type": "code",
   "execution_count": 14,
   "metadata": {
    "ExecuteTime": {
     "end_time": "2020-02-25T06:48:05.028760Z",
     "start_time": "2020-02-25T06:48:05.025471Z"
    }
   },
   "outputs": [
    {
     "data": {
      "text/plain": [
       "str"
      ]
     },
     "execution_count": 14,
     "metadata": {},
     "output_type": "execute_result"
    }
   ],
   "source": [
    "type(header_fmt)"
   ]
  },
  {
   "cell_type": "code",
   "execution_count": 16,
   "metadata": {
    "ExecuteTime": {
     "end_time": "2020-02-25T06:48:59.519950Z",
     "start_time": "2020-02-25T06:48:59.516583Z"
    }
   },
   "outputs": [
    {
     "name": "stdout",
     "output_type": "stream",
     "text": [
      "Help on method_descriptor:\n",
      "\n",
      "format(...)\n",
      "    S.format(*args, **kwargs) -> str\n",
      "    \n",
      "    Return a formatted version of S, using substitutions from args and kwargs.\n",
      "    The substitutions are identified by braces ('{' and '}').\n",
      "\n"
     ]
    }
   ],
   "source": [
    "help(str.format)"
   ]
  },
  {
   "cell_type": "code",
   "execution_count": null,
   "metadata": {},
   "outputs": [],
   "source": []
  }
 ],
 "metadata": {
  "kernelspec": {
   "display_name": "Python 3",
   "language": "python",
   "name": "python3"
  },
  "language_info": {
   "codemirror_mode": {
    "name": "ipython",
    "version": 3
   },
   "file_extension": ".py",
   "mimetype": "text/x-python",
   "name": "python",
   "nbconvert_exporter": "python",
   "pygments_lexer": "ipython3",
   "version": "3.7.3"
  },
  "latex_envs": {
   "LaTeX_envs_menu_present": true,
   "autoclose": false,
   "autocomplete": true,
   "bibliofile": "biblio.bib",
   "cite_by": "apalike",
   "current_citInitial": 1,
   "eqLabelWithNumbers": true,
   "eqNumInitial": 1,
   "hotkeys": {
    "equation": "Ctrl-E",
    "itemize": "Ctrl-I"
   },
   "labels_anchors": false,
   "latex_user_defs": false,
   "report_style_numbering": false,
   "user_envs_cfg": false
  },
  "toc": {
   "base_numbering": 1,
   "nav_menu": {},
   "number_sections": false,
   "sideBar": true,
   "skip_h1_title": false,
   "title_cell": "Table of Contents",
   "title_sidebar": "Contents",
   "toc_cell": false,
   "toc_position": {},
   "toc_section_display": true,
   "toc_window_display": false
  }
 },
 "nbformat": 4,
 "nbformat_minor": 2
}
