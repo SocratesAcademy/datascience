{
 "cells": [
  {
   "cell_type": "markdown",
   "metadata": {},
   "source": [
    "# 1. Print Date\n",
    "\n",
    "Print out a date, given year, month, and day as numbers\n"
   ]
  },
  {
   "cell_type": "code",
   "execution_count": 1,
   "metadata": {
    "ExecuteTime": {
     "end_time": "2020-02-25T06:25:31.930104Z",
     "start_time": "2020-02-25T06:25:21.086676Z"
    }
   },
   "outputs": [
    {
     "name": "stdout",
     "output_type": "stream",
     "text": [
      "Year: 2020\n",
      "Month  (1-12): 02\n",
      "Day (1-31): 25\n",
      "February 25th, 2020\n"
     ]
    }
   ],
   "source": [
    "# Print out a date, given year, month, and day as numbers\n",
    "months = [ 'January', 'February','March','April', 'May','June',\n",
    "    'July','August','September','October','November','December']\n",
    "\n",
    "# A list with one ending for each number from 1 to 31\n",
    "endings = ['st', 'nd', 'rd']  # 1, 2, 3, \n",
    "        + 17 * ['th'] \\       # 4, 5, 6, ...18, 19, 20\n",
    "        + ['st', 'nd', 'rd'] # 21, 22, 23\n",
    "        +  7 * ['th'] \\      # 24, 25, 26, ...28, 29, 30\n",
    "        + ['st'] # 31\n",
    "\n",
    "year    = input('Year: ')\n",
    "month   = input('Month  (1-12): ')\n",
    "day     = input('Day (1-31): ')\n",
    "\n",
    "month_number = int(month)\n",
    "day_number = int(day)\n",
    "\n",
    "# Remember to subtract 1 from month and day to get a correct index\n",
    "month_name = months[month_number-1]\n",
    "ordinal = day + endings[day_number-1]\n",
    "\n",
    "print(month_name + ' ' + ordinal + ', ' + year)"
   ]
  },
  {
   "cell_type": "code",
   "execution_count": 7,
   "metadata": {
    "ExecuteTime": {
     "end_time": "2020-02-25T06:27:58.823673Z",
     "start_time": "2020-02-25T06:27:58.820176Z"
    }
   },
   "outputs": [
    {
     "data": {
      "text/plain": [
       "('2020', '02', '25')"
      ]
     },
     "execution_count": 7,
     "metadata": {},
     "output_type": "execute_result"
    }
   ],
   "source": [
    "year, month, day"
   ]
  },
  {
   "cell_type": "code",
   "execution_count": 6,
   "metadata": {
    "ExecuteTime": {
     "end_time": "2020-02-25T06:27:50.049008Z",
     "start_time": "2020-02-25T06:27:50.045981Z"
    }
   },
   "outputs": [
    {
     "data": {
      "text/plain": [
       "(2, 25)"
      ]
     },
     "execution_count": 6,
     "metadata": {},
     "output_type": "execute_result"
    }
   ],
   "source": [
    "month_number, day_number"
   ]
  },
  {
   "cell_type": "code",
   "execution_count": 8,
   "metadata": {
    "ExecuteTime": {
     "end_time": "2020-02-25T06:28:12.632530Z",
     "start_time": "2020-02-25T06:28:12.628959Z"
    }
   },
   "outputs": [
    {
     "data": {
      "text/plain": [
       "'February'"
      ]
     },
     "execution_count": 8,
     "metadata": {},
     "output_type": "execute_result"
    }
   ],
   "source": [
    "month_name"
   ]
  },
  {
   "cell_type": "code",
   "execution_count": 9,
   "metadata": {
    "ExecuteTime": {
     "end_time": "2020-02-25T06:28:32.543060Z",
     "start_time": "2020-02-25T06:28:32.539284Z"
    }
   },
   "outputs": [
    {
     "data": {
      "text/plain": [
       "'February'"
      ]
     },
     "execution_count": 9,
     "metadata": {},
     "output_type": "execute_result"
    }
   ],
   "source": [
    "months[1]"
   ]
  },
  {
   "cell_type": "code",
   "execution_count": 11,
   "metadata": {
    "ExecuteTime": {
     "end_time": "2020-02-25T06:30:13.455638Z",
     "start_time": "2020-02-25T06:30:13.452084Z"
    }
   },
   "outputs": [
    {
     "data": {
      "text/plain": [
       "31"
      ]
     },
     "execution_count": 11,
     "metadata": {},
     "output_type": "execute_result"
    }
   ],
   "source": [
    "len(endings)"
   ]
  },
  {
   "cell_type": "code",
   "execution_count": 12,
   "metadata": {
    "ExecuteTime": {
     "end_time": "2020-02-25T06:31:07.968614Z",
     "start_time": "2020-02-25T06:31:07.963106Z"
    }
   },
   "outputs": [],
   "source": [
    "def print_date():# Print out a date, given year, month, and day as numbers\n",
    "    months = [ 'January', 'February','March','April', 'May','June',\n",
    "              'July','August','September','October','November','December']\n",
    "\n",
    "    # A list with one ending for each number from 1 to 31\n",
    "    endings = ['st', 'nd', 'rd'] + 17 * ['th'] \\\n",
    "            + ['st', 'nd', 'rd'] +  7 * ['th'] \\\n",
    "            + ['st']\n",
    "\n",
    "    year    = input('Year: ')\n",
    "    month   = input('Month  (1-12): ')\n",
    "    day     = input('Day (1-31): ')\n",
    "\n",
    "    month_number = int(month)\n",
    "    day_number = int(day)\n",
    "\n",
    "    # Remember to subtract 1 from month and day to get a correct index\n",
    "    month_name = months[month_number-1]\n",
    "    ordinal = day + endings[day_number-1]\n",
    "\n",
    "    print(month_name + ' ' + ordinal + ', ' + year)"
   ]
  },
  {
   "cell_type": "code",
   "execution_count": 13,
   "metadata": {
    "ExecuteTime": {
     "end_time": "2020-02-25T06:31:23.464807Z",
     "start_time": "2020-02-25T06:31:16.154350Z"
    }
   },
   "outputs": [
    {
     "name": "stdout",
     "output_type": "stream",
     "text": [
      "Year: 2020\n",
      "Month  (1-12): 02\n",
      "Day (1-31): 25\n",
      "February 25th, 2020\n"
     ]
    }
   ],
   "source": [
    "print_date()"
   ]
  },
  {
   "cell_type": "markdown",
   "metadata": {},
   "source": [
    "# 2. Spliting a URL"
   ]
  },
  {
   "cell_type": "code",
   "execution_count": 17,
   "metadata": {
    "ExecuteTime": {
     "end_time": "2020-02-25T06:36:47.567808Z",
     "start_time": "2020-02-25T06:36:41.920836Z"
    }
   },
   "outputs": [
    {
     "name": "stdout",
     "output_type": "stream",
     "text": [
      "Please enter the URL:https://www.baidu.com\n",
      "Domain name: baidu\n"
     ]
    }
   ],
   "source": [
    "# Split up a URL of the form https://www.baidu.com\n",
    "url = input('Please enter the URL:')\n",
    "domain = url[12:-4]\n",
    "\n",
    "print(\"Domain name: \" + domain)"
   ]
  },
  {
   "cell_type": "markdown",
   "metadata": {},
   "source": [
    "# 3. Pring a sentence\n",
    "\n"
   ]
  },
  {
   "cell_type": "code",
   "execution_count": 19,
   "metadata": {
    "ExecuteTime": {
     "end_time": "2020-02-25T06:38:31.002904Z",
     "start_time": "2020-02-25T06:38:23.254103Z"
    }
   },
   "outputs": [
    {
     "name": "stdout",
     "output_type": "stream",
     "text": [
      "Sentence: I love China.\n",
      "\n",
      "                              +-----------------+\n",
      "                              |                 |\n",
      "                              |  I love China.  |\n",
      "                              |                 |\n",
      "                              +-----------------+\n",
      "\n"
     ]
    }
   ],
   "source": [
    "# Prints a sentence in a centered \"box\" of correct width\n",
    "\n",
    "sentence = input(\"Sentence: \")\n",
    "\n",
    "screen_width = 80\n",
    "text_width   = len(sentence)\n",
    "box_width    = text_width + 6\n",
    "left_margin  = (screen_width - box_width) // 2\n",
    "\n",
    "print()\n",
    "print(' ' * left_margin + '+'   + '-' * (box_width-2)  +   '+')\n",
    "print(' ' * left_margin + '|  ' + ' ' * text_width     + '  |')\n",
    "print(' ' * left_margin + '|  ' +       sentence       + '  |')\n",
    "print(' ' * left_margin + '|  ' + ' ' * text_width     + '  |')\n",
    "print(' ' * left_margin + '+'   + '-' * (box_width-2)  +   '+')\n",
    "print()"
   ]
  },
  {
   "cell_type": "markdown",
   "metadata": {},
   "source": [
    "# 4. Accessing a database"
   ]
  },
  {
   "cell_type": "code",
   "execution_count": 21,
   "metadata": {
    "ExecuteTime": {
     "end_time": "2020-02-25T06:41:01.804654Z",
     "start_time": "2020-02-25T06:40:53.875838Z"
    }
   },
   "outputs": [
    {
     "name": "stdout",
     "output_type": "stream",
     "text": [
      "User name: albert\n",
      "PIN code: 1234\n",
      "Access granted\n"
     ]
    }
   ],
   "source": [
    "# Check a user name and PIN code\n",
    "\n",
    "database = [\n",
    "    ['albert',  '1234'],\n",
    "    ['dilbert', '4242'],\n",
    "    ['smith',   '7524'],\n",
    "    ['jones',   '9843']\n",
    "]\n",
    "\n",
    "username = input('User name: ')\n",
    "pin = input('PIN code: ')\n",
    "\n",
    "if [username, pin] in database: print('Access granted')"
   ]
  },
  {
   "cell_type": "code",
   "execution_count": null,
   "metadata": {},
   "outputs": [],
   "source": []
  }
 ],
 "metadata": {
  "kernelspec": {
   "display_name": "Python 3",
   "language": "python",
   "name": "python3"
  },
  "language_info": {
   "codemirror_mode": {
    "name": "ipython",
    "version": 3
   },
   "file_extension": ".py",
   "mimetype": "text/x-python",
   "name": "python",
   "nbconvert_exporter": "python",
   "pygments_lexer": "ipython3",
   "version": "3.7.3"
  },
  "latex_envs": {
   "LaTeX_envs_menu_present": true,
   "autoclose": false,
   "autocomplete": true,
   "bibliofile": "biblio.bib",
   "cite_by": "apalike",
   "current_citInitial": 1,
   "eqLabelWithNumbers": true,
   "eqNumInitial": 1,
   "hotkeys": {
    "equation": "Ctrl-E",
    "itemize": "Ctrl-I"
   },
   "labels_anchors": false,
   "latex_user_defs": false,
   "report_style_numbering": false,
   "user_envs_cfg": false
  },
  "toc": {
   "base_numbering": 1,
   "nav_menu": {},
   "number_sections": false,
   "sideBar": true,
   "skip_h1_title": false,
   "title_cell": "Table of Contents",
   "title_sidebar": "Contents",
   "toc_cell": false,
   "toc_position": {},
   "toc_section_display": true,
   "toc_window_display": false
  }
 },
 "nbformat": 4,
 "nbformat_minor": 2
}
