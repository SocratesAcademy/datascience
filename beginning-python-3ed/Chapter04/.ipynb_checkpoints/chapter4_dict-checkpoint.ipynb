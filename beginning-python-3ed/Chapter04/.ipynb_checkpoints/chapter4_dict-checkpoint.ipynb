{
 "cells": [
  {
   "cell_type": "markdown",
   "metadata": {
    "ExecuteTime": {
     "end_time": "2020-02-25T06:51:47.763827Z",
     "start_time": "2020-02-25T06:51:47.761851Z"
    }
   },
   "source": [
    "# 1. A simple database"
   ]
  },
  {
   "cell_type": "code",
   "execution_count": 1,
   "metadata": {
    "ExecuteTime": {
     "end_time": "2020-02-25T06:51:23.328187Z",
     "start_time": "2020-02-25T06:51:23.325046Z"
    }
   },
   "outputs": [],
   "source": [
    "# A dictionary with person names as keys. Each person is represented as\n",
    "# another dictionary with the keys 'phone' and 'addr' referring to their phone\n",
    "# number and address, respectively.\n",
    "people = {\n",
    "\n",
    "    'Alice': {\n",
    "        'phone': '2341',\n",
    "        'addr': 'Foo drive 23'\n",
    "    },\n",
    "\n",
    "    'Beth': {\n",
    "        'phone': '9102',\n",
    "        'addr': 'Bar street 42'\n",
    "    },\n",
    "\n",
    "    'Cecil': {\n",
    "        'phone': '3158',\n",
    "        'addr': 'Baz avenue 90'\n",
    "    }\n",
    "}"
   ]
  },
  {
   "cell_type": "code",
   "execution_count": 2,
   "metadata": {
    "ExecuteTime": {
     "end_time": "2020-02-25T06:51:27.091180Z",
     "start_time": "2020-02-25T06:51:27.083491Z"
    }
   },
   "outputs": [
    {
     "data": {
      "text/plain": [
       "{'Alice': {'phone': '2341', 'addr': 'Foo drive 23'},\n",
       " 'Beth': {'phone': '9102', 'addr': 'Bar street 42'},\n",
       " 'Cecil': {'phone': '3158', 'addr': 'Baz avenue 90'}}"
      ]
     },
     "execution_count": 2,
     "metadata": {},
     "output_type": "execute_result"
    }
   ],
   "source": [
    "people"
   ]
  },
  {
   "cell_type": "code",
   "execution_count": 4,
   "metadata": {
    "ExecuteTime": {
     "end_time": "2020-02-25T06:52:09.316775Z",
     "start_time": "2020-02-25T06:52:09.314264Z"
    }
   },
   "outputs": [],
   "source": [
    "# Descriptive labels for the phone number and address. These will be used\n",
    "# when printing the output.\n",
    "labels = {\n",
    "    'phone': 'phone number',\n",
    "    'addr': 'address'\n",
    "}"
   ]
  },
  {
   "cell_type": "markdown",
   "metadata": {},
   "source": [
    "## Dictionarly Indexing"
   ]
  },
  {
   "cell_type": "code",
   "execution_count": 5,
   "metadata": {
    "ExecuteTime": {
     "end_time": "2020-02-25T06:53:46.411937Z",
     "start_time": "2020-02-25T06:53:29.558044Z"
    }
   },
   "outputs": [
    {
     "name": "stdout",
     "output_type": "stream",
     "text": [
      "Name: Beth\n",
      "Phone number (p) or address (a)? p\n"
     ]
    }
   ],
   "source": [
    "name = input('Name: ')\n",
    "# Are we looking for a phone number or an address?\n",
    "request = input('Phone number (p) or address (a)? ')\n",
    "\n",
    "# Use the correct key:\n",
    "if request == 'p': key = 'phone'\n",
    "if request == 'a': key = 'addr'\n"
   ]
  },
  {
   "cell_type": "code",
   "execution_count": 6,
   "metadata": {
    "ExecuteTime": {
     "end_time": "2020-02-25T06:53:56.400720Z",
     "start_time": "2020-02-25T06:53:56.397692Z"
    }
   },
   "outputs": [
    {
     "name": "stdout",
     "output_type": "stream",
     "text": [
      "Beth's phone number is 9102.\n"
     ]
    }
   ],
   "source": [
    "# Only try to print information if the name is a valid key in\n",
    "# our dictionary:\n",
    "if name in people: print(\"{}'s {} is {}.\".format(name, labels[key], people[name][key]))"
   ]
  },
  {
   "cell_type": "markdown",
   "metadata": {},
   "source": [
    "## A simple database using get()"
   ]
  },
  {
   "cell_type": "code",
   "execution_count": 10,
   "metadata": {
    "ExecuteTime": {
     "end_time": "2020-02-25T06:57:08.291495Z",
     "start_time": "2020-02-25T06:56:57.196242Z"
    }
   },
   "outputs": [
    {
     "name": "stdout",
     "output_type": "stream",
     "text": [
      "Name: Alice\n",
      "Phone number (p) or address (a)? a\n"
     ]
    }
   ],
   "source": [
    "name = input('Name: ')\n",
    "# Are we looking for a phone number or an address?\n",
    "request = input('Phone number (p) or address (a)? ')"
   ]
  },
  {
   "cell_type": "code",
   "execution_count": 11,
   "metadata": {
    "ExecuteTime": {
     "end_time": "2020-02-25T06:57:16.327102Z",
     "start_time": "2020-02-25T06:57:16.323488Z"
    }
   },
   "outputs": [],
   "source": [
    "# Use the correct key:\n",
    "key = request # In case the request is neither 'p' nor 'a'\n",
    "if request == 'p': key = 'phone'\n",
    "if request == 'a': key = 'addr'\n",
    "    \n",
    "# Use get to provide default values:\n",
    "person = people.get(name, {})\n",
    "label = labels.get(key, key)\n",
    "result = person.get(key, 'not available')"
   ]
  },
  {
   "cell_type": "code",
   "execution_count": 12,
   "metadata": {
    "ExecuteTime": {
     "end_time": "2020-02-25T06:57:16.988976Z",
     "start_time": "2020-02-25T06:57:16.985510Z"
    }
   },
   "outputs": [
    {
     "name": "stdout",
     "output_type": "stream",
     "text": [
      "Alice's address is Foo drive 23.\n"
     ]
    }
   ],
   "source": [
    "print(\"{}'s {} is {}.\".format(name, label, result))"
   ]
  },
  {
   "cell_type": "code",
   "execution_count": null,
   "metadata": {},
   "outputs": [],
   "source": []
  }
 ],
 "metadata": {
  "kernelspec": {
   "display_name": "Python 3",
   "language": "python",
   "name": "python3"
  },
  "language_info": {
   "codemirror_mode": {
    "name": "ipython",
    "version": 3
   },
   "file_extension": ".py",
   "mimetype": "text/x-python",
   "name": "python",
   "nbconvert_exporter": "python",
   "pygments_lexer": "ipython3",
   "version": "3.7.3"
  },
  "latex_envs": {
   "LaTeX_envs_menu_present": true,
   "autoclose": false,
   "autocomplete": true,
   "bibliofile": "biblio.bib",
   "cite_by": "apalike",
   "current_citInitial": 1,
   "eqLabelWithNumbers": true,
   "eqNumInitial": 1,
   "hotkeys": {
    "equation": "Ctrl-E",
    "itemize": "Ctrl-I"
   },
   "labels_anchors": false,
   "latex_user_defs": false,
   "report_style_numbering": false,
   "user_envs_cfg": false
  },
  "toc": {
   "base_numbering": 1,
   "nav_menu": {},
   "number_sections": false,
   "sideBar": true,
   "skip_h1_title": false,
   "title_cell": "Table of Contents",
   "title_sidebar": "Contents",
   "toc_cell": false,
   "toc_position": {},
   "toc_section_display": true,
   "toc_window_display": false
  }
 },
 "nbformat": 4,
 "nbformat_minor": 2
}
