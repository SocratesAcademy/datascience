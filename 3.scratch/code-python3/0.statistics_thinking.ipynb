{
 "cells": [
  {
   "cell_type": "markdown",
   "metadata": {
    "slideshow": {
     "slide_type": "slide"
    }
   },
   "source": [
    "***\n",
    "***\n",
    "# Introduction to Statistical Thinking\n",
    "***\n",
    "***"
   ]
  },
  {
   "cell_type": "markdown",
   "metadata": {
    "slideshow": {
     "slide_type": "slide"
    }
   },
   "source": [
    "<img src = './figures/school.png' width = '800px' > \n",
    "\n",
    "**The School of Athens** by Raphael (1509–1510), fresco at the Apostolic Palace, Vatican City. https://en.wikipedia.org/wiki/Platonic_Academy"
   ]
  },
  {
   "cell_type": "markdown",
   "metadata": {
    "slideshow": {
     "slide_type": "subslide"
    }
   },
   "source": [
    "<img src = './figures/socrats.png' width = '800px' > \n",
    "\n",
    "The School of Athens by Raphael (1509–1510), fresco at the Apostolic Palace, Vatican City. https://en.wikipedia.org/wiki/Platonic_Academy"
   ]
  },
  {
   "cell_type": "markdown",
   "metadata": {
    "ExecuteTime": {
     "end_time": "2019-02-01T09:24:24.188217Z",
     "start_time": "2019-02-01T09:24:24.161432Z"
    },
    "slideshow": {
     "slide_type": "subslide"
    }
   },
   "source": [
    "<img src = './figures/plato.jpg' width = '150px' align = 'right'> \n",
    "\n",
    "# Plato & Typological Thinking\n",
    "\n",
    "- Pythagoras held that \n",
    "    - all things are number\n",
    "    - the cosmos comes from numerical principles. \n",
    "    \n",
    "`The theory of Forms` or `theory of Ideas` is a philosophical theory, concept, or world-view, attributed to Plato, that the `physical world` is not as real or true as timeless, absolute, unchangeable `ideas`."
   ]
  },
  {
   "cell_type": "markdown",
   "metadata": {
    "ExecuteTime": {
     "end_time": "2019-02-01T09:24:24.188217Z",
     "start_time": "2019-02-01T09:24:24.161432Z"
    },
    "slideshow": {
     "slide_type": "subslide"
    }
   },
   "source": [
    "<img src = './figures/plato2.png' width = '150px' align = 'right'> \n",
    "\n",
    "- 真实的知识存在于普遍而永恒的法则之中。\n",
    "- The physical world of becoming is an imitation of the mathematical world of being.\n",
    "    - the realm of Being 本质世界(理念世界)\n",
    "        - perfect, eternal, and changeless forms, \n",
    "    - sensible world of becoming  现实世界\n",
    "        - imperfect\n"
   ]
  },
  {
   "cell_type": "markdown",
   "metadata": {
    "slideshow": {
     "slide_type": "subslide"
    }
   },
   "source": [
    "# Social Physics: Taking Physics as a Role Model\n",
    "- French social thinker **Henri de Saint-Simon** 1803 described the idea of describing society using laws similar to those of the physical and biological sciences.\n",
    "- His student and collaborator was **Auguste Comte**, a French philosopher, the founder of sociology, who first defined the term \n",
    "\n",
    "> Social physics is that science which occupies itself with social phenomena, considered in the same light as astronomical, physical, chemical, and physiological phenomena, that is to say as being subject to **natural and invariable laws**, the discovery of which is the special object of its researches.\n",
    "\n",
    "- Computational Social Science\n",
    "\n",
    "https://en.wikipedia.org/wiki/Social_physics"
   ]
  },
  {
   "cell_type": "markdown",
   "metadata": {
    "slideshow": {
     "slide_type": "subslide"
    }
   },
   "source": [
    "<img src = './figures/Adolphe_Quételet.jpg' width = '200px' align = 'right'> \n",
    "\n",
    "**Lambert Adolphe Jacques Quetelet** (1796-1874)\n",
    "- introducing statistical methods to the social sciences\n",
    "- in his book titled **Essays on Social Physics**, \n",
    "    - the concept of the \"average man\" \n",
    "    - characterized by the mean values \n",
    "    - follow a normal distribution. \n",
    "    - He collected data about many such variables.\n",
    "        - developed the body mass index scale\n",
    "        \n",
    "> “His goal was to understand the statistical laws underlying such phenomena as crime rates, marriage rates or suicide rates. He wanted to explain the values of these variables by other social factors”."
   ]
  },
  {
   "cell_type": "markdown",
   "metadata": {
    "slideshow": {
     "slide_type": "subslide"
    }
   },
   "source": [
    "\n",
    "<img src = './figures/darwin.jpg' width = '200px' align = 'right'> \n",
    "\n",
    "# **Population Thinking**\n",
    "\n",
    "\n",
    "**Charles Robert Darwin** (12 February 1809 – 19 April 1882)\n",
    "- the science of evolution.\n",
    "\n",
    "> favourable variations would make organisms better at surviving and passing the variations on to their offspring, while unfavourable variations would be lost.\n",
    "\n",
    "- Variation is the basis of natural seletion. \n",
    "\n",
    "> 在类型逻辑中平均数是主要的内容。在总体逻辑中重要的是差异，平均数只是总体的一个特征值，是探讨真实原因的手段，而不是原因本身。"
   ]
  },
  {
   "cell_type": "markdown",
   "metadata": {
    "slideshow": {
     "slide_type": "slide"
    }
   },
   "source": [
    "# Statisticism  or Damn Lies\n",
    "\"统计至上主义\"天真地以为统计学是科学方法的完备基础。\n",
    "- 改进测量工具\n",
    "- 研究设计、概念化\n",
    "\n",
    "Duncan, O.D. 1984. Notes on Social Measurement, Historical and Critical. New York: Russell Sage Fundation, p.226."
   ]
  },
  {
   "cell_type": "markdown",
   "metadata": {
    "slideshow": {
     "slide_type": "subslide"
    }
   },
   "source": [
    "# The Paradigm of Demography\n",
    "\n",
    "\n",
    "Otis Dudley Duncan (1921-2004) 确立一种新的学术传统\n",
    "- 蔑视模仿自然科学试图寻找普遍规律的做法；\n",
    "- 记录和理解真实人口中的经验模式是第一要务；\n",
    "- 变异是人类社会的本质。\n",
    "    - 柏拉图：变异是对本质世界的拙劣复制。"
   ]
  },
  {
   "cell_type": "markdown",
   "metadata": {
    "slideshow": {
     "slide_type": "subslide"
    }
   },
   "source": [
    "<img src = './figures/aristotle.png' width = '800px' > \n",
    "\n",
    "The School of Athens by Raphael (1509–1510), fresco at the Apostolic Palace, Vatican City. https://en.wikipedia.org/wiki/Platonic_Academy"
   ]
  },
  {
   "cell_type": "markdown",
   "metadata": {
    "slideshow": {
     "slide_type": "subslide"
    }
   },
   "source": [
    "## 本体论： 世界的本质\n",
    "<img src = './figures/galton.jpg' width = '200px' align = 'right'>\n",
    "> 谢宇：“我认为自然科学是以“挖掘”本质的世界中的真理为最终目的，这也是其精华所在。而社会科学是以“了解”形成的世界为最终目的。历史上很多人想在社会科学领域找到一种真理，能够适用于各个方面，并且做过许多多这方面的尝试。我认为社会科学不应该是这样的。在社会科学中，我们的目的是要了解现实世界，而不是去挖掘永恒的真理。这可能和你们的想象不一样。......既然差异是世界的本质，那差异就应该是研究的对象。”\n",
    "\n",
    "- 高尔顿认为凯特莱的社会物理学用处不大，普通人不是万能的。\n",
    "    - 左手入冰，右手入火，平均温度？\n",
    "- 高尔顿说（社会）科学的探索必须关注变异和共变。\n",
    "    - variation & Co-variation\n"
   ]
  },
  {
   "cell_type": "markdown",
   "metadata": {
    "slideshow": {
     "slide_type": "subslide"
    }
   },
   "source": [
    "\n",
    "## 本体论： 世界的本质\n",
    "The measurements have both \n",
    "- a central tendency, or mean, and \n",
    "<img src = './figures/galton.jpg' width = '200px' align = 'right'>\n",
    "- a spread around this central value, or variance. \n",
    "    - In the late 1860s, Galton conceived of a measure to quantify normal variation: \n",
    "        - the **standard deviation**.\n",
    "- \"Regression to mediocrity\"\n"
   ]
  },
  {
   "cell_type": "markdown",
   "metadata": {
    "slideshow": {
     "slide_type": "subslide"
    }
   },
   "source": [
    "## 认识论： 人类知识的起源、本质、方法及局限\n",
    "\n",
    "谢宇：“你到底能知道什么，你怎样认识世界。\"\n",
    "- 自然科学追求永恒真理，关注典型现象；\n",
    "    - 典型现象 & 平均人\n",
    "- 社会科学关注所有个案组成的总体的状况。"
   ]
  },
  {
   "cell_type": "markdown",
   "metadata": {
    "slideshow": {
     "slide_type": "subslide"
    }
   },
   "source": [
    "## 方法论： 使用什么方法\n",
    "\n",
    "谢宇：“社会科学之所以复杂，是因为我们运用的数据是通过观察所得，而观察所得的数据必然受到外来因素的影响，这些外来因素都可能解释你的数据。“\n",
    "- 自然科学使用实验来隔离外来因素的影响；\n",
    "- “社会科学可以使用统计排除一些外来影响，但你不能排除所有的外来因素”。"
   ]
  },
  {
   "cell_type": "markdown",
   "metadata": {
    "slideshow": {
     "slide_type": "subslide"
    }
   },
   "source": [
    "## Three Basic Principles of Social Science Research\n",
    "\n",
    "- Variability Principle\n",
    "    - Social Grouping Principle\n",
    "        - Social Context Principle"
   ]
  },
  {
   "cell_type": "markdown",
   "metadata": {
    "slideshow": {
     "slide_type": "slide"
    }
   },
   "source": [
    "------\n",
    "# Statistics for Describing Data\n",
    "------\n",
    "\n",
    "The mathematics and techniques with which we understand data."
   ]
  },
  {
   "cell_type": "code",
   "execution_count": 2,
   "metadata": {
    "ExecuteTime": {
     "end_time": "2019-04-14T06:42:25.965722Z",
     "start_time": "2019-04-14T06:42:25.385972Z"
    },
    "slideshow": {
     "slide_type": "subslide"
    }
   },
   "outputs": [],
   "source": [
    "from collections import Counter\n",
    "from linear_algebra import sum_of_squares, dot\n",
    "import math\n",
    "import numpy as np\n",
    "import matplotlib.pyplot as plt"
   ]
  },
  {
   "cell_type": "markdown",
   "metadata": {
    "cell_style": "center",
    "slideshow": {
     "slide_type": "skip"
    }
   },
   "source": [
    "    def dot(v, w):\n",
    "        \"\"\"v_1 * w_1 + ... + v_n * w_n\"\"\"\n",
    "        return sum(v_i * w_i for v_i, w_i in zip(v, w))\n",
    "\n",
    "    def sum_of_squares(v):\n",
    "        \"\"\"v_1 * v_1 + ... + v_n * v_n\"\"\"\n",
    "        return dot(v, v)\n"
   ]
  },
  {
   "cell_type": "code",
   "execution_count": 3,
   "metadata": {
    "ExecuteTime": {
     "end_time": "2019-04-14T06:42:26.047201Z",
     "start_time": "2019-04-14T06:42:25.967966Z"
    },
    "cell_style": "center",
    "slideshow": {
     "slide_type": "subslide"
    }
   },
   "outputs": [],
   "source": [
    "daily_minutes = [1,68.77,51.25,52.08,38.36,44.54,57.13,\n",
    "                 51.4,41.42,31.22,34.76,54.01,38.79,\n",
    "                 47.59,49.1,27.66,41.03,36.73,48.65,28.12,\n",
    "                 46.62,35.57,32.98,35,26.07,23.77,39.73,\n",
    "                 40.57,31.65,31.21,36.32,20.45,21.93,26.02,\n",
    "                 27.34,23.49,46.94,30.5,33.8,24.23,21.4,27.94,\n",
    "                 32.24,40.57,25.07,19.42,22.39,18.42,46.96,23.72,\n",
    "                 26.41,26.97,36.76,40.32,35.02,29.47,30.2,31,\n",
    "                 38.11,38.18,36.31,21.03,30.86,36.07,28.66,\n",
    "                 29.08,37.28,15.28,24.17,22.31,30.17,25.53,\n",
    "                 19.85,35.37,44.6,17.23,13.47,26.33,35.02,\n",
    "                 32.09,24.81,19.33,28.77,24.26,31.98,25.73,\n",
    "                 24.86,16.28,34.51,15.23,39.72,40.8,26.06,\n",
    "                 35.76,34.76,16.13,44.04,18.03,19.65,32.62,\n",
    "                 35.59,39.43,14.18,35.24,40.13,41.82,35.45,\n",
    "                 36.07,43.67,24.61,20.9,21.9,18.79,27.61,27.21,\n",
    "                 26.61,29.77,20.59,27.53,13.82,33.2,25,33.1,36.65,\n",
    "                 18.63,14.87,22.2,36.81,25.53,24.62,26.25,18.21,\n",
    "                 28.08,19.42,29.79,32.8,35.99,28.32,27.79,35.88,29.06,\n",
    "                 36.28,14.1,36.63,37.49,26.9,18.58,38.48,24.48,\n",
    "                 18.95,33.55,14.24,29.04,32.51,25.63,22.22,19,\n",
    "                 32.73,15.16,13.9,27.2,32.01,29.27,33,13.74,20.42,\n",
    "                 27.32,18.23,35.35,28.48,9.08,24.62,20.12,35.26,\n",
    "                 19.92,31.02,16.49,12.16,30.7,31.22,34.65,13.13,\n",
    "                 27.51,33.2,31.57,14.1,33.42,17.44,10.12,24.42,\n",
    "                 9.82,23.39,30.93,15.03,21.67,31.09,33.29,22.61,\n",
    "                 26.89,23.48,8.38,27.81,32.35,23.84]\n"
   ]
  },
  {
   "cell_type": "code",
   "execution_count": 4,
   "metadata": {
    "ExecuteTime": {
     "end_time": "2019-04-14T06:42:26.070879Z",
     "start_time": "2019-04-14T06:42:26.049406Z"
    },
    "slideshow": {
     "slide_type": "subslide"
    }
   },
   "outputs": [],
   "source": [
    "num_friends = [100,49,41,40,25,21,21,19,19,18,\n",
    "               18,16,15,15,15,15,14,14,13,13,\n",
    "               13,13,12,12,11,10,10,10,10,10,\n",
    "               10,10,10,10,10,10,10,10,10,10,\n",
    "               9,9,9,9,9,9,9,9,9,9,9,9,9,9,9,\n",
    "               9,9,9,8,8,8,8,8,8,8,8,8,8,8,8,8\n",
    "               ,7,7,7,7,7,7,7,7,7,7,7,7,7,7,7,\n",
    "               6,6,6,6,6,6,6,6,6,6,6,6,6,6,6,6,\n",
    "               6,6,6,6,6,6,5,5,5,5,5,5,5,5,5,5,\n",
    "               5,5,5,5,5,5,5,4,4,4,4,4,4,4,4,4,\n",
    "               4,4,4,4,4,4,4,4,4,4,4,3,3,3,3,\n",
    "               3,3,3,3,3,3,3,3,3,3,3,3,3,3,3,3,\n",
    "               2,2,2,2,2,2,2,2,2,2,2,2,2,2,2,2,2,\n",
    "               1,1,1,1,1,1,1,1,1,1,1,1,1,1,1,\n",
    "               1,1,1,1,1,1,1]"
   ]
  },
  {
   "cell_type": "markdown",
   "metadata": {
    "slideshow": {
     "slide_type": "slide"
    }
   },
   "source": [
    "## Distribution and Histogram"
   ]
  },
  {
   "cell_type": "code",
   "execution_count": 5,
   "metadata": {
    "ExecuteTime": {
     "end_time": "2019-04-14T06:42:26.572482Z",
     "start_time": "2019-04-14T06:42:26.072651Z"
    },
    "cell_style": "split",
    "slideshow": {
     "slide_type": "subslide"
    }
   },
   "outputs": [
    {
     "data": {
      "image/png": "[encoded data removed]",
      "text/plain": [
       "<Figure size 432x288 with 1 Axes>"
      ]
     },
     "metadata": {},
     "output_type": "display_data"
    }
   ],
   "source": [
    "time_counts = Counter(map(int, daily_minutes))\n",
    "xs = range(69)\n",
    "ys = [time_counts[x] for x in xs]\n",
    "plt.bar(xs, ys)\n",
    "plt.axis([0,69,0,14])\n",
    "plt.title(\"Histogram of Friend Counts\")\n",
    "plt.xlabel(\"# of friends\")\n",
    "plt.ylabel(\"# of people\")\n",
    "plt.show()"
   ]
  },
  {
   "cell_type": "code",
   "execution_count": 6,
   "metadata": {
    "ExecuteTime": {
     "end_time": "2019-04-14T06:42:26.968949Z",
     "start_time": "2019-04-14T06:42:26.574963Z"
    },
    "cell_style": "split",
    "scrolled": true,
    "slideshow": {
     "slide_type": "fragment"
    }
   },
   "outputs": [
    {
     "data": {
      "image/png": "[encoded data removed]",
      "text/plain": [
       "<Figure size 432x288 with 1 Axes>"
      ]
     },
     "metadata": {},
     "output_type": "display_data"
    }
   ],
   "source": [
    "friend_counts = Counter(num_friends)\n",
    "xs = range(101)\n",
    "ys = [friend_counts[x] for x in xs]\n",
    "plt.bar(xs, ys)\n",
    "plt.axis([0,101,0,25])\n",
    "plt.title(\"Histogram of Friend Counts\")\n",
    "plt.xlabel(\"# of friends\")\n",
    "plt.ylabel(\"# of people\")\n",
    "plt.show()"
   ]
  },
  {
   "cell_type": "markdown",
   "metadata": {
    "cell_style": "center",
    "slideshow": {
     "slide_type": "subslide"
    }
   },
   "source": [
    "We can also draw them with ``plt.hist``"
   ]
  },
  {
   "cell_type": "code",
   "execution_count": 7,
   "metadata": {
    "ExecuteTime": {
     "end_time": "2019-04-14T06:42:27.169113Z",
     "start_time": "2019-04-14T06:42:26.971252Z"
    },
    "cell_style": "split",
    "slideshow": {
     "slide_type": "subslide"
    }
   },
   "outputs": [
    {
     "data": {
      "image/png": "[encoded data removed]",
      "text/plain": [
       "<Figure size 432x288 with 1 Axes>"
      ]
     },
     "metadata": {},
     "output_type": "display_data"
    }
   ],
   "source": [
    "plt.hist(daily_minutes)\n",
    "plt.xlabel('Daily minutes')\n",
    "plt.ylabel('Frequency')\n",
    "plt.show()"
   ]
  },
  {
   "cell_type": "code",
   "execution_count": 8,
   "metadata": {
    "ExecuteTime": {
     "end_time": "2019-04-14T06:42:27.414779Z",
     "start_time": "2019-04-14T06:42:27.171044Z"
    },
    "cell_style": "split",
    "slideshow": {
     "slide_type": "fragment"
    }
   },
   "outputs": [
    {
     "data": {
      "image/png": "[encoded data removed]",
      "text/plain": [
       "<Figure size 432x288 with 1 Axes>"
      ]
     },
     "metadata": {},
     "output_type": "display_data"
    }
   ],
   "source": [
    "plt.hist(num_friends, bins= 30)\n",
    "plt.xlabel(\"# of friends\")\n",
    "plt.ylabel('Frequency')\n",
    "plt.show()"
   ]
  },
  {
   "cell_type": "markdown",
   "metadata": {
    "slideshow": {
     "slide_type": "subslide"
    }
   },
   "source": [
    "Unfortunately, this chart is still too difficult to interpret. \n",
    "- So you start generating some statistics. "
   ]
  },
  {
   "cell_type": "markdown",
   "metadata": {
    "ExecuteTime": {
     "end_time": "2019-01-30T04:21:07.745547Z",
     "start_time": "2019-01-30T04:21:07.742911Z"
    },
    "slideshow": {
     "slide_type": "slide"
    }
   },
   "source": [
    "## From Max to Min"
   ]
  },
  {
   "cell_type": "code",
   "execution_count": 9,
   "metadata": {
    "ExecuteTime": {
     "end_time": "2019-04-14T06:42:27.423459Z",
     "start_time": "2019-04-14T06:42:27.416704Z"
    },
    "slideshow": {
     "slide_type": "subslide"
    }
   },
   "outputs": [
    {
     "name": "stdout",
     "output_type": "stream",
     "text": [
      "204 100 1\n"
     ]
    }
   ],
   "source": [
    "num_points = len(num_friends)               # 204\n",
    "\n",
    "largest_value = max(num_friends)            # 100\n",
    "smallest_value = min(num_friends)           # 1\n",
    "\n",
    "print(num_points, largest_value, smallest_value)"
   ]
  },
  {
   "cell_type": "code",
   "execution_count": 10,
   "metadata": {
    "ExecuteTime": {
     "end_time": "2019-04-14T06:42:27.430493Z",
     "start_time": "2019-04-14T06:42:27.425689Z"
    },
    "slideshow": {
     "slide_type": "subslide"
    }
   },
   "outputs": [],
   "source": [
    "sorted_values = sorted(num_friends)\n",
    "smallest_value = sorted_values[0]           # 1\n",
    "\n",
    "second_smallest_value = sorted_values[1]    # 1\n",
    "second_largest_value = sorted_values[-2]    # 49"
   ]
  },
  {
   "cell_type": "markdown",
   "metadata": {
    "slideshow": {
     "slide_type": "slide"
    }
   },
   "source": [
    "## Mean, Median, Mode, and Quantile"
   ]
  },
  {
   "cell_type": "code",
   "execution_count": 11,
   "metadata": {
    "ExecuteTime": {
     "end_time": "2019-04-14T06:42:27.435402Z",
     "start_time": "2019-04-14T06:42:27.432205Z"
    },
    "slideshow": {
     "slide_type": "subslide"
    }
   },
   "outputs": [],
   "source": [
    "def mean(x):\n",
    "    return sum(x) / len(x)"
   ]
  },
  {
   "cell_type": "code",
   "execution_count": 12,
   "metadata": {
    "ExecuteTime": {
     "end_time": "2019-04-14T06:42:27.440801Z",
     "start_time": "2019-04-14T06:42:27.437219Z"
    },
    "slideshow": {
     "slide_type": "subslide"
    }
   },
   "outputs": [
    {
     "name": "stdout",
     "output_type": "stream",
     "text": [
      "mean(num_friends) 7.333333333333333\n"
     ]
    }
   ],
   "source": [
    "print(\"mean(num_friends)\", mean(num_friends))"
   ]
  },
  {
   "cell_type": "code",
   "execution_count": 13,
   "metadata": {
    "ExecuteTime": {
     "end_time": "2019-04-14T06:42:27.447458Z",
     "start_time": "2019-04-14T06:42:27.443094Z"
    },
    "slideshow": {
     "slide_type": "fragment"
    }
   },
   "outputs": [
    {
     "data": {
      "text/plain": [
       "7.333333333333333"
      ]
     },
     "execution_count": 13,
     "metadata": {},
     "output_type": "execute_result"
    }
   ],
   "source": [
    "np.mean(num_friends)"
   ]
  },
  {
   "cell_type": "code",
   "execution_count": 14,
   "metadata": {
    "ExecuteTime": {
     "end_time": "2019-04-14T06:42:27.461466Z",
     "start_time": "2019-04-14T06:42:27.449269Z"
    },
    "slideshow": {
     "slide_type": "subslide"
    }
   },
   "outputs": [],
   "source": [
    "def median(v):\n",
    "    \"\"\"finds the 'middle-most' value of v\"\"\"\n",
    "    n = len(v)\n",
    "    sorted_v = sorted(v)\n",
    "    midpoint = n // 2\n",
    "\n",
    "    if n % 2 == 1:\n",
    "        # if odd, return the middle value\n",
    "        return sorted_v[midpoint]\n",
    "    else:\n",
    "        # if even, return the average of the middle values\n",
    "        lo = midpoint - 1\n",
    "        hi = midpoint\n",
    "        return (sorted_v[lo] + sorted_v[hi]) / 2"
   ]
  },
  {
   "cell_type": "code",
   "execution_count": 15,
   "metadata": {
    "ExecuteTime": {
     "end_time": "2019-04-14T06:42:27.467027Z",
     "start_time": "2019-04-14T06:42:27.463526Z"
    },
    "slideshow": {
     "slide_type": "subslide"
    }
   },
   "outputs": [
    {
     "name": "stdout",
     "output_type": "stream",
     "text": [
      "median(num_friends) 6.0\n"
     ]
    }
   ],
   "source": [
    "print(\"median(num_friends)\", median(num_friends))"
   ]
  },
  {
   "cell_type": "code",
   "execution_count": 16,
   "metadata": {
    "ExecuteTime": {
     "end_time": "2019-04-14T06:42:27.474744Z",
     "start_time": "2019-04-14T06:42:27.469684Z"
    },
    "slideshow": {
     "slide_type": "fragment"
    }
   },
   "outputs": [
    {
     "data": {
      "text/plain": [
       "6.0"
      ]
     },
     "execution_count": 16,
     "metadata": {},
     "output_type": "execute_result"
    }
   ],
   "source": [
    "np.median(num_friends)"
   ]
  },
  {
   "cell_type": "code",
   "execution_count": 17,
   "metadata": {
    "ExecuteTime": {
     "end_time": "2019-04-14T06:42:27.481505Z",
     "start_time": "2019-04-14T06:42:27.477070Z"
    },
    "slideshow": {
     "slide_type": "subslide"
    }
   },
   "outputs": [],
   "source": [
    "def quantile(x, p):\n",
    "    \"\"\"returns the pth-percentile value in x\"\"\"\n",
    "    p_index = int(p * len(x))\n",
    "    return sorted(x)[p_index]"
   ]
  },
  {
   "cell_type": "code",
   "execution_count": 18,
   "metadata": {
    "ExecuteTime": {
     "end_time": "2019-04-14T06:42:27.490847Z",
     "start_time": "2019-04-14T06:42:27.483747Z"
    },
    "slideshow": {
     "slide_type": "fragment"
    }
   },
   "outputs": [
    {
     "name": "stdout",
     "output_type": "stream",
     "text": [
      "quantile(num_friends, 0.10) 1\n",
      "quantile(num_friends, 0.25) 3\n",
      "quantile(num_friends, 0.75) 9\n",
      "quantile(num_friends, 0.90) 13\n"
     ]
    }
   ],
   "source": [
    "print(\"quantile(num_friends, 0.10)\", quantile(num_friends, 0.10))\n",
    "print(\"quantile(num_friends, 0.25)\", quantile(num_friends, 0.25))\n",
    "print(\"quantile(num_friends, 0.75)\", quantile(num_friends, 0.75))\n",
    "print(\"quantile(num_friends, 0.90)\", quantile(num_friends, 0.90))"
   ]
  },
  {
   "cell_type": "code",
   "execution_count": 19,
   "metadata": {
    "ExecuteTime": {
     "end_time": "2019-04-14T06:42:27.497871Z",
     "start_time": "2019-04-14T06:42:27.492951Z"
    },
    "slideshow": {
     "slide_type": "subslide"
    }
   },
   "outputs": [
    {
     "data": {
      "text/plain": [
       "9.0"
      ]
     },
     "execution_count": 19,
     "metadata": {},
     "output_type": "execute_result"
    }
   ],
   "source": [
    "np.percentile(num_friends, 75)"
   ]
  },
  {
   "cell_type": "code",
   "execution_count": 20,
   "metadata": {
    "ExecuteTime": {
     "end_time": "2019-04-14T06:42:27.505162Z",
     "start_time": "2019-04-14T06:42:27.500135Z"
    },
    "slideshow": {
     "slide_type": "subslide"
    }
   },
   "outputs": [],
   "source": [
    "def mode(x):\n",
    "    \"\"\"returns a list, might be more than one mode\"\"\"\n",
    "    counts = Counter(x)\n",
    "    max_count = max(counts.values())\n",
    "    return [x_i for x_i, count in counts.items()\n",
    "            if count == max_count]"
   ]
  },
  {
   "cell_type": "code",
   "execution_count": 21,
   "metadata": {
    "ExecuteTime": {
     "end_time": "2019-04-14T06:42:27.511513Z",
     "start_time": "2019-04-14T06:42:27.507537Z"
    },
    "slideshow": {
     "slide_type": "subslide"
    }
   },
   "outputs": [
    {
     "name": "stdout",
     "output_type": "stream",
     "text": [
      "mode(num_friends) [1, 6]\n"
     ]
    }
   ],
   "source": [
    "print(\"mode(num_friends)\", mode(num_friends))\n"
   ]
  },
  {
   "cell_type": "code",
   "execution_count": 22,
   "metadata": {
    "ExecuteTime": {
     "end_time": "2019-04-14T06:42:27.518299Z",
     "start_time": "2019-04-14T06:42:27.513508Z"
    },
    "slideshow": {
     "slide_type": "fragment"
    }
   },
   "outputs": [
    {
     "data": {
      "text/plain": [
       "1"
      ]
     },
     "execution_count": 22,
     "metadata": {},
     "output_type": "execute_result"
    }
   ],
   "source": [
    "np.argmax(np.bincount(num_friends))\n",
    "# Only the first occurrence is returned."
   ]
  },
  {
   "cell_type": "code",
   "execution_count": 23,
   "metadata": {
    "ExecuteTime": {
     "end_time": "2019-04-14T06:42:27.525117Z",
     "start_time": "2019-04-14T06:42:27.520336Z"
    },
    "slideshow": {
     "slide_type": "skip"
    }
   },
   "outputs": [
    {
     "data": {
      "text/plain": [
       "array([ 0, 22, 17, 20, 20, 17, 22, 15, 13, 18, 15,  1,  2,  4,  2,  4,  1,\n",
       "        0,  2,  2,  0,  2,  0,  0,  0,  1,  0,  0,  0,  0,  0,  0,  0,  0,\n",
       "        0,  0,  0,  0,  0,  0,  1,  1,  0,  0,  0,  0,  0,  0,  0,  1,  0,\n",
       "        0,  0,  0,  0,  0,  0,  0,  0,  0,  0,  0,  0,  0,  0,  0,  0,  0,\n",
       "        0,  0,  0,  0,  0,  0,  0,  0,  0,  0,  0,  0,  0,  0,  0,  0,  0,\n",
       "        0,  0,  0,  0,  0,  0,  0,  0,  0,  0,  0,  0,  0,  0,  0,  1])"
      ]
     },
     "execution_count": 23,
     "metadata": {},
     "output_type": "execute_result"
    }
   ],
   "source": [
    "np.bincount(num_friends)"
   ]
  },
  {
   "cell_type": "code",
   "execution_count": 24,
   "metadata": {
    "ExecuteTime": {
     "end_time": "2019-04-14T06:42:28.069141Z",
     "start_time": "2019-04-14T06:42:27.527155Z"
    },
    "slideshow": {
     "slide_type": "subslide"
    }
   },
   "outputs": [
    {
     "data": {
      "text/plain": [
       "ModeResult(mode=array([1]), count=array([22]))"
      ]
     },
     "execution_count": 24,
     "metadata": {},
     "output_type": "execute_result"
    }
   ],
   "source": [
    "from scipy import stats\n",
    "stats.mode(num_friends, axis=None)"
   ]
  },
  {
   "cell_type": "code",
   "execution_count": 25,
   "metadata": {
    "ExecuteTime": {
     "end_time": "2019-04-14T06:42:28.075349Z",
     "start_time": "2019-04-14T06:42:28.071972Z"
    },
    "slideshow": {
     "slide_type": "subslide"
    }
   },
   "outputs": [],
   "source": [
    "def data_range(x):\n",
    "    return max(x) - min(x)"
   ]
  },
  {
   "cell_type": "code",
   "execution_count": 26,
   "metadata": {
    "ExecuteTime": {
     "end_time": "2019-04-14T06:42:28.082122Z",
     "start_time": "2019-04-14T06:42:28.078026Z"
    },
    "slideshow": {
     "slide_type": "fragment"
    }
   },
   "outputs": [
    {
     "name": "stdout",
     "output_type": "stream",
     "text": [
      "data_range(num_friends) 99\n"
     ]
    }
   ],
   "source": [
    "print(\"data_range(num_friends)\", data_range(num_friends))\n"
   ]
  },
  {
   "cell_type": "code",
   "execution_count": 49,
   "metadata": {
    "ExecuteTime": {
     "end_time": "2019-04-14T07:06:22.533491Z",
     "start_time": "2019-04-14T07:06:22.354263Z"
    },
    "cell_style": "split",
    "slideshow": {
     "slide_type": "subslide"
    }
   },
   "outputs": [
    {
     "data": {
      "image/png": "[encoded data removed]",
      "text/plain": [
       "<Figure size 432x288 with 1 Axes>"
      ]
     },
     "metadata": {},
     "output_type": "display_data"
    }
   ],
   "source": [
    "import seaborn as sns\n",
    "sns.set(style=\"ticks\", palette=\"pastel\")\n",
    "sns.boxplot(y = daily_minutes);"
   ]
  },
  {
   "cell_type": "code",
   "execution_count": 50,
   "metadata": {
    "ExecuteTime": {
     "end_time": "2019-04-14T07:06:25.246932Z",
     "start_time": "2019-04-14T07:06:25.070996Z"
    },
    "cell_style": "split",
    "slideshow": {
     "slide_type": "fragment"
    }
   },
   "outputs": [
    {
     "data": {
      "image/png": "[encoded data removed]",
      "text/plain": [
       "<Figure size 432x288 with 1 Axes>"
      ]
     },
     "metadata": {},
     "output_type": "display_data"
    }
   ],
   "source": [
    "import seaborn as sns\n",
    "sns.set(style=\"ticks\", palette=\"pastel\")\n",
    "sns.boxplot(y = num_friends);"
   ]
  },
  {
   "cell_type": "markdown",
   "metadata": {
    "slideshow": {
     "slide_type": "slide"
    }
   },
   "source": [
    "## Variance and Standard Deviation"
   ]
  },
  {
   "cell_type": "markdown",
   "metadata": {
    "slideshow": {
     "slide_type": "subslide"
    }
   },
   "source": [
    "$$\\sigma = \\sqrt{\\frac{\\sum_{i=1}^N (x_i - \\overline{x})^2}{N-1} }$$\n",
    "\n",
    "$$\\sigma ^ 2 = \\frac{\\sum_{i=1}^N (x_i - \\overline{x})^2}{N-1} $$"
   ]
  },
  {
   "cell_type": "code",
   "execution_count": 27,
   "metadata": {
    "ExecuteTime": {
     "end_time": "2019-04-14T06:42:28.088746Z",
     "start_time": "2019-04-14T06:42:28.084295Z"
    },
    "slideshow": {
     "slide_type": "subslide"
    }
   },
   "outputs": [],
   "source": [
    "def de_mean(x):\n",
    "    \"\"\"translate x by subtracting its mean \n",
    "    so the result has mean 0\"\"\"\n",
    "    x_bar = mean(x)\n",
    "    return [x_i - x_bar for x_i in x]"
   ]
  },
  {
   "cell_type": "code",
   "execution_count": 28,
   "metadata": {
    "ExecuteTime": {
     "end_time": "2019-04-14T06:42:28.098460Z",
     "start_time": "2019-04-14T06:42:28.090915Z"
    },
    "slideshow": {
     "slide_type": "subslide"
    }
   },
   "outputs": [
    {
     "name": "stdout",
     "output_type": "stream",
     "text": [
      "variance(num_friends) 81.54351395730716\n"
     ]
    }
   ],
   "source": [
    "def variance(x):\n",
    "    \"\"\"assumes x has at least two elements\"\"\"\n",
    "    n = len(x)\n",
    "    deviations = de_mean(x)\n",
    "    return sum_of_squares(deviations) / (n - 1)\n",
    "\n",
    "print(\"variance(num_friends)\", variance(num_friends))"
   ]
  },
  {
   "cell_type": "code",
   "execution_count": 29,
   "metadata": {
    "ExecuteTime": {
     "end_time": "2019-04-14T06:42:28.105298Z",
     "start_time": "2019-04-14T06:42:28.100576Z"
    },
    "slideshow": {
     "slide_type": "skip"
    }
   },
   "outputs": [
    {
     "name": "stdout",
     "output_type": "stream",
     "text": [
      "81.14379084967321\n"
     ]
    }
   ],
   "source": [
    "print(np.var(num_friends))"
   ]
  },
  {
   "cell_type": "code",
   "execution_count": 30,
   "metadata": {
    "ExecuteTime": {
     "end_time": "2019-04-14T06:42:28.115622Z",
     "start_time": "2019-04-14T06:42:28.108322Z"
    },
    "slideshow": {
     "slide_type": "subslide"
    }
   },
   "outputs": [
    {
     "name": "stdout",
     "output_type": "stream",
     "text": [
      "standard_deviation(num_friends) 9.03014473623248\n"
     ]
    }
   ],
   "source": [
    "def standard_deviation(x):\n",
    "    return math.sqrt(variance(x))\n",
    "\n",
    "print(\"standard_deviation(num_friends)\", standard_deviation(num_friends))\n"
   ]
  },
  {
   "cell_type": "code",
   "execution_count": 31,
   "metadata": {
    "ExecuteTime": {
     "end_time": "2019-04-14T06:42:28.125171Z",
     "start_time": "2019-04-14T06:42:28.118612Z"
    },
    "slideshow": {
     "slide_type": "fragment"
    }
   },
   "outputs": [
    {
     "data": {
      "text/plain": [
       "9.007984838446012"
      ]
     },
     "execution_count": 31,
     "metadata": {},
     "output_type": "execute_result"
    }
   ],
   "source": [
    "np.std(num_friends)"
   ]
  },
  {
   "cell_type": "markdown",
   "metadata": {
    "slideshow": {
     "slide_type": "subslide"
    }
   },
   "source": [
    "## Covariance, Correlation, and Scatter Plot"
   ]
  },
  {
   "cell_type": "code",
   "execution_count": 32,
   "metadata": {
    "ExecuteTime": {
     "end_time": "2019-04-14T06:42:28.132465Z",
     "start_time": "2019-04-14T06:42:28.128145Z"
    },
    "slideshow": {
     "slide_type": "subslide"
    }
   },
   "outputs": [
    {
     "name": "stdout",
     "output_type": "stream",
     "text": [
      "interquartile_range(num_friends) 6\n"
     ]
    }
   ],
   "source": [
    "def interquartile_range(x):\n",
    "    return quantile(x, 0.75) - quantile(x, 0.25)\n",
    "print(\"interquartile_range(num_friends)\", interquartile_range(num_friends))\n"
   ]
  },
  {
   "cell_type": "code",
   "execution_count": 33,
   "metadata": {
    "ExecuteTime": {
     "end_time": "2019-04-14T06:42:28.140684Z",
     "start_time": "2019-04-14T06:42:28.134285Z"
    },
    "slideshow": {
     "slide_type": "subslide"
    }
   },
   "outputs": [
    {
     "name": "stdout",
     "output_type": "stream",
     "text": [
      "covariance(num_friends, daily_minutes) 22.425435139573064\n"
     ]
    }
   ],
   "source": [
    "def covariance(x, y):\n",
    "    n = len(x)\n",
    "    return dot(de_mean(x), de_mean(y)) / (n - 1)\n",
    "\n",
    "print(\"covariance(num_friends, daily_minutes)\", covariance(num_friends, daily_minutes))\n"
   ]
  },
  {
   "cell_type": "code",
   "execution_count": 34,
   "metadata": {
    "ExecuteTime": {
     "end_time": "2019-04-14T06:42:28.153942Z",
     "start_time": "2019-04-14T06:42:28.143775Z"
    },
    "slideshow": {
     "slide_type": "subslide"
    }
   },
   "outputs": [
    {
     "data": {
      "text/plain": [
       "array([[ 81.54351396,  22.42543514],\n",
       "       [ 22.42543514, 100.78589895]])"
      ]
     },
     "execution_count": 34,
     "metadata": {},
     "output_type": "execute_result"
    }
   ],
   "source": [
    "np.cov(num_friends, daily_minutes) "
   ]
  },
  {
   "cell_type": "code",
   "execution_count": 35,
   "metadata": {
    "ExecuteTime": {
     "end_time": "2019-04-14T06:42:28.168433Z",
     "start_time": "2019-04-14T06:42:28.156807Z"
    },
    "slideshow": {
     "slide_type": "subslide"
    }
   },
   "outputs": [
    {
     "name": "stdout",
     "output_type": "stream",
     "text": [
      "correlation(num_friends, daily_minutes) 0.24736957366478218\n"
     ]
    }
   ],
   "source": [
    "def correlation(x, y):\n",
    "    stdev_x = standard_deviation(x)\n",
    "    stdev_y = standard_deviation(y)\n",
    "    if stdev_x > 0 and stdev_y > 0:\n",
    "        return covariance(x, y) / stdev_x / stdev_y\n",
    "    else:\n",
    "        return 0 # if no variation, correlation is zero\n",
    "print(\"correlation(num_friends, daily_minutes)\", correlation(num_friends, daily_minutes))\n"
   ]
  },
  {
   "cell_type": "code",
   "execution_count": 38,
   "metadata": {
    "ExecuteTime": {
     "end_time": "2019-04-14T06:42:50.909207Z",
     "start_time": "2019-04-14T06:42:50.684823Z"
    },
    "cell_style": "split",
    "slideshow": {
     "slide_type": "subslide"
    }
   },
   "outputs": [
    {
     "data": {
      "image/png": "[encoded data removed]",
      "text/plain": [
       "<Figure size 432x288 with 1 Axes>"
      ]
     },
     "metadata": {},
     "output_type": "display_data"
    }
   ],
   "source": [
    "plt.scatter(num_friends, daily_minutes, \n",
    "            alpha = .1)\n",
    "plt.xlabel('number of friends')\n",
    "plt.ylabel('daily minutes')\n",
    "plt.title('outliers')\n",
    "plt.show()"
   ]
  },
  {
   "cell_type": "code",
   "execution_count": 39,
   "metadata": {
    "ExecuteTime": {
     "end_time": "2019-04-14T06:58:37.422854Z",
     "start_time": "2019-04-14T06:58:35.643700Z"
    },
    "cell_style": "split",
    "slideshow": {
     "slide_type": "fragment"
    }
   },
   "outputs": [
    {
     "data": {
      "image/png": "[encoded data removed]",
      "text/plain": [
       "<Figure size 504x504 with 3 Axes>"
      ]
     },
     "metadata": {},
     "output_type": "display_data"
    }
   ],
   "source": [
    "import seaborn as sns\n",
    "sns.set(style=\"white\")\n",
    "g = sns.jointplot(num_friends, daily_minutes, \n",
    "                  kind=\"kde\", height=7, space=0)"
   ]
  },
  {
   "cell_type": "code",
   "execution_count": 52,
   "metadata": {
    "ExecuteTime": {
     "end_time": "2019-04-14T07:08:52.819938Z",
     "start_time": "2019-04-14T07:08:52.190012Z"
    },
    "cell_style": "center",
    "scrolled": true,
    "slideshow": {
     "slide_type": "subslide"
    }
   },
   "outputs": [
    {
     "data": {
      "image/png": "[encoded data removed]",
      "text/plain": [
       "<Figure size 432x288 with 1 Axes>"
      ]
     },
     "metadata": {},
     "output_type": "display_data"
    }
   ],
   "source": [
    "import seaborn as sns\n",
    "sns.set(style=\"ticks\", palette=\"pastel\")\n",
    "sns.boxplot(x=num_friends, y=daily_minutes)\n",
    "sns.despine(offset=10, trim=True)"
   ]
  },
  {
   "cell_type": "code",
   "execution_count": 71,
   "metadata": {
    "ExecuteTime": {
     "end_time": "2018-09-12T04:35:33.605459Z",
     "start_time": "2018-09-12T04:35:33.598633Z"
    },
    "slideshow": {
     "slide_type": "subslide"
    }
   },
   "outputs": [
    {
     "data": {
      "text/plain": [
       "array([[ 1.        ,  0.24736957],\n",
       "       [ 0.24736957,  1.        ]])"
      ]
     },
     "execution_count": 71,
     "metadata": {},
     "output_type": "execute_result"
    }
   ],
   "source": [
    "np.corrcoef(num_friends, daily_minutes)"
   ]
  },
  {
   "cell_type": "code",
   "execution_count": 72,
   "metadata": {
    "ExecuteTime": {
     "end_time": "2018-09-12T04:36:06.053421Z",
     "start_time": "2018-09-12T04:36:06.047451Z"
    },
    "slideshow": {
     "slide_type": "subslide"
    }
   },
   "outputs": [
    {
     "data": {
      "text/plain": [
       "(0.24736957366478224, 0.00036104739734502003)"
      ]
     },
     "execution_count": 72,
     "metadata": {},
     "output_type": "execute_result"
    }
   ],
   "source": [
    "from scipy.stats.stats import pearsonr   \n",
    "  \n",
    "pearsonr(num_friends, daily_minutes)"
   ]
  },
  {
   "cell_type": "code",
   "execution_count": 26,
   "metadata": {
    "ExecuteTime": {
     "end_time": "2018-09-12T03:59:48.570216Z",
     "start_time": "2018-09-12T03:59:48.560977Z"
    },
    "slideshow": {
     "slide_type": "subslide"
    }
   },
   "outputs": [
    {
     "name": "stdout",
     "output_type": "stream",
     "text": [
      "correlation(num_friends_good, daily_minutes_good) 0.5736792115665573\n"
     ]
    }
   ],
   "source": [
    "outlier = num_friends.index(100) # index of outlier\n",
    "\n",
    "num_friends_good = [x\n",
    "                    for i, x in enumerate(num_friends)\n",
    "                    if i != outlier]\n",
    "\n",
    "daily_minutes_good = [x\n",
    "                      for i, x in enumerate(daily_minutes)\n",
    "                      if i != outlier]\n",
    "\n",
    "\n",
    "print(\"correlation(num_friends_good, daily_minutes_good)\", \\\n",
    "      correlation(num_friends_good, daily_minutes_good))\n"
   ]
  },
  {
   "cell_type": "code",
   "execution_count": null,
   "metadata": {},
   "outputs": [],
   "source": []
  }
 ],
 "metadata": {
  "celltoolbar": "Slideshow",
  "kernelspec": {
   "display_name": "Python [conda env:anaconda]",
   "language": "python",
   "name": "conda-env-anaconda-py"
  },
  "language_info": {
   "codemirror_mode": {
    "name": "ipython",
    "version": 3
   },
   "file_extension": ".py",
   "mimetype": "text/x-python",
   "name": "python",
   "nbconvert_exporter": "python",
   "pygments_lexer": "ipython3",
   "version": "3.5.4"
  },
  "latex_envs": {
   "LaTeX_envs_menu_present": true,
   "autoclose": false,
   "autocomplete": true,
   "bibliofile": "biblio.bib",
   "cite_by": "apalike",
   "current_citInitial": 1,
   "eqLabelWithNumbers": true,
   "eqNumInitial": 1,
   "hotkeys": {
    "equation": "Ctrl-E",
    "itemize": "Ctrl-I"
   },
   "labels_anchors": false,
   "latex_user_defs": false,
   "report_style_numbering": false,
   "user_envs_cfg": false
  },
  "toc": {
   "base_numbering": 1,
   "nav_menu": {},
   "number_sections": false,
   "sideBar": false,
   "skip_h1_title": false,
   "title_cell": "Table of Contents",
   "title_sidebar": "Contents",
   "toc_cell": false,
   "toc_position": {
    "height": "100px",
    "left": "1091.99px",
    "top": "0px",
    "width": "418px"
   },
   "toc_section_display": true,
   "toc_window_display": true
  }
 },
 "nbformat": 4,
 "nbformat_minor": 2
}
