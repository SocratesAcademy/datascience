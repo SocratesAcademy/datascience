{
 "cells": [
  {
   "cell_type": "markdown",
   "metadata": {},
   "source": [
    "# Mastering 'Metrics\n",
    "\n",
    "Chapter 1: Table 1.1\n",
    "\n",
    "This table compares people with and without health insurance in the 2009 National Health Interview Survey (NHIS).\n",
    "\n",
    "\n",
    "http://www.masteringmetrics.com/resources/"
   ]
  },
  {
   "cell_type": "code",
   "execution_count": 1,
   "metadata": {
    "ExecuteTime": {
     "end_time": "2020-03-03T15:55:27.263153Z",
     "start_time": "2020-03-03T15:55:27.233205Z"
    },
    "scrolled": false
   },
   "outputs": [],
   "source": [
    "*** Metrics\n",
    "*** Table 1.1\n",
    "*** goal: make table of health outcomes and characteristics by insurance status ***\n",
    "\n",
    "* by Georg Graetz, August 6, 2013\n",
    "* modified lightly by Gabriel Kreindler, June 13, 2014\n",
    "* modified lightly by Jon Petkun, January 2, 2015\n",
    "* modified lightly by Ryan Hill, Jan 31, 2020\n",
    "\n",
    "pause on\n",
    "clear all\n",
    "set more off\n",
    "cap log close"
   ]
  },
  {
   "cell_type": "code",
   "execution_count": 2,
   "metadata": {
    "ExecuteTime": {
     "end_time": "2020-03-03T15:55:28.265328Z",
     "start_time": "2020-03-03T15:55:28.243327Z"
    },
    "scrolled": false
   },
   "outputs": [
    {
     "name": "stdout",
     "output_type": "stream",
     "text": [
      "/Users/datalab/github/datascience/causal-inference/NHIS/Data\n"
     ]
    }
   ],
   "source": [
    "// set to directory where NHIS2009_clean.dta is stored\n",
    "cd \"./NHIS/Data/\""
   ]
  },
  {
   "cell_type": "code",
   "execution_count": 3,
   "metadata": {
    "ExecuteTime": {
     "end_time": "2020-03-03T15:55:42.460288Z",
     "start_time": "2020-03-03T15:55:42.413599Z"
    },
    "scrolled": false
   },
   "outputs": [],
   "source": [
    "cap log using NHIS2009_hicompare.log, text replace\n",
    "\n",
    "use NHIS2009_clean, clear"
   ]
  },
  {
   "cell_type": "code",
   "execution_count": 4,
   "metadata": {
    "ExecuteTime": {
     "end_time": "2020-03-03T15:56:03.810115Z",
     "start_time": "2020-03-03T15:56:03.619663Z"
    },
    "scrolled": false
   },
   "outputs": [
    {
     "name": "stdout",
     "output_type": "stream",
     "text": [
      "\n",
      "(50,662 observations deleted)\n",
      "\n",
      "(207 missing values generated)\n",
      "\n",
      "(207 observations deleted)\n",
      "\n",
      "\n",
      "(31 observations deleted)\n",
      "\n"
     ]
    }
   ],
   "source": [
    "* select non-missings\n",
    "\tkeep if marradult==1 & perweight!=0 \n",
    "\t\tby serial: egen hi_hsb = mean(hi_hsb1)\n",
    "\t\t\tkeep if hi_hsb!=. & hi!=.\n",
    "\t\tby serial: egen female = total(fml)\n",
    "\t\t\tkeep if female==1\n",
    "\t\t\tdrop female"
   ]
  },
  {
   "cell_type": "code",
   "execution_count": 5,
   "metadata": {
    "ExecuteTime": {
     "end_time": "2020-03-03T15:56:27.455722Z",
     "start_time": "2020-03-03T15:56:27.396298Z"
    },
    "scrolled": false
   },
   "outputs": [
    {
     "name": "stdout",
     "output_type": "stream",
     "text": [
      "\n",
      "\n",
      "(9,613 observations deleted)\n",
      "\n",
      "\n",
      "(1,331 observations deleted)\n"
     ]
    }
   ],
   "source": [
    "* Josh's sample selection criteria\t\n",
    "\tgen angrist = ( age>=26 & age<=59 & marradult==1 & adltempl>=1 )\n",
    "\t\tkeep if angrist==1\n",
    "\t// drop single-person HHs\n",
    "\tby serial: gen n = _N\n",
    "\t\tkeep if n>1"
   ]
  },
  {
   "cell_type": "code",
   "execution_count": 13,
   "metadata": {
    "ExecuteTime": {
     "end_time": "2020-03-03T16:00:13.820554Z",
     "start_time": "2020-03-03T16:00:13.762784Z"
    },
    "scrolled": false
   },
   "outputs": [
    {
     "name": "stdout",
     "output_type": "stream",
     "text": [
      "\n",
      "\n",
      "\n",
      "\n",
      "\n",
      "results[15,6]\n",
      "                Husbands:   Husbands:   Husbands:      Wives:      Wives:\n",
      "                 Some HI       No HI  Difference     Some HI       No HI\n",
      "Health index           .           .           .           .           .\n",
      "          se           .           .           .           .           .\n",
      "    Nonwhite           .           .           .           .           .\n",
      "          se           .           .           .           .           .\n",
      "         Age           .           .           .           .           .\n",
      "          se           .           .           .           .           .\n",
      "   Education           .           .           .           .           .\n",
      "          se           .           .           .           .           .\n",
      " Family Size           .           .           .           .           .\n",
      "          se           .           .           .           .           .\n",
      "    Employed           .           .           .           .           .\n",
      "          se           .           .           .           .           .\n",
      "Family inc~e           .           .           .           .           .\n",
      "          se           .           .           .           .           .\n",
      " Sample size           .           .           .           .           .\n",
      "\n",
      "                   Wives:\n",
      "              Difference\n",
      "Health index           .\n",
      "          se           .\n",
      "    Nonwhite           .\n",
      "          se           .\n",
      "         Age           .\n",
      "          se           .\n",
      "   Education           .\n",
      "          se           .\n",
      " Family Size           .\n",
      "          se           .\n",
      "    Employed           .\n",
      "          se           .\n",
      "Family inc~e           .\n",
      "          se           .\n",
      " Sample size           .\n",
      "\n",
      "\n",
      "\n"
     ]
    }
   ],
   "source": [
    "* Prepare matrix to store results\n",
    "\tmatrix results = J(15,6,.)\n",
    "\tmatrix rownames results = \"Health index\" \"se\" \"Nonwhite\" \"se\" \"Age\" \"se\" \"Education\" \"se\" \"Family Size\" \"se\" \"Employed\" \"se\" \"Family income\" \"se\" \"Sample size\"\n",
    "\tmatrix colnames results = \"Husbands: Some HI\" \"Husbands: No HI\" \"Husbands: Difference\" \"Wives: Some HI\" \"Wives: No HI\" \"Wives: Difference\" \n",
    "\n",
    "\tmatrix list results,format(%8.4f)\n",
    "\n",
    "\tlocal col = 1\n",
    "\tlocal row1 = 1\n",
    "\tlocal row2 = 2"
   ]
  },
  {
   "cell_type": "code",
   "execution_count": 14,
   "metadata": {
    "ExecuteTime": {
     "end_time": "2020-03-03T16:00:17.506245Z",
     "start_time": "2020-03-03T16:00:17.428657Z"
    },
    "scrolled": false
   },
   "outputs": [
    {
     "name": "stdout",
     "output_type": "stream",
     "text": [
      "\n",
      "(sum of wgt is 34,118,563)\n",
      "\n",
      "Linear regression                               Number of obs     =      9,395\n",
      "                                                F(1, 9393)        =      84.68\n",
      "                                                Prob > F          =     0.0000\n",
      "                                                R-squared         =     0.0129\n",
      "                                                Root MSE          =      .9406\n",
      "\n",
      "------------------------------------------------------------------------------\n",
      "             |               Robust\n",
      "        hlth |      Coef.   Std. Err.      t    P>|t|     [95% Conf. Interval]\n",
      "-------------+----------------------------------------------------------------\n",
      "          hi |   .3132452   .0340396     9.20   0.000     .2465202    .3799702\n",
      "       _cons |   3.695654   .0316859   116.63   0.000     3.633543    3.757765\n",
      "------------------------------------------------------------------------------\n",
      "(sum of wgt is 32,513,646)\n",
      "\n",
      "Linear regression                               Number of obs     =      9,395\n",
      "                                                F(1, 9393)        =     125.33\n",
      "                                                Prob > F          =     0.0000\n",
      "                                                R-squared         =     0.0186\n",
      "                                                Root MSE          =      .9314\n",
      "\n",
      "------------------------------------------------------------------------------\n",
      "             |               Robust\n",
      "        hlth |      Coef.   Std. Err.      t    P>|t|     [95% Conf. Interval]\n",
      "-------------+----------------------------------------------------------------\n",
      "          hi |   .3943197   .0352229    11.19   0.000     .3252752    .4633642\n",
      "       _cons |   3.623059   .0330162   109.74   0.000      3.55834    3.687778\n",
      "------------------------------------------------------------------------------\n",
      "\n",
      "\n"
     ]
    }
   ],
   "source": [
    " * Health status by insurance coverage and sex\n",
    "\tforval fem = 0/1 {\n",
    "\tqui sum hlth if hi==1 & fml==`fem' [ aw=perweight ]\n",
    "\t\tmat results[`row1',`col'] = r(mean)\n",
    "\t\tmat results[`row2',`col'] = r(sd)\n",
    "\t\tlocal ++col\n",
    "\t\t\n",
    "\tqui sum hlth if hi==0 & fml==`fem' [ aw=perweight ]\n",
    "\t\tmat results[`row1',`col'] = r(mean)\n",
    "\t\tmat results[`row2',`col'] = r(sd)\n",
    "\t\tlocal ++col\n",
    "\n",
    "\treg hlth hi if fml==`fem' [ aw=perweight ], robust\n",
    "\t\tmat results[`row1',`col'] = _b[hi]\n",
    "\t\tmat results[`row2',`col'] = _se[hi]\n",
    "\t\tlocal ++col\n",
    "\t}\n",
    "\n",
    "\t\tlocal row1 = `row1' + 2\n",
    "\t\tlocal row2 = `row2' + 2"
   ]
  },
  {
   "cell_type": "code",
   "execution_count": 24,
   "metadata": {
    "ExecuteTime": {
     "end_time": "2020-03-03T16:15:40.045595Z",
     "start_time": "2020-03-03T16:15:39.741544Z"
    }
   },
   "outputs": [
    {
     "name": "stdout",
     "output_type": "stream",
     "text": [
      "\n",
      "(analytic weights assumed)\n",
      "(sum of wgt is 34,118,563)\n",
      "\n",
      "Linear regression                               Number of obs     =      9,395\n",
      "                                                F(1, 9393)        =       1.01\n",
      "                                                Prob > F          =     0.3144\n",
      "                                                R-squared         =     0.0001\n",
      "                                                Root MSE          =     .36602\n",
      "\n",
      "------------------------------------------------------------------------------\n",
      "             |               Robust\n",
      "      nwhite |      Coef.   Std. Err.      t    P>|t|     [95% Conf. Interval]\n",
      "-------------+----------------------------------------------------------------\n",
      "          hi |  -.0115948   .0115249    -1.01   0.314     -.034186    .0109965\n",
      "       _cons |   .1693667   .0106274    15.94   0.000     .1485347    .1901986\n",
      "------------------------------------------------------------------------------\n",
      "(analytic weights assumed)\n",
      "(sum of wgt is 32,513,646)\n",
      "\n",
      "Linear regression                               Number of obs     =      9,395\n",
      "                                                F(1, 9393)        =       3.63\n",
      "                                                Prob > F          =     0.0569\n",
      "                                                R-squared         =     0.0005\n",
      "                                                Root MSE          =     .36063\n",
      "\n",
      "------------------------------------------------------------------------------\n",
      "             |               Robust\n",
      "      nwhite |      Coef.   Std. Err.      t    P>|t|     [95% Conf. Interval]\n",
      "-------------+----------------------------------------------------------------\n",
      "          hi |  -.0239163   .0125603    -1.90   0.057    -.0485371    .0007046\n",
      "       _cons |   .1747474    .011823    14.78   0.000     .1515716    .1979231\n",
      "------------------------------------------------------------------------------\n",
      "(analytic weights assumed)\n",
      "(sum of wgt is 34,118,563)\n",
      "\n",
      "Linear regression                               Number of obs     =      9,395\n",
      "                                                F(1, 9393)        =      86.70\n",
      "                                                Prob > F          =     0.0000\n",
      "                                                R-squared         =     0.0114\n",
      "                                                Root MSE          =      8.661\n",
      "\n",
      "------------------------------------------------------------------------------\n",
      "             |               Robust\n",
      "         age |      Coef.   Std. Err.      t    P>|t|     [95% Conf. Interval]\n",
      "-------------+----------------------------------------------------------------\n",
      "          hi |   2.713743   .2914405     9.31   0.000     2.142457    3.285029\n",
      "       _cons |   41.26318   .2671254   154.47   0.000     40.73956    41.78681\n",
      "------------------------------------------------------------------------------\n",
      "(analytic weights assumed)\n",
      "(sum of wgt is 32,513,646)\n",
      "\n",
      "Linear regression                               Number of obs     =      9,395\n",
      "                                                F(1, 9393)        =      75.56\n",
      "                                                Prob > F          =     0.0000\n",
      "                                                R-squared         =     0.0094\n",
      "                                                Root MSE          =     8.7488\n",
      "\n",
      "------------------------------------------------------------------------------\n",
      "             |               Robust\n",
      "         age |      Coef.   Std. Err.      t    P>|t|     [95% Conf. Interval]\n",
      "-------------+----------------------------------------------------------------\n",
      "          hi |   2.619479   .3013479     8.69   0.000     2.028772    3.210186\n",
      "       _cons |   39.61744   .2768904   143.08   0.000     39.07467     40.1602\n",
      "------------------------------------------------------------------------------\n",
      "(analytic weights assumed)\n",
      "(sum of wgt is 34,118,563)\n",
      "\n",
      "Linear regression                               Number of obs     =      9,395\n",
      "                                                F(1, 9393)        =     729.63\n",
      "                                                Prob > F          =     0.0000\n",
      "                                                R-squared         =     0.1129\n",
      "                                                Root MSE          =       2.64\n",
      "\n",
      "------------------------------------------------------------------------------\n",
      "             |               Robust\n",
      "        yedu |      Coef.   Std. Err.      t    P>|t|     [95% Conf. Interval]\n",
      "-------------+----------------------------------------------------------------\n",
      "          hi |   2.743283   .1015592    27.01   0.000     2.544205    2.942361\n",
      "       _cons |   11.56244   .0962655   120.11   0.000     11.37374    11.75115\n",
      "------------------------------------------------------------------------------\n",
      "(analytic weights assumed)\n",
      "(sum of wgt is 32,513,646)\n",
      "\n",
      "Linear regression                               Number of obs     =      9,395\n",
      "                                                F(1, 9393)        =     609.62\n",
      "                                                Prob > F          =     0.0000\n",
      "                                                R-squared         =     0.1030\n",
      "                                                Root MSE          =     2.5386\n",
      "\n",
      "------------------------------------------------------------------------------\n",
      "             |               Robust\n",
      "        yedu |      Coef.   Std. Err.      t    P>|t|     [95% Conf. Interval]\n",
      "-------------+----------------------------------------------------------------\n",
      "          hi |   2.642903   .1070412    24.69   0.000     2.433079    2.852727\n",
      "       _cons |   11.79908   .1026488   114.95   0.000     11.59787    12.00029\n",
      "------------------------------------------------------------------------------\n",
      "(analytic weights assumed)\n",
      "(sum of wgt is 34,118,563)\n",
      "\n",
      "Linear regression                               Number of obs     =      9,395\n",
      "                                                F(1, 9393)        =      81.36\n",
      "                                                Prob > F          =     0.0000\n",
      "                                                R-squared         =     0.0147\n",
      "                                                Root MSE          =     1.3262\n",
      "\n",
      "------------------------------------------------------------------------------\n",
      "             |               Robust\n",
      "     famsize |      Coef.   Std. Err.      t    P>|t|     [95% Conf. Interval]\n",
      "-------------+----------------------------------------------------------------\n",
      "          hi |  -.4721901   .0523507    -9.02   0.000    -.5748089   -.3695713\n",
      "       _cons |   3.976924   .0494789    80.38   0.000     3.879934    4.073913\n",
      "------------------------------------------------------------------------------\n",
      "(analytic weights assumed)\n",
      "(sum of wgt is 32,513,646)\n",
      "\n",
      "Linear regression                               Number of obs     =      9,395\n",
      "                                                F(1, 9393)        =      65.13\n",
      "                                                Prob > F          =     0.0000\n",
      "                                                R-squared         =     0.0112\n",
      "                                                Root MSE          =     1.3215\n",
      "\n",
      "------------------------------------------------------------------------------\n",
      "             |               Robust\n",
      "     famsize |      Coef.   Std. Err.      t    P>|t|     [95% Conf. Interval]\n",
      "-------------+----------------------------------------------------------------\n",
      "          hi |   -.432758   .0536228    -8.07   0.000    -.5378704   -.3276457\n",
      "       _cons |   3.926348   .0507972    77.29   0.000     3.826775    4.025922\n",
      "------------------------------------------------------------------------------\n",
      "(analytic weights assumed)\n",
      "(sum of wgt is 34,118,563)\n",
      "\n",
      "Linear regression                               Number of obs     =      9,395\n",
      "                                                F(1, 9393)        =      40.01\n",
      "                                                Prob > F          =     0.0000\n",
      "                                                R-squared         =     0.0084\n",
      "                                                Root MSE          =     .27911\n",
      "\n",
      "------------------------------------------------------------------------------\n"
     ]
    },
    {
     "name": "stdout",
     "output_type": "stream",
     "text": [
      "             |               Robust\n",
      "        empl |      Coef.   Std. Err.      t    P>|t|     [95% Conf. Interval]\n",
      "-------------+----------------------------------------------------------------\n",
      "          hi |   .0748071   .0118272     6.33   0.000     .0516233     .097991\n",
      "       _cons |    .849466   .0112809    75.30   0.000     .8273529    .8715791\n",
      "------------------------------------------------------------------------------\n",
      "(analytic weights assumed)\n",
      "(sum of wgt is 32,513,646)\n",
      "\n",
      "Linear regression                               Number of obs     =      9,395\n",
      "                                                F(1, 9393)        =     151.32\n",
      "                                                Prob > F          =     0.0000\n",
      "                                                R-squared         =     0.0238\n",
      "                                                Root MSE          =      .4332\n",
      "\n",
      "------------------------------------------------------------------------------\n",
      "             |               Robust\n",
      "        empl |      Coef.   Std. Err.      t    P>|t|     [95% Conf. Interval]\n",
      "-------------+----------------------------------------------------------------\n",
      "          hi |   .2076896   .0168834    12.30   0.000     .1745945    .2407848\n",
      "       _cons |   .5577617   .0159292    35.01   0.000     .5265369    .5889864\n",
      "------------------------------------------------------------------------------\n",
      "(analytic weights assumed)\n",
      "(sum of wgt is 34,118,563)\n",
      "\n",
      "Linear regression                               Number of obs     =      9,395\n",
      "                                                F(1, 9393)        =    2011.74\n",
      "                                                Prob > F          =     0.0000\n",
      "                                                R-squared         =     0.1380\n",
      "                                                Root MSE          =      52163\n",
      "\n",
      "------------------------------------------------------------------------------\n",
      "             |               Robust\n",
      "         inc |      Coef.   Std. Err.      t    P>|t|     [95% Conf. Interval]\n",
      "-------------+----------------------------------------------------------------\n",
      "          hi |   60810.44   1355.789    44.85   0.000      58152.8    63468.08\n",
      "       _cons |   45656.25   1149.919    39.70   0.000     43402.16    47910.34\n",
      "------------------------------------------------------------------------------\n",
      "(analytic weights assumed)\n",
      "(sum of wgt is 32,513,646)\n",
      "\n",
      "Linear regression                               Number of obs     =      9,395\n",
      "                                                F(1, 9393)        =    1810.42\n",
      "                                                Prob > F          =     0.0000\n",
      "                                                R-squared         =     0.1207\n",
      "                                                Root MSE          =      52556\n",
      "\n",
      "------------------------------------------------------------------------------\n",
      "             |               Robust\n",
      "         inc |      Coef.   Std. Err.      t    P>|t|     [95% Conf. Interval]\n",
      "-------------+----------------------------------------------------------------\n",
      "          hi |    59827.5   1406.084    42.55   0.000     57071.27    62583.73\n",
      "       _cons |    46384.7     1208.8    38.37   0.000     44015.19    48754.21\n",
      "------------------------------------------------------------------------------\n",
      "\n",
      "\n",
      "         hi |      Freq.     Percent        Cum.\n",
      "------------+-----------------------------------\n",
      "          0 | 1,281.4929       13.64       13.64\n",
      "          1 | 8,113.5071       86.36      100.00\n",
      "------------+-----------------------------------\n",
      "      Total |      9,395      100.00\n",
      "\n",
      "\n",
      "x[2,1]\n",
      "           c1\n",
      "r1  1281.4929\n",
      "r2  8113.5071\n",
      "\n",
      "\n",
      "\n",
      "\n",
      "         hi |      Freq.     Percent        Cum.\n",
      "------------+-----------------------------------\n",
      "          0 | 1,131.3788       12.04       12.04\n",
      "          1 | 8,263.6212       87.96      100.00\n",
      "------------+-----------------------------------\n",
      "      Total |      9,395      100.00\n",
      "\n",
      "\n",
      "y[2,1]\n",
      "           c1\n",
      "r1  1131.3788\n",
      "r2  8263.6212\n",
      "\n",
      "\n"
     ]
    }
   ],
   "source": [
    "* Other characteristics by insurance and sex\t\t\n",
    "\tforeach var in nwhite age yedu famsize empl inc {\n",
    "\t\t\n",
    "\t\tlocal col = 1\n",
    "\t\tforval fem = 0/1 {\n",
    "\t\t\n",
    "\t\t* means and SDs\n",
    "\t\t\tqui sum `var' if hi==1 & fml==`fem' [ aw=perweight ]\n",
    "\t\t\t\tmat results[`row1',`col'] = r(mean)\n",
    "\t\t\t\tlocal ++col\n",
    "\t\t\tqui sum `var' if hi==0 & fml==`fem' [ aw=perweight ]\n",
    "\t\t\t\tmat results[`row1',`col'] = r(mean)\n",
    "\t\t\t\tlocal ++col\n",
    "\t\t\t\t\n",
    "\t\t* mean comparisons \n",
    "\t\t\treg `var' hi if fml==`fem' [ w=perweight ], robust\n",
    "\t\t\t\tmat results[`row1',`col'] = _b[hi]\n",
    "\t\t\t\tmat results[`row2',`col'] = _se[hi]\n",
    "\t\t\t\tlocal ++col\n",
    "\t\t\t\t\t\t\n",
    "\t\t}\t\t\n",
    "\t\tlocal row1 = `row1' + 2\n",
    "\t\tlocal row2 = `row2' + 2\n",
    "\t}\n",
    "\n",
    "\t* Sample sizes\n",
    "\ttab hi if fml == 0 [aw=perweight], matcell(x)\n",
    "\tmat list x\n",
    "\t\n",
    "\tmat results[`row1',2] = x[1,1]\n",
    "\tmat results[`row1',1] = x[2,1]\n",
    "\t\n",
    "\ttab hi if fml == 1 [aw=perweight], matcell(y)\n",
    "\tmat list y\n",
    "\t\n",
    "\tmat results[`row1',5] = y[1,1]\n",
    "\tmat results[`row1',4] = y[2,1]"
   ]
  },
  {
   "cell_type": "code",
   "execution_count": 33,
   "metadata": {
    "ExecuteTime": {
     "end_time": "2020-03-03T16:20:23.257321Z",
     "start_time": "2020-03-03T16:20:23.212862Z"
    }
   },
   "outputs": [
    {
     "name": "stdout",
     "output_type": "stream",
     "text": [
      "\n",
      "results[15,6]\n",
      "                Husbands:   Husbands:   Husbands:      Wives:      Wives:\n",
      "                 Some HI       No HI  Difference     Some HI       No HI\n",
      "Health index        4.01        3.70        0.31        4.02        3.62\n",
      "          se        0.93        1.01        0.03        0.92        1.01\n",
      "    Nonwhite        0.16        0.17       -0.01        0.15        0.17\n",
      "          se           .           .        0.01           .           .\n",
      "         Age       43.98       41.26        2.71       42.24       39.62\n",
      "          se           .           .        0.29           .           .\n",
      "   Education       14.31       11.56        2.74       14.44       11.80\n",
      "          se           .           .        0.10           .           .\n",
      " Family Size        3.50        3.98       -0.47        3.49        3.93\n",
      "          se           .           .        0.05           .           .\n",
      "    Employed        0.92        0.85        0.07        0.77        0.56\n",
      "          se           .           .        0.01           .           .\n",
      "Family inc~e     1.1e+05    45656.25    60810.44     1.1e+05    46384.70\n",
      "          se           .           .     1355.79           .           .\n",
      " Sample size     8113.51     1281.49           .     8263.62     1131.38\n",
      "\n",
      "                   Wives:\n",
      "              Difference\n",
      "Health index        0.39\n",
      "          se        0.04\n",
      "    Nonwhite       -0.02\n",
      "          se        0.01\n",
      "         Age        2.62\n",
      "          se        0.30\n",
      "   Education        2.64\n",
      "          se        0.11\n",
      " Family Size       -0.43\n",
      "          se        0.05\n",
      "    Employed        0.21\n",
      "          se        0.02\n",
      "Family inc~e    59827.50\n",
      "          se     1406.08\n",
      " Sample size           .\n"
     ]
    }
   ],
   "source": [
    "* List results\n",
    "matrix list results, format(%8.2f)"
   ]
  },
  {
   "cell_type": "code",
   "execution_count": 31,
   "metadata": {
    "ExecuteTime": {
     "end_time": "2020-03-03T16:19:26.268136Z",
     "start_time": "2020-03-03T16:19:26.213514Z"
    },
    "collapsed": true
   },
   "outputs": [
    {
     "name": "stdout",
     "output_type": "stream",
     "text": [
      "\n",
      "Note: file will be replaced when the first putexcel command is issued\n",
      "\n",
      "file MM_Table1_1.xlsx saved\n"
     ]
    }
   ],
   "source": [
    "* Output results\t\n",
    "putexcel set MM_Table1_1, replace\n",
    "putexcel A1 = matrix(results), names nformat(number_d2)"
   ]
  },
  {
   "cell_type": "code",
   "execution_count": 32,
   "metadata": {
    "ExecuteTime": {
     "end_time": "2020-03-03T16:19:28.463929Z",
     "start_time": "2020-03-03T16:19:28.436513Z"
    },
    "collapsed": true
   },
   "outputs": [],
   "source": [
    "cap log close\n"
   ]
  },
  {
   "cell_type": "markdown",
   "metadata": {},
   "source": [
    "### Compare with R\n",
    "https://jrnold.github.io/masteringmetrics/national-health-interview-survey.html"
   ]
  },
  {
   "cell_type": "code",
   "execution_count": null,
   "metadata": {},
   "outputs": [],
   "source": []
  }
 ],
 "metadata": {
  "kernelspec": {
   "display_name": "Stata",
   "language": "stata",
   "name": "stata"
  },
  "language_info": {
   "codemirror_mode": "stata",
   "file_extension": ".do",
   "mimetype": "text/x-stata",
   "name": "stata",
   "version": "15.1"
  },
  "latex_envs": {
   "LaTeX_envs_menu_present": true,
   "autoclose": false,
   "autocomplete": true,
   "bibliofile": "biblio.bib",
   "cite_by": "apalike",
   "current_citInitial": 1,
   "eqLabelWithNumbers": true,
   "eqNumInitial": 1,
   "hotkeys": {
    "equation": "Ctrl-E",
    "itemize": "Ctrl-I"
   },
   "labels_anchors": false,
   "latex_user_defs": false,
   "report_style_numbering": false,
   "user_envs_cfg": false
  },
  "toc": {
   "base_numbering": 1,
   "nav_menu": {},
   "number_sections": false,
   "sideBar": true,
   "skip_h1_title": false,
   "title_cell": "Table of Contents",
   "title_sidebar": "Contents",
   "toc_cell": false,
   "toc_position": {},
   "toc_section_display": true,
   "toc_window_display": false
  }
 },
 "nbformat": 4,
 "nbformat_minor": 2
}
