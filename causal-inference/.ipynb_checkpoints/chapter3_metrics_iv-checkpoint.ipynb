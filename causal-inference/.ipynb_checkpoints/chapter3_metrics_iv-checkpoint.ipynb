{
 "cells": [
  {
   "cell_type": "markdown",
   "metadata": {},
   "source": [
    "# 解决内生性(1)——工具变量法\n",
    "\n",
    "https://www.bilibili.com/video/av82013964/"
   ]
  },
  {
   "cell_type": "code",
   "execution_count": 4,
   "metadata": {
    "ExecuteTime": {
     "end_time": "2020-03-07T06:31:47.455275Z",
     "start_time": "2020-03-07T06:31:47.417431Z"
    }
   },
   "outputs": [
    {
     "name": "stdout",
     "output_type": "stream",
     "text": [
      "\n",
      "total 202240\n",
      "-rw-r--r--@ 1 datalab  staff  36844584  2  3  2013 AA_small.dta\n",
      "-rw-r--r--@ 1 datalab  staff   6637632  3  4 00:46 AA_small.dta_.zip\n",
      "-rw-r--r--@ 1 datalab  staff      7697  3  4 00:45 AEJfigs.dta\n",
      "-rw-r--r--@ 1 datalab  staff   3490484  3  4 00:42 Data1.zip\n",
      "drwxr-xr-x@ 6 datalab  staff       192  3  4 00:35 NHIS/\n",
      "drwxr-xr-x@ 9 datalab  staff       288  3  4 13:01 OHIE_Public_Use_Files/\n",
      "-rw-r--r--@ 1 datalab  staff       604  3  4 00:36 ReadMe_RAND.txt\n",
      "-rw-r--r--@ 1 datalab  staff       445  3  5 17:41 Table33.xls\n",
      "-rw-r--r--@ 1 datalab  staff   6591291  3  4 00:46 ak91.dta\n",
      "-rw-r--r--@ 1 datalab  staff   1006144  1 22  2015 annual_spend.dta\n",
      "-rw-r--r--@ 1 datalab  staff     77216  3  4 00:45 banks.csv\n",
      "-rw-r--r--@ 1 datalab  staff      2481  3  4 00:46 clark_martorell_cellmeans.dta\n",
      "-rw-r--r--@ 1 datalab  staff   1168671  3  4 00:45 deaths.dta\n",
      "-rw-r--r--@ 1 datalab  staff     29249  3  4 00:45 mdve.dta\n",
      "-rw-r--r--@ 1 datalab  staff   9370270  3  4 00:45 oregon_puf.zip\n",
      "-rw-r--r--@ 1 datalab  staff  27605676  3 23  2014 person_years.dta\n",
      "-rw-r--r--@ 1 datalab  staff    100520  3  4 00:45 pubtwins.dta\n",
      "-rw-r--r--@ 1 datalab  staff   8823462  1 22  2015 rand_initial_sample_2.dta\n",
      "-rw-r--r--@ 1 datalab  staff      2813  3  4 13:23 table1.txt\n",
      "-rw-r--r--@ 1 datalab  staff     41083  3  4 13:23 table1.xml\n",
      "-rw-r--r--  1 datalab  staff      1047  3  4 13:38 table2.txt\n",
      "-rw-r--r--@ 1 datalab  staff     16349  3  4 13:38 table2.xml\n"
     ]
    }
   ],
   "source": [
    "ls"
   ]
  },
  {
   "cell_type": "code",
   "execution_count": 12,
   "metadata": {
    "ExecuteTime": {
     "end_time": "2020-03-07T06:39:10.352034Z",
     "start_time": "2020-03-07T06:39:10.319117Z"
    }
   },
   "outputs": [
    {
     "name": "stdout",
     "output_type": "stream",
     "text": [
      "\n",
      "Contains data from mdve.dta\n",
      "  obs:           330                          \n",
      " vars:            27                          12 Feb 2015 18:00\n",
      " size:        23,760                          \n",
      "--------------------------------------------------------------------------------\n",
      "              storage   display    value\n",
      "variable name   type    format     label      variable label\n",
      "--------------------------------------------------------------------------------\n",
      "ID              str10   %10s                  \n",
      "T_RANDOM        byte    %8.0g                 \n",
      "MONTH           float   %9.0g                 \n",
      "YEAR            float   %9.0g                 \n",
      "CLOCK           float   %9.0g                 \n",
      "TIME            float   %9.0g                 \n",
      "P_REPORT        byte    %8.0g                 \n",
      "CCN             float   %9.0g                 \n",
      "V_RACE          byte    %8.0g                 \n",
      "S_RACE          byte    %8.0g                 \n",
      "V_CHEM          byte    %8.0g                 \n",
      "S_CHEM          byte    %8.0g                 \n",
      "S_DMNOR1        byte    %8.0g                 \n",
      "S_DMNOR2        byte    %8.0g                 \n",
      "WEAPON          byte    %8.0g                 \n",
      "GUNS            byte    %8.0g                 \n",
      "P_ASSLT1        byte    %8.0g                 \n",
      "P_ASSLT2        byte    %8.0g                 \n",
      "P_CALMED        float   %9.0g                 \n",
      "P_REFER         float   %9.0g                 \n",
      "P_ADVISE        float   %9.0g                 \n",
      "T_FINAL         byte    %8.0g                 \n",
      "REASON1         float   %9.0g                 \n",
      "REASON2         float   %9.0g                 \n",
      "REASON3         float   %9.0g                 \n",
      "REASON4         float   %9.0g                 \n",
      "R_RELATE        byte    %8.0g                 \n",
      "--------------------------------------------------------------------------------\n",
      "Sorted by: \n"
     ]
    }
   ],
   "source": [
    "des"
   ]
  },
  {
   "cell_type": "code",
   "execution_count": 13,
   "metadata": {
    "ExecuteTime": {
     "end_time": "2020-03-07T06:39:27.746406Z",
     "start_time": "2020-03-07T06:39:27.719263Z"
    }
   },
   "outputs": [
    {
     "name": "stdout",
     "output_type": "stream",
     "text": [
      "\n",
      "     +-------------------------------------------------------------------------+\n",
      "  1. |        ID | T_RANDOM | MONTH | YEAR | CLOCK | TIME | P_REPORT  |   CCN  |\n",
      "     | 372020123 |        3 |     5 |   81 |   125 |   35 |        1  | 83905  |\n",
      "     |-------------------------------------------------------------------------|\n",
      "     | V_RACE | S_RACE | V_CHEM | S_CHEM | S_DMNOR1 | S_DMNOR2 | WEAPON | GUNS |\n",
      "     |      1 |      1 |      1 |      0 |        1 |        1 |      3 |    1 |\n",
      "     |-------------------------------------------------------------------------|\n",
      "     | P_ASSLT1 | P_ASSLT2 | P_CALMED | P_REFER | P_ADVISE | T_FINAL | REASON1 |\n",
      "     |        0 |        1 |        9 |       9 |        9 |       3 |       1 |\n",
      "     |-----------------------------------------------------+-------------------|\n",
      "     |     REASON2     |     REASON3     |     REASON4     |     R_RELATE      |\n",
      "     |           1     |           1     |           1     |            .      |\n",
      "     +-------------------------------------------------------------------------+\n"
     ]
    }
   ],
   "source": [
    "list in 1/1"
   ]
  },
  {
   "cell_type": "code",
   "execution_count": 14,
   "metadata": {
    "ExecuteTime": {
     "end_time": "2020-03-07T06:41:03.793004Z",
     "start_time": "2020-03-07T06:40:57.558508Z"
    }
   },
   "outputs": [],
   "source": [
    "webuse educwages"
   ]
  },
  {
   "cell_type": "code",
   "execution_count": 15,
   "metadata": {
    "ExecuteTime": {
     "end_time": "2020-03-07T06:41:06.501611Z",
     "start_time": "2020-03-07T06:41:06.477684Z"
    }
   },
   "outputs": [
    {
     "name": "stdout",
     "output_type": "stream",
     "text": [
      "\n",
      "Contains data from http://www.stata-press.com/data/r15/educwages.dta\n",
      "  obs:         1,000                          \n",
      " vars:             5                          11 Sep 2016 13:36\n",
      " size:        20,000                          \n",
      "--------------------------------------------------------------------------------\n",
      "              storage   display    value\n",
      "variable name   type    format     label      variable label\n",
      "--------------------------------------------------------------------------------\n",
      "wages           float   %9.0g                 Annual wages (USD)\n",
      "union           float   %9.0g      union      Union membership\n",
      "education       float   %9.0g                 Education (years)\n",
      "meducation      float   %9.0g                 Mother's education (years)\n",
      "feducation      float   %9.0g                 Father's education (years)\n",
      "--------------------------------------------------------------------------------\n",
      "Sorted by: \n"
     ]
    }
   ],
   "source": [
    "des"
   ]
  },
  {
   "cell_type": "code",
   "execution_count": 21,
   "metadata": {
    "ExecuteTime": {
     "end_time": "2020-03-07T06:49:31.515162Z",
     "start_time": "2020-03-07T06:49:31.454208Z"
    }
   },
   "outputs": [
    {
     "name": "stdout",
     "output_type": "stream",
     "text": [
      "\n",
      "[R] ivregress -- Single-equation instrumental-variables regression\n",
      "                 (View complete PDF manual entry)\n",
      "\n",
      "\n",
      "Syntax\n",
      "------\n",
      "\n",
      "        ivregress estimator depvar [varlist1] (varlist2 = varlist_iv) [if] [\n",
      "              in] [weight] [, options]\n",
      "\n",
      "    varlist1 is the list of exogenous variables.\n",
      "\n",
      "    varlist2 is the list of endogenous variables.\n",
      "\n",
      "    varlist_iv is the list of exogenous variables used with varlist1 as\n",
      "        instruments for varlist2.\n",
      "\n",
      "    estimator               Description\n",
      "    --------------------------------------------------------------------------\n",
      "    2sls                    two-stage least squares (2SLS)\n",
      "    liml                    limited-information maximum likelihood (LIML)\n",
      "    gmm                     generalized method of moments (GMM)\n",
      "    --------------------------------------------------------------------------\n",
      "\n",
      "    options                 Description\n",
      "    --------------------------------------------------------------------------\n",
      "    Model\n",
      "      noconstant            suppress constant term\n",
      "      hascons               has user-supplied constant\n",
      "\n",
      "  # GMM\n",
      "      wmatrix(wmtype)       wmtype may be robust, cluster clustvar, hac \n",
      "                              kernel, or unadjusted\n",
      "      center                center moments in weight matrix computation\n",
      "      igmm                  use iterative instead of two-step GMM estimator\n",
      "    * eps(#)                specify # for parameter convergence criterion;\n",
      "                              default is eps(1e-6)\n",
      "    * weps(#)               specify # for weight matrix convergence criterion;\n",
      "                              default is weps(1e-6)\n",
      "    * optimization_options  control the optimization process; seldom used\n",
      "\n",
      "    SE/Robust\n",
      "      vce(vcetype)          vcetype may be unadjusted, robust, cluster\n",
      "                              clustvar, bootstrap, jackknife, or hac kernel\n",
      "\n",
      "    Reporting\n",
      "      level(#)              set confidence level; default is level(95)\n",
      "      first                 report first-stage regression\n",
      "      small                 make degrees-of-freedom adjustments and report\n",
      "                              small-sample statistics\n",
      "      noheader              display only the coefficient table\n",
      "      depname(depname)      substitute dependent variable name\n",
      "      eform(string)         report exponentiated coefficients and use string\n",
      "                              to label them\n",
      "      display_options       control columns and column formats, row spacing,\n",
      "                              line width, display of omitted variables and\n",
      "                              base and empty cells, and factor-variable\n",
      "                              labeling\n",
      "\n",
      "      perfect               do not check for collinearity between endogenous\n",
      "                              regressors and excluded instruments\n",
      "      coeflegend            display legend instead of statistics\n",
      "    --------------------------------------------------------------------------\n",
      "    # These options may be specified only when gmm is specified.\n",
      "    * These options may be specified only when igmm is specified.\n",
      "    varlist1, varlist2, and varlist_iv may contain factor variables; see \n",
      "      fvvarlist.\n",
      "    depvar, varlist1, varlist2, and varlist_iv may contain time-series\n",
      "      operators; see tsvarlist.\n",
      "    bootstrap, by, fmm, jackknife, rolling, statsby, and svy are allowed; see \n",
      "      prefix.  For more details, see [FMM] fmm ivregress.\n",
      "    Weights are not allowed with the bootstrap prefix.\n",
      "    aweights are not allowed with the jackknife prefix.\n",
      "    hascons, vce(), noheader, depname(), and weights are not allowed with the \n",
      "      svy prefix.\n",
      "    aweights, fweights, iweights, and pweights are allowed; see weight.\n",
      "    perfect and coeflegend do not appear in the dialog box.\n",
      "    See [R] ivregress postestimation for features available after estimation.\n",
      "\n",
      "\n",
      "Menu\n",
      "----\n",
      "\n",
      "    Statistics > Endogenous covariates > Linear regression with endogenous\n",
      "        covariates\n",
      "\n",
      "\n",
      "Description\n",
      "-----------\n",
      "\n",
      "    ivregress fits linear models where one or more of the regressors are\n",
      "    endogenously determined.  ivregress supports estimation via two-stage\n",
      "    least squares (2SLS), limited-information maximum likelihood (LIML), and\n",
      "    generalized method of moments (GMM).\n",
      "\n",
      "\n",
      "Links to PDF documentation\n",
      "--------------------------\n",
      "--more--\n"
     ]
    }
   ],
   "source": [
    "help ivregress"
   ]
  },
  {
   "cell_type": "code",
   "execution_count": 24,
   "metadata": {
    "ExecuteTime": {
     "end_time": "2020-03-07T06:51:47.058129Z",
     "start_time": "2020-03-07T06:51:47.020715Z"
    }
   },
   "outputs": [
    {
     "name": "stdout",
     "output_type": "stream",
     "text": [
      "\n",
      "      Source |       SS           df       MS      Number of obs   =     1,000\n",
      "-------------+----------------------------------   F(4, 995)       =   3533.49\n",
      "       Model |  6911.10901         4  1727.77725   Prob > F        =    0.0000\n",
      "    Residual |  486.527158       995  .488972018   R-squared       =    0.9342\n",
      "-------------+----------------------------------   Adj R-squared   =    0.9340\n",
      "       Total |  7397.63617       999  7.40504121   Root MSE        =    .69927\n",
      "\n",
      "------------------------------------------------------------------------------\n",
      "       wages |      Coef.   Std. Err.      t    P>|t|     [95% Conf. Interval]\n",
      "-------------+----------------------------------------------------------------\n",
      "       union |   1.993043   .0442878    45.00   0.000     1.906135    2.079952\n",
      "   education |     1.6884   .0214247    78.81   0.000     1.646357    1.730443\n",
      "  meducation |  -.3445931   .0133969   -25.72   0.000    -.3708825   -.3183037\n",
      "  feducation |  -.3528032    .013472   -26.19   0.000    -.3792401   -.3263664\n",
      "       _cons |   28.08659   .1732738   162.09   0.000     27.74657    28.42661\n",
      "------------------------------------------------------------------------------\n"
     ]
    }
   ],
   "source": [
    "reg wages union education  meducation feducation"
   ]
  },
  {
   "cell_type": "code",
   "execution_count": 40,
   "metadata": {
    "ExecuteTime": {
     "end_time": "2020-03-07T07:13:05.038696Z",
     "start_time": "2020-03-07T07:13:04.991852Z"
    }
   },
   "outputs": [
    {
     "name": "stdout",
     "output_type": "stream",
     "text": [
      "\n",
      "Instrumental variables (LIML) regression          Number of obs   =      1,000\n",
      "                                                  Wald chi2(2)    =    3737.87\n",
      "                                                  Prob > chi2     =     0.0000\n",
      "                                                  R-squared       =     0.8599\n",
      "                                                  Root MSE        =      1.018\n",
      "\n",
      "------------------------------------------------------------------------------\n",
      "       wages |      Coef.   Std. Err.      z    P>|z|     [95% Conf. Interval]\n",
      "-------------+----------------------------------------------------------------\n",
      "   education |   .9700187   .0177099    54.77   0.000      .935308    1.004729\n",
      "       union |   1.930178    .064476    29.94   0.000     1.803807    2.056548\n",
      "       _cons |   30.55311   .2882529   105.99   0.000     29.98814    31.11807\n",
      "------------------------------------------------------------------------------\n",
      "Instrumented:  education\n",
      "Instruments:   union meducation feducation\n"
     ]
    }
   ],
   "source": [
    "ivregress liml wages union (education = meducation feducation)"
   ]
  },
  {
   "cell_type": "code",
   "execution_count": 41,
   "metadata": {
    "ExecuteTime": {
     "end_time": "2020-03-07T07:13:05.883492Z",
     "start_time": "2020-03-07T07:13:05.784254Z"
    }
   },
   "outputs": [
    {
     "name": "stdout",
     "output_type": "stream",
     "text": [
      "\n",
      "  First-stage regression summary statistics\n",
      "  --------------------------------------------------------------------------\n",
      "               |            Adjusted      Partial\n",
      "      Variable |   R-sq.       R-sq.        R-sq.      F(2,996)   Prob > F\n",
      "  -------------+------------------------------------------------------------\n",
      "     education |  0.7567      0.7560       0.7562       1544.88    0.0000\n",
      "  --------------------------------------------------------------------------\n",
      "\n",
      "\n",
      "  Minimum eigenvalue statistic = 1544.88     \n",
      "\n",
      "  Critical Values                      # of endogenous regressors:    1\n",
      "  Ho: Instruments are weak             # of excluded instruments:     2\n",
      "  ---------------------------------------------------------------------\n",
      "                                     |    5%     10%     20%     30%\n",
      "  2SLS relative bias                 |         (not available)\n",
      "  -----------------------------------+---------------------------------\n",
      "                                     |   10%     15%     20%     25%\n",
      "  2SLS Size of nominal 5% Wald test  |  19.93   11.59    8.75    7.25\n",
      "  LIML Size of nominal 5% Wald test  |   8.68    5.33    4.42    3.92\n",
      "  ---------------------------------------------------------------------\n",
      "\n"
     ]
    }
   ],
   "source": [
    "* 若相关检验\n",
    "estat firststage"
   ]
  },
  {
   "cell_type": "code",
   "execution_count": 42,
   "metadata": {
    "ExecuteTime": {
     "end_time": "2020-03-07T07:13:06.617084Z",
     "start_time": "2020-03-07T07:13:06.589942Z"
    }
   },
   "outputs": [
    {
     "name": "stdout",
     "output_type": "stream",
     "text": [
      "\n",
      "  Tests of overidentifying restrictions:\n",
      "\n",
      "  Anderson-Rubin chi2(1) =  .127227  (p = 0.7213)\n",
      "  Basmann F(1, 996)      =  .126718  (p = 0.7219)\n"
     ]
    }
   ],
   "source": [
    "* 检验工具变量是外生变量\n",
    "estat overid"
   ]
  },
  {
   "cell_type": "code",
   "execution_count": 36,
   "metadata": {
    "ExecuteTime": {
     "end_time": "2020-03-07T07:12:49.261573Z",
     "start_time": "2020-03-07T07:12:49.208273Z"
    }
   },
   "outputs": [
    {
     "name": "stdout",
     "output_type": "stream",
     "text": [
      "\n",
      "Instrumental variables (2SLS) regression          Number of obs   =      1,000\n",
      "                                                  Wald chi2(2)    =    3738.34\n",
      "                                                  Prob > chi2     =     0.0000\n",
      "                                                  R-squared       =     0.8599\n",
      "                                                  Root MSE        =      1.018\n",
      "\n",
      "------------------------------------------------------------------------------\n",
      "       wages |      Coef.   Std. Err.      z    P>|z|     [95% Conf. Interval]\n",
      "-------------+----------------------------------------------------------------\n",
      "   education |   .9700481   .0177091    54.78   0.000     .9353389    1.004757\n",
      "       union |   1.930183   .0644746    29.94   0.000     1.803815    2.056551\n",
      "       _cons |   30.55263   .2882409   106.00   0.000     29.98769    31.11757\n",
      "------------------------------------------------------------------------------\n",
      "Instrumented:  education\n",
      "Instruments:   union meducation feducation\n"
     ]
    }
   ],
   "source": [
    "ivregress 2sls wages union (education = meducation feducation)"
   ]
  },
  {
   "cell_type": "code",
   "execution_count": 37,
   "metadata": {
    "ExecuteTime": {
     "end_time": "2020-03-07T07:12:49.797767Z",
     "start_time": "2020-03-07T07:12:49.757008Z"
    }
   },
   "outputs": [
    {
     "name": "stdout",
     "output_type": "stream",
     "text": [
      "\n",
      "  Tests of endogeneity\n",
      "  Ho: variables are exogenous\n",
      "\n",
      "  Durbin (score) chi2(1)          =  460.681  (p = 0.0000)\n",
      "  Wu-Hausman F(1,996)             =  850.772  (p = 0.0000)\n"
     ]
    }
   ],
   "source": [
    "* 检验因变量是否内生\n",
    "estat endog"
   ]
  },
  {
   "cell_type": "code",
   "execution_count": 43,
   "metadata": {
    "ExecuteTime": {
     "end_time": "2020-03-07T07:13:50.855893Z",
     "start_time": "2020-03-07T07:13:50.750949Z"
    }
   },
   "outputs": [
    {
     "name": "stdout",
     "output_type": "stream",
     "text": [
      "\n",
      "  First-stage regression summary statistics\n",
      "  --------------------------------------------------------------------------\n",
      "               |            Adjusted      Partial\n",
      "      Variable |   R-sq.       R-sq.        R-sq.      F(2,996)   Prob > F\n",
      "  -------------+------------------------------------------------------------\n",
      "     education |  0.7567      0.7560       0.7562       1544.88    0.0000\n",
      "  --------------------------------------------------------------------------\n",
      "\n",
      "\n",
      "  Minimum eigenvalue statistic = 1544.88     \n",
      "\n",
      "  Critical Values                      # of endogenous regressors:    1\n",
      "  Ho: Instruments are weak             # of excluded instruments:     2\n",
      "  ---------------------------------------------------------------------\n",
      "                                     |    5%     10%     20%     30%\n",
      "  2SLS relative bias                 |         (not available)\n",
      "  -----------------------------------+---------------------------------\n",
      "                                     |   10%     15%     20%     25%\n",
      "  2SLS Size of nominal 5% Wald test  |  19.93   11.59    8.75    7.25\n",
      "  LIML Size of nominal 5% Wald test  |   8.68    5.33    4.42    3.92\n",
      "  ---------------------------------------------------------------------\n",
      "\n"
     ]
    }
   ],
   "source": [
    "* 弱相关检验\n",
    "estat firststage"
   ]
  },
  {
   "cell_type": "code",
   "execution_count": 39,
   "metadata": {
    "ExecuteTime": {
     "end_time": "2020-03-07T07:12:50.912341Z",
     "start_time": "2020-03-07T07:12:50.879239Z"
    }
   },
   "outputs": [
    {
     "name": "stdout",
     "output_type": "stream",
     "text": [
      "\n",
      "  Tests of overidentifying restrictions:\n",
      "\n",
      "  Sargan (score) chi2(1) =  .127213  (p = 0.7213)\n",
      "  Basmann chi2(1)        =  .126721  (p = 0.7219)\n"
     ]
    }
   ],
   "source": [
    "* 检验工具变量是外生变量\n",
    "estat overid"
   ]
  },
  {
   "cell_type": "code",
   "execution_count": null,
   "metadata": {},
   "outputs": [],
   "source": []
  },
  {
   "cell_type": "code",
   "execution_count": null,
   "metadata": {},
   "outputs": [],
   "source": []
  },
  {
   "cell_type": "code",
   "execution_count": null,
   "metadata": {},
   "outputs": [],
   "source": []
  },
  {
   "cell_type": "code",
   "execution_count": null,
   "metadata": {},
   "outputs": [],
   "source": []
  },
  {
   "cell_type": "code",
   "execution_count": null,
   "metadata": {},
   "outputs": [],
   "source": []
  },
  {
   "cell_type": "code",
   "execution_count": 11,
   "metadata": {
    "ExecuteTime": {
     "end_time": "2020-03-07T06:39:09.504184Z",
     "start_time": "2020-03-07T06:39:09.479129Z"
    }
   },
   "outputs": [],
   "source": [
    "*** Mastering 'Metrics\n",
    "*** Generates Table 3.3\n",
    "*** Minneapolis Domestic Violence Experiment\n",
    "*** Created by Jon Petkun (jbpetkun@mit.edu) on Feb 12, 2015\n",
    "\n",
    "\n",
    "version 12\n",
    "clear all\n",
    "\n",
    "use mdve.dta, clear"
   ]
  },
  {
   "cell_type": "code",
   "execution_count": 3,
   "metadata": {
    "ExecuteTime": {
     "end_time": "2020-03-07T06:31:45.782063Z",
     "start_time": "2020-03-07T06:31:45.761536Z"
    }
   },
   "outputs": [
    {
     "name": "stdout",
     "output_type": "stream",
     "text": [
      "/Users/datalab/bigdata/mastering_metrics_data\n"
     ]
    }
   ],
   "source": [
    "cd \"/Users/datalab/bigdata/mastering_metrics_data/\""
   ]
  },
  {
   "cell_type": "code",
   "execution_count": 6,
   "metadata": {
    "ExecuteTime": {
     "end_time": "2020-03-07T06:33:32.118357Z",
     "start_time": "2020-03-07T06:33:32.095133Z"
    }
   },
   "outputs": [],
   "source": [
    "* Generate action assignments (i.e. what are police assigned to do)\n",
    "gen z_arrest=(T_RANDOM == 1)\n",
    "gen z_advise=(T_RANDOM == 2)\n",
    "gen z_separate=(T_RANDOM == 3)\n"
   ]
  },
  {
   "cell_type": "code",
   "execution_count": 7,
   "metadata": {
    "ExecuteTime": {
     "end_time": "2020-03-07T06:33:50.718179Z",
     "start_time": "2020-03-07T06:33:50.683295Z"
    }
   },
   "outputs": [
    {
     "name": "stdout",
     "output_type": "stream",
     "text": [
      "\n",
      "\n",
      "\n",
      "\n",
      "\n",
      "\n",
      "\n",
      "(237 missing values generated)\n",
      "\n",
      "(110 real changes made)\n",
      "\n",
      "variable assigned was str6 now str8\n",
      "(127 real changes made)\n",
      "\n",
      "(194 missing values generated)\n",
      "\n",
      "(89 real changes made)\n",
      "\n",
      "variable outcome was str6 now str8\n",
      "(89 real changes made)\n",
      "\n",
      "(16 real changes made)\n",
      "\n"
     ]
    }
   ],
   "source": [
    "* Generate actual outcomes (i.e. what action do the police actually take)\n",
    "gen d_arrest=(T_FINAL == 1)\n",
    "gen d_advise=(T_FINAL == 2)\n",
    "gen d_separate=(T_FINAL == 3)\n",
    "gen d_other=(T_FINAL == 4)\n",
    "gen z_coddled=(z_arrest == 0)\n",
    "gen d_coddled=(d_arrest == 0)\n",
    "gen assigned = \"Arrest\" if T_RANDOM == 1\n",
    "replace assigned = \"Advise\" if T_RANDOM == 2\n",
    "replace assigned = \"Separate\" if T_RANDOM == 3\n",
    "gen outcome = \"Arrest\" if T_FINAL == 1\n",
    "replace outcome = \"Advise\" if T_FINAL == 2\n",
    "replace outcome = \"Separate\" if T_FINAL == 3\n",
    "replace outcome = \"Other\" if T_FINAL == 4\n",
    "gen total = 1"
   ]
  },
  {
   "cell_type": "code",
   "execution_count": 8,
   "metadata": {
    "ExecuteTime": {
     "end_time": "2020-03-07T06:34:01.471138Z",
     "start_time": "2020-03-07T06:34:01.450723Z"
    }
   },
   "outputs": [
    {
     "name": "stdout",
     "output_type": "stream",
     "text": [
      "(16 observations deleted)\n"
     ]
    }
   ],
   "source": [
    "* Drop if actual outcome is \"other\"\n",
    "keep if d_other == 0"
   ]
  },
  {
   "cell_type": "code",
   "execution_count": 9,
   "metadata": {
    "ExecuteTime": {
     "end_time": "2020-03-07T06:34:14.843477Z",
     "start_time": "2020-03-07T06:34:14.770878Z"
    }
   },
   "outputs": [
    {
     "name": "stdout",
     "output_type": "stream",
     "text": [
      "\n",
      "\n",
      "Summary statistics: sum mean\n",
      "     for variables: d_arrest d_advise d_separate total\n",
      "  by categories of: assigned\n",
      "\n",
      "    assigned |    e(sum)    e(mean) \n",
      "-------------+----------------------\n",
      "Advise       |                      \n",
      "    d_arrest |        19   .1759259 \n",
      "    d_advise |        84   .7777778 \n",
      "  d_separate |         5   .0462963 \n",
      "       total |       108          1 \n",
      "-------------+----------------------\n",
      "Arrest       |                      \n",
      "    d_arrest |        91   .9891304 \n",
      "    d_advise |         0          0 \n",
      "  d_separate |         1   .0108696 \n",
      "       total |        92          1 \n",
      "-------------+----------------------\n",
      "Separate     |                      \n",
      "    d_arrest |        26   .2280702 \n",
      "    d_advise |         5   .0438596 \n",
      "  d_separate |        83   .7280702 \n",
      "       total |       114          1 \n",
      "-------------+----------------------\n",
      "Total        |                      \n",
      "    d_arrest |       136    .433121 \n",
      "    d_advise |        89   .2834395 \n",
      "  d_separate |        89   .2834395 \n",
      "       total |       314          1 \n",
      "\n",
      "\n",
      "\n",
      "\n",
      "\n",
      "\n",
      "\n",
      "\n",
      "\n",
      "\n",
      "\n",
      "\n",
      "\n",
      "\n",
      "\n",
      "\n",
      "\n",
      "\n",
      "\n",
      "\n",
      "\n",
      "\n"
     ]
    }
   ],
   "source": [
    "* Tabulate assignments and outcomes\n",
    "estpost tabstat d_arrest d_advise d_separate total, by(assigned) listwise ///\n",
    "\tstatistics(sum  mean) columns(statistics)\n",
    "\t\n",
    "* Insert tabulations into matrix\t\n",
    "matrix S = e(sum)\n",
    "matrix T = J(4,8,.)\n",
    "mat T[1,2] = S[1,5]\n",
    "mat T[1,4] = S[1,6]\n",
    "mat T[1,6] = S[1,7]\n",
    "mat T[2,2] = S[1,1]\n",
    "mat T[2,4] = S[1,2]\n",
    "mat T[2,6] = S[1,3]\n",
    "mat T[3,2] = S[1,9]\n",
    "mat T[3,4] = S[1,10]\n",
    "mat T[3,6] = S[1,11]\n",
    "mat T[1,8] = T[1,2]+T[1,4]+T[1,6]\n",
    "mat T[2,8] = T[2,2]+T[2,4]+T[2,6]\n",
    "mat T[3,8] = T[3,2]+T[3,4]+T[3,6]\n",
    "mat T[4,2] = T[1,2]+T[2,2]+T[3,2]\n",
    "mat T[4,4] = T[1,4]+T[2,4]+T[3,4]\n",
    "mat T[4,6] = T[1,6]+T[2,6]+T[3,6]\n",
    "mat T[4,8] = T[1,8]+T[2,8]+T[3,8]\n",
    "* Generate percentage values\n",
    "forval i = 1/4 {\n",
    "forval j = 1/3 {\n",
    "local k = `j'*2\n",
    "local r = `k' - 1\n",
    "mat T[`i',`r'] = 100*T[`i',`k']/T[`i',8]\n",
    "}\n",
    "mat T[`i',7] = 100*T[`i',8]/T[4,8]\n",
    "}\n",
    "* Row and column labels\n",
    "matrix rownames T = Arrest Advise Separate Total\n",
    "matrix colnames T = Arrest Arrest Advise Advise Separate Separate Total Total\n",
    "\n",
    "mat2txt, matrix(T) saving(\"Table33.xls\") replace\n"
   ]
  },
  {
   "cell_type": "code",
   "execution_count": null,
   "metadata": {},
   "outputs": [],
   "source": []
  }
 ],
 "metadata": {
  "kernelspec": {
   "display_name": "Stata",
   "language": "stata",
   "name": "stata"
  },
  "language_info": {
   "codemirror_mode": "stata",
   "file_extension": ".do",
   "mimetype": "text/x-stata",
   "name": "stata",
   "version": "15.1"
  },
  "latex_envs": {
   "LaTeX_envs_menu_present": true,
   "autoclose": false,
   "autocomplete": true,
   "bibliofile": "biblio.bib",
   "cite_by": "apalike",
   "current_citInitial": 1,
   "eqLabelWithNumbers": true,
   "eqNumInitial": 1,
   "hotkeys": {
    "equation": "Ctrl-E",
    "itemize": "Ctrl-I"
   },
   "labels_anchors": false,
   "latex_user_defs": false,
   "report_style_numbering": false,
   "user_envs_cfg": false
  },
  "toc": {
   "base_numbering": 1,
   "nav_menu": {},
   "number_sections": false,
   "sideBar": true,
   "skip_h1_title": false,
   "title_cell": "Table of Contents",
   "title_sidebar": "Contents",
   "toc_cell": false,
   "toc_position": {},
   "toc_section_display": true,
   "toc_window_display": false
  }
 },
 "nbformat": 4,
 "nbformat_minor": 2
}
