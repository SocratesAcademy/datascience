{
 "cells": [
  {
   "cell_type": "markdown",
   "metadata": {
    "slideshow": {
     "slide_type": "slide"
    }
   },
   "source": [
    "## 导入数据\n",
    "\n",
    "陈强编著《计量经济学及Stata应用》第二章Stata入门"
   ]
  },
  {
   "cell_type": "code",
   "execution_count": 1,
   "metadata": {
    "ExecuteTime": {
     "end_time": "2020-03-10T10:46:21.482757Z",
     "start_time": "2020-03-10T10:46:21.461291Z"
    },
    "slideshow": {
     "slide_type": "fragment"
    }
   },
   "outputs": [
    {
     "name": "stdout",
     "output_type": "stream",
     "text": [
      "/Users/datalab/bigdata/mastering_metrics_data/statabook1\n"
     ]
    }
   ],
   "source": [
    "cd \"/Users/datalab/bigdata/mastering_metrics_data/statabook1/\""
   ]
  },
  {
   "cell_type": "code",
   "execution_count": 3,
   "metadata": {
    "ExecuteTime": {
     "end_time": "2020-03-10T10:46:41.251078Z",
     "start_time": "2020-03-10T10:46:41.228082Z"
    },
    "slideshow": {
     "slide_type": "fragment"
    }
   },
   "outputs": [],
   "source": [
    "use grilic_small.dta, clear"
   ]
  },
  {
   "cell_type": "markdown",
   "metadata": {
    "slideshow": {
     "slide_type": "slide"
    }
   },
   "source": [
    "## 描述数据"
   ]
  },
  {
   "cell_type": "code",
   "execution_count": 4,
   "metadata": {
    "ExecuteTime": {
     "end_time": "2020-03-10T10:46:59.245399Z",
     "start_time": "2020-03-10T10:46:59.220364Z"
    }
   },
   "outputs": [
    {
     "name": "stdout",
     "output_type": "stream",
     "text": [
      "\n",
      "Contains data from grilic_small.dta\n",
      "  obs:            30                          \n",
      " vars:             3                          12 Mar 2015 20:29\n",
      " size:           270                          \n",
      "--------------------------------------------------------------------------------\n",
      "              storage   display    value\n",
      "variable name   type    format     label      variable label\n",
      "--------------------------------------------------------------------------------\n",
      "s               byte    %8.0g                 schooling\n",
      "expr            float   %9.0g                 experience\n",
      "lnw             float   %9.0g                 ln(wage)\n",
      "--------------------------------------------------------------------------------\n",
      "Sorted by: \n"
     ]
    }
   ],
   "source": [
    "*describe\n",
    "d"
   ]
  },
  {
   "cell_type": "code",
   "execution_count": 5,
   "metadata": {
    "ExecuteTime": {
     "end_time": "2020-03-10T10:47:35.311581Z",
     "start_time": "2020-03-10T10:47:35.277197Z"
    }
   },
   "outputs": [
    {
     "name": "stdout",
     "output_type": "stream",
     "text": [
      "\n",
      "     +------------+\n",
      "     |  s     lnw |\n",
      "     |------------|\n",
      "  1. | 18   6.215 |\n",
      "  2. | 11   4.868 |\n",
      "  3. | 16   6.315 |\n",
      "  4. | 16   6.109 |\n",
      "  5. | 12   5.964 |\n",
      "     |------------|\n",
      "  6. | 12   5.481 |\n",
      "  7. | 12   5.823 |\n",
      "  8. | 16   5.841 |\n",
      "  9. | 16   6.068 |\n",
      " 10. | 12   5.416 |\n",
      "     |------------|\n",
      " 11. | 11   5.704 |\n",
      " 12. | 12   5.493 |\n",
      " 13. | 16   5.979 |\n",
      " 14. | 12   6.356 |\n",
      " 15. | 12    6.12 |\n",
      "     |------------|\n",
      " 16. | 16   6.176 |\n",
      " 17. | 12   6.082 |\n",
      " 18. | 15   5.849 |\n",
      " 19. | 12   5.481 |\n",
      " 20. | 16   6.136 |\n",
      "     |------------|\n",
      " 21. | 14   5.652 |\n",
      " 22. | 12   5.142 |\n",
      " 23. | 16   5.501 |\n",
      " 24. | 11   5.778 |\n",
      " 25. | 15   5.652 |\n",
      "     |------------|\n",
      " 26. | 15   5.759 |\n",
      " 27. | 16   6.071 |\n",
      " 28. | 12   5.529 |\n",
      " 29. | 12   5.165 |\n",
      " 30. | 16   6.071 |\n",
      "     +------------+\n"
     ]
    }
   ],
   "source": [
    "*list\n",
    "l s lnw"
   ]
  },
  {
   "cell_type": "code",
   "execution_count": 6,
   "metadata": {
    "ExecuteTime": {
     "end_time": "2020-03-10T10:47:55.245415Z",
     "start_time": "2020-03-10T10:47:55.223642Z"
    }
   },
   "outputs": [],
   "source": [
    "set more on\n",
    "*set more off"
   ]
  },
  {
   "cell_type": "code",
   "execution_count": 7,
   "metadata": {
    "ExecuteTime": {
     "end_time": "2020-03-10T10:48:10.461879Z",
     "start_time": "2020-03-10T10:48:10.440434Z"
    }
   },
   "outputs": [
    {
     "name": "stdout",
     "output_type": "stream",
     "text": [
      "\n",
      "     +------------+\n",
      "     |  s     lnw |\n",
      "     |------------|\n",
      "  1. | 18   6.215 |\n",
      "  2. | 11   4.868 |\n",
      "  3. | 16   6.315 |\n",
      "  4. | 16   6.109 |\n",
      "  5. | 12   5.964 |\n",
      "     +------------+\n"
     ]
    }
   ],
   "source": [
    "l s lnw in 1/5"
   ]
  },
  {
   "cell_type": "code",
   "execution_count": 8,
   "metadata": {
    "ExecuteTime": {
     "end_time": "2020-03-10T10:48:23.901632Z",
     "start_time": "2020-03-10T10:48:23.880205Z"
    }
   },
   "outputs": [
    {
     "name": "stdout",
     "output_type": "stream",
     "text": [
      "\n",
      "     +------------+\n",
      "     |  s     lnw |\n",
      "     |------------|\n",
      " 11. | 11   5.704 |\n",
      " 12. | 12   5.493 |\n",
      " 13. | 16   5.979 |\n",
      " 14. | 12   6.356 |\n",
      " 15. | 12    6.12 |\n",
      "     +------------+\n"
     ]
    }
   ],
   "source": [
    "l s lnw in 11/15"
   ]
  },
  {
   "cell_type": "code",
   "execution_count": 10,
   "metadata": {
    "ExecuteTime": {
     "end_time": "2020-03-10T10:48:44.935492Z",
     "start_time": "2020-03-10T10:48:44.909971Z"
    }
   },
   "outputs": [
    {
     "name": "stdout",
     "output_type": "stream",
     "text": [
      "\n",
      "     +------------+\n",
      "     |  s     lnw |\n",
      "     |------------|\n",
      "  1. | 18   6.215 |\n",
      "  3. | 16   6.315 |\n",
      "  4. | 16   6.109 |\n",
      "  8. | 16   5.841 |\n",
      "  9. | 16   6.068 |\n",
      "     |------------|\n",
      " 13. | 16   5.979 |\n",
      " 16. | 16   6.176 |\n",
      " 20. | 16   6.136 |\n",
      " 23. | 16   5.501 |\n",
      " 27. | 16   6.071 |\n",
      "     |------------|\n",
      " 30. | 16   6.071 |\n",
      "     +------------+\n"
     ]
    }
   ],
   "source": [
    "l s lnw if s >= 16"
   ]
  },
  {
   "cell_type": "code",
   "execution_count": 11,
   "metadata": {
    "ExecuteTime": {
     "end_time": "2020-03-10T10:49:38.185061Z",
     "start_time": "2020-03-10T10:49:38.163690Z"
    }
   },
   "outputs": [],
   "source": [
    "*drop if s >=16\n",
    "*keep if s >=16\n",
    "*be cautious to use drop and keep"
   ]
  },
  {
   "cell_type": "code",
   "execution_count": 12,
   "metadata": {
    "ExecuteTime": {
     "end_time": "2020-03-10T10:49:46.865637Z",
     "start_time": "2020-03-10T10:49:46.834741Z"
    }
   },
   "outputs": [
    {
     "name": "stdout",
     "output_type": "stream",
     "text": [
      "\n",
      "\n",
      "\n",
      "     +---------------------+\n",
      "     |  s     expr     lnw |\n",
      "     |---------------------|\n",
      "  1. | 11        1   4.868 |\n",
      "  2. | 11    1.006   5.778 |\n",
      "  3. | 11    2.962   5.704 |\n",
      "  4. | 12        0   5.493 |\n",
      "  5. | 12     .692   5.481 |\n",
      "     |---------------------|\n",
      "  6. | 12        0   6.082 |\n",
      "  7. | 12    7.128   6.356 |\n",
      "  8. | 12    4.333   5.481 |\n",
      "  9. | 12        0   5.142 |\n",
      " 10. | 12        0   5.529 |\n",
      "     |---------------------|\n",
      " 11. | 12   10.077    6.12 |\n",
      " 12. | 12    1.191   5.964 |\n",
      " 13. | 12        0   5.165 |\n",
      " 14. | 12     .916   5.416 |\n",
      " 15. | 12        0   5.823 |\n",
      "     |---------------------|\n",
      " 16. | 14    1.378   5.652 |\n",
      " 17. | 15     .255   5.652 |\n",
      " 18. | 15     .846   5.759 |\n",
      " 19. | 15    1.374   5.849 |\n",
      " 20. | 16        0   6.109 |\n",
      "     |---------------------|\n",
      " 21. | 16        0   6.068 |\n",
      " 22. | 16     .277   6.071 |\n",
      " 23. | 16     .478   6.176 |\n",
      " 24. | 16     .556   5.979 |\n",
      " 25. | 16    1.872   5.841 |\n",
      "     |---------------------|\n",
      " 26. | 16    1.511   6.071 |\n",
      " 27. | 16    6.363   5.501 |\n",
      " 28. | 16     .798   6.315 |\n",
      " 29. | 16    4.363   6.136 |\n",
      " 30. | 18     .384   6.215 |\n",
      "     +---------------------+\n"
     ]
    }
   ],
   "source": [
    "sort s\n",
    "l"
   ]
  },
  {
   "cell_type": "code",
   "execution_count": 13,
   "metadata": {
    "ExecuteTime": {
     "end_time": "2020-03-10T10:50:04.227958Z",
     "start_time": "2020-03-10T10:50:04.195473Z"
    }
   },
   "outputs": [
    {
     "name": "stdout",
     "output_type": "stream",
     "text": [
      "\n",
      "\n",
      "\n",
      "     +---------------------+\n",
      "     |  s     expr     lnw |\n",
      "     |---------------------|\n",
      "  1. | 18     .384   6.215 |\n",
      "  2. | 16    4.363   6.136 |\n",
      "  3. | 16     .798   6.315 |\n",
      "  4. | 16    6.363   5.501 |\n",
      "  5. | 16    1.511   6.071 |\n",
      "     |---------------------|\n",
      "  6. | 16    1.872   5.841 |\n",
      "  7. | 16     .556   5.979 |\n",
      "  8. | 16     .478   6.176 |\n",
      "  9. | 16     .277   6.071 |\n",
      " 10. | 16        0   6.068 |\n",
      "     |---------------------|\n",
      " 11. | 16        0   6.109 |\n",
      " 12. | 15    1.374   5.849 |\n",
      " 13. | 15     .846   5.759 |\n",
      " 14. | 15     .255   5.652 |\n",
      " 15. | 14    1.378   5.652 |\n",
      "     |---------------------|\n",
      " 16. | 12        0   5.823 |\n",
      " 17. | 12     .916   5.416 |\n",
      " 18. | 12        0   5.165 |\n",
      " 19. | 12    1.191   5.964 |\n",
      " 20. | 12   10.077    6.12 |\n",
      "     |---------------------|\n",
      " 21. | 12        0   5.529 |\n",
      " 22. | 12        0   5.142 |\n",
      " 23. | 12    4.333   5.481 |\n",
      " 24. | 12    7.128   6.356 |\n",
      " 25. | 12        0   6.082 |\n",
      "     |---------------------|\n",
      " 26. | 12     .692   5.481 |\n",
      " 27. | 12        0   5.493 |\n",
      " 28. | 11    2.962   5.704 |\n",
      " 29. | 11    1.006   5.778 |\n",
      " 30. | 11        1   4.868 |\n",
      "     +---------------------+\n"
     ]
    }
   ],
   "source": [
    "gsort -s\n",
    "l"
   ]
  },
  {
   "cell_type": "markdown",
   "metadata": {},
   "source": [
    "## 画图"
   ]
  },
  {
   "cell_type": "code",
   "execution_count": 14,
   "metadata": {
    "ExecuteTime": {
     "end_time": "2020-03-10T10:51:48.093717Z",
     "start_time": "2020-03-10T10:51:47.229537Z"
    }
   },
   "outputs": [
    {
     "name": "stdout",
     "output_type": "stream",
     "text": [
      "(bin=7, start=11, width=1)\n"
     ]
    },
    {
     "data": {
      "application/pdf": "[encoded data removed]",
      "image/svg+xml": [
       "<?xml version=\"1.0\" encoding=\"UTF-8\" standalone=\"no\"?>\n",
       "<!-- This is a Stata 15.1 generated SVG file (http://www.stata.com) -->\n",
       "\n",
       "<svg version=\"1.1\" width=\"600px\" height=\"436px\" viewBox=\"0 0 3960 2880\" xmlns=\"http://www.w3.org/2000/svg\" xmlns:xlink=\"http://www.w3.org/1999/xlink\">\n",
       "\t<desc>Stata Graph - Graph</desc>\n",
       "\t<rect x=\"0\" y=\"0\" width=\"3960\" height=\"2880\" style=\"fill:#EAF2F3;stroke:none\"/>\n",
       "\t<rect x=\"0.00\" y=\"0.00\" width=\"3959.88\" height=\"2880.00\" style=\"fill:#EAF2F3\"/>\n",
       "\t<rect x=\"2.88\" y=\"2.88\" width=\"3954.12\" height=\"2874.24\" style=\"fill:none;stroke:#EAF2F3;stroke-width:5.76\"/>\n",
       "\t<rect x=\"390.80\" y=\"100.86\" width=\"3468.22\" height=\"2388.33\" style=\"fill:#FFFFFF\"/>\n",
       "\t<rect x=\"393.68\" y=\"103.74\" width=\"3462.46\" height=\"2382.57\" style=\"fill:none;stroke:#FFFFFF;stroke-width:5.76\"/>\n",
       "\t<line x1=\"390.80\" y1=\"2489.19\" x2=\"3859.02\" y2=\"2489.19\" style=\"stroke:#EAF2F3;stroke-width:8.64\"/>\n",
       "\t<line x1=\"390.80\" y1=\"1714.24\" x2=\"3859.02\" y2=\"1714.24\" style=\"stroke:#EAF2F3;stroke-width:8.64\"/>\n",
       "\t<line x1=\"390.80\" y1=\"939.17\" x2=\"3859.02\" y2=\"939.17\" style=\"stroke:#EAF2F3;stroke-width:8.64\"/>\n",
       "\t<rect x=\"871.82\" y=\"2024.24\" width=\"417.66\" height=\"464.94\" style=\"fill:#CAC27E\"/>\n",
       "\t<rect x=\"876.14\" y=\"2028.56\" width=\"409.02\" height=\"456.30\" style=\"fill:none;stroke:#D7D29E;stroke-width:8.64\"/>\n",
       "\t<rect x=\"1289.47\" y=\"629.16\" width=\"417.78\" height=\"1860.02\" style=\"fill:#CAC27E\"/>\n",
       "\t<rect x=\"1293.79\" y=\"633.48\" width=\"409.14\" height=\"1851.38\" style=\"fill:none;stroke:#D7D29E;stroke-width:8.64\"/>\n",
       "\t<rect x=\"2124.91\" y=\"2334.25\" width=\"417.66\" height=\"154.94\" style=\"fill:#CAC27E\"/>\n",
       "\t<rect x=\"2129.23\" y=\"2338.57\" width=\"409.02\" height=\"146.30\" style=\"fill:none;stroke:#D7D29E;stroke-width:8.64\"/>\n",
       "\t<rect x=\"2542.57\" y=\"2024.24\" width=\"417.78\" height=\"464.94\" style=\"fill:#CAC27E\"/>\n",
       "\t<rect x=\"2546.89\" y=\"2028.56\" width=\"409.14\" height=\"456.30\" style=\"fill:none;stroke:#D7D29E;stroke-width:8.64\"/>\n",
       "\t<rect x=\"2960.35\" y=\"939.17\" width=\"417.66\" height=\"1550.02\" style=\"fill:#CAC27E\"/>\n",
       "\t<rect x=\"2964.67\" y=\"943.49\" width=\"409.02\" height=\"1541.38\" style=\"fill:none;stroke:#D7D29E;stroke-width:8.64\"/>\n",
       "\t<rect x=\"3378.00\" y=\"2334.25\" width=\"417.66\" height=\"154.94\" style=\"fill:#CAC27E\"/>\n",
       "\t<rect x=\"3382.32\" y=\"2338.57\" width=\"409.02\" height=\"146.30\" style=\"fill:none;stroke:#D7D29E;stroke-width:8.64\"/>\n",
       "\t<line x1=\"390.80\" y1=\"2489.19\" x2=\"390.80\" y2=\"100.86\" style=\"stroke:#000000;stroke-width:5.76\"/>\n",
       "\t<line x1=\"390.80\" y1=\"2489.19\" x2=\"350.83\" y2=\"2489.19\" style=\"stroke:#000000;stroke-width:5.76\"/>\n",
       "\t<text x=\"300.72\" y=\"2489.19\" style=\"font-family:'Helvetica';font-size:99.99px;fill:#000000\" transform=\"rotate(-90 300.72,2489.19)\" text-anchor=\"middle\">0</text>\n",
       "\t<line x1=\"390.80\" y1=\"1714.24\" x2=\"350.83\" y2=\"1714.24\" style=\"stroke:#000000;stroke-width:5.76\"/>\n",
       "\t<text x=\"300.72\" y=\"1714.24\" style=\"font-family:'Helvetica';font-size:99.99px;fill:#000000\" transform=\"rotate(-90 300.72,1714.24)\" text-anchor=\"middle\">5</text>\n",
       "\t<line x1=\"390.80\" y1=\"939.17\" x2=\"350.83\" y2=\"939.17\" style=\"stroke:#000000;stroke-width:5.76\"/>\n",
       "\t<text x=\"300.72\" y=\"939.17\" style=\"font-family:'Helvetica';font-size:99.99px;fill:#000000\" transform=\"rotate(-90 300.72,939.17)\" text-anchor=\"middle\">10</text>\n",
       "\t<line x1=\"390.80\" y1=\"164.22\" x2=\"350.83\" y2=\"164.22\" style=\"stroke:#000000;stroke-width:5.76\"/>\n",
       "\t<text x=\"300.72\" y=\"164.22\" style=\"font-family:'Helvetica';font-size:99.99px;fill:#000000\" transform=\"rotate(-90 300.72,164.22)\" text-anchor=\"middle\">15</text>\n",
       "\t<text x=\"190.71\" y=\"1294.96\" style=\"font-family:'Helvetica';font-size:99.99px;fill:#000000\" transform=\"rotate(-90 190.71,1294.96)\" text-anchor=\"middle\">Frequency</text>\n",
       "\t<line x1=\"390.80\" y1=\"2489.19\" x2=\"3859.02\" y2=\"2489.19\" style=\"stroke:#000000;stroke-width:5.76\"/>\n",
       "\t<line x1=\"454.16\" y1=\"2489.19\" x2=\"454.16\" y2=\"2529.16\" style=\"stroke:#000000;stroke-width:5.76\"/>\n",
       "\t<text x=\"454.16\" y=\"2619.14\" style=\"font-family:'Helvetica';font-size:99.99px;fill:#000000\" text-anchor=\"middle\">10</text>\n",
       "\t<line x1=\"1289.47\" y1=\"2489.19\" x2=\"1289.47\" y2=\"2529.16\" style=\"stroke:#000000;stroke-width:5.76\"/>\n",
       "\t<text x=\"1289.47\" y=\"2619.14\" style=\"font-family:'Helvetica';font-size:99.99px;fill:#000000\" text-anchor=\"middle\">12</text>\n",
       "\t<line x1=\"2124.91\" y1=\"2489.19\" x2=\"2124.91\" y2=\"2529.16\" style=\"stroke:#000000;stroke-width:5.76\"/>\n",
       "\t<text x=\"2124.91\" y=\"2619.14\" style=\"font-family:'Helvetica';font-size:99.99px;fill:#000000\" text-anchor=\"middle\">14</text>\n",
       "\t<line x1=\"2960.35\" y1=\"2489.19\" x2=\"2960.35\" y2=\"2529.16\" style=\"stroke:#000000;stroke-width:5.76\"/>\n",
       "\t<text x=\"2960.35\" y=\"2619.14\" style=\"font-family:'Helvetica';font-size:99.99px;fill:#000000\" text-anchor=\"middle\">16</text>\n",
       "\t<line x1=\"3795.66\" y1=\"2489.19\" x2=\"3795.66\" y2=\"2529.16\" style=\"stroke:#000000;stroke-width:5.76\"/>\n",
       "\t<text x=\"3795.66\" y=\"2619.14\" style=\"font-family:'Helvetica';font-size:99.99px;fill:#000000\" text-anchor=\"middle\">18</text>\n",
       "\t<text x=\"2124.91\" y=\"2729.16\" style=\"font-family:'Helvetica';font-size:99.99px;fill:#000000\" text-anchor=\"middle\">schooling</text>\n",
       "</svg>\n"
      ],
      "text/html": [
       "                <iframe frameborder=\"0\" scrolling=\"no\" height=\"436\" width=\"600\"                srcdoc=\"<html><body>&lt;?xml version=&quot;1.0&quot; encoding=&quot;UTF-8&quot; standalone=&quot;no&quot;?&gt;\n",
       "&lt;!-- This is a Stata 15.1 generated SVG file (http://www.stata.com) --&gt;\n",
       "\n",
       "&lt;svg version=&quot;1.1&quot; width=&quot;600px&quot; height=&quot;436px&quot; viewBox=&quot;0 0 3960 2880&quot; xmlns=&quot;http://www.w3.org/2000/svg&quot; xmlns:xlink=&quot;http://www.w3.org/1999/xlink&quot;&gt;\n",
       "\t&lt;desc&gt;Stata Graph - Graph&lt;/desc&gt;\n",
       "\t&lt;rect x=&quot;0&quot; y=&quot;0&quot; width=&quot;3960&quot; height=&quot;2880&quot; style=&quot;fill:#EAF2F3;stroke:none&quot;/&gt;\n",
       "\t&lt;rect x=&quot;0.00&quot; y=&quot;0.00&quot; width=&quot;3959.88&quot; height=&quot;2880.00&quot; style=&quot;fill:#EAF2F3&quot;/&gt;\n",
       "\t&lt;rect x=&quot;2.88&quot; y=&quot;2.88&quot; width=&quot;3954.12&quot; height=&quot;2874.24&quot; style=&quot;fill:none;stroke:#EAF2F3;stroke-width:5.76&quot;/&gt;\n",
       "\t&lt;rect x=&quot;390.80&quot; y=&quot;100.86&quot; width=&quot;3468.22&quot; height=&quot;2388.33&quot; style=&quot;fill:#FFFFFF&quot;/&gt;\n",
       "\t&lt;rect x=&quot;393.68&quot; y=&quot;103.74&quot; width=&quot;3462.46&quot; height=&quot;2382.57&quot; style=&quot;fill:none;stroke:#FFFFFF;stroke-width:5.76&quot;/&gt;\n",
       "\t&lt;line x1=&quot;390.80&quot; y1=&quot;2489.19&quot; x2=&quot;3859.02&quot; y2=&quot;2489.19&quot; style=&quot;stroke:#EAF2F3;stroke-width:8.64&quot;/&gt;\n",
       "\t&lt;line x1=&quot;390.80&quot; y1=&quot;1714.24&quot; x2=&quot;3859.02&quot; y2=&quot;1714.24&quot; style=&quot;stroke:#EAF2F3;stroke-width:8.64&quot;/&gt;\n",
       "\t&lt;line x1=&quot;390.80&quot; y1=&quot;939.17&quot; x2=&quot;3859.02&quot; y2=&quot;939.17&quot; style=&quot;stroke:#EAF2F3;stroke-width:8.64&quot;/&gt;\n",
       "\t&lt;rect x=&quot;871.82&quot; y=&quot;2024.24&quot; width=&quot;417.66&quot; height=&quot;464.94&quot; style=&quot;fill:#CAC27E&quot;/&gt;\n",
       "\t&lt;rect x=&quot;876.14&quot; y=&quot;2028.56&quot; width=&quot;409.02&quot; height=&quot;456.30&quot; style=&quot;fill:none;stroke:#D7D29E;stroke-width:8.64&quot;/&gt;\n",
       "\t&lt;rect x=&quot;1289.47&quot; y=&quot;629.16&quot; width=&quot;417.78&quot; height=&quot;1860.02&quot; style=&quot;fill:#CAC27E&quot;/&gt;\n",
       "\t&lt;rect x=&quot;1293.79&quot; y=&quot;633.48&quot; width=&quot;409.14&quot; height=&quot;1851.38&quot; style=&quot;fill:none;stroke:#D7D29E;stroke-width:8.64&quot;/&gt;\n",
       "\t&lt;rect x=&quot;2124.91&quot; y=&quot;2334.25&quot; width=&quot;417.66&quot; height=&quot;154.94&quot; style=&quot;fill:#CAC27E&quot;/&gt;\n",
       "\t&lt;rect x=&quot;2129.23&quot; y=&quot;2338.57&quot; width=&quot;409.02&quot; height=&quot;146.30&quot; style=&quot;fill:none;stroke:#D7D29E;stroke-width:8.64&quot;/&gt;\n",
       "\t&lt;rect x=&quot;2542.57&quot; y=&quot;2024.24&quot; width=&quot;417.78&quot; height=&quot;464.94&quot; style=&quot;fill:#CAC27E&quot;/&gt;\n",
       "\t&lt;rect x=&quot;2546.89&quot; y=&quot;2028.56&quot; width=&quot;409.14&quot; height=&quot;456.30&quot; style=&quot;fill:none;stroke:#D7D29E;stroke-width:8.64&quot;/&gt;\n",
       "\t&lt;rect x=&quot;2960.35&quot; y=&quot;939.17&quot; width=&quot;417.66&quot; height=&quot;1550.02&quot; style=&quot;fill:#CAC27E&quot;/&gt;\n",
       "\t&lt;rect x=&quot;2964.67&quot; y=&quot;943.49&quot; width=&quot;409.02&quot; height=&quot;1541.38&quot; style=&quot;fill:none;stroke:#D7D29E;stroke-width:8.64&quot;/&gt;\n",
       "\t&lt;rect x=&quot;3378.00&quot; y=&quot;2334.25&quot; width=&quot;417.66&quot; height=&quot;154.94&quot; style=&quot;fill:#CAC27E&quot;/&gt;\n",
       "\t&lt;rect x=&quot;3382.32&quot; y=&quot;2338.57&quot; width=&quot;409.02&quot; height=&quot;146.30&quot; style=&quot;fill:none;stroke:#D7D29E;stroke-width:8.64&quot;/&gt;\n",
       "\t&lt;line x1=&quot;390.80&quot; y1=&quot;2489.19&quot; x2=&quot;390.80&quot; y2=&quot;100.86&quot; style=&quot;stroke:#000000;stroke-width:5.76&quot;/&gt;\n",
       "\t&lt;line x1=&quot;390.80&quot; y1=&quot;2489.19&quot; x2=&quot;350.83&quot; y2=&quot;2489.19&quot; style=&quot;stroke:#000000;stroke-width:5.76&quot;/&gt;\n",
       "\t&lt;text x=&quot;300.72&quot; y=&quot;2489.19&quot; style=&quot;font-family:&#x27;Helvetica&#x27;;font-size:99.99px;fill:#000000&quot; transform=&quot;rotate(-90 300.72,2489.19)&quot; text-anchor=&quot;middle&quot;&gt;0&lt;/text&gt;\n",
       "\t&lt;line x1=&quot;390.80&quot; y1=&quot;1714.24&quot; x2=&quot;350.83&quot; y2=&quot;1714.24&quot; style=&quot;stroke:#000000;stroke-width:5.76&quot;/&gt;\n",
       "\t&lt;text x=&quot;300.72&quot; y=&quot;1714.24&quot; style=&quot;font-family:&#x27;Helvetica&#x27;;font-size:99.99px;fill:#000000&quot; transform=&quot;rotate(-90 300.72,1714.24)&quot; text-anchor=&quot;middle&quot;&gt;5&lt;/text&gt;\n",
       "\t&lt;line x1=&quot;390.80&quot; y1=&quot;939.17&quot; x2=&quot;350.83&quot; y2=&quot;939.17&quot; style=&quot;stroke:#000000;stroke-width:5.76&quot;/&gt;\n",
       "\t&lt;text x=&quot;300.72&quot; y=&quot;939.17&quot; style=&quot;font-family:&#x27;Helvetica&#x27;;font-size:99.99px;fill:#000000&quot; transform=&quot;rotate(-90 300.72,939.17)&quot; text-anchor=&quot;middle&quot;&gt;10&lt;/text&gt;\n",
       "\t&lt;line x1=&quot;390.80&quot; y1=&quot;164.22&quot; x2=&quot;350.83&quot; y2=&quot;164.22&quot; style=&quot;stroke:#000000;stroke-width:5.76&quot;/&gt;\n",
       "\t&lt;text x=&quot;300.72&quot; y=&quot;164.22&quot; style=&quot;font-family:&#x27;Helvetica&#x27;;font-size:99.99px;fill:#000000&quot; transform=&quot;rotate(-90 300.72,164.22)&quot; text-anchor=&quot;middle&quot;&gt;15&lt;/text&gt;\n",
       "\t&lt;text x=&quot;190.71&quot; y=&quot;1294.96&quot; style=&quot;font-family:&#x27;Helvetica&#x27;;font-size:99.99px;fill:#000000&quot; transform=&quot;rotate(-90 190.71,1294.96)&quot; text-anchor=&quot;middle&quot;&gt;Frequency&lt;/text&gt;\n",
       "\t&lt;line x1=&quot;390.80&quot; y1=&quot;2489.19&quot; x2=&quot;3859.02&quot; y2=&quot;2489.19&quot; style=&quot;stroke:#000000;stroke-width:5.76&quot;/&gt;\n",
       "\t&lt;line x1=&quot;454.16&quot; y1=&quot;2489.19&quot; x2=&quot;454.16&quot; y2=&quot;2529.16&quot; style=&quot;stroke:#000000;stroke-width:5.76&quot;/&gt;\n",
       "\t&lt;text x=&quot;454.16&quot; y=&quot;2619.14&quot; style=&quot;font-family:&#x27;Helvetica&#x27;;font-size:99.99px;fill:#000000&quot; text-anchor=&quot;middle&quot;&gt;10&lt;/text&gt;\n",
       "\t&lt;line x1=&quot;1289.47&quot; y1=&quot;2489.19&quot; x2=&quot;1289.47&quot; y2=&quot;2529.16&quot; style=&quot;stroke:#000000;stroke-width:5.76&quot;/&gt;\n",
       "\t&lt;text x=&quot;1289.47&quot; y=&quot;2619.14&quot; style=&quot;font-family:&#x27;Helvetica&#x27;;font-size:99.99px;fill:#000000&quot; text-anchor=&quot;middle&quot;&gt;12&lt;/text&gt;\n",
       "\t&lt;line x1=&quot;2124.91&quot; y1=&quot;2489.19&quot; x2=&quot;2124.91&quot; y2=&quot;2529.16&quot; style=&quot;stroke:#000000;stroke-width:5.76&quot;/&gt;\n",
       "\t&lt;text x=&quot;2124.91&quot; y=&quot;2619.14&quot; style=&quot;font-family:&#x27;Helvetica&#x27;;font-size:99.99px;fill:#000000&quot; text-anchor=&quot;middle&quot;&gt;14&lt;/text&gt;\n",
       "\t&lt;line x1=&quot;2960.35&quot; y1=&quot;2489.19&quot; x2=&quot;2960.35&quot; y2=&quot;2529.16&quot; style=&quot;stroke:#000000;stroke-width:5.76&quot;/&gt;\n",
       "\t&lt;text x=&quot;2960.35&quot; y=&quot;2619.14&quot; style=&quot;font-family:&#x27;Helvetica&#x27;;font-size:99.99px;fill:#000000&quot; text-anchor=&quot;middle&quot;&gt;16&lt;/text&gt;\n",
       "\t&lt;line x1=&quot;3795.66&quot; y1=&quot;2489.19&quot; x2=&quot;3795.66&quot; y2=&quot;2529.16&quot; style=&quot;stroke:#000000;stroke-width:5.76&quot;/&gt;\n",
       "\t&lt;text x=&quot;3795.66&quot; y=&quot;2619.14&quot; style=&quot;font-family:&#x27;Helvetica&#x27;;font-size:99.99px;fill:#000000&quot; text-anchor=&quot;middle&quot;&gt;18&lt;/text&gt;\n",
       "\t&lt;text x=&quot;2124.91&quot; y=&quot;2729.16&quot; style=&quot;font-family:&#x27;Helvetica&#x27;;font-size:99.99px;fill:#000000&quot; text-anchor=&quot;middle&quot;&gt;schooling&lt;/text&gt;\n",
       "&lt;/svg&gt;\n",
       "</body></html>\"></iframe>\n"
      ],
      "text/plain": [
       "This front-end cannot display the desired image type."
      ]
     },
     "metadata": {
      "image/svg+xml": {
       "height": 436,
       "width": 600
      },
      "text/html": {
       "height": 436,
       "width": 600
      }
     },
     "output_type": "display_data"
    },
    {
     "name": "stdout",
     "output_type": "stream",
     "text": [
      "\n"
     ]
    }
   ],
   "source": [
    "*histgram\n",
    "hist s, width(1) freq"
   ]
  },
  {
   "cell_type": "code",
   "execution_count": 15,
   "metadata": {
    "ExecuteTime": {
     "end_time": "2020-03-10T10:51:56.602478Z",
     "start_time": "2020-03-10T10:51:56.476653Z"
    }
   },
   "outputs": [
    {
     "name": "stdout",
     "output_type": "stream",
     "text": [
      "\n",
      "[R] histogram -- Histograms for continuous and categorical variables\n",
      "                 (View complete PDF manual entry)\n",
      "\n",
      "\n",
      "Syntax\n",
      "------\n",
      "\n",
      "        histogram varname [if] [in] [weight] [, [continuous_opts |\n",
      "                  discrete_opts] options]\n",
      "\n",
      "    continuous_opts                     Description\n",
      "    --------------------------------------------------------------------------\n",
      "    Main\n",
      "      bin(#)                            set number of bins to #\n",
      "      width(#)                          set width of bins to #\n",
      "      start(#)                          set lower limit of first bin to #\n",
      "    --------------------------------------------------------------------------\n",
      "\n",
      "    discrete_opts                       Description\n",
      "    --------------------------------------------------------------------------\n",
      "    Main\n",
      "      discrete                          specify that data are discrete\n",
      "      width(#)                          set width of bins to #\n",
      "      start(#)                          set theoretical minimum value to #\n",
      "    --------------------------------------------------------------------------\n",
      "\n",
      "    options                             Description\n",
      "    --------------------------------------------------------------------------\n",
      "    Main\n",
      "      density                           draw as density; the default\n",
      "      fraction                          draw as fractions\n",
      "      frequency                         draw as frequencies\n",
      "      percent                           draw as percentages\n",
      "      bar_options                       rendition of bars\n",
      "      binrescale                        recalculate bin sizes when by() is\n",
      "                                          specified\n",
      "      addlabels                         add height labels to bars\n",
      "      addlabopts(marker_label_options)  affect rendition of labels\n",
      "\n",
      "    Density plots\n",
      "      normal                            add a normal density to the graph\n",
      "      normopts(line_options)            affect rendition of normal density\n",
      "      kdensity                          add a kernel density estimate to the\n",
      "                                          graph\n",
      "      kdenopts(kdensity_options)        affect rendition of kernel density\n",
      "\n",
      "\n",
      "    Add plots\n",
      "      addplot(plot)                     add other plots to the histogram\n",
      "\n",
      "    Y axis, X axis, Titles, Legend, Overall, By\n",
      "      twoway_options                    any options documented in [G-3]\n",
      "                                          twoway_options\n",
      "    --------------------------------------------------------------------------\n",
      "    fweights are allowed; see weight.\n",
      "\n",
      "\n",
      "Menu\n",
      "----\n",
      "\n",
      "    Graphics > Histogram\n",
      "\n",
      "\n",
      "Description\n",
      "-----------\n",
      "\n",
      "    histogram draws histograms of varname, which is assumed to be the name of\n",
      "    a continuous variable unless the discrete option is specified.\n",
      "\n",
      "\n",
      "Links to PDF documentation\n",
      "--------------------------\n",
      "\n",
      "        Quick start\n",
      "\n",
      "        Remarks and examples\n",
      "\n",
      "    The above sections are not included in this help file.\n",
      "\n",
      "\n",
      "Options for use in the continuous case\n",
      "--------------------------------------\n",
      "\n",
      "        +------+\n",
      "    ----+ Main +--------------------------------------------------------------\n",
      "\n",
      "    bin(#) and width(#) are alternatives.  They specify how the data are to be\n",
      "        aggregated into bins: bin() by specifying the number of bins (from\n",
      "        which the width can be derived) and width() by specifying the bin\n",
      "        width (from which the number of bins can be derived).\n",
      "\n",
      "        If neither option is specified, results are the same as if bin(k) had\n",
      "        been specified, where\n",
      "\n",
      "            k = min{sqrt(N), 10*ln(N)/ln(10)}\n",
      "\n",
      "        and where N is the (weighted) number of observations.\n",
      "\n",
      "    start(#) specifies the theoretical minimum of varname.  The default is\n",
      "--more--\n"
     ]
    }
   ],
   "source": [
    "help hist"
   ]
  },
  {
   "cell_type": "code",
   "execution_count": 16,
   "metadata": {
    "ExecuteTime": {
     "end_time": "2020-03-10T10:52:23.692698Z",
     "start_time": "2020-03-10T10:52:23.431528Z"
    }
   },
   "outputs": [
    {
     "data": {
      "application/pdf": "[encoded data removed]",
      "image/svg+xml": [
       "<?xml version=\"1.0\" encoding=\"UTF-8\" standalone=\"no\"?>\n",
       "<!-- This is a Stata 15.1 generated SVG file (http://www.stata.com) -->\n",
       "\n",
       "<svg version=\"1.1\" width=\"600px\" height=\"436px\" viewBox=\"0 0 3960 2880\" xmlns=\"http://www.w3.org/2000/svg\" xmlns:xlink=\"http://www.w3.org/1999/xlink\">\n",
       "\t<desc>Stata Graph - Graph</desc>\n",
       "\t<rect x=\"0\" y=\"0\" width=\"3960\" height=\"2880\" style=\"fill:#EAF2F3;stroke:none\"/>\n",
       "\t<rect x=\"0.00\" y=\"0.00\" width=\"3959.88\" height=\"2880.00\" style=\"fill:#EAF2F3\"/>\n",
       "\t<rect x=\"2.88\" y=\"2.88\" width=\"3954.12\" height=\"2874.24\" style=\"fill:none;stroke:#EAF2F3;stroke-width:5.76\"/>\n",
       "\t<rect x=\"390.80\" y=\"100.86\" width=\"3468.22\" height=\"2388.33\" style=\"fill:#FFFFFF\"/>\n",
       "\t<rect x=\"393.68\" y=\"103.74\" width=\"3462.46\" height=\"2382.57\" style=\"fill:none;stroke:#FFFFFF;stroke-width:5.76\"/>\n",
       "\t<line x1=\"390.80\" y1=\"1860.39\" x2=\"3859.02\" y2=\"1860.39\" style=\"stroke:#EAF2F3;stroke-width:8.64\"/>\n",
       "\t<line x1=\"390.80\" y1=\"1294.96\" x2=\"3859.02\" y2=\"1294.96\" style=\"stroke:#EAF2F3;stroke-width:8.64\"/>\n",
       "\t<line x1=\"390.80\" y1=\"729.53\" x2=\"3859.02\" y2=\"729.53\" style=\"stroke:#EAF2F3;stroke-width:8.64\"/>\n",
       "\t<line x1=\"390.80\" y1=\"164.22\" x2=\"3859.02\" y2=\"164.22\" style=\"stroke:#EAF2F3;stroke-width:8.64\"/>\n",
       "\t<circle cx=\"3795.66\" cy=\"486.48\" r=\"26.35\" style=\"fill:#1A476F\"/>\n",
       "\t<circle cx=\"3795.66\" cy=\"486.48\" r=\"22.03\" style=\"fill:none;stroke:#1A476F;stroke-width:8.64\"/>\n",
       "\t<circle cx=\"2960.22\" cy=\"575.83\" r=\"26.35\" style=\"fill:#1A476F\"/>\n",
       "\t<circle cx=\"2960.22\" cy=\"575.83\" r=\"22.03\" style=\"fill:none;stroke:#1A476F;stroke-width:8.64\"/>\n",
       "\t<circle cx=\"2960.22\" cy=\"373.49\" r=\"26.35\" style=\"fill:#1A476F\"/>\n",
       "\t<circle cx=\"2960.22\" cy=\"373.49\" r=\"22.03\" style=\"fill:none;stroke:#1A476F;stroke-width:8.64\"/>\n",
       "\t<circle cx=\"2960.22\" cy=\"1293.97\" r=\"26.35\" style=\"fill:#1A476F\"/>\n",
       "\t<circle cx=\"2960.22\" cy=\"1293.97\" r=\"22.03\" style=\"fill:none;stroke:#1A476F;stroke-width:8.64\"/>\n",
       "\t<circle cx=\"2960.22\" cy=\"649.34\" r=\"26.35\" style=\"fill:#1A476F\"/>\n",
       "\t<circle cx=\"2960.22\" cy=\"649.34\" r=\"22.03\" style=\"fill:none;stroke:#1A476F;stroke-width:8.64\"/>\n",
       "\t<circle cx=\"2960.22\" cy=\"909.47\" r=\"26.35\" style=\"fill:#1A476F\"/>\n",
       "\t<circle cx=\"2960.22\" cy=\"909.47\" r=\"22.03\" style=\"fill:none;stroke:#1A476F;stroke-width:8.64\"/>\n",
       "\t<circle cx=\"2960.22\" cy=\"753.41\" r=\"26.35\" style=\"fill:#1A476F\"/>\n",
       "\t<circle cx=\"2960.22\" cy=\"753.41\" r=\"22.03\" style=\"fill:none;stroke:#1A476F;stroke-width:8.64\"/>\n",
       "\t<circle cx=\"2960.22\" cy=\"530.66\" r=\"26.35\" style=\"fill:#1A476F\"/>\n",
       "\t<circle cx=\"2960.22\" cy=\"530.66\" r=\"22.03\" style=\"fill:none;stroke:#1A476F;stroke-width:8.64\"/>\n",
       "\t<circle cx=\"2960.22\" cy=\"649.34\" r=\"26.35\" style=\"fill:#1A476F\"/>\n",
       "\t<circle cx=\"2960.22\" cy=\"649.34\" r=\"22.03\" style=\"fill:none;stroke:#1A476F;stroke-width:8.64\"/>\n",
       "\t<circle cx=\"2960.22\" cy=\"652.80\" r=\"26.35\" style=\"fill:#1A476F\"/>\n",
       "\t<circle cx=\"2960.22\" cy=\"652.80\" r=\"22.03\" style=\"fill:none;stroke:#1A476F;stroke-width:8.64\"/>\n",
       "\t<circle cx=\"2960.22\" cy=\"606.39\" r=\"26.35\" style=\"fill:#1A476F\"/>\n",
       "\t<circle cx=\"2960.22\" cy=\"606.39\" r=\"22.03\" style=\"fill:none;stroke:#1A476F;stroke-width:8.64\"/>\n",
       "\t<circle cx=\"2542.57\" cy=\"900.43\" r=\"26.35\" style=\"fill:#1A476F\"/>\n",
       "\t<circle cx=\"2542.57\" cy=\"900.43\" r=\"22.03\" style=\"fill:none;stroke:#1A476F;stroke-width:8.64\"/>\n",
       "\t<circle cx=\"2542.57\" cy=\"1002.16\" r=\"26.35\" style=\"fill:#1A476F\"/>\n",
       "\t<circle cx=\"2542.57\" cy=\"1002.16\" r=\"22.03\" style=\"fill:none;stroke:#1A476F;stroke-width:8.64\"/>\n",
       "\t<circle cx=\"2542.57\" cy=\"1123.19\" r=\"26.35\" style=\"fill:#1A476F\"/>\n",
       "\t<circle cx=\"2542.57\" cy=\"1123.19\" r=\"22.03\" style=\"fill:none;stroke:#1A476F;stroke-width:8.64\"/>\n",
       "\t<circle cx=\"2124.91\" cy=\"1123.19\" r=\"26.35\" style=\"fill:#1A476F\"/>\n",
       "\t<circle cx=\"2124.91\" cy=\"1123.19\" r=\"22.03\" style=\"fill:none;stroke:#1A476F;stroke-width:8.64\"/>\n",
       "\t<circle cx=\"1289.47\" cy=\"929.76\" r=\"26.35\" style=\"fill:#1A476F\"/>\n",
       "\t<circle cx=\"1289.47\" cy=\"929.76\" r=\"22.03\" style=\"fill:none;stroke:#1A476F;stroke-width:8.64\"/>\n",
       "\t<circle cx=\"1289.47\" cy=\"1390.00\" r=\"26.35\" style=\"fill:#1A476F\"/>\n",
       "\t<circle cx=\"1289.47\" cy=\"1390.00\" r=\"22.03\" style=\"fill:none;stroke:#1A476F;stroke-width:8.64\"/>\n",
       "\t<circle cx=\"1289.47\" cy=\"1673.89\" r=\"26.35\" style=\"fill:#1A476F\"/>\n",
       "\t<circle cx=\"1289.47\" cy=\"1673.89\" r=\"22.03\" style=\"fill:none;stroke:#1A476F;stroke-width:8.64\"/>\n",
       "\t<circle cx=\"1289.47\" cy=\"770.37\" r=\"26.35\" style=\"fill:#1A476F\"/>\n",
       "\t<circle cx=\"1289.47\" cy=\"770.37\" r=\"22.03\" style=\"fill:none;stroke:#1A476F;stroke-width:8.64\"/>\n",
       "\t<circle cx=\"1289.47\" cy=\"593.89\" r=\"26.35\" style=\"fill:#1A476F\"/>\n",
       "\t<circle cx=\"1289.47\" cy=\"593.89\" r=\"22.03\" style=\"fill:none;stroke:#1A476F;stroke-width:8.64\"/>\n",
       "\t<circle cx=\"1289.47\" cy=\"1262.29\" r=\"26.35\" style=\"fill:#1A476F\"/>\n",
       "\t<circle cx=\"1289.47\" cy=\"1262.29\" r=\"22.03\" style=\"fill:none;stroke:#1A476F;stroke-width:8.64\"/>\n",
       "\t<circle cx=\"1289.47\" cy=\"1699.88\" r=\"26.35\" style=\"fill:#1A476F\"/>\n",
       "\t<circle cx=\"1289.47\" cy=\"1699.88\" r=\"22.03\" style=\"fill:none;stroke:#1A476F;stroke-width:8.64\"/>\n",
       "\t<circle cx=\"1289.47\" cy=\"1316.49\" r=\"26.35\" style=\"fill:#1A476F\"/>\n",
       "\t<circle cx=\"1289.47\" cy=\"1316.49\" r=\"22.03\" style=\"fill:none;stroke:#1A476F;stroke-width:8.64\"/>\n",
       "\t<circle cx=\"1289.47\" cy=\"327.08\" r=\"26.35\" style=\"fill:#1A476F\"/>\n",
       "\t<circle cx=\"1289.47\" cy=\"327.08\" r=\"22.03\" style=\"fill:none;stroke:#1A476F;stroke-width:8.64\"/>\n",
       "\t<circle cx=\"1289.47\" cy=\"636.96\" r=\"26.35\" style=\"fill:#1A476F\"/>\n",
       "\t<circle cx=\"1289.47\" cy=\"636.96\" r=\"22.03\" style=\"fill:none;stroke:#1A476F;stroke-width:8.64\"/>\n",
       "\t<circle cx=\"1289.47\" cy=\"1316.49\" r=\"26.35\" style=\"fill:#1A476F\"/>\n",
       "\t<circle cx=\"1289.47\" cy=\"1316.49\" r=\"22.03\" style=\"fill:none;stroke:#1A476F;stroke-width:8.64\"/>\n",
       "\t<circle cx=\"1289.47\" cy=\"1303.00\" r=\"26.35\" style=\"fill:#1A476F\"/>\n",
       "\t<circle cx=\"1289.47\" cy=\"1303.00\" r=\"22.03\" style=\"fill:none;stroke:#1A476F;stroke-width:8.64\"/>\n",
       "\t<circle cx=\"871.82\" cy=\"1064.41\" r=\"26.35\" style=\"fill:#1A476F\"/>\n",
       "\t<circle cx=\"871.82\" cy=\"1064.41\" r=\"22.03\" style=\"fill:none;stroke:#1A476F;stroke-width:8.64\"/>\n",
       "\t<circle cx=\"871.82\" cy=\"980.75\" r=\"26.35\" style=\"fill:#1A476F\"/>\n",
       "\t<circle cx=\"871.82\" cy=\"980.75\" r=\"22.03\" style=\"fill:none;stroke:#1A476F;stroke-width:8.64\"/>\n",
       "\t<circle cx=\"871.82\" cy=\"2009.76\" r=\"26.35\" style=\"fill:#1A476F\"/>\n",
       "\t<circle cx=\"871.82\" cy=\"2009.76\" r=\"22.03\" style=\"fill:none;stroke:#1A476F;stroke-width:8.64\"/>\n",
       "\t<line x1=\"390.80\" y1=\"2489.19\" x2=\"390.80\" y2=\"100.86\" style=\"stroke:#000000;stroke-width:5.76\"/>\n",
       "\t<line x1=\"390.80\" y1=\"2425.82\" x2=\"350.83\" y2=\"2425.82\" style=\"stroke:#000000;stroke-width:5.76\"/>\n",
       "\t<text x=\"300.72\" y=\"2425.82\" style=\"font-family:'Helvetica';font-size:99.99px;fill:#000000\" transform=\"rotate(-90 300.72,2425.82)\" text-anchor=\"middle\">4.5</text>\n",
       "\t<line x1=\"390.80\" y1=\"1860.39\" x2=\"350.83\" y2=\"1860.39\" style=\"stroke:#000000;stroke-width:5.76\"/>\n",
       "\t<text x=\"300.72\" y=\"1860.39\" style=\"font-family:'Helvetica';font-size:99.99px;fill:#000000\" transform=\"rotate(-90 300.72,1860.39)\" text-anchor=\"middle\">5</text>\n",
       "\t<line x1=\"390.80\" y1=\"1294.96\" x2=\"350.83\" y2=\"1294.96\" style=\"stroke:#000000;stroke-width:5.76\"/>\n",
       "\t<text x=\"300.72\" y=\"1294.96\" style=\"font-family:'Helvetica';font-size:99.99px;fill:#000000\" transform=\"rotate(-90 300.72,1294.96)\" text-anchor=\"middle\">5.5</text>\n",
       "\t<line x1=\"390.80\" y1=\"729.53\" x2=\"350.83\" y2=\"729.53\" style=\"stroke:#000000;stroke-width:5.76\"/>\n",
       "\t<text x=\"300.72\" y=\"729.53\" style=\"font-family:'Helvetica';font-size:99.99px;fill:#000000\" transform=\"rotate(-90 300.72,729.53)\" text-anchor=\"middle\">6</text>\n",
       "\t<line x1=\"390.80\" y1=\"164.22\" x2=\"350.83\" y2=\"164.22\" style=\"stroke:#000000;stroke-width:5.76\"/>\n",
       "\t<text x=\"300.72\" y=\"164.22\" style=\"font-family:'Helvetica';font-size:99.99px;fill:#000000\" transform=\"rotate(-90 300.72,164.22)\" text-anchor=\"middle\">6.5</text>\n",
       "\t<text x=\"190.71\" y=\"1294.96\" style=\"font-family:'Helvetica';font-size:99.99px;fill:#000000\" transform=\"rotate(-90 190.71,1294.96)\" text-anchor=\"middle\">ln(wage)</text>\n",
       "\t<line x1=\"390.80\" y1=\"2489.19\" x2=\"3859.02\" y2=\"2489.19\" style=\"stroke:#000000;stroke-width:5.76\"/>\n",
       "\t<line x1=\"454.16\" y1=\"2489.19\" x2=\"454.16\" y2=\"2529.16\" style=\"stroke:#000000;stroke-width:5.76\"/>\n",
       "\t<text x=\"454.16\" y=\"2619.14\" style=\"font-family:'Helvetica';font-size:99.99px;fill:#000000\" text-anchor=\"middle\">10</text>\n",
       "\t<line x1=\"1289.47\" y1=\"2489.19\" x2=\"1289.47\" y2=\"2529.16\" style=\"stroke:#000000;stroke-width:5.76\"/>\n",
       "\t<text x=\"1289.47\" y=\"2619.14\" style=\"font-family:'Helvetica';font-size:99.99px;fill:#000000\" text-anchor=\"middle\">12</text>\n",
       "\t<line x1=\"2124.91\" y1=\"2489.19\" x2=\"2124.91\" y2=\"2529.16\" style=\"stroke:#000000;stroke-width:5.76\"/>\n",
       "\t<text x=\"2124.91\" y=\"2619.14\" style=\"font-family:'Helvetica';font-size:99.99px;fill:#000000\" text-anchor=\"middle\">14</text>\n",
       "\t<line x1=\"2960.35\" y1=\"2489.19\" x2=\"2960.35\" y2=\"2529.16\" style=\"stroke:#000000;stroke-width:5.76\"/>\n",
       "\t<text x=\"2960.35\" y=\"2619.14\" style=\"font-family:'Helvetica';font-size:99.99px;fill:#000000\" text-anchor=\"middle\">16</text>\n",
       "\t<line x1=\"3795.66\" y1=\"2489.19\" x2=\"3795.66\" y2=\"2529.16\" style=\"stroke:#000000;stroke-width:5.76\"/>\n",
       "\t<text x=\"3795.66\" y=\"2619.14\" style=\"font-family:'Helvetica';font-size:99.99px;fill:#000000\" text-anchor=\"middle\">18</text>\n",
       "\t<text x=\"2124.91\" y=\"2729.16\" style=\"font-family:'Helvetica';font-size:99.99px;fill:#000000\" text-anchor=\"middle\">schooling</text>\n",
       "</svg>\n"
      ],
      "text/html": [
       "                <iframe frameborder=\"0\" scrolling=\"no\" height=\"436\" width=\"600\"                srcdoc=\"<html><body>&lt;?xml version=&quot;1.0&quot; encoding=&quot;UTF-8&quot; standalone=&quot;no&quot;?&gt;\n",
       "&lt;!-- This is a Stata 15.1 generated SVG file (http://www.stata.com) --&gt;\n",
       "\n",
       "&lt;svg version=&quot;1.1&quot; width=&quot;600px&quot; height=&quot;436px&quot; viewBox=&quot;0 0 3960 2880&quot; xmlns=&quot;http://www.w3.org/2000/svg&quot; xmlns:xlink=&quot;http://www.w3.org/1999/xlink&quot;&gt;\n",
       "\t&lt;desc&gt;Stata Graph - Graph&lt;/desc&gt;\n",
       "\t&lt;rect x=&quot;0&quot; y=&quot;0&quot; width=&quot;3960&quot; height=&quot;2880&quot; style=&quot;fill:#EAF2F3;stroke:none&quot;/&gt;\n",
       "\t&lt;rect x=&quot;0.00&quot; y=&quot;0.00&quot; width=&quot;3959.88&quot; height=&quot;2880.00&quot; style=&quot;fill:#EAF2F3&quot;/&gt;\n",
       "\t&lt;rect x=&quot;2.88&quot; y=&quot;2.88&quot; width=&quot;3954.12&quot; height=&quot;2874.24&quot; style=&quot;fill:none;stroke:#EAF2F3;stroke-width:5.76&quot;/&gt;\n",
       "\t&lt;rect x=&quot;390.80&quot; y=&quot;100.86&quot; width=&quot;3468.22&quot; height=&quot;2388.33&quot; style=&quot;fill:#FFFFFF&quot;/&gt;\n",
       "\t&lt;rect x=&quot;393.68&quot; y=&quot;103.74&quot; width=&quot;3462.46&quot; height=&quot;2382.57&quot; style=&quot;fill:none;stroke:#FFFFFF;stroke-width:5.76&quot;/&gt;\n",
       "\t&lt;line x1=&quot;390.80&quot; y1=&quot;1860.39&quot; x2=&quot;3859.02&quot; y2=&quot;1860.39&quot; style=&quot;stroke:#EAF2F3;stroke-width:8.64&quot;/&gt;\n",
       "\t&lt;line x1=&quot;390.80&quot; y1=&quot;1294.96&quot; x2=&quot;3859.02&quot; y2=&quot;1294.96&quot; style=&quot;stroke:#EAF2F3;stroke-width:8.64&quot;/&gt;\n",
       "\t&lt;line x1=&quot;390.80&quot; y1=&quot;729.53&quot; x2=&quot;3859.02&quot; y2=&quot;729.53&quot; style=&quot;stroke:#EAF2F3;stroke-width:8.64&quot;/&gt;\n",
       "\t&lt;line x1=&quot;390.80&quot; y1=&quot;164.22&quot; x2=&quot;3859.02&quot; y2=&quot;164.22&quot; style=&quot;stroke:#EAF2F3;stroke-width:8.64&quot;/&gt;\n",
       "\t&lt;circle cx=&quot;3795.66&quot; cy=&quot;486.48&quot; r=&quot;26.35&quot; style=&quot;fill:#1A476F&quot;/&gt;\n",
       "\t&lt;circle cx=&quot;3795.66&quot; cy=&quot;486.48&quot; r=&quot;22.03&quot; style=&quot;fill:none;stroke:#1A476F;stroke-width:8.64&quot;/&gt;\n",
       "\t&lt;circle cx=&quot;2960.22&quot; cy=&quot;575.83&quot; r=&quot;26.35&quot; style=&quot;fill:#1A476F&quot;/&gt;\n",
       "\t&lt;circle cx=&quot;2960.22&quot; cy=&quot;575.83&quot; r=&quot;22.03&quot; style=&quot;fill:none;stroke:#1A476F;stroke-width:8.64&quot;/&gt;\n",
       "\t&lt;circle cx=&quot;2960.22&quot; cy=&quot;373.49&quot; r=&quot;26.35&quot; style=&quot;fill:#1A476F&quot;/&gt;\n",
       "\t&lt;circle cx=&quot;2960.22&quot; cy=&quot;373.49&quot; r=&quot;22.03&quot; style=&quot;fill:none;stroke:#1A476F;stroke-width:8.64&quot;/&gt;\n",
       "\t&lt;circle cx=&quot;2960.22&quot; cy=&quot;1293.97&quot; r=&quot;26.35&quot; style=&quot;fill:#1A476F&quot;/&gt;\n",
       "\t&lt;circle cx=&quot;2960.22&quot; cy=&quot;1293.97&quot; r=&quot;22.03&quot; style=&quot;fill:none;stroke:#1A476F;stroke-width:8.64&quot;/&gt;\n",
       "\t&lt;circle cx=&quot;2960.22&quot; cy=&quot;649.34&quot; r=&quot;26.35&quot; style=&quot;fill:#1A476F&quot;/&gt;\n",
       "\t&lt;circle cx=&quot;2960.22&quot; cy=&quot;649.34&quot; r=&quot;22.03&quot; style=&quot;fill:none;stroke:#1A476F;stroke-width:8.64&quot;/&gt;\n",
       "\t&lt;circle cx=&quot;2960.22&quot; cy=&quot;909.47&quot; r=&quot;26.35&quot; style=&quot;fill:#1A476F&quot;/&gt;\n",
       "\t&lt;circle cx=&quot;2960.22&quot; cy=&quot;909.47&quot; r=&quot;22.03&quot; style=&quot;fill:none;stroke:#1A476F;stroke-width:8.64&quot;/&gt;\n",
       "\t&lt;circle cx=&quot;2960.22&quot; cy=&quot;753.41&quot; r=&quot;26.35&quot; style=&quot;fill:#1A476F&quot;/&gt;\n",
       "\t&lt;circle cx=&quot;2960.22&quot; cy=&quot;753.41&quot; r=&quot;22.03&quot; style=&quot;fill:none;stroke:#1A476F;stroke-width:8.64&quot;/&gt;\n",
       "\t&lt;circle cx=&quot;2960.22&quot; cy=&quot;530.66&quot; r=&quot;26.35&quot; style=&quot;fill:#1A476F&quot;/&gt;\n",
       "\t&lt;circle cx=&quot;2960.22&quot; cy=&quot;530.66&quot; r=&quot;22.03&quot; style=&quot;fill:none;stroke:#1A476F;stroke-width:8.64&quot;/&gt;\n",
       "\t&lt;circle cx=&quot;2960.22&quot; cy=&quot;649.34&quot; r=&quot;26.35&quot; style=&quot;fill:#1A476F&quot;/&gt;\n",
       "\t&lt;circle cx=&quot;2960.22&quot; cy=&quot;649.34&quot; r=&quot;22.03&quot; style=&quot;fill:none;stroke:#1A476F;stroke-width:8.64&quot;/&gt;\n",
       "\t&lt;circle cx=&quot;2960.22&quot; cy=&quot;652.80&quot; r=&quot;26.35&quot; style=&quot;fill:#1A476F&quot;/&gt;\n",
       "\t&lt;circle cx=&quot;2960.22&quot; cy=&quot;652.80&quot; r=&quot;22.03&quot; style=&quot;fill:none;stroke:#1A476F;stroke-width:8.64&quot;/&gt;\n",
       "\t&lt;circle cx=&quot;2960.22&quot; cy=&quot;606.39&quot; r=&quot;26.35&quot; style=&quot;fill:#1A476F&quot;/&gt;\n",
       "\t&lt;circle cx=&quot;2960.22&quot; cy=&quot;606.39&quot; r=&quot;22.03&quot; style=&quot;fill:none;stroke:#1A476F;stroke-width:8.64&quot;/&gt;\n",
       "\t&lt;circle cx=&quot;2542.57&quot; cy=&quot;900.43&quot; r=&quot;26.35&quot; style=&quot;fill:#1A476F&quot;/&gt;\n",
       "\t&lt;circle cx=&quot;2542.57&quot; cy=&quot;900.43&quot; r=&quot;22.03&quot; style=&quot;fill:none;stroke:#1A476F;stroke-width:8.64&quot;/&gt;\n",
       "\t&lt;circle cx=&quot;2542.57&quot; cy=&quot;1002.16&quot; r=&quot;26.35&quot; style=&quot;fill:#1A476F&quot;/&gt;\n",
       "\t&lt;circle cx=&quot;2542.57&quot; cy=&quot;1002.16&quot; r=&quot;22.03&quot; style=&quot;fill:none;stroke:#1A476F;stroke-width:8.64&quot;/&gt;\n",
       "\t&lt;circle cx=&quot;2542.57&quot; cy=&quot;1123.19&quot; r=&quot;26.35&quot; style=&quot;fill:#1A476F&quot;/&gt;\n",
       "\t&lt;circle cx=&quot;2542.57&quot; cy=&quot;1123.19&quot; r=&quot;22.03&quot; style=&quot;fill:none;stroke:#1A476F;stroke-width:8.64&quot;/&gt;\n",
       "\t&lt;circle cx=&quot;2124.91&quot; cy=&quot;1123.19&quot; r=&quot;26.35&quot; style=&quot;fill:#1A476F&quot;/&gt;\n",
       "\t&lt;circle cx=&quot;2124.91&quot; cy=&quot;1123.19&quot; r=&quot;22.03&quot; style=&quot;fill:none;stroke:#1A476F;stroke-width:8.64&quot;/&gt;\n",
       "\t&lt;circle cx=&quot;1289.47&quot; cy=&quot;929.76&quot; r=&quot;26.35&quot; style=&quot;fill:#1A476F&quot;/&gt;\n",
       "\t&lt;circle cx=&quot;1289.47&quot; cy=&quot;929.76&quot; r=&quot;22.03&quot; style=&quot;fill:none;stroke:#1A476F;stroke-width:8.64&quot;/&gt;\n",
       "\t&lt;circle cx=&quot;1289.47&quot; cy=&quot;1390.00&quot; r=&quot;26.35&quot; style=&quot;fill:#1A476F&quot;/&gt;\n",
       "\t&lt;circle cx=&quot;1289.47&quot; cy=&quot;1390.00&quot; r=&quot;22.03&quot; style=&quot;fill:none;stroke:#1A476F;stroke-width:8.64&quot;/&gt;\n",
       "\t&lt;circle cx=&quot;1289.47&quot; cy=&quot;1673.89&quot; r=&quot;26.35&quot; style=&quot;fill:#1A476F&quot;/&gt;\n",
       "\t&lt;circle cx=&quot;1289.47&quot; cy=&quot;1673.89&quot; r=&quot;22.03&quot; style=&quot;fill:none;stroke:#1A476F;stroke-width:8.64&quot;/&gt;\n",
       "\t&lt;circle cx=&quot;1289.47&quot; cy=&quot;770.37&quot; r=&quot;26.35&quot; style=&quot;fill:#1A476F&quot;/&gt;\n",
       "\t&lt;circle cx=&quot;1289.47&quot; cy=&quot;770.37&quot; r=&quot;22.03&quot; style=&quot;fill:none;stroke:#1A476F;stroke-width:8.64&quot;/&gt;\n",
       "\t&lt;circle cx=&quot;1289.47&quot; cy=&quot;593.89&quot; r=&quot;26.35&quot; style=&quot;fill:#1A476F&quot;/&gt;\n",
       "\t&lt;circle cx=&quot;1289.47&quot; cy=&quot;593.89&quot; r=&quot;22.03&quot; style=&quot;fill:none;stroke:#1A476F;stroke-width:8.64&quot;/&gt;\n",
       "\t&lt;circle cx=&quot;1289.47&quot; cy=&quot;1262.29&quot; r=&quot;26.35&quot; style=&quot;fill:#1A476F&quot;/&gt;\n",
       "\t&lt;circle cx=&quot;1289.47&quot; cy=&quot;1262.29&quot; r=&quot;22.03&quot; style=&quot;fill:none;stroke:#1A476F;stroke-width:8.64&quot;/&gt;\n",
       "\t&lt;circle cx=&quot;1289.47&quot; cy=&quot;1699.88&quot; r=&quot;26.35&quot; style=&quot;fill:#1A476F&quot;/&gt;\n",
       "\t&lt;circle cx=&quot;1289.47&quot; cy=&quot;1699.88&quot; r=&quot;22.03&quot; style=&quot;fill:none;stroke:#1A476F;stroke-width:8.64&quot;/&gt;\n",
       "\t&lt;circle cx=&quot;1289.47&quot; cy=&quot;1316.49&quot; r=&quot;26.35&quot; style=&quot;fill:#1A476F&quot;/&gt;\n",
       "\t&lt;circle cx=&quot;1289.47&quot; cy=&quot;1316.49&quot; r=&quot;22.03&quot; style=&quot;fill:none;stroke:#1A476F;stroke-width:8.64&quot;/&gt;\n",
       "\t&lt;circle cx=&quot;1289.47&quot; cy=&quot;327.08&quot; r=&quot;26.35&quot; style=&quot;fill:#1A476F&quot;/&gt;\n",
       "\t&lt;circle cx=&quot;1289.47&quot; cy=&quot;327.08&quot; r=&quot;22.03&quot; style=&quot;fill:none;stroke:#1A476F;stroke-width:8.64&quot;/&gt;\n",
       "\t&lt;circle cx=&quot;1289.47&quot; cy=&quot;636.96&quot; r=&quot;26.35&quot; style=&quot;fill:#1A476F&quot;/&gt;\n",
       "\t&lt;circle cx=&quot;1289.47&quot; cy=&quot;636.96&quot; r=&quot;22.03&quot; style=&quot;fill:none;stroke:#1A476F;stroke-width:8.64&quot;/&gt;\n",
       "\t&lt;circle cx=&quot;1289.47&quot; cy=&quot;1316.49&quot; r=&quot;26.35&quot; style=&quot;fill:#1A476F&quot;/&gt;\n",
       "\t&lt;circle cx=&quot;1289.47&quot; cy=&quot;1316.49&quot; r=&quot;22.03&quot; style=&quot;fill:none;stroke:#1A476F;stroke-width:8.64&quot;/&gt;\n",
       "\t&lt;circle cx=&quot;1289.47&quot; cy=&quot;1303.00&quot; r=&quot;26.35&quot; style=&quot;fill:#1A476F&quot;/&gt;\n",
       "\t&lt;circle cx=&quot;1289.47&quot; cy=&quot;1303.00&quot; r=&quot;22.03&quot; style=&quot;fill:none;stroke:#1A476F;stroke-width:8.64&quot;/&gt;\n",
       "\t&lt;circle cx=&quot;871.82&quot; cy=&quot;1064.41&quot; r=&quot;26.35&quot; style=&quot;fill:#1A476F&quot;/&gt;\n",
       "\t&lt;circle cx=&quot;871.82&quot; cy=&quot;1064.41&quot; r=&quot;22.03&quot; style=&quot;fill:none;stroke:#1A476F;stroke-width:8.64&quot;/&gt;\n",
       "\t&lt;circle cx=&quot;871.82&quot; cy=&quot;980.75&quot; r=&quot;26.35&quot; style=&quot;fill:#1A476F&quot;/&gt;\n",
       "\t&lt;circle cx=&quot;871.82&quot; cy=&quot;980.75&quot; r=&quot;22.03&quot; style=&quot;fill:none;stroke:#1A476F;stroke-width:8.64&quot;/&gt;\n",
       "\t&lt;circle cx=&quot;871.82&quot; cy=&quot;2009.76&quot; r=&quot;26.35&quot; style=&quot;fill:#1A476F&quot;/&gt;\n",
       "\t&lt;circle cx=&quot;871.82&quot; cy=&quot;2009.76&quot; r=&quot;22.03&quot; style=&quot;fill:none;stroke:#1A476F;stroke-width:8.64&quot;/&gt;\n",
       "\t&lt;line x1=&quot;390.80&quot; y1=&quot;2489.19&quot; x2=&quot;390.80&quot; y2=&quot;100.86&quot; style=&quot;stroke:#000000;stroke-width:5.76&quot;/&gt;\n",
       "\t&lt;line x1=&quot;390.80&quot; y1=&quot;2425.82&quot; x2=&quot;350.83&quot; y2=&quot;2425.82&quot; style=&quot;stroke:#000000;stroke-width:5.76&quot;/&gt;\n",
       "\t&lt;text x=&quot;300.72&quot; y=&quot;2425.82&quot; style=&quot;font-family:&#x27;Helvetica&#x27;;font-size:99.99px;fill:#000000&quot; transform=&quot;rotate(-90 300.72,2425.82)&quot; text-anchor=&quot;middle&quot;&gt;4.5&lt;/text&gt;\n",
       "\t&lt;line x1=&quot;390.80&quot; y1=&quot;1860.39&quot; x2=&quot;350.83&quot; y2=&quot;1860.39&quot; style=&quot;stroke:#000000;stroke-width:5.76&quot;/&gt;\n",
       "\t&lt;text x=&quot;300.72&quot; y=&quot;1860.39&quot; style=&quot;font-family:&#x27;Helvetica&#x27;;font-size:99.99px;fill:#000000&quot; transform=&quot;rotate(-90 300.72,1860.39)&quot; text-anchor=&quot;middle&quot;&gt;5&lt;/text&gt;\n",
       "\t&lt;line x1=&quot;390.80&quot; y1=&quot;1294.96&quot; x2=&quot;350.83&quot; y2=&quot;1294.96&quot; style=&quot;stroke:#000000;stroke-width:5.76&quot;/&gt;\n",
       "\t&lt;text x=&quot;300.72&quot; y=&quot;1294.96&quot; style=&quot;font-family:&#x27;Helvetica&#x27;;font-size:99.99px;fill:#000000&quot; transform=&quot;rotate(-90 300.72,1294.96)&quot; text-anchor=&quot;middle&quot;&gt;5.5&lt;/text&gt;\n",
       "\t&lt;line x1=&quot;390.80&quot; y1=&quot;729.53&quot; x2=&quot;350.83&quot; y2=&quot;729.53&quot; style=&quot;stroke:#000000;stroke-width:5.76&quot;/&gt;\n",
       "\t&lt;text x=&quot;300.72&quot; y=&quot;729.53&quot; style=&quot;font-family:&#x27;Helvetica&#x27;;font-size:99.99px;fill:#000000&quot; transform=&quot;rotate(-90 300.72,729.53)&quot; text-anchor=&quot;middle&quot;&gt;6&lt;/text&gt;\n",
       "\t&lt;line x1=&quot;390.80&quot; y1=&quot;164.22&quot; x2=&quot;350.83&quot; y2=&quot;164.22&quot; style=&quot;stroke:#000000;stroke-width:5.76&quot;/&gt;\n",
       "\t&lt;text x=&quot;300.72&quot; y=&quot;164.22&quot; style=&quot;font-family:&#x27;Helvetica&#x27;;font-size:99.99px;fill:#000000&quot; transform=&quot;rotate(-90 300.72,164.22)&quot; text-anchor=&quot;middle&quot;&gt;6.5&lt;/text&gt;\n",
       "\t&lt;text x=&quot;190.71&quot; y=&quot;1294.96&quot; style=&quot;font-family:&#x27;Helvetica&#x27;;font-size:99.99px;fill:#000000&quot; transform=&quot;rotate(-90 190.71,1294.96)&quot; text-anchor=&quot;middle&quot;&gt;ln(wage)&lt;/text&gt;\n",
       "\t&lt;line x1=&quot;390.80&quot; y1=&quot;2489.19&quot; x2=&quot;3859.02&quot; y2=&quot;2489.19&quot; style=&quot;stroke:#000000;stroke-width:5.76&quot;/&gt;\n",
       "\t&lt;line x1=&quot;454.16&quot; y1=&quot;2489.19&quot; x2=&quot;454.16&quot; y2=&quot;2529.16&quot; style=&quot;stroke:#000000;stroke-width:5.76&quot;/&gt;\n",
       "\t&lt;text x=&quot;454.16&quot; y=&quot;2619.14&quot; style=&quot;font-family:&#x27;Helvetica&#x27;;font-size:99.99px;fill:#000000&quot; text-anchor=&quot;middle&quot;&gt;10&lt;/text&gt;\n",
       "\t&lt;line x1=&quot;1289.47&quot; y1=&quot;2489.19&quot; x2=&quot;1289.47&quot; y2=&quot;2529.16&quot; style=&quot;stroke:#000000;stroke-width:5.76&quot;/&gt;\n",
       "\t&lt;text x=&quot;1289.47&quot; y=&quot;2619.14&quot; style=&quot;font-family:&#x27;Helvetica&#x27;;font-size:99.99px;fill:#000000&quot; text-anchor=&quot;middle&quot;&gt;12&lt;/text&gt;\n",
       "\t&lt;line x1=&quot;2124.91&quot; y1=&quot;2489.19&quot; x2=&quot;2124.91&quot; y2=&quot;2529.16&quot; style=&quot;stroke:#000000;stroke-width:5.76&quot;/&gt;\n",
       "\t&lt;text x=&quot;2124.91&quot; y=&quot;2619.14&quot; style=&quot;font-family:&#x27;Helvetica&#x27;;font-size:99.99px;fill:#000000&quot; text-anchor=&quot;middle&quot;&gt;14&lt;/text&gt;\n",
       "\t&lt;line x1=&quot;2960.35&quot; y1=&quot;2489.19&quot; x2=&quot;2960.35&quot; y2=&quot;2529.16&quot; style=&quot;stroke:#000000;stroke-width:5.76&quot;/&gt;\n",
       "\t&lt;text x=&quot;2960.35&quot; y=&quot;2619.14&quot; style=&quot;font-family:&#x27;Helvetica&#x27;;font-size:99.99px;fill:#000000&quot; text-anchor=&quot;middle&quot;&gt;16&lt;/text&gt;\n",
       "\t&lt;line x1=&quot;3795.66&quot; y1=&quot;2489.19&quot; x2=&quot;3795.66&quot; y2=&quot;2529.16&quot; style=&quot;stroke:#000000;stroke-width:5.76&quot;/&gt;\n",
       "\t&lt;text x=&quot;3795.66&quot; y=&quot;2619.14&quot; style=&quot;font-family:&#x27;Helvetica&#x27;;font-size:99.99px;fill:#000000&quot; text-anchor=&quot;middle&quot;&gt;18&lt;/text&gt;\n",
       "\t&lt;text x=&quot;2124.91&quot; y=&quot;2729.16&quot; style=&quot;font-family:&#x27;Helvetica&#x27;;font-size:99.99px;fill:#000000&quot; text-anchor=&quot;middle&quot;&gt;schooling&lt;/text&gt;\n",
       "&lt;/svg&gt;\n",
       "</body></html>\"></iframe>\n"
      ],
      "text/plain": [
       "This front-end cannot display the desired image type."
      ]
     },
     "metadata": {
      "image/svg+xml": {
       "height": 436,
       "width": 600
      },
      "text/html": {
       "height": 436,
       "width": 600
      }
     },
     "output_type": "display_data"
    }
   ],
   "source": [
    "*scatter\n",
    "sc lnw s"
   ]
  },
  {
   "cell_type": "code",
   "execution_count": 17,
   "metadata": {
    "ExecuteTime": {
     "end_time": "2020-03-10T10:52:57.115636Z",
     "start_time": "2020-03-10T10:52:56.859161Z"
    }
   },
   "outputs": [
    {
     "data": {
      "application/pdf": "[encoded data removed]",
      "image/svg+xml": [
       "<?xml version=\"1.0\" encoding=\"UTF-8\" standalone=\"no\"?>\n",
       "<!-- This is a Stata 15.1 generated SVG file (http://www.stata.com) -->\n",
       "\n",
       "<svg version=\"1.1\" width=\"600px\" height=\"436px\" viewBox=\"0 0 3960 2880\" xmlns=\"http://www.w3.org/2000/svg\" xmlns:xlink=\"http://www.w3.org/1999/xlink\">\n",
       "\t<desc>Stata Graph - Graph</desc>\n",
       "\t<rect x=\"0\" y=\"0\" width=\"3960\" height=\"2880\" style=\"fill:#EAF2F3;stroke:none\"/>\n",
       "\t<rect x=\"0.00\" y=\"0.00\" width=\"3959.88\" height=\"2880.00\" style=\"fill:#EAF2F3\"/>\n",
       "\t<rect x=\"2.88\" y=\"2.88\" width=\"3954.12\" height=\"2874.24\" style=\"fill:none;stroke:#EAF2F3;stroke-width:5.76\"/>\n",
       "\t<rect x=\"390.80\" y=\"100.86\" width=\"3468.22\" height=\"2388.33\" style=\"fill:#FFFFFF\"/>\n",
       "\t<rect x=\"393.68\" y=\"103.74\" width=\"3462.46\" height=\"2382.57\" style=\"fill:none;stroke:#FFFFFF;stroke-width:5.76\"/>\n",
       "\t<line x1=\"390.80\" y1=\"1860.39\" x2=\"3859.02\" y2=\"1860.39\" style=\"stroke:#EAF2F3;stroke-width:8.64\"/>\n",
       "\t<line x1=\"390.80\" y1=\"1294.96\" x2=\"3859.02\" y2=\"1294.96\" style=\"stroke:#EAF2F3;stroke-width:8.64\"/>\n",
       "\t<line x1=\"390.80\" y1=\"729.53\" x2=\"3859.02\" y2=\"729.53\" style=\"stroke:#EAF2F3;stroke-width:8.64\"/>\n",
       "\t<line x1=\"390.80\" y1=\"164.22\" x2=\"3859.02\" y2=\"164.22\" style=\"stroke:#EAF2F3;stroke-width:8.64\"/>\n",
       "\t<circle cx=\"3795.66\" cy=\"486.48\" r=\"26.35\" style=\"fill:#1A476F\"/>\n",
       "\t<circle cx=\"3795.66\" cy=\"486.48\" r=\"22.03\" style=\"fill:none;stroke:#1A476F;stroke-width:8.64\"/>\n",
       "\t<text x=\"3837.61\" y=\"514.49\" style=\"font-family:'Helvetica';font-size:79.94px;fill:#1A476f\">1</text>\n",
       "\t<circle cx=\"2960.35\" cy=\"575.83\" r=\"26.35\" style=\"fill:#1A476F\"/>\n",
       "\t<circle cx=\"2960.35\" cy=\"575.83\" r=\"22.03\" style=\"fill:none;stroke:#1A476F;stroke-width:8.64\"/>\n",
       "\t<text x=\"3002.30\" y=\"603.84\" style=\"font-family:'Helvetica';font-size:79.94px;fill:#1A476f\">2</text>\n",
       "\t<circle cx=\"2960.35\" cy=\"373.37\" r=\"26.35\" style=\"fill:#1A476F\"/>\n",
       "\t<circle cx=\"2960.35\" cy=\"373.37\" r=\"22.03\" style=\"fill:none;stroke:#1A476F;stroke-width:8.64\"/>\n",
       "\t<text x=\"3002.30\" y=\"401.38\" style=\"font-family:'Helvetica';font-size:79.94px;fill:#1A476f\">3</text>\n",
       "\t<circle cx=\"2960.35\" cy=\"1293.85\" r=\"26.35\" style=\"fill:#1A476F\"/>\n",
       "\t<circle cx=\"2960.35\" cy=\"1293.85\" r=\"22.03\" style=\"fill:none;stroke:#1A476F;stroke-width:8.64\"/>\n",
       "\t<text x=\"3002.30\" y=\"1321.86\" style=\"font-family:'Helvetica';font-size:79.94px;fill:#1A476f\">4</text>\n",
       "\t<circle cx=\"2960.35\" cy=\"649.34\" r=\"26.35\" style=\"fill:#1A476F\"/>\n",
       "\t<circle cx=\"2960.35\" cy=\"649.34\" r=\"22.03\" style=\"fill:none;stroke:#1A476F;stroke-width:8.64\"/>\n",
       "\t<text x=\"3002.30\" y=\"677.35\" style=\"font-family:'Helvetica';font-size:79.94px;fill:#1A476f\">5</text>\n",
       "\t<circle cx=\"2960.35\" cy=\"909.34\" r=\"26.35\" style=\"fill:#1A476F\"/>\n",
       "\t<circle cx=\"2960.35\" cy=\"909.34\" r=\"22.03\" style=\"fill:none;stroke:#1A476F;stroke-width:8.64\"/>\n",
       "\t<text x=\"3002.30\" y=\"937.36\" style=\"font-family:'Helvetica';font-size:79.94px;fill:#1A476f\">6</text>\n",
       "\t<circle cx=\"2960.35\" cy=\"753.29\" r=\"26.35\" style=\"fill:#1A476F\"/>\n",
       "\t<circle cx=\"2960.35\" cy=\"753.29\" r=\"22.03\" style=\"fill:none;stroke:#1A476F;stroke-width:8.64\"/>\n",
       "\t<text x=\"3002.30\" y=\"781.30\" style=\"font-family:'Helvetica';font-size:79.94px;fill:#1A476f\">7</text>\n",
       "\t<circle cx=\"2960.35\" cy=\"530.53\" r=\"26.35\" style=\"fill:#1A476F\"/>\n",
       "\t<circle cx=\"2960.35\" cy=\"530.53\" r=\"22.03\" style=\"fill:none;stroke:#1A476F;stroke-width:8.64\"/>\n",
       "\t<text x=\"3002.30\" y=\"558.54\" style=\"font-family:'Helvetica';font-size:79.94px;fill:#1A476f\">8</text>\n",
       "\t<circle cx=\"2960.35\" cy=\"649.34\" r=\"26.35\" style=\"fill:#1A476F\"/>\n",
       "\t<circle cx=\"2960.35\" cy=\"649.34\" r=\"22.03\" style=\"fill:none;stroke:#1A476F;stroke-width:8.64\"/>\n",
       "\t<text x=\"3002.30\" y=\"677.35\" style=\"font-family:'Helvetica';font-size:79.94px;fill:#1A476f\">9</text>\n",
       "\t<circle cx=\"2960.35\" cy=\"652.68\" r=\"26.35\" style=\"fill:#1A476F\"/>\n",
       "\t<circle cx=\"2960.35\" cy=\"652.68\" r=\"22.03\" style=\"fill:none;stroke:#1A476F;stroke-width:8.64\"/>\n",
       "\t<text x=\"3002.30\" y=\"680.69\" style=\"font-family:'Helvetica';font-size:79.94px;fill:#1A476f\">10</text>\n",
       "\t<circle cx=\"2960.35\" cy=\"606.27\" r=\"26.35\" style=\"fill:#1A476F\"/>\n",
       "\t<circle cx=\"2960.35\" cy=\"606.27\" r=\"22.03\" style=\"fill:none;stroke:#1A476F;stroke-width:8.64\"/>\n",
       "\t<text x=\"3002.30\" y=\"634.28\" style=\"font-family:'Helvetica';font-size:79.94px;fill:#1A476f\">11</text>\n",
       "\t<circle cx=\"2542.57\" cy=\"900.31\" r=\"26.35\" style=\"fill:#1A476F\"/>\n",
       "\t<circle cx=\"2542.57\" cy=\"900.31\" r=\"22.03\" style=\"fill:none;stroke:#1A476F;stroke-width:8.64\"/>\n",
       "\t<text x=\"2584.52\" y=\"928.32\" style=\"font-family:'Helvetica';font-size:79.94px;fill:#1A476f\">12</text>\n",
       "\t<circle cx=\"2542.57\" cy=\"1002.16\" r=\"26.35\" style=\"fill:#1A476F\"/>\n",
       "\t<circle cx=\"2542.57\" cy=\"1002.16\" r=\"22.03\" style=\"fill:none;stroke:#1A476F;stroke-width:8.64\"/>\n",
       "\t<text x=\"2584.52\" y=\"1030.17\" style=\"font-family:'Helvetica';font-size:79.94px;fill:#1A476f\">13</text>\n",
       "\t<circle cx=\"2542.57\" cy=\"1123.07\" r=\"26.35\" style=\"fill:#1A476F\"/>\n",
       "\t<circle cx=\"2542.57\" cy=\"1123.07\" r=\"22.03\" style=\"fill:none;stroke:#1A476F;stroke-width:8.64\"/>\n",
       "\t<text x=\"2584.52\" y=\"1151.08\" style=\"font-family:'Helvetica';font-size:79.94px;fill:#1A476f\">14</text>\n",
       "\t<circle cx=\"2124.91\" cy=\"1123.07\" r=\"26.35\" style=\"fill:#1A476F\"/>\n",
       "\t<circle cx=\"2124.91\" cy=\"1123.07\" r=\"22.03\" style=\"fill:none;stroke:#1A476F;stroke-width:8.64\"/>\n",
       "\t<text x=\"2166.86\" y=\"1151.08\" style=\"font-family:'Helvetica';font-size:79.94px;fill:#1A476f\">15</text>\n",
       "\t<circle cx=\"1289.47\" cy=\"929.76\" r=\"26.35\" style=\"fill:#1A476F\"/>\n",
       "\t<circle cx=\"1289.47\" cy=\"929.76\" r=\"22.03\" style=\"fill:none;stroke:#1A476F;stroke-width:8.64\"/>\n",
       "\t<text x=\"1331.43\" y=\"957.77\" style=\"font-family:'Helvetica';font-size:79.94px;fill:#1A476f\">16</text>\n",
       "\t<circle cx=\"1289.47\" cy=\"1390.00\" r=\"26.35\" style=\"fill:#1A476F\"/>\n",
       "\t<circle cx=\"1289.47\" cy=\"1390.00\" r=\"22.03\" style=\"fill:none;stroke:#1A476F;stroke-width:8.64\"/>\n",
       "\t<text x=\"1331.43\" y=\"1418.02\" style=\"font-family:'Helvetica';font-size:79.94px;fill:#1A476f\">17</text>\n",
       "\t<circle cx=\"1289.47\" cy=\"1673.89\" r=\"26.35\" style=\"fill:#1A476F\"/>\n",
       "\t<circle cx=\"1289.47\" cy=\"1673.89\" r=\"22.03\" style=\"fill:none;stroke:#1A476F;stroke-width:8.64\"/>\n",
       "\t<text x=\"1331.43\" y=\"1701.91\" style=\"font-family:'Helvetica';font-size:79.94px;fill:#1A476f\">18</text>\n",
       "\t<circle cx=\"1289.47\" cy=\"770.24\" r=\"26.35\" style=\"fill:#1A476F\"/>\n",
       "\t<circle cx=\"1289.47\" cy=\"770.24\" r=\"22.03\" style=\"fill:none;stroke:#1A476F;stroke-width:8.64\"/>\n",
       "\t<text x=\"1331.43\" y=\"798.26\" style=\"font-family:'Helvetica';font-size:79.94px;fill:#1A476f\">19</text>\n",
       "\t<circle cx=\"1289.47\" cy=\"593.89\" r=\"26.35\" style=\"fill:#1A476F\"/>\n",
       "\t<circle cx=\"1289.47\" cy=\"593.89\" r=\"22.03\" style=\"fill:none;stroke:#1A476F;stroke-width:8.64\"/>\n",
       "\t<text x=\"1331.43\" y=\"621.91\" style=\"font-family:'Helvetica';font-size:79.94px;fill:#1A476f\">20</text>\n",
       "\t<circle cx=\"1289.47\" cy=\"1262.17\" r=\"26.35\" style=\"fill:#1A476F\"/>\n",
       "\t<circle cx=\"1289.47\" cy=\"1262.17\" r=\"22.03\" style=\"fill:none;stroke:#1A476F;stroke-width:8.64\"/>\n",
       "\t<text x=\"1331.43\" y=\"1290.18\" style=\"font-family:'Helvetica';font-size:79.94px;fill:#1A476f\">21</text>\n",
       "\t<circle cx=\"1289.47\" cy=\"1699.88\" r=\"26.35\" style=\"fill:#1A476F\"/>\n",
       "\t<circle cx=\"1289.47\" cy=\"1699.88\" r=\"22.03\" style=\"fill:none;stroke:#1A476F;stroke-width:8.64\"/>\n",
       "\t<text x=\"1331.43\" y=\"1727.89\" style=\"font-family:'Helvetica';font-size:79.94px;fill:#1A476f\">22</text>\n",
       "\t<circle cx=\"1289.47\" cy=\"1316.49\" r=\"26.35\" style=\"fill:#1A476F\"/>\n",
       "\t<circle cx=\"1289.47\" cy=\"1316.49\" r=\"22.03\" style=\"fill:none;stroke:#1A476F;stroke-width:8.64\"/>\n",
       "\t<text x=\"1331.43\" y=\"1344.51\" style=\"font-family:'Helvetica';font-size:79.94px;fill:#1A476f\">23</text>\n",
       "\t<circle cx=\"1289.47\" cy=\"326.96\" r=\"26.35\" style=\"fill:#1A476F\"/>\n",
       "\t<circle cx=\"1289.47\" cy=\"326.96\" r=\"22.03\" style=\"fill:none;stroke:#1A476F;stroke-width:8.64\"/>\n",
       "\t<text x=\"1331.43\" y=\"354.97\" style=\"font-family:'Helvetica';font-size:79.94px;fill:#1A476f\">24</text>\n",
       "\t<circle cx=\"1289.47\" cy=\"636.84\" r=\"26.35\" style=\"fill:#1A476F\"/>\n",
       "\t<circle cx=\"1289.47\" cy=\"636.84\" r=\"22.03\" style=\"fill:none;stroke:#1A476F;stroke-width:8.64\"/>\n",
       "\t<text x=\"1331.43\" y=\"664.85\" style=\"font-family:'Helvetica';font-size:79.94px;fill:#1A476f\">25</text>\n",
       "\t<circle cx=\"1289.47\" cy=\"1316.49\" r=\"26.35\" style=\"fill:#1A476F\"/>\n",
       "\t<circle cx=\"1289.47\" cy=\"1316.49\" r=\"22.03\" style=\"fill:none;stroke:#1A476F;stroke-width:8.64\"/>\n",
       "\t<text x=\"1331.43\" y=\"1344.51\" style=\"font-family:'Helvetica';font-size:79.94px;fill:#1A476f\">26</text>\n",
       "\t<circle cx=\"1289.47\" cy=\"1302.88\" r=\"26.35\" style=\"fill:#1A476F\"/>\n",
       "\t<circle cx=\"1289.47\" cy=\"1302.88\" r=\"22.03\" style=\"fill:none;stroke:#1A476F;stroke-width:8.64\"/>\n",
       "\t<text x=\"1331.43\" y=\"1330.89\" style=\"font-family:'Helvetica';font-size:79.94px;fill:#1A476f\">27</text>\n",
       "\t<circle cx=\"871.82\" cy=\"1064.28\" r=\"26.35\" style=\"fill:#1A476F\"/>\n",
       "\t<circle cx=\"871.82\" cy=\"1064.28\" r=\"22.03\" style=\"fill:none;stroke:#1A476F;stroke-width:8.64\"/>\n",
       "\t<text x=\"913.77\" y=\"1092.29\" style=\"font-family:'Helvetica';font-size:79.94px;fill:#1A476f\">28</text>\n",
       "\t<circle cx=\"871.82\" cy=\"980.63\" r=\"26.35\" style=\"fill:#1A476F\"/>\n",
       "\t<circle cx=\"871.82\" cy=\"980.63\" r=\"22.03\" style=\"fill:none;stroke:#1A476F;stroke-width:8.64\"/>\n",
       "\t<text x=\"913.77\" y=\"1008.64\" style=\"font-family:'Helvetica';font-size:79.94px;fill:#1A476f\">29</text>\n",
       "\t<circle cx=\"871.82\" cy=\"2009.64\" r=\"26.35\" style=\"fill:#1A476F\"/>\n",
       "\t<circle cx=\"871.82\" cy=\"2009.64\" r=\"22.03\" style=\"fill:none;stroke:#1A476F;stroke-width:8.64\"/>\n",
       "\t<text x=\"913.77\" y=\"2037.65\" style=\"font-family:'Helvetica';font-size:79.94px;fill:#1A476f\">30</text>\n",
       "\t<line x1=\"390.80\" y1=\"2489.19\" x2=\"390.80\" y2=\"100.86\" style=\"stroke:#000000;stroke-width:5.76\"/>\n",
       "\t<line x1=\"390.80\" y1=\"2425.82\" x2=\"350.83\" y2=\"2425.82\" style=\"stroke:#000000;stroke-width:5.76\"/>\n",
       "\t<text x=\"300.72\" y=\"2425.82\" style=\"font-family:'Helvetica';font-size:99.99px;fill:#000000\" transform=\"rotate(-90 300.72,2425.82)\" text-anchor=\"middle\">4.5</text>\n",
       "\t<line x1=\"390.80\" y1=\"1860.39\" x2=\"350.83\" y2=\"1860.39\" style=\"stroke:#000000;stroke-width:5.76\"/>\n",
       "\t<text x=\"300.72\" y=\"1860.39\" style=\"font-family:'Helvetica';font-size:99.99px;fill:#000000\" transform=\"rotate(-90 300.72,1860.39)\" text-anchor=\"middle\">5</text>\n",
       "\t<line x1=\"390.80\" y1=\"1294.96\" x2=\"350.83\" y2=\"1294.96\" style=\"stroke:#000000;stroke-width:5.76\"/>\n",
       "\t<text x=\"300.72\" y=\"1294.96\" style=\"font-family:'Helvetica';font-size:99.99px;fill:#000000\" transform=\"rotate(-90 300.72,1294.96)\" text-anchor=\"middle\">5.5</text>\n",
       "\t<line x1=\"390.80\" y1=\"729.53\" x2=\"350.83\" y2=\"729.53\" style=\"stroke:#000000;stroke-width:5.76\"/>\n",
       "\t<text x=\"300.72\" y=\"729.53\" style=\"font-family:'Helvetica';font-size:99.99px;fill:#000000\" transform=\"rotate(-90 300.72,729.53)\" text-anchor=\"middle\">6</text>\n",
       "\t<line x1=\"390.80\" y1=\"164.22\" x2=\"350.83\" y2=\"164.22\" style=\"stroke:#000000;stroke-width:5.76\"/>\n",
       "\t<text x=\"300.72\" y=\"164.22\" style=\"font-family:'Helvetica';font-size:99.99px;fill:#000000\" transform=\"rotate(-90 300.72,164.22)\" text-anchor=\"middle\">6.5</text>\n",
       "\t<text x=\"190.71\" y=\"1294.96\" style=\"font-family:'Helvetica';font-size:99.99px;fill:#000000\" transform=\"rotate(-90 190.71,1294.96)\" text-anchor=\"middle\">ln(wage)</text>\n",
       "\t<line x1=\"390.80\" y1=\"2489.19\" x2=\"3859.02\" y2=\"2489.19\" style=\"stroke:#000000;stroke-width:5.76\"/>\n",
       "\t<line x1=\"454.16\" y1=\"2489.19\" x2=\"454.16\" y2=\"2529.16\" style=\"stroke:#000000;stroke-width:5.76\"/>\n",
       "\t<text x=\"454.16\" y=\"2619.14\" style=\"font-family:'Helvetica';font-size:99.99px;fill:#000000\" text-anchor=\"middle\">10</text>\n",
       "\t<line x1=\"1289.47\" y1=\"2489.19\" x2=\"1289.47\" y2=\"2529.16\" style=\"stroke:#000000;stroke-width:5.76\"/>\n",
       "\t<text x=\"1289.47\" y=\"2619.14\" style=\"font-family:'Helvetica';font-size:99.99px;fill:#000000\" text-anchor=\"middle\">12</text>\n",
       "\t<line x1=\"2124.91\" y1=\"2489.19\" x2=\"2124.91\" y2=\"2529.16\" style=\"stroke:#000000;stroke-width:5.76\"/>\n",
       "\t<text x=\"2124.91\" y=\"2619.14\" style=\"font-family:'Helvetica';font-size:99.99px;fill:#000000\" text-anchor=\"middle\">14</text>\n",
       "\t<line x1=\"2960.35\" y1=\"2489.19\" x2=\"2960.35\" y2=\"2529.16\" style=\"stroke:#000000;stroke-width:5.76\"/>\n",
       "\t<text x=\"2960.35\" y=\"2619.14\" style=\"font-family:'Helvetica';font-size:99.99px;fill:#000000\" text-anchor=\"middle\">16</text>\n",
       "\t<line x1=\"3795.66\" y1=\"2489.19\" x2=\"3795.66\" y2=\"2529.16\" style=\"stroke:#000000;stroke-width:5.76\"/>\n",
       "\t<text x=\"3795.66\" y=\"2619.14\" style=\"font-family:'Helvetica';font-size:99.99px;fill:#000000\" text-anchor=\"middle\">18</text>\n",
       "\t<text x=\"2124.91\" y=\"2729.16\" style=\"font-family:'Helvetica';font-size:99.99px;fill:#000000\" text-anchor=\"middle\">schooling</text>\n",
       "</svg>\n"
      ],
      "text/html": [
       "                <iframe frameborder=\"0\" scrolling=\"no\" height=\"436\" width=\"600\"                srcdoc=\"<html><body>&lt;?xml version=&quot;1.0&quot; encoding=&quot;UTF-8&quot; standalone=&quot;no&quot;?&gt;\n",
       "&lt;!-- This is a Stata 15.1 generated SVG file (http://www.stata.com) --&gt;\n",
       "\n",
       "&lt;svg version=&quot;1.1&quot; width=&quot;600px&quot; height=&quot;436px&quot; viewBox=&quot;0 0 3960 2880&quot; xmlns=&quot;http://www.w3.org/2000/svg&quot; xmlns:xlink=&quot;http://www.w3.org/1999/xlink&quot;&gt;\n",
       "\t&lt;desc&gt;Stata Graph - Graph&lt;/desc&gt;\n",
       "\t&lt;rect x=&quot;0&quot; y=&quot;0&quot; width=&quot;3960&quot; height=&quot;2880&quot; style=&quot;fill:#EAF2F3;stroke:none&quot;/&gt;\n",
       "\t&lt;rect x=&quot;0.00&quot; y=&quot;0.00&quot; width=&quot;3959.88&quot; height=&quot;2880.00&quot; style=&quot;fill:#EAF2F3&quot;/&gt;\n",
       "\t&lt;rect x=&quot;2.88&quot; y=&quot;2.88&quot; width=&quot;3954.12&quot; height=&quot;2874.24&quot; style=&quot;fill:none;stroke:#EAF2F3;stroke-width:5.76&quot;/&gt;\n",
       "\t&lt;rect x=&quot;390.80&quot; y=&quot;100.86&quot; width=&quot;3468.22&quot; height=&quot;2388.33&quot; style=&quot;fill:#FFFFFF&quot;/&gt;\n",
       "\t&lt;rect x=&quot;393.68&quot; y=&quot;103.74&quot; width=&quot;3462.46&quot; height=&quot;2382.57&quot; style=&quot;fill:none;stroke:#FFFFFF;stroke-width:5.76&quot;/&gt;\n",
       "\t&lt;line x1=&quot;390.80&quot; y1=&quot;1860.39&quot; x2=&quot;3859.02&quot; y2=&quot;1860.39&quot; style=&quot;stroke:#EAF2F3;stroke-width:8.64&quot;/&gt;\n",
       "\t&lt;line x1=&quot;390.80&quot; y1=&quot;1294.96&quot; x2=&quot;3859.02&quot; y2=&quot;1294.96&quot; style=&quot;stroke:#EAF2F3;stroke-width:8.64&quot;/&gt;\n",
       "\t&lt;line x1=&quot;390.80&quot; y1=&quot;729.53&quot; x2=&quot;3859.02&quot; y2=&quot;729.53&quot; style=&quot;stroke:#EAF2F3;stroke-width:8.64&quot;/&gt;\n",
       "\t&lt;line x1=&quot;390.80&quot; y1=&quot;164.22&quot; x2=&quot;3859.02&quot; y2=&quot;164.22&quot; style=&quot;stroke:#EAF2F3;stroke-width:8.64&quot;/&gt;\n",
       "\t&lt;circle cx=&quot;3795.66&quot; cy=&quot;486.48&quot; r=&quot;26.35&quot; style=&quot;fill:#1A476F&quot;/&gt;\n",
       "\t&lt;circle cx=&quot;3795.66&quot; cy=&quot;486.48&quot; r=&quot;22.03&quot; style=&quot;fill:none;stroke:#1A476F;stroke-width:8.64&quot;/&gt;\n",
       "\t&lt;text x=&quot;3837.61&quot; y=&quot;514.49&quot; style=&quot;font-family:&#x27;Helvetica&#x27;;font-size:79.94px;fill:#1A476f&quot;&gt;1&lt;/text&gt;\n",
       "\t&lt;circle cx=&quot;2960.35&quot; cy=&quot;575.83&quot; r=&quot;26.35&quot; style=&quot;fill:#1A476F&quot;/&gt;\n",
       "\t&lt;circle cx=&quot;2960.35&quot; cy=&quot;575.83&quot; r=&quot;22.03&quot; style=&quot;fill:none;stroke:#1A476F;stroke-width:8.64&quot;/&gt;\n",
       "\t&lt;text x=&quot;3002.30&quot; y=&quot;603.84&quot; style=&quot;font-family:&#x27;Helvetica&#x27;;font-size:79.94px;fill:#1A476f&quot;&gt;2&lt;/text&gt;\n",
       "\t&lt;circle cx=&quot;2960.35&quot; cy=&quot;373.37&quot; r=&quot;26.35&quot; style=&quot;fill:#1A476F&quot;/&gt;\n",
       "\t&lt;circle cx=&quot;2960.35&quot; cy=&quot;373.37&quot; r=&quot;22.03&quot; style=&quot;fill:none;stroke:#1A476F;stroke-width:8.64&quot;/&gt;\n",
       "\t&lt;text x=&quot;3002.30&quot; y=&quot;401.38&quot; style=&quot;font-family:&#x27;Helvetica&#x27;;font-size:79.94px;fill:#1A476f&quot;&gt;3&lt;/text&gt;\n",
       "\t&lt;circle cx=&quot;2960.35&quot; cy=&quot;1293.85&quot; r=&quot;26.35&quot; style=&quot;fill:#1A476F&quot;/&gt;\n",
       "\t&lt;circle cx=&quot;2960.35&quot; cy=&quot;1293.85&quot; r=&quot;22.03&quot; style=&quot;fill:none;stroke:#1A476F;stroke-width:8.64&quot;/&gt;\n",
       "\t&lt;text x=&quot;3002.30&quot; y=&quot;1321.86&quot; style=&quot;font-family:&#x27;Helvetica&#x27;;font-size:79.94px;fill:#1A476f&quot;&gt;4&lt;/text&gt;\n",
       "\t&lt;circle cx=&quot;2960.35&quot; cy=&quot;649.34&quot; r=&quot;26.35&quot; style=&quot;fill:#1A476F&quot;/&gt;\n",
       "\t&lt;circle cx=&quot;2960.35&quot; cy=&quot;649.34&quot; r=&quot;22.03&quot; style=&quot;fill:none;stroke:#1A476F;stroke-width:8.64&quot;/&gt;\n",
       "\t&lt;text x=&quot;3002.30&quot; y=&quot;677.35&quot; style=&quot;font-family:&#x27;Helvetica&#x27;;font-size:79.94px;fill:#1A476f&quot;&gt;5&lt;/text&gt;\n",
       "\t&lt;circle cx=&quot;2960.35&quot; cy=&quot;909.34&quot; r=&quot;26.35&quot; style=&quot;fill:#1A476F&quot;/&gt;\n",
       "\t&lt;circle cx=&quot;2960.35&quot; cy=&quot;909.34&quot; r=&quot;22.03&quot; style=&quot;fill:none;stroke:#1A476F;stroke-width:8.64&quot;/&gt;\n",
       "\t&lt;text x=&quot;3002.30&quot; y=&quot;937.36&quot; style=&quot;font-family:&#x27;Helvetica&#x27;;font-size:79.94px;fill:#1A476f&quot;&gt;6&lt;/text&gt;\n",
       "\t&lt;circle cx=&quot;2960.35&quot; cy=&quot;753.29&quot; r=&quot;26.35&quot; style=&quot;fill:#1A476F&quot;/&gt;\n",
       "\t&lt;circle cx=&quot;2960.35&quot; cy=&quot;753.29&quot; r=&quot;22.03&quot; style=&quot;fill:none;stroke:#1A476F;stroke-width:8.64&quot;/&gt;\n",
       "\t&lt;text x=&quot;3002.30&quot; y=&quot;781.30&quot; style=&quot;font-family:&#x27;Helvetica&#x27;;font-size:79.94px;fill:#1A476f&quot;&gt;7&lt;/text&gt;\n",
       "\t&lt;circle cx=&quot;2960.35&quot; cy=&quot;530.53&quot; r=&quot;26.35&quot; style=&quot;fill:#1A476F&quot;/&gt;\n",
       "\t&lt;circle cx=&quot;2960.35&quot; cy=&quot;530.53&quot; r=&quot;22.03&quot; style=&quot;fill:none;stroke:#1A476F;stroke-width:8.64&quot;/&gt;\n",
       "\t&lt;text x=&quot;3002.30&quot; y=&quot;558.54&quot; style=&quot;font-family:&#x27;Helvetica&#x27;;font-size:79.94px;fill:#1A476f&quot;&gt;8&lt;/text&gt;\n",
       "\t&lt;circle cx=&quot;2960.35&quot; cy=&quot;649.34&quot; r=&quot;26.35&quot; style=&quot;fill:#1A476F&quot;/&gt;\n",
       "\t&lt;circle cx=&quot;2960.35&quot; cy=&quot;649.34&quot; r=&quot;22.03&quot; style=&quot;fill:none;stroke:#1A476F;stroke-width:8.64&quot;/&gt;\n",
       "\t&lt;text x=&quot;3002.30&quot; y=&quot;677.35&quot; style=&quot;font-family:&#x27;Helvetica&#x27;;font-size:79.94px;fill:#1A476f&quot;&gt;9&lt;/text&gt;\n",
       "\t&lt;circle cx=&quot;2960.35&quot; cy=&quot;652.68&quot; r=&quot;26.35&quot; style=&quot;fill:#1A476F&quot;/&gt;\n",
       "\t&lt;circle cx=&quot;2960.35&quot; cy=&quot;652.68&quot; r=&quot;22.03&quot; style=&quot;fill:none;stroke:#1A476F;stroke-width:8.64&quot;/&gt;\n",
       "\t&lt;text x=&quot;3002.30&quot; y=&quot;680.69&quot; style=&quot;font-family:&#x27;Helvetica&#x27;;font-size:79.94px;fill:#1A476f&quot;&gt;10&lt;/text&gt;\n",
       "\t&lt;circle cx=&quot;2960.35&quot; cy=&quot;606.27&quot; r=&quot;26.35&quot; style=&quot;fill:#1A476F&quot;/&gt;\n",
       "\t&lt;circle cx=&quot;2960.35&quot; cy=&quot;606.27&quot; r=&quot;22.03&quot; style=&quot;fill:none;stroke:#1A476F;stroke-width:8.64&quot;/&gt;\n",
       "\t&lt;text x=&quot;3002.30&quot; y=&quot;634.28&quot; style=&quot;font-family:&#x27;Helvetica&#x27;;font-size:79.94px;fill:#1A476f&quot;&gt;11&lt;/text&gt;\n",
       "\t&lt;circle cx=&quot;2542.57&quot; cy=&quot;900.31&quot; r=&quot;26.35&quot; style=&quot;fill:#1A476F&quot;/&gt;\n",
       "\t&lt;circle cx=&quot;2542.57&quot; cy=&quot;900.31&quot; r=&quot;22.03&quot; style=&quot;fill:none;stroke:#1A476F;stroke-width:8.64&quot;/&gt;\n",
       "\t&lt;text x=&quot;2584.52&quot; y=&quot;928.32&quot; style=&quot;font-family:&#x27;Helvetica&#x27;;font-size:79.94px;fill:#1A476f&quot;&gt;12&lt;/text&gt;\n",
       "\t&lt;circle cx=&quot;2542.57&quot; cy=&quot;1002.16&quot; r=&quot;26.35&quot; style=&quot;fill:#1A476F&quot;/&gt;\n",
       "\t&lt;circle cx=&quot;2542.57&quot; cy=&quot;1002.16&quot; r=&quot;22.03&quot; style=&quot;fill:none;stroke:#1A476F;stroke-width:8.64&quot;/&gt;\n",
       "\t&lt;text x=&quot;2584.52&quot; y=&quot;1030.17&quot; style=&quot;font-family:&#x27;Helvetica&#x27;;font-size:79.94px;fill:#1A476f&quot;&gt;13&lt;/text&gt;\n",
       "\t&lt;circle cx=&quot;2542.57&quot; cy=&quot;1123.07&quot; r=&quot;26.35&quot; style=&quot;fill:#1A476F&quot;/&gt;\n",
       "\t&lt;circle cx=&quot;2542.57&quot; cy=&quot;1123.07&quot; r=&quot;22.03&quot; style=&quot;fill:none;stroke:#1A476F;stroke-width:8.64&quot;/&gt;\n",
       "\t&lt;text x=&quot;2584.52&quot; y=&quot;1151.08&quot; style=&quot;font-family:&#x27;Helvetica&#x27;;font-size:79.94px;fill:#1A476f&quot;&gt;14&lt;/text&gt;\n",
       "\t&lt;circle cx=&quot;2124.91&quot; cy=&quot;1123.07&quot; r=&quot;26.35&quot; style=&quot;fill:#1A476F&quot;/&gt;\n",
       "\t&lt;circle cx=&quot;2124.91&quot; cy=&quot;1123.07&quot; r=&quot;22.03&quot; style=&quot;fill:none;stroke:#1A476F;stroke-width:8.64&quot;/&gt;\n",
       "\t&lt;text x=&quot;2166.86&quot; y=&quot;1151.08&quot; style=&quot;font-family:&#x27;Helvetica&#x27;;font-size:79.94px;fill:#1A476f&quot;&gt;15&lt;/text&gt;\n",
       "\t&lt;circle cx=&quot;1289.47&quot; cy=&quot;929.76&quot; r=&quot;26.35&quot; style=&quot;fill:#1A476F&quot;/&gt;\n",
       "\t&lt;circle cx=&quot;1289.47&quot; cy=&quot;929.76&quot; r=&quot;22.03&quot; style=&quot;fill:none;stroke:#1A476F;stroke-width:8.64&quot;/&gt;\n",
       "\t&lt;text x=&quot;1331.43&quot; y=&quot;957.77&quot; style=&quot;font-family:&#x27;Helvetica&#x27;;font-size:79.94px;fill:#1A476f&quot;&gt;16&lt;/text&gt;\n",
       "\t&lt;circle cx=&quot;1289.47&quot; cy=&quot;1390.00&quot; r=&quot;26.35&quot; style=&quot;fill:#1A476F&quot;/&gt;\n",
       "\t&lt;circle cx=&quot;1289.47&quot; cy=&quot;1390.00&quot; r=&quot;22.03&quot; style=&quot;fill:none;stroke:#1A476F;stroke-width:8.64&quot;/&gt;\n",
       "\t&lt;text x=&quot;1331.43&quot; y=&quot;1418.02&quot; style=&quot;font-family:&#x27;Helvetica&#x27;;font-size:79.94px;fill:#1A476f&quot;&gt;17&lt;/text&gt;\n",
       "\t&lt;circle cx=&quot;1289.47&quot; cy=&quot;1673.89&quot; r=&quot;26.35&quot; style=&quot;fill:#1A476F&quot;/&gt;\n",
       "\t&lt;circle cx=&quot;1289.47&quot; cy=&quot;1673.89&quot; r=&quot;22.03&quot; style=&quot;fill:none;stroke:#1A476F;stroke-width:8.64&quot;/&gt;\n",
       "\t&lt;text x=&quot;1331.43&quot; y=&quot;1701.91&quot; style=&quot;font-family:&#x27;Helvetica&#x27;;font-size:79.94px;fill:#1A476f&quot;&gt;18&lt;/text&gt;\n",
       "\t&lt;circle cx=&quot;1289.47&quot; cy=&quot;770.24&quot; r=&quot;26.35&quot; style=&quot;fill:#1A476F&quot;/&gt;\n",
       "\t&lt;circle cx=&quot;1289.47&quot; cy=&quot;770.24&quot; r=&quot;22.03&quot; style=&quot;fill:none;stroke:#1A476F;stroke-width:8.64&quot;/&gt;\n",
       "\t&lt;text x=&quot;1331.43&quot; y=&quot;798.26&quot; style=&quot;font-family:&#x27;Helvetica&#x27;;font-size:79.94px;fill:#1A476f&quot;&gt;19&lt;/text&gt;\n",
       "\t&lt;circle cx=&quot;1289.47&quot; cy=&quot;593.89&quot; r=&quot;26.35&quot; style=&quot;fill:#1A476F&quot;/&gt;\n",
       "\t&lt;circle cx=&quot;1289.47&quot; cy=&quot;593.89&quot; r=&quot;22.03&quot; style=&quot;fill:none;stroke:#1A476F;stroke-width:8.64&quot;/&gt;\n",
       "\t&lt;text x=&quot;1331.43&quot; y=&quot;621.91&quot; style=&quot;font-family:&#x27;Helvetica&#x27;;font-size:79.94px;fill:#1A476f&quot;&gt;20&lt;/text&gt;\n",
       "\t&lt;circle cx=&quot;1289.47&quot; cy=&quot;1262.17&quot; r=&quot;26.35&quot; style=&quot;fill:#1A476F&quot;/&gt;\n",
       "\t&lt;circle cx=&quot;1289.47&quot; cy=&quot;1262.17&quot; r=&quot;22.03&quot; style=&quot;fill:none;stroke:#1A476F;stroke-width:8.64&quot;/&gt;\n",
       "\t&lt;text x=&quot;1331.43&quot; y=&quot;1290.18&quot; style=&quot;font-family:&#x27;Helvetica&#x27;;font-size:79.94px;fill:#1A476f&quot;&gt;21&lt;/text&gt;\n",
       "\t&lt;circle cx=&quot;1289.47&quot; cy=&quot;1699.88&quot; r=&quot;26.35&quot; style=&quot;fill:#1A476F&quot;/&gt;\n",
       "\t&lt;circle cx=&quot;1289.47&quot; cy=&quot;1699.88&quot; r=&quot;22.03&quot; style=&quot;fill:none;stroke:#1A476F;stroke-width:8.64&quot;/&gt;\n",
       "\t&lt;text x=&quot;1331.43&quot; y=&quot;1727.89&quot; style=&quot;font-family:&#x27;Helvetica&#x27;;font-size:79.94px;fill:#1A476f&quot;&gt;22&lt;/text&gt;\n",
       "\t&lt;circle cx=&quot;1289.47&quot; cy=&quot;1316.49&quot; r=&quot;26.35&quot; style=&quot;fill:#1A476F&quot;/&gt;\n",
       "\t&lt;circle cx=&quot;1289.47&quot; cy=&quot;1316.49&quot; r=&quot;22.03&quot; style=&quot;fill:none;stroke:#1A476F;stroke-width:8.64&quot;/&gt;\n",
       "\t&lt;text x=&quot;1331.43&quot; y=&quot;1344.51&quot; style=&quot;font-family:&#x27;Helvetica&#x27;;font-size:79.94px;fill:#1A476f&quot;&gt;23&lt;/text&gt;\n",
       "\t&lt;circle cx=&quot;1289.47&quot; cy=&quot;326.96&quot; r=&quot;26.35&quot; style=&quot;fill:#1A476F&quot;/&gt;\n",
       "\t&lt;circle cx=&quot;1289.47&quot; cy=&quot;326.96&quot; r=&quot;22.03&quot; style=&quot;fill:none;stroke:#1A476F;stroke-width:8.64&quot;/&gt;\n",
       "\t&lt;text x=&quot;1331.43&quot; y=&quot;354.97&quot; style=&quot;font-family:&#x27;Helvetica&#x27;;font-size:79.94px;fill:#1A476f&quot;&gt;24&lt;/text&gt;\n",
       "\t&lt;circle cx=&quot;1289.47&quot; cy=&quot;636.84&quot; r=&quot;26.35&quot; style=&quot;fill:#1A476F&quot;/&gt;\n",
       "\t&lt;circle cx=&quot;1289.47&quot; cy=&quot;636.84&quot; r=&quot;22.03&quot; style=&quot;fill:none;stroke:#1A476F;stroke-width:8.64&quot;/&gt;\n",
       "\t&lt;text x=&quot;1331.43&quot; y=&quot;664.85&quot; style=&quot;font-family:&#x27;Helvetica&#x27;;font-size:79.94px;fill:#1A476f&quot;&gt;25&lt;/text&gt;\n",
       "\t&lt;circle cx=&quot;1289.47&quot; cy=&quot;1316.49&quot; r=&quot;26.35&quot; style=&quot;fill:#1A476F&quot;/&gt;\n",
       "\t&lt;circle cx=&quot;1289.47&quot; cy=&quot;1316.49&quot; r=&quot;22.03&quot; style=&quot;fill:none;stroke:#1A476F;stroke-width:8.64&quot;/&gt;\n",
       "\t&lt;text x=&quot;1331.43&quot; y=&quot;1344.51&quot; style=&quot;font-family:&#x27;Helvetica&#x27;;font-size:79.94px;fill:#1A476f&quot;&gt;26&lt;/text&gt;\n",
       "\t&lt;circle cx=&quot;1289.47&quot; cy=&quot;1302.88&quot; r=&quot;26.35&quot; style=&quot;fill:#1A476F&quot;/&gt;\n",
       "\t&lt;circle cx=&quot;1289.47&quot; cy=&quot;1302.88&quot; r=&quot;22.03&quot; style=&quot;fill:none;stroke:#1A476F;stroke-width:8.64&quot;/&gt;\n",
       "\t&lt;text x=&quot;1331.43&quot; y=&quot;1330.89&quot; style=&quot;font-family:&#x27;Helvetica&#x27;;font-size:79.94px;fill:#1A476f&quot;&gt;27&lt;/text&gt;\n",
       "\t&lt;circle cx=&quot;871.82&quot; cy=&quot;1064.28&quot; r=&quot;26.35&quot; style=&quot;fill:#1A476F&quot;/&gt;\n",
       "\t&lt;circle cx=&quot;871.82&quot; cy=&quot;1064.28&quot; r=&quot;22.03&quot; style=&quot;fill:none;stroke:#1A476F;stroke-width:8.64&quot;/&gt;\n",
       "\t&lt;text x=&quot;913.77&quot; y=&quot;1092.29&quot; style=&quot;font-family:&#x27;Helvetica&#x27;;font-size:79.94px;fill:#1A476f&quot;&gt;28&lt;/text&gt;\n",
       "\t&lt;circle cx=&quot;871.82&quot; cy=&quot;980.63&quot; r=&quot;26.35&quot; style=&quot;fill:#1A476F&quot;/&gt;\n",
       "\t&lt;circle cx=&quot;871.82&quot; cy=&quot;980.63&quot; r=&quot;22.03&quot; style=&quot;fill:none;stroke:#1A476F;stroke-width:8.64&quot;/&gt;\n",
       "\t&lt;text x=&quot;913.77&quot; y=&quot;1008.64&quot; style=&quot;font-family:&#x27;Helvetica&#x27;;font-size:79.94px;fill:#1A476f&quot;&gt;29&lt;/text&gt;\n",
       "\t&lt;circle cx=&quot;871.82&quot; cy=&quot;2009.64&quot; r=&quot;26.35&quot; style=&quot;fill:#1A476F&quot;/&gt;\n",
       "\t&lt;circle cx=&quot;871.82&quot; cy=&quot;2009.64&quot; r=&quot;22.03&quot; style=&quot;fill:none;stroke:#1A476F;stroke-width:8.64&quot;/&gt;\n",
       "\t&lt;text x=&quot;913.77&quot; y=&quot;2037.65&quot; style=&quot;font-family:&#x27;Helvetica&#x27;;font-size:79.94px;fill:#1A476f&quot;&gt;30&lt;/text&gt;\n",
       "\t&lt;line x1=&quot;390.80&quot; y1=&quot;2489.19&quot; x2=&quot;390.80&quot; y2=&quot;100.86&quot; style=&quot;stroke:#000000;stroke-width:5.76&quot;/&gt;\n",
       "\t&lt;line x1=&quot;390.80&quot; y1=&quot;2425.82&quot; x2=&quot;350.83&quot; y2=&quot;2425.82&quot; style=&quot;stroke:#000000;stroke-width:5.76&quot;/&gt;\n",
       "\t&lt;text x=&quot;300.72&quot; y=&quot;2425.82&quot; style=&quot;font-family:&#x27;Helvetica&#x27;;font-size:99.99px;fill:#000000&quot; transform=&quot;rotate(-90 300.72,2425.82)&quot; text-anchor=&quot;middle&quot;&gt;4.5&lt;/text&gt;\n",
       "\t&lt;line x1=&quot;390.80&quot; y1=&quot;1860.39&quot; x2=&quot;350.83&quot; y2=&quot;1860.39&quot; style=&quot;stroke:#000000;stroke-width:5.76&quot;/&gt;\n",
       "\t&lt;text x=&quot;300.72&quot; y=&quot;1860.39&quot; style=&quot;font-family:&#x27;Helvetica&#x27;;font-size:99.99px;fill:#000000&quot; transform=&quot;rotate(-90 300.72,1860.39)&quot; text-anchor=&quot;middle&quot;&gt;5&lt;/text&gt;\n",
       "\t&lt;line x1=&quot;390.80&quot; y1=&quot;1294.96&quot; x2=&quot;350.83&quot; y2=&quot;1294.96&quot; style=&quot;stroke:#000000;stroke-width:5.76&quot;/&gt;\n",
       "\t&lt;text x=&quot;300.72&quot; y=&quot;1294.96&quot; style=&quot;font-family:&#x27;Helvetica&#x27;;font-size:99.99px;fill:#000000&quot; transform=&quot;rotate(-90 300.72,1294.96)&quot; text-anchor=&quot;middle&quot;&gt;5.5&lt;/text&gt;\n",
       "\t&lt;line x1=&quot;390.80&quot; y1=&quot;729.53&quot; x2=&quot;350.83&quot; y2=&quot;729.53&quot; style=&quot;stroke:#000000;stroke-width:5.76&quot;/&gt;\n",
       "\t&lt;text x=&quot;300.72&quot; y=&quot;729.53&quot; style=&quot;font-family:&#x27;Helvetica&#x27;;font-size:99.99px;fill:#000000&quot; transform=&quot;rotate(-90 300.72,729.53)&quot; text-anchor=&quot;middle&quot;&gt;6&lt;/text&gt;\n",
       "\t&lt;line x1=&quot;390.80&quot; y1=&quot;164.22&quot; x2=&quot;350.83&quot; y2=&quot;164.22&quot; style=&quot;stroke:#000000;stroke-width:5.76&quot;/&gt;\n",
       "\t&lt;text x=&quot;300.72&quot; y=&quot;164.22&quot; style=&quot;font-family:&#x27;Helvetica&#x27;;font-size:99.99px;fill:#000000&quot; transform=&quot;rotate(-90 300.72,164.22)&quot; text-anchor=&quot;middle&quot;&gt;6.5&lt;/text&gt;\n",
       "\t&lt;text x=&quot;190.71&quot; y=&quot;1294.96&quot; style=&quot;font-family:&#x27;Helvetica&#x27;;font-size:99.99px;fill:#000000&quot; transform=&quot;rotate(-90 190.71,1294.96)&quot; text-anchor=&quot;middle&quot;&gt;ln(wage)&lt;/text&gt;\n",
       "\t&lt;line x1=&quot;390.80&quot; y1=&quot;2489.19&quot; x2=&quot;3859.02&quot; y2=&quot;2489.19&quot; style=&quot;stroke:#000000;stroke-width:5.76&quot;/&gt;\n",
       "\t&lt;line x1=&quot;454.16&quot; y1=&quot;2489.19&quot; x2=&quot;454.16&quot; y2=&quot;2529.16&quot; style=&quot;stroke:#000000;stroke-width:5.76&quot;/&gt;\n",
       "\t&lt;text x=&quot;454.16&quot; y=&quot;2619.14&quot; style=&quot;font-family:&#x27;Helvetica&#x27;;font-size:99.99px;fill:#000000&quot; text-anchor=&quot;middle&quot;&gt;10&lt;/text&gt;\n",
       "\t&lt;line x1=&quot;1289.47&quot; y1=&quot;2489.19&quot; x2=&quot;1289.47&quot; y2=&quot;2529.16&quot; style=&quot;stroke:#000000;stroke-width:5.76&quot;/&gt;\n",
       "\t&lt;text x=&quot;1289.47&quot; y=&quot;2619.14&quot; style=&quot;font-family:&#x27;Helvetica&#x27;;font-size:99.99px;fill:#000000&quot; text-anchor=&quot;middle&quot;&gt;12&lt;/text&gt;\n",
       "\t&lt;line x1=&quot;2124.91&quot; y1=&quot;2489.19&quot; x2=&quot;2124.91&quot; y2=&quot;2529.16&quot; style=&quot;stroke:#000000;stroke-width:5.76&quot;/&gt;\n",
       "\t&lt;text x=&quot;2124.91&quot; y=&quot;2619.14&quot; style=&quot;font-family:&#x27;Helvetica&#x27;;font-size:99.99px;fill:#000000&quot; text-anchor=&quot;middle&quot;&gt;14&lt;/text&gt;\n",
       "\t&lt;line x1=&quot;2960.35&quot; y1=&quot;2489.19&quot; x2=&quot;2960.35&quot; y2=&quot;2529.16&quot; style=&quot;stroke:#000000;stroke-width:5.76&quot;/&gt;\n",
       "\t&lt;text x=&quot;2960.35&quot; y=&quot;2619.14&quot; style=&quot;font-family:&#x27;Helvetica&#x27;;font-size:99.99px;fill:#000000&quot; text-anchor=&quot;middle&quot;&gt;16&lt;/text&gt;\n",
       "\t&lt;line x1=&quot;3795.66&quot; y1=&quot;2489.19&quot; x2=&quot;3795.66&quot; y2=&quot;2529.16&quot; style=&quot;stroke:#000000;stroke-width:5.76&quot;/&gt;\n",
       "\t&lt;text x=&quot;3795.66&quot; y=&quot;2619.14&quot; style=&quot;font-family:&#x27;Helvetica&#x27;;font-size:99.99px;fill:#000000&quot; text-anchor=&quot;middle&quot;&gt;18&lt;/text&gt;\n",
       "\t&lt;text x=&quot;2124.91&quot; y=&quot;2729.16&quot; style=&quot;font-family:&#x27;Helvetica&#x27;;font-size:99.99px;fill:#000000&quot; text-anchor=&quot;middle&quot;&gt;schooling&lt;/text&gt;\n",
       "&lt;/svg&gt;\n",
       "</body></html>\"></iframe>\n"
      ],
      "text/plain": [
       "This front-end cannot display the desired image type."
      ]
     },
     "metadata": {
      "image/svg+xml": {
       "height": 436,
       "width": 600
      },
      "text/html": {
       "height": 436,
       "width": 600
      }
     },
     "output_type": "display_data"
    }
   ],
   "source": [
    "*mark label\n",
    "gen n = _n\n",
    "scatter lnw s, mlabel(n)"
   ]
  },
  {
   "cell_type": "markdown",
   "metadata": {},
   "source": [
    "## 统计分析"
   ]
  },
  {
   "cell_type": "code",
   "execution_count": 18,
   "metadata": {
    "ExecuteTime": {
     "end_time": "2020-03-10T10:53:24.776896Z",
     "start_time": "2020-03-10T10:53:24.693057Z"
    }
   },
   "outputs": [
    {
     "name": "stdout",
     "output_type": "stream",
     "text": [
      "\n",
      "    Variable |        Obs        Mean    Std. Dev.       Min        Max\n",
      "-------------+---------------------------------------------------------\n",
      "           s |         30        13.8    2.139932         11         18\n"
     ]
    }
   ],
   "source": [
    "*summarize\n",
    "su s"
   ]
  },
  {
   "cell_type": "code",
   "execution_count": 19,
   "metadata": {
    "ExecuteTime": {
     "end_time": "2020-03-10T10:53:38.062099Z",
     "start_time": "2020-03-10T10:53:37.972411Z"
    }
   },
   "outputs": [
    {
     "name": "stdout",
     "output_type": "stream",
     "text": [
      "\n",
      "    Variable |        Obs        Mean    Std. Dev.       Min        Max\n",
      "-------------+---------------------------------------------------------\n",
      "           s |         30        13.8    2.139932         11         18\n",
      "        expr |         30    1.658667    2.445213          0     10.077\n",
      "         lnw |         30      5.7932    .3679956      4.868      6.356\n",
      "           n |         30        15.5    8.803408          1         30\n"
     ]
    }
   ],
   "source": [
    "sum"
   ]
  },
  {
   "cell_type": "code",
   "execution_count": 20,
   "metadata": {
    "ExecuteTime": {
     "end_time": "2020-03-10T10:54:00.598053Z",
     "start_time": "2020-03-10T10:54:00.510100Z"
    }
   },
   "outputs": [
    {
     "name": "stdout",
     "output_type": "stream",
     "text": [
      "\n",
      "  schooling |      Freq.     Percent        Cum.\n",
      "------------+-----------------------------------\n",
      "         11 |          3       10.00       10.00\n",
      "         12 |         12       40.00       50.00\n",
      "         14 |          1        3.33       53.33\n",
      "         15 |          3       10.00       63.33\n",
      "         16 |         10       33.33       96.67\n",
      "         18 |          1        3.33      100.00\n",
      "------------+-----------------------------------\n",
      "      Total |         30      100.00\n"
     ]
    }
   ],
   "source": [
    "*tabulate\n",
    "ta s"
   ]
  },
  {
   "cell_type": "code",
   "execution_count": 21,
   "metadata": {
    "ExecuteTime": {
     "end_time": "2020-03-10T10:54:36.407697Z",
     "start_time": "2020-03-10T10:54:36.305766Z"
    }
   },
   "outputs": [
    {
     "name": "stdout",
     "output_type": "stream",
     "text": [
      "\n",
      "             |      lnw        s     expr\n",
      "-------------+---------------------------\n",
      "         lnw |   1.0000 \n",
      "             |\n",
      "             |\n",
      "           s |   0.5368*  1.0000 \n",
      "             |   0.0022\n",
      "             |\n",
      "        expr |   0.2029  -0.1132   1.0000 \n",
      "             |   0.2823   0.5514\n",
      "             |\n"
     ]
    }
   ],
   "source": [
    "pwcorr lnw s expr, sig star(.05)"
   ]
  },
  {
   "cell_type": "code",
   "execution_count": 22,
   "metadata": {
    "ExecuteTime": {
     "end_time": "2020-03-10T10:54:47.247666Z",
     "start_time": "2020-03-10T10:54:47.162664Z"
    }
   },
   "outputs": [
    {
     "name": "stdout",
     "output_type": "stream",
     "text": [
      "\n",
      "             |      lnw        s     expr\n",
      "-------------+---------------------------\n",
      "         lnw |   1.0000 \n",
      "           s |   0.5368*  1.0000 \n",
      "        expr |   0.2029  -0.1132   1.0000 \n"
     ]
    }
   ],
   "source": [
    "pwcorr lnw s expr, star(.05)"
   ]
  },
  {
   "cell_type": "markdown",
   "metadata": {},
   "source": [
    "## 生成新变量"
   ]
  },
  {
   "cell_type": "code",
   "execution_count": 23,
   "metadata": {
    "ExecuteTime": {
     "end_time": "2020-03-10T10:55:38.886284Z",
     "start_time": "2020-03-10T10:55:38.804468Z"
    }
   },
   "outputs": [],
   "source": [
    "* generate\n",
    "gen lns = log(s)"
   ]
  },
  {
   "cell_type": "code",
   "execution_count": 24,
   "metadata": {
    "ExecuteTime": {
     "end_time": "2020-03-10T10:55:45.587018Z",
     "start_time": "2020-03-10T10:55:45.505816Z"
    }
   },
   "outputs": [],
   "source": [
    "gen s2 = s^2"
   ]
  },
  {
   "cell_type": "code",
   "execution_count": 25,
   "metadata": {
    "ExecuteTime": {
     "end_time": "2020-03-10T10:55:54.186855Z",
     "start_time": "2020-03-10T10:55:54.106171Z"
    }
   },
   "outputs": [],
   "source": [
    "gen w = exp(lnw)"
   ]
  },
  {
   "cell_type": "code",
   "execution_count": 26,
   "metadata": {
    "ExecuteTime": {
     "end_time": "2020-03-10T10:56:08.174129Z",
     "start_time": "2020-03-10T10:56:08.088567Z"
    }
   },
   "outputs": [],
   "source": [
    "gen colleg = (s >= 16)"
   ]
  },
  {
   "cell_type": "code",
   "execution_count": 27,
   "metadata": {
    "ExecuteTime": {
     "end_time": "2020-03-10T10:56:26.910119Z",
     "start_time": "2020-03-10T10:56:26.796188Z"
    }
   },
   "outputs": [],
   "source": [
    "*rename\n",
    "rename colleg college"
   ]
  },
  {
   "cell_type": "code",
   "execution_count": 29,
   "metadata": {
    "ExecuteTime": {
     "end_time": "2020-03-10T10:56:45.785252Z",
     "start_time": "2020-03-10T10:56:45.694575Z"
    }
   },
   "outputs": [],
   "source": [
    "drop college\n",
    "gen college = (s >=15)"
   ]
  },
  {
   "cell_type": "code",
   "execution_count": 30,
   "metadata": {
    "ExecuteTime": {
     "end_time": "2020-03-10T10:57:16.521305Z",
     "start_time": "2020-03-10T10:57:16.427905Z"
    }
   },
   "outputs": [
    {
     "name": "stdout",
     "output_type": "stream",
     "text": [
      "(0 real changes made)\n"
     ]
    }
   ],
   "source": [
    "replace college = (s >=15)"
   ]
  },
  {
   "cell_type": "code",
   "execution_count": 31,
   "metadata": {
    "ExecuteTime": {
     "end_time": "2020-03-10T10:57:53.315299Z",
     "start_time": "2020-03-10T10:57:53.221377Z"
    }
   },
   "outputs": [],
   "source": [
    "drop c*"
   ]
  },
  {
   "cell_type": "code",
   "execution_count": 32,
   "metadata": {
    "ExecuteTime": {
     "end_time": "2020-03-10T10:58:01.955884Z",
     "start_time": "2020-03-10T10:58:01.837705Z"
    }
   },
   "outputs": [
    {
     "name": "stdout",
     "output_type": "stream",
     "text": [
      "\n",
      "Contains data from grilic_small.dta\n",
      "  obs:            30                          \n",
      " vars:             7                          12 Mar 2015 20:29\n",
      " size:           750                          \n",
      "--------------------------------------------------------------------------------\n",
      "              storage   display    value\n",
      "variable name   type    format     label      variable label\n",
      "--------------------------------------------------------------------------------\n",
      "s               byte    %8.0g                 schooling\n",
      "expr            float   %9.0g                 experience\n",
      "lnw             float   %9.0g                 ln(wage)\n",
      "n               float   %9.0g                 \n",
      "lns             float   %9.0g                 \n",
      "s2              float   %9.0g                 \n",
      "w               float   %9.0g                 \n",
      "--------------------------------------------------------------------------------\n",
      "Sorted by: \n",
      "     Note: Dataset has changed since last saved.\n"
     ]
    }
   ],
   "source": [
    "des"
   ]
  },
  {
   "cell_type": "markdown",
   "metadata": {},
   "source": [
    "## 计算"
   ]
  },
  {
   "cell_type": "code",
   "execution_count": 34,
   "metadata": {
    "ExecuteTime": {
     "end_time": "2020-03-10T10:58:45.570041Z",
     "start_time": "2020-03-10T10:58:45.478677Z"
    }
   },
   "outputs": [
    {
     "name": "stdout",
     "output_type": "stream",
     "text": [
      ".69314718\n"
     ]
    }
   ],
   "source": [
    "*display\n",
    "dis log(2)"
   ]
  },
  {
   "cell_type": "code",
   "execution_count": 35,
   "metadata": {
    "ExecuteTime": {
     "end_time": "2020-03-10T10:58:56.730192Z",
     "start_time": "2020-03-10T10:58:56.628011Z"
    }
   },
   "outputs": [
    {
     "name": "stdout",
     "output_type": "stream",
     "text": [
      "1.4142136\n"
     ]
    }
   ],
   "source": [
    "dis 2^0.5"
   ]
  },
  {
   "cell_type": "markdown",
   "metadata": {},
   "source": [
    "## stata日志"
   ]
  },
  {
   "cell_type": "code",
   "execution_count": 36,
   "metadata": {
    "ExecuteTime": {
     "end_time": "2020-03-10T10:59:50.923898Z",
     "start_time": "2020-03-10T10:59:50.816095Z"
    }
   },
   "outputs": [
    {
     "name": "stdout",
     "output_type": "stream",
     "text": [
      "--------------------------------------------------------------------------------\n",
      "      name:  <unnamed>\n",
      "       log:  /Users/datalab/bigdata/mastering_metrics_data/statabook1/today.smcl\n",
      "  log type:  smcl\n",
      " opened on:  10 Mar 2020, 18:59:50\n"
     ]
    }
   ],
   "source": [
    "log using today"
   ]
  },
  {
   "cell_type": "code",
   "execution_count": 38,
   "metadata": {
    "ExecuteTime": {
     "end_time": "2020-03-10T11:00:35.532477Z",
     "start_time": "2020-03-10T11:00:35.432835Z"
    }
   },
   "outputs": [],
   "source": [
    "*log off\n",
    "*log on\n",
    "*log close"
   ]
  },
  {
   "cell_type": "code",
   "execution_count": 39,
   "metadata": {
    "ExecuteTime": {
     "end_time": "2020-03-10T11:00:55.349877Z",
     "start_time": "2020-03-10T11:00:55.241644Z"
    }
   },
   "outputs": [
    {
     "name": "stdout",
     "output_type": "stream",
     "text": [
      "   STATA:  /Applications/Stata/\n",
      "    BASE:  /Applications/Stata/ado/base/\n",
      "    SITE:  /Applications/ado/\n",
      "    PLUS:  /Users/datalab/Library/Application Support/Stata/ado/plus/\n",
      "PERSONAL:  /Users/datalab/Library/Application Support/Stata/ado/personal/\n",
      "OLDPLACE:  ~/ado/\n"
     ]
    }
   ],
   "source": [
    "sysdir"
   ]
  },
  {
   "cell_type": "code",
   "execution_count": 40,
   "metadata": {
    "ExecuteTime": {
     "end_time": "2020-03-10T11:01:26.086099Z",
     "start_time": "2020-03-10T11:01:25.965708Z"
    }
   },
   "outputs": [],
   "source": [
    "*update all"
   ]
  },
  {
   "cell_type": "code",
   "execution_count": 41,
   "metadata": {
    "ExecuteTime": {
     "end_time": "2020-03-10T11:01:42.096089Z",
     "start_time": "2020-03-10T11:01:41.991550Z"
    }
   },
   "outputs": [],
   "source": [
    "*ssc install a-new-command"
   ]
  },
  {
   "cell_type": "code",
   "execution_count": 43,
   "metadata": {
    "ExecuteTime": {
     "end_time": "2020-03-10T11:02:10.084000Z",
     "start_time": "2020-03-10T11:02:09.919103Z"
    }
   },
   "outputs": [
    {
     "name": "stdout",
     "output_type": "stream",
     "text": [
      "\n",
      "Search of official help files, FAQs, Examples, SJs, and STBs\n",
      "------------------------------------------------------------\n",
      "\n",
      "[SVY]   svy estimation  . . . . . . . . .  Estimation commands for survey data\n",
      "        (help svy estimation)\n",
      "\n",
      "Book    . . . . . . . . . . . . Microeconometrics Using Stata, Revised Edition\n",
      "        . . . . . . . . . . . . . . . . A. Colin Cameron and Pravin K. Trivedi\n",
      "        http://www.stata.com/bookstore/microeconometrics-stata/\n",
      "\n",
      "FAQ     . . . . . . . . . . . . . . . . . . Two-stage least-squares regression\n",
      "        . . . . . . . . . . . . . . . . . . . . . . . . . . . . . . V. Wiggins\n",
      "        5/15    Must I use all of my exogenous variables as instruments\n",
      "                when estimating instrumental variables regression?\n",
      "                http://www.stata.com/support/faqs/statistics/instrumental-\n",
      "                variables-regression/\n",
      "\n",
      "FAQ     . . . . Inst. var. triangular/recursive system with corr. disturbances\n",
      "        . . . . . . . . . . . . . . . . . . . . . . . . . . . . . . G. Sanchez\n",
      "        7/11    How do I estimate recursive systems using a subset\n",
      "                of available instruments?\n",
      "                http://www.stata.com/support/faqs/statistics/instrumental-\n",
      "                variables-for-recursive-systems/\n",
      "\n",
      "FAQ     . . . . . . . . . . . . . . Negative and missing R-squared for 2SLS/IV\n",
      "        . . . . . . . . . . . . . . . .  W. Sribney, V. Wiggins and D. Drukker\n",
      "        7/11    For two-stage least-squares (2SLS/IV/ivregress)\n",
      "                estimates, why is the R-squared statistic not\n",
      "                printed in some cases?\n",
      "                For two-stage least-squares (2SLS/IV/ivregress)\n",
      "                estimates, why is the model sum of squares\n",
      "                sometimes negative?\n",
      "                For two-stage least-squares (3SLS/IV/reg3)\n",
      "                estimates, why are the R-squared and model sum\n",
      "                of squares sometimes negative?\n",
      "                http://www.stata.com/support/faqs/statistics/two-stage-least-\n",
      "                squares/\n",
      "\n",
      "Example . . . . . Textbook: Econometric Analysis of Cross Section & Panel Data\n",
      "        . . . . . . . . . . . . . . . . . .  UCLA Academic Technology Services\n",
      "        2/08    examples from the book Econometric Analysis of Cross\n",
      "                Section and Panel Data by Jeffrey M. Wooldridge\n",
      "                https://stats.idre.ucla.edu/other/examples/eacspd/\n",
      "\n",
      "Example . . . . . . . Textbook Examples:  Econometric Analysis, Fourth Edition\n",
      "        . . . . . . . . . . . . . . . . . .  UCLA Academic Technology Services\n",
      "        10/05   examples from the book Econometric Analysis, Fourth\n",
      "                Edition by William Greene\n",
      "                https://stats.idre.ucla.edu/other/examples/greene/\n",
      "\n",
      "SJ-12-4 st0159_1  . . . . . . . . . . . . . . . . Software update for xtabond2\n",
      "        (help xtabond2 if installed)  . . . . . . . . . . . . . . . D. Roodman\n",
      "        Q4/12   SJ 12(4):766--767\n",
      "        bug fixes and added features such as support for factor\n",
      "        variables\n",
      "\n",
      "SJ-11-2 st0171_1  . . . . . . . . . . . . . . . .  Software update for rivtest\n",
      "        (help rivtest if installed) . . . . . .  K. Finlay and L. M. Magnusson\n",
      "        Q2/11   SJ 11(2):325\n",
      "        updated to support factor variables; errors fixed\n",
      "\n",
      "SJ-9-3  st0171  . . .  Implementing weak-instrument robust tests for IV models\n",
      "        (help rivtest if installed) . . . . . .  K. Finlay and L. M. Magnusson\n",
      "        Q3/09   SJ 9(3):398--421\n",
      "        presents a minimum distance approach for conducting\n",
      "        hypothesis testing in the presence of potentially weak\n",
      "        instruments; presents weak-instrument tests for a general\n",
      "        class of linear instrumental-variables models robust to\n",
      "        arbitrary heteroskedasticity or intracluster dependence\n",
      "\n",
      "SJ-9-1  st0159  . . How to do xtabond2: An intro. to difference and system GMM\n",
      "        (help xtabond2 if installed)  . . . . . . . . . . . . . . . D. Roodman\n",
      "        Q1/09   SJ 9(1):86--136\n",
      "        introduces linear GMM; describes how limited time span\n",
      "        and potential for fixed effects and endogenous regressors\n",
      "        drive the design of estimators; shows how to apply\n",
      "        difference and system GMM estimators with xtabond2\n",
      "\n",
      "SJ-8-4  st0136_1  . . . Erratum and discussion of propensity-score reweighting\n",
      "        . . . . . . . . . . . . . . . . . . . . . . . . . . . . . . A. Nichols\n",
      "        Q4/08   SJ 8(4):532--539                                 (no commands)\n",
      "        discusses propensity-score reweighting\n",
      "\n",
      "SJ-7-4  st0030_3  . . . .  Enhanced routines for IV/GMM estimation and testing\n",
      "        . . . . . . . . . . . . .  C. F. Baum, M. E. Schaffer, and S. Stillman\n",
      "        (help ivactest, ivendog, ivhettest, ivreg2, ivreset,\n",
      "        overid, ranktest if installed)\n",
      "        Q4/07   SJ 7(4):465--506\n",
      "        extension of IV and GMM estimation addressing hetero-\n",
      "        skedasticity- and autocorrelation-consistent standard\n",
      "        errors, weak instruments, LIML and k-class estimation,\n",
      "        tests for endogeneity and Ramsey's regression\n",
      "        specification-error test, and autocorrelation tests\n",
      "        for IV estimates and panel-data IV estimates\n",
      "\n",
      "SJ-7-4  st0136  . . . . . . . . . . . Causal inference with observational data\n",
      "        . . . . . . . . . . . . . . . . . . . . . . . . . . . . . . A. Nichols\n",
      "        Q4/07   SJ 7(4):507--541                                 (no commands)\n",
      "        discusses problems with inferring causal relationships\n",
      "--more--\n"
     ]
    }
   ],
   "source": [
    "search ivreg"
   ]
  },
  {
   "cell_type": "code",
   "execution_count": 44,
   "metadata": {
    "ExecuteTime": {
     "end_time": "2020-03-10T11:02:36.352351Z",
     "start_time": "2020-03-10T11:02:29.751492Z"
    }
   },
   "outputs": [
    {
     "name": "stdout",
     "output_type": "stream",
     "text": [
      "\n",
      "Search of official help files, FAQs, Examples, SJs, and STBs\n",
      "------------------------------------------------------------\n",
      "\n",
      "Web resources from Stata and other users\n",
      "----------------------------------------\n",
      "\n",
      "(contacting http://www.stata.com)\n",
      "\n",
      "55 packages found (Stata Journal and STB listed first)\n",
      "------------------------------------------------------\n",
      "\n",
      "st0580 from http://www.stata-journal.com/software/sj19-4\n",
      "    SJ19-4 st0580. Estimation and inference on individual ... / Estimation and\n",
      "    inference on individual / parameters and specification testing under /\n",
      "    many (possibly weak) instruments / by Stanislav Anatolyev, CERGE-EI,\n",
      "    Prague, Czech / Republic / Alena Skolkova, CERGE-EI, Prague, Czech /\n",
      "\n",
      "st0541 from http://www.stata-journal.com/software/sj18-4\n",
      "    SJ18-4 st0541. Valid two-step identification-robust... / Valid two-step\n",
      "    identification-robust confidence / sets for instrumental-variables\n",
      "    estimation of / a linear model / by Liyang Sun, MIT, Cambridge, MA /\n",
      "    Support:  lsun20mit.edu / After installation, type help\n",
      "\n",
      "st0536 from http://www.stata-journal.com/software/sj18-3\n",
      "    SJ18-3 st0536. Estimating dynamic common-correlated... / Estimating\n",
      "    dynamic common-correlated effects in / Stata / by Jan Ditzen, Centre for\n",
      "    Energy Economics / Research Policy (CEERP), Heriot-Watt / University,\n",
      "    Edinburgh, United Kingdom / Support:  j.ditzenhw.ac.uk / After\n",
      "\n",
      "st0292 from http://www.stata-journal.com/software/sj13-2\n",
      "    SJ13-2 st0292. Creating and managing... / Creating and managing\n",
      "    spatial-weighting matrices / with the spmat command / by David M. Drukker,\n",
      "    StataCorp, College Station, TX / Hua Peng, StataCorp, College Station, TX\n",
      "    / Ingmar R. Prucha, Department of Economics, / University of Maryland,\n",
      "\n",
      "st0293 from http://www.stata-journal.com/software/sj13-2\n",
      "    SJ13-2 st0293. A command for estimating... / A command for estimating\n",
      "    spatial-autoregressive / models with spatial-autoregressive / disturbances\n",
      "    and additional endogenous variables / by David M. Drukker, StataCorp,\n",
      "    College Station, TX / Ingmar R. Prucha, Department of Economics, /\n",
      "\n",
      "st0252 from http://www.stata-journal.com/software/sj12-2\n",
      "    SJ12-2 st0252.  A robust instrumental-variables estimator / A robust\n",
      "    instrumental-variables estimator / by Rodolphe Desbordes, University of\n",
      "    Strathclyde, Glasgow / Vincenzo Verardi, University of Namur (CRED) and\n",
      "    ULB / (ECARES and CKE) / Support:  rodolphe.desbordes@strath.ac.uk,\n",
      "\n",
      "st0030_3 from http://www.stata-journal.com/software/sj7-4\n",
      "    SJ7-4 st0030_3.  Update: Instrumental variables and GMM:... / Update:\n",
      "    Instrumental variables and GMM:  Estimation and / testing / / by\n",
      "    Christopher F. Baum, Boston College / Mark E. Schaffer, Heriot-Watt\n",
      "    University / Steven Stillman, Motu Economic Public Policy Research /\n",
      "\n",
      "st0033_2 from http://www.stata-journal.com/software/sj6-3\n",
      "    SJ6-3 st0033_2.  Update: Tests and confidence sets with... / Update: Tests\n",
      "    and confidence sets with correct size in the / simultaneous equations\n",
      "    model with potentially weak / instruments / by Anna Mikusheva, Department\n",
      "    of Economics, Harvard University / Brian P. Poi, StataCorp / Support:\n",
      "\n",
      "st0030_2 from http://www.stata-journal.com/software/sj5-4\n",
      "    SJ5-4 st0030_2.  Update:  Instrumental variables and GMM:... / Update:\n",
      "    Instrumental variables and GMM:  Estimation and testing / by Christopher\n",
      "    F. Baum, Boston College / Mark E. Schaffer, Heriot-Watt University /\n",
      "    Steven Stillman, New Zealand Department of Labour / Support:\n",
      "\n",
      "st0033_1 from http://www.stata-journal.com/software/sj5-2\n",
      "    SJ5-2 st0033_1.  Implementing tests with Correct Size... / Implementing\n",
      "    tests with Correct Size in the Simultaneous / Equations Model / by Marcelo\n",
      "    J. Moreira, Harvard University / Brian P. Poi, Stata Corporation /\n",
      "    Support:  bpoi@stata.com / After installation, type help condivreg,\n",
      "\n",
      "st0030_1 from http://www.stata-journal.com/software/sj4-2\n",
      "    SJ4-2 st0030_1.  Instrumental variables and GMM:  Estimation ...  /\n",
      "    Instrumental variables and GMM:  Estimation and testing / by Christopher\n",
      "    F. Baum, Boston College / Mark E. Schaffer, Heriot-Watt University /\n",
      "    Steven Stillman, New Zealand Department of Labour / Support:\n",
      "\n",
      "st0030 from http://www.stata-journal.com/software/sj3-1\n",
      "    SJ3-1 st0030.  Instrumental variables and GMM:  Estimation ...  /\n",
      "    Instrumental variables and GMM:  Estimation and testing / by Christopher\n",
      "    F. Baum, Boston College / Mark E. Schaffer, Heriot-Watt University /\n",
      "    Steven Stillman, New Zealand Department of Labour / Support:\n",
      "\n",
      "st0033 from http://www.stata-journal.com/software/sj3-1\n",
      "    SJ3-1 st0033.  Implementing tests with correct size in ... / Implementing\n",
      "    tests with correct size in the simultaneous / Equations Model / by Marcelo\n",
      "    J. Moreira, Harvard University / Brian P. Poi, Stata Corporation /\n",
      "    Support:  bpoi@stata.com / After installation, type help condivreg,\n",
      "\n",
      "jackknife2 from http://www.econometrics.it/stata\n",
      "    jackknife2. Fast jackknife estimation for linear estimators (version 1.1.0\n",
      "    29jan2020). / {cmd:jackknife2} is a new prefix command for jackknifing\n",
      "    linear estimators. It takes full / advantage of the available\n",
      "    leave-one-out formulae, thereby allowing for substantial reduction / in\n",
      "\n",
      "condivreg from http://www.stata.com/users/bpoi\n",
      "    condivreg.  Weak-instrument tests and confidence sets. / {bf:Anna\n",
      "    Mikusheva (Harvard University) and Brian P. Poi (StataCorp LP)} / Program\n",
      "    to implement the tests described in \"Tests and confidence sets / with\n",
      "--more--\n"
     ]
    }
   ],
   "source": [
    "findit ivreg"
   ]
  }
 ],
 "metadata": {
  "celltoolbar": "Slideshow",
  "kernelspec": {
   "display_name": "Stata",
   "language": "stata",
   "name": "stata"
  },
  "language_info": {
   "codemirror_mode": "stata",
   "file_extension": ".do",
   "mimetype": "text/x-stata",
   "name": "stata",
   "version": "15.1"
  },
  "latex_envs": {
   "LaTeX_envs_menu_present": true,
   "autoclose": false,
   "autocomplete": true,
   "bibliofile": "biblio.bib",
   "cite_by": "apalike",
   "current_citInitial": 1,
   "eqLabelWithNumbers": true,
   "eqNumInitial": 1,
   "hotkeys": {
    "equation": "Ctrl-E",
    "itemize": "Ctrl-I"
   },
   "labels_anchors": false,
   "latex_user_defs": false,
   "report_style_numbering": false,
   "user_envs_cfg": false
  },
  "toc": {
   "base_numbering": 1,
   "nav_menu": {},
   "number_sections": false,
   "sideBar": true,
   "skip_h1_title": false,
   "title_cell": "Table of Contents",
   "title_sidebar": "Contents",
   "toc_cell": false,
   "toc_position": {},
   "toc_section_display": true,
   "toc_window_display": false
  }
 },
 "nbformat": 4,
 "nbformat_minor": 2
}
