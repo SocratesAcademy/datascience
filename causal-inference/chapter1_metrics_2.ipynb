{
 "cells": [
  {
   "cell_type": "markdown",
   "metadata": {},
   "source": [
    "# Mastering Metrics\n",
    "- Tables 1.3 & 1.4\n",
    "- goal: master RAND replication do file\n",
    "\n",
    "![](./img/grasshopper.png)"
   ]
  },
  {
   "cell_type": "code",
   "execution_count": 61,
   "metadata": {
    "ExecuteTime": {
     "end_time": "2020-03-04T05:47:43.125391Z",
     "start_time": "2020-03-04T05:47:43.083767Z"
    }
   },
   "outputs": [
    {
     "name": "stdout",
     "output_type": "stream",
     "text": [
      "\n",
      "\n",
      "\n",
      "/Users/datalab/github/datascience/causal-inference/data\n"
     ]
    }
   ],
   "source": [
    "*** Metrics\n",
    "*** Tables 1.3\n",
    "*** goal: master RAND replication do file\n",
    "\n",
    "clear all\n",
    "set more off\n",
    "\n",
    "// set to directory where this do file is located\n",
    "cd \"/Users/datalab/github/datascience/causal-inference/data\"\n"
   ]
  },
  {
   "cell_type": "code",
   "execution_count": 60,
   "metadata": {
    "ExecuteTime": {
     "end_time": "2020-03-04T05:45:53.534832Z",
     "start_time": "2020-03-04T05:45:53.498517Z"
    }
   },
   "outputs": [
    {
     "name": "stdout",
     "output_type": "stream",
     "text": [
      "\n",
      "total 202232\n",
      "-rw-r--r--@ 1 datalab  staff  36844584  2  3  2013 AA_small.dta\n",
      "-rw-r--r--@ 1 datalab  staff   6637632  3  4 00:46 AA_small.dta_.zip\n",
      "-rw-r--r--@ 1 datalab  staff      7697  3  4 00:45 AEJfigs.dta\n",
      "-rw-r--r--@ 1 datalab  staff   3490484  3  4 00:42 Data1.zip\n",
      "drwxr-xr-x@ 6 datalab  staff       192  3  4 00:35 NHIS/\n",
      "drwxr-xr-x@ 9 datalab  staff       288  3  4 13:01 OHIE_Public_Use_Files/\n",
      "-rw-r--r--@ 1 datalab  staff       604  3  4 00:36 ReadMe_RAND.txt\n",
      "-rw-r--r--@ 1 datalab  staff   6591291  3  4 00:46 ak91.dta\n",
      "-rw-r--r--@ 1 datalab  staff   1006144  1 22  2015 annual_spend.dta\n",
      "-rw-r--r--@ 1 datalab  staff     77216  3  4 00:45 banks.csv\n",
      "-rw-r--r--@ 1 datalab  staff      2481  3  4 00:46 clark_martorell_cellmeans.dta\n",
      "-rw-r--r--@ 1 datalab  staff   1168671  3  4 00:45 deaths.dta\n",
      "-rw-r--r--@ 1 datalab  staff     29249  3  4 00:45 mdve.dta\n",
      "-rw-r--r--@ 1 datalab  staff   9370270  3  4 00:45 oregon_puf.zip\n",
      "-rw-r--r--@ 1 datalab  staff  27605676  3 23  2014 person_years.dta\n",
      "-rw-r--r--@ 1 datalab  staff    100520  3  4 00:45 pubtwins.dta\n",
      "-rw-r--r--@ 1 datalab  staff   8823462  1 22  2015 rand_initial_sample_2.dta\n",
      "-rw-r--r--@ 1 datalab  staff      2813  3  4 13:23 table1.txt\n",
      "-rw-r--r--@ 1 datalab  staff     41083  3  4 13:23 table1.xml\n",
      "-rw-r--r--  1 datalab  staff      1047  3  4 13:38 table2.txt\n",
      "-rw-r--r--@ 1 datalab  staff     16349  3  4 13:38 table2.xml\n"
     ]
    }
   ],
   "source": [
    "dir"
   ]
  },
  {
   "cell_type": "code",
   "execution_count": 59,
   "metadata": {
    "ExecuteTime": {
     "end_time": "2020-03-04T05:45:37.414028Z",
     "start_time": "2020-03-04T05:45:37.371037Z"
    }
   },
   "outputs": [
    {
     "name": "stdout",
     "output_type": "stream",
     "text": [
      "\n",
      "total 202232\n",
      "-rw-r--r--@ 1 datalab  staff  36844584  2  3  2013 AA_small.dta\n",
      "-rw-r--r--@ 1 datalab  staff   6637632  3  4 00:46 AA_small.dta_.zip\n",
      "-rw-r--r--@ 1 datalab  staff      7697  3  4 00:45 AEJfigs.dta\n",
      "-rw-r--r--@ 1 datalab  staff   3490484  3  4 00:42 Data1.zip\n",
      "drwxr-xr-x@ 6 datalab  staff       192  3  4 00:35 NHIS/\n",
      "drwxr-xr-x@ 9 datalab  staff       288  3  4 13:01 OHIE_Public_Use_Files/\n",
      "-rw-r--r--@ 1 datalab  staff       604  3  4 00:36 ReadMe_RAND.txt\n",
      "-rw-r--r--@ 1 datalab  staff   6591291  3  4 00:46 ak91.dta\n",
      "-rw-r--r--@ 1 datalab  staff   1006144  1 22  2015 annual_spend.dta\n",
      "-rw-r--r--@ 1 datalab  staff     77216  3  4 00:45 banks.csv\n",
      "-rw-r--r--@ 1 datalab  staff      2481  3  4 00:46 clark_martorell_cellmeans.dta\n",
      "-rw-r--r--@ 1 datalab  staff   1168671  3  4 00:45 deaths.dta\n",
      "-rw-r--r--@ 1 datalab  staff     29249  3  4 00:45 mdve.dta\n",
      "-rw-r--r--@ 1 datalab  staff   9370270  3  4 00:45 oregon_puf.zip\n",
      "-rw-r--r--@ 1 datalab  staff  27605676  3 23  2014 person_years.dta\n",
      "-rw-r--r--@ 1 datalab  staff    100520  3  4 00:45 pubtwins.dta\n",
      "-rw-r--r--@ 1 datalab  staff   8823462  1 22  2015 rand_initial_sample_2.dta\n",
      "-rw-r--r--@ 1 datalab  staff      2813  3  4 13:23 table1.txt\n",
      "-rw-r--r--@ 1 datalab  staff     41083  3  4 13:23 table1.xml\n",
      "-rw-r--r--  1 datalab  staff      1047  3  4 13:38 table2.txt\n",
      "-rw-r--r--@ 1 datalab  staff     16349  3  4 13:38 table2.xml\n"
     ]
    }
   ],
   "source": [
    "ls"
   ]
  },
  {
   "cell_type": "code",
   "execution_count": 33,
   "metadata": {
    "ExecuteTime": {
     "end_time": "2020-03-04T05:22:34.538820Z",
     "start_time": "2020-03-04T05:22:34.499382Z"
    }
   },
   "outputs": [],
   "source": [
    "use rand_initial_sample_2.dta, clear"
   ]
  },
  {
   "cell_type": "code",
   "execution_count": 34,
   "metadata": {
    "ExecuteTime": {
     "end_time": "2020-03-04T05:22:56.433346Z",
     "start_time": "2020-03-04T05:22:35.089619Z"
    }
   },
   "outputs": [
    {
     "name": "stdout",
     "output_type": "stream",
     "text": [
      "checking outreg2 consistency and verifying not already installed...\n",
      "all files already exist and are up to date.\n"
     ]
    }
   ],
   "source": [
    "* install outreg2\n",
    "*ssc install outreg2"
   ]
  },
  {
   "cell_type": "code",
   "execution_count": 65,
   "metadata": {
    "ExecuteTime": {
     "end_time": "2020-03-04T05:49:05.095815Z",
     "start_time": "2020-03-04T05:49:05.073503Z"
    }
   },
   "outputs": [],
   "source": [
    "*help outreg2"
   ]
  },
  {
   "cell_type": "code",
   "execution_count": 35,
   "metadata": {
    "ExecuteTime": {
     "end_time": "2020-03-04T05:23:00.749355Z",
     "start_time": "2020-03-04T05:23:00.530109Z"
    }
   },
   "outputs": [
    {
     "name": "stdout",
     "output_type": "stream",
     "text": [
      "\n",
      "(1,490 real changes made, 1,490 to missing)\n",
      "\n",
      "(1,930 missing values generated)\n",
      "\n",
      "famid: character A removed; replaced as long\n",
      "(1930 missing values generated)\n",
      "\n",
      "\n",
      "\n",
      "      Source |       SS           df       MS      Number of obs   =     3,957\n",
      "-------------+----------------------------------   F(1, 3956)      =    789.53\n",
      "       Model |   352.87722         1   352.87722   Prob > F        =    0.0000\n",
      "    Residual |  1768.12278     3,956  .446947113   R-squared       =    0.1664\n",
      "-------------+----------------------------------   Adj R-squared   =    0.1662\n",
      "       Total |        2121     3,957   .53601213   Root MSE        =    .66854\n",
      "\n",
      "------------------------------------------------------------------------------\n",
      "      female |      Coef.   Std. Err.      t    P>|t|     [95% Conf. Interval]\n",
      "-------------+----------------------------------------------------------------\n",
      "  plantype_1 |   .5220077   .0185778    28.10   0.000     .4855849    .5584306\n",
      "------------------------------------------------------------------------------\n",
      "\n",
      "table1.xml\n",
      "dir : seeout\n"
     ]
    }
   ],
   "source": [
    "*Ensure dummy variable for free plan does not give \"0's\" to anyone without a plan\n",
    "replace plantype_1=. if plantype==.\n",
    "\n",
    "*Conduct difference in means test for cholesterol levels between free and cost sharing plans\n",
    "gen famid=substr(fam_identifier,3,.)\n",
    "destring famid, ignore(\"A\") replace\n",
    "gen any_ins=(plantype==1|plantype==2|plantype==3)\n",
    "\n",
    "*replace old table file\n",
    "reg female plantype_1, noconst\n",
    "outreg2 blackhisp using table1, excel se replace nor nobs\n"
   ]
  },
  {
   "cell_type": "code",
   "execution_count": 36,
   "metadata": {
    "ExecuteTime": {
     "end_time": "2020-03-04T05:23:15.537140Z",
     "start_time": "2020-03-04T05:23:13.177565Z"
    }
   },
   "outputs": [
    {
     "name": "stdout",
     "output_type": "stream",
     "text": [
      "\n",
      "table1.xml\n",
      "dir : seeout\n",
      "table1.xml\n",
      "dir : seeout\n",
      "table1.xml\n",
      "dir : seeout\n",
      "table1.xml\n",
      "dir : seeout\n",
      "table1.xml\n",
      "dir : seeout\n",
      "table1.xml\n",
      "dir : seeout\n",
      "table1.xml\n",
      "dir : seeout\n",
      "table1.xml\n",
      "dir : seeout\n",
      "table1.xml\n",
      "dir : seeout\n",
      "table1.xml\n",
      "dir : seeout\n",
      "table1.xml\n",
      "dir : seeout\n",
      "table1.xml\n",
      "dir : seeout\n",
      "table1.xml\n",
      "dir : seeout\n",
      "table1.xml\n",
      "dir : seeout\n",
      "table1.xml\n",
      "dir : seeout\n",
      "table1.xml\n",
      "dir : seeout\n",
      "table1.xml\n",
      "dir : seeout\n",
      "table1.xml\n",
      "dir : seeout\n",
      "table1.xml\n",
      "dir : seeout\n",
      "table1.xml\n",
      "dir : seeout\n",
      "table1.xml\n",
      "dir : seeout\n",
      "table1.xml\n",
      "dir : seeout\n",
      "table1.xml\n",
      "dir : seeout\n",
      "table1.xml\n",
      "dir : seeout\n",
      "table1.xml\n",
      "dir : seeout\n",
      "table1.xml\n",
      "dir : seeout\n",
      "table1.xml\n",
      "dir : seeout\n",
      "table1.xml\n",
      "dir : seeout\n",
      "table1.xml\n",
      "dir : seeout\n",
      "table1.xml\n",
      "dir : seeout\n",
      "table1.xml\n",
      "dir : seeout\n",
      "table1.xml\n",
      "dir : seeout\n"
     ]
    }
   ],
   "source": [
    "\n",
    "foreach var of varlist female blackhisp age educper income1cpi hosp ghindx cholest diastol systol mhi ghindxx cholestx diastolx systolx mhix {\n",
    "\t\t\n",
    "\tqui reg `var' plantype_1 plantype_2 plantype_3, cl(famid)\n",
    "\tqui sum `var' if plantype==4\n",
    "\tlocal sdev = r(sd)\n",
    "\toutreg2 using table1, excel se append noaster dec(3) addstat(\"Constant SD:\",`sdev')\n",
    "\n",
    "\tqui reg `var' any_ins, cl(famid)\n",
    "\toutreg2 using table1, excel se append noaster dec(3)\n",
    "}\n"
   ]
  },
  {
   "cell_type": "markdown",
   "metadata": {},
   "source": [
    "# Metrics\n",
    "\n",
    "*** Tables 1.4\n",
    "\n",
    "*** goal: master RAND replication do file\n",
    "\n",
    "![](./img/stork.png)"
   ]
  },
  {
   "cell_type": "code",
   "execution_count": 62,
   "metadata": {
    "ExecuteTime": {
     "end_time": "2020-03-04T05:48:04.231746Z",
     "start_time": "2020-03-04T05:48:04.209597Z"
    }
   },
   "outputs": [
    {
     "name": "stdout",
     "output_type": "stream",
     "text": [
      "/Users/datalab/github/datascience/causal-inference/data\n"
     ]
    }
   ],
   "source": [
    "*** Metrics\n",
    "*** Tables 1.4\n",
    "*** goal: master RAND replication do file\n",
    "\n",
    "clear all\n",
    "set more off\n",
    "\n",
    "// set to directory where this do file is located\n",
    "cd \"/Users/datalab/github/datascience/causal-inference/data\""
   ]
  },
  {
   "cell_type": "code",
   "execution_count": 52,
   "metadata": {
    "ExecuteTime": {
     "end_time": "2020-03-04T05:36:27.039434Z",
     "start_time": "2020-03-04T05:36:27.001336Z"
    }
   },
   "outputs": [
    {
     "name": "stdout",
     "output_type": "stream",
     "text": [
      "\n",
      "total 202192\n",
      "-rw-r--r--@ 1 datalab  staff  36844584  2  3  2013 AA_small.dta\n",
      "-rw-r--r--@ 1 datalab  staff   6637632  3  4 00:46 AA_small.dta_.zip\n",
      "-rw-r--r--@ 1 datalab  staff      7697  3  4 00:45 AEJfigs.dta\n",
      "-rw-r--r--@ 1 datalab  staff   3490484  3  4 00:42 Data1.zip\n",
      "drwxr-xr-x@ 6 datalab  staff       192  3  4 00:35 NHIS/\n",
      "drwxr-xr-x@ 9 datalab  staff       288  3  4 13:01 OHIE_Public_Use_Files/\n",
      "-rw-r--r--@ 1 datalab  staff       604  3  4 00:36 ReadMe_RAND.txt\n",
      "-rw-r--r--@ 1 datalab  staff   6591291  3  4 00:46 ak91.dta\n",
      "-rw-r--r--@ 1 datalab  staff   1006144  1 22  2015 annual_spend.dta\n",
      "-rw-r--r--@ 1 datalab  staff     77216  3  4 00:45 banks.csv\n",
      "-rw-r--r--@ 1 datalab  staff      2481  3  4 00:46 clark_martorell_cellmeans.dta\n",
      "-rw-r--r--@ 1 datalab  staff   1168671  3  4 00:45 deaths.dta\n",
      "-rw-r--r--@ 1 datalab  staff     29249  3  4 00:45 mdve.dta\n",
      "-rw-r--r--@ 1 datalab  staff   9370270  3  4 00:45 oregon_puf.zip\n",
      "-rw-r--r--@ 1 datalab  staff  27605676  3 23  2014 person_years.dta\n",
      "-rw-r--r--@ 1 datalab  staff    100520  3  4 00:45 pubtwins.dta\n",
      "-rw-r--r--@ 1 datalab  staff   8823462  1 22  2015 rand_initial_sample_2.dta\n",
      "-rw-r--r--@ 1 datalab  staff      2813  3  4 13:23 table1.txt\n",
      "-rw-r--r--@ 1 datalab  staff     41083  3  4 13:23 table1.xml\n"
     ]
    }
   ],
   "source": [
    "dir"
   ]
  },
  {
   "cell_type": "code",
   "execution_count": 54,
   "metadata": {
    "ExecuteTime": {
     "end_time": "2020-03-04T05:36:38.084626Z",
     "start_time": "2020-03-04T05:36:37.913373Z"
    }
   },
   "outputs": [
    {
     "name": "stdout",
     "output_type": "stream",
     "text": [
      "\n",
      "\n",
      "\n",
      "    Result                           # of obs.\n",
      "    -----------------------------------------\n",
      "    not matched                         5,537\n",
      "        from master                         0  (_merge==1)\n",
      "        from using                      5,537  (_merge==2)\n",
      "\n",
      "    matched                            20,203  (_merge==3)\n",
      "    -----------------------------------------\n",
      "\n",
      "(5,537 observations deleted)\n",
      "\n"
     ]
    }
   ],
   "source": [
    "use person_years.dta, clear\n",
    "\n",
    "*Merge Data on Hospital Visits\n",
    "merge 1:1 person year using annual_spend.dta\n",
    "keep if _m==3\n",
    "drop _m\n"
   ]
  },
  {
   "cell_type": "code",
   "execution_count": 55,
   "metadata": {
    "ExecuteTime": {
     "end_time": "2020-03-04T05:37:47.230148Z",
     "start_time": "2020-03-04T05:37:47.167753Z"
    }
   },
   "outputs": [
    {
     "name": "stdout",
     "output_type": "stream",
     "text": [
      "\n",
      "(20,203 missing values generated)\n",
      "\n",
      "(6,840 real changes made)\n",
      "\n",
      "(98 real changes made)\n",
      "\n",
      "(4,077 real changes made)\n",
      "\n",
      "(273 real changes made)\n",
      "\n",
      "(3,451 real changes made)\n",
      "\n",
      "(5,464 real changes made)\n",
      "\n",
      "\n",
      "\n",
      "\n",
      "\n",
      "\n",
      "\n",
      "\n",
      "\n",
      "\n",
      "\n"
     ]
    }
   ],
   "source": [
    "* Group plans into four types: \n",
    "* 1-Free, 2-Individual Deductible, 3-Cost Sharing (25%/50%), 4-Catostrophic (Fam Deductible) (95%/100%)*\n",
    "gen plantype =.\n",
    "\n",
    "replace plantype = 1 if plan==24\n",
    "replace plantype = 2 if plan==1\n",
    "replace plantype = 2 if plan==5\n",
    "replace plantype = 4 if plan>=2 & plan<=4\n",
    "replace plantype = 4 if plan>=6 & plan<=8\n",
    "replace plantype = 3 if plan>=9 & plan<=23\n",
    "\n",
    "*Generate Plan Dummies\n",
    "gen plantype_1= (plantype==1)\n",
    "gen plantype_2= (plantype==2)\n",
    "gen plantype_3= (plantype==3)\n",
    "gen plantype_4= (plantype==4)\n",
    "\n",
    "*Generate Site Dummies\n",
    "gen site1=(site==1)\n",
    "gen site2=(site==2)\n",
    "gen site3=(site==3)\n",
    "gen site4=(site==4)\n",
    "gen site5=(site==5)\n",
    "gen site6=(site==6)\n",
    "\n",
    "*Attempt to correlate year variable from annyal expenditures data to correct calendar year \n",
    "* in order to adjust for inflation\n",
    "\n",
    "gen expyear=indv_start_year+year-1"
   ]
  },
  {
   "cell_type": "code",
   "execution_count": 56,
   "metadata": {
    "ExecuteTime": {
     "end_time": "2020-03-04T05:38:21.404257Z",
     "start_time": "2020-03-04T05:38:21.174368Z"
    }
   },
   "outputs": [
    {
     "name": "stdout",
     "output_type": "stream",
     "text": [
      "\n",
      "(20,203 missing values generated)\n",
      "\n",
      "(0 real changes made)\n",
      "\n",
      "(349 real changes made)\n",
      "\n",
      "(1,110 real changes made)\n",
      "\n",
      "(4,195 real changes made)\n",
      "\n",
      "(4,059 real changes made)\n",
      "\n",
      "(4,408 real changes made)\n",
      "\n",
      "(2,816 real changes made)\n",
      "\n",
      "(2,423 real changes made)\n",
      "\n",
      "(727 real changes made)\n",
      "\n",
      "(81 real changes made)\n",
      "\n",
      "(18 real changes made)\n",
      "\n",
      "(16 real changes made)\n",
      "\n",
      "(1 real change made)\n",
      "\n",
      "(20,203 missing values generated)\n",
      "\n",
      "(0 real changes made)\n",
      "\n",
      "(349 real changes made)\n",
      "\n",
      "(1,110 real changes made)\n",
      "\n",
      "(4,195 real changes made)\n",
      "\n",
      "(4,059 real changes made)\n",
      "\n",
      "(4,408 real changes made)\n",
      "\n",
      "(2,816 real changes made)\n",
      "\n",
      "(2,423 real changes made)\n",
      "\n",
      "(727 real changes made)\n",
      "\n",
      "(81 real changes made)\n",
      "\n",
      "(18 real changes made)\n",
      "\n",
      "(16 real changes made)\n",
      "\n",
      "(1 real change made)\n",
      "\n",
      "\n",
      "\n",
      "famid: character A removed; replaced as long\n",
      "\n"
     ]
    }
   ],
   "source": [
    "*Adjust for inflation.  This will only be an estimate \n",
    "* since the annual expenditures data does not tell us what month they received specific services. \n",
    "*The CPI adjustment values below are based on the June CPI from 1991 \n",
    "* (see table found at http://www.seattle.gov/financedepartment/cpi/historical.htm ).\n",
    "\n",
    "gen out_inf=.\n",
    "replace out_inf=outsum*3.07 if expyear==1973\n",
    "replace out_inf=outsum*2.76 if expyear==1974\n",
    "replace out_inf=outsum*2.53 if expyear==1975\n",
    "replace\tout_inf\t=\toutsum*\t2.39\tif\texpyear\t==1976\n",
    "replace\tout_inf\t=\toutsum*\t2.24\tif\texpyear\t==1977\n",
    "replace\tout_inf\t=\toutsum*\t2.09\tif\texpyear\t==1978\n",
    "replace\tout_inf\t=\toutsum*\t1.88\tif\texpyear\t==1979\n",
    "replace\tout_inf\t=\toutsum*\t1.65\tif\texpyear\t==1980\n",
    "replace\tout_inf\t=\toutsum*\t1.5\tif\texpyear\t==1981\n",
    "replace\tout_inf\t=\toutsum*\t1.41\tif\texpyear\t==1982\n",
    "replace\tout_inf\t=\toutsum*\t1.37\tif\texpyear\t==1983\n",
    "replace\tout_inf\t=\toutsum*\t1.31\tif\texpyear\t==1984\n",
    "replace\tout_inf\t=\toutsum*\t1.27\tif\texpyear\t==1985\n",
    "\n",
    "gen inpdol_inf=.\n",
    "replace inpdol_inf=inpdol*3.07 if expyear==1973\n",
    "replace inpdol_inf=inpdol*2.76 if expyear==1974\n",
    "replace inpdol_inf=inpdol*2.53 if expyear==1975\n",
    "replace\tinpdol_inf\t=\tinpdol*\t2.39\tif\texpyear\t==1976\n",
    "replace\tinpdol_inf\t=\tinpdol*\t2.24\tif\texpyear\t==1977\n",
    "replace\tinpdol_inf\t=\tinpdol*\t2.09\tif\texpyear\t==1978\n",
    "replace\tinpdol_inf\t=\tinpdol*\t1.88\tif\texpyear\t==1979\n",
    "replace\tinpdol_inf\t=\tinpdol*\t1.65\tif\texpyear\t==1980\n",
    "replace\tinpdol_inf\t=\tinpdol*\t1.5\tif\texpyear\t==1981\n",
    "replace\tinpdol_inf\t=\tinpdol*\t1.41\tif\texpyear\t==1982\n",
    "replace\tinpdol_inf\t=\tinpdol*\t1.37\tif\texpyear\t==1983\n",
    "replace\tinpdol_inf\t=\tinpdol*\t1.31\tif\texpyear\t==1984\n",
    "replace\tinpdol_inf\t=\tinpdol*\t1.27\tif\texpyear\t==1985\n",
    "\n",
    "*Generate Total Spending Variable\n",
    "gen tot_inf=inpdol_inf+out_inf\n",
    "\n",
    "\n",
    "\n",
    "* Family id\n",
    "gen famid=substr(fam_identifier,3,.)\n",
    "destring famid, ignore(\"A\") replace\n",
    "gen any_ins=(plantype==1|plantype==2|plantype==3)\n"
   ]
  },
  {
   "cell_type": "code",
   "execution_count": 57,
   "metadata": {
    "ExecuteTime": {
     "end_time": "2020-03-04T05:38:31.416124Z",
     "start_time": "2020-03-04T05:38:29.267257Z"
    }
   },
   "outputs": [
    {
     "name": "stdout",
     "output_type": "stream",
     "text": [
      "\n",
      "\n",
      "      Source |       SS           df       MS      Number of obs   =    20,203\n",
      "-------------+----------------------------------   F(1, 20202)     =   4193.73\n",
      "       Model |  1796.05629         1  1796.05629   Prob > F        =    0.0000\n",
      "    Residual |  8651.94371    20,202  .428271642   R-squared       =    0.1719\n",
      "-------------+----------------------------------   Adj R-squared   =    0.1719\n",
      "       Total |       10448    20,203  .517150918   Root MSE        =    .65442\n",
      "\n",
      "------------------------------------------------------------------------------\n",
      "      female |      Coef.   Std. Err.      t    P>|t|     [95% Conf. Interval]\n",
      "-------------+----------------------------------------------------------------\n",
      "  plantype_1 |   .5124269   .0079128    64.76   0.000     .4969171    .5279367\n",
      "------------------------------------------------------------------------------\n",
      "\n",
      "table2.xml\n",
      "dir : seeout\n",
      "\n",
      "table2.xml\n",
      "dir : seeout\n",
      "table2.xml\n",
      "dir : seeout\n",
      "table2.xml\n",
      "dir : seeout\n",
      "table2.xml\n",
      "dir : seeout\n",
      "table2.xml\n",
      "dir : seeout\n",
      "table2.xml\n",
      "dir : seeout\n",
      "table2.xml\n",
      "dir : seeout\n",
      "table2.xml\n",
      "dir : seeout\n",
      "table2.xml\n",
      "dir : seeout\n",
      "table2.xml\n",
      "dir : seeout\n"
     ]
    }
   ],
   "source": [
    "*replace old table file\n",
    "reg female plantype_1, noconst\n",
    "outreg2 using table2, excel se replace nor nobs\n",
    "\n",
    "foreach var of varlist ftf out_inf totadm inpdol_inf tot_inf{\n",
    "\t\t\n",
    "\tqui reg `var' plantype_1 plantype_2 plantype_3, cl(famid)\n",
    "\tqui sum `var' if plantype==4\n",
    "\tlocal sdev = r(sd)\n",
    "\toutreg2 using table2, excel se append noaster dec(3) addstat(\"Constant SD:\",`sdev')\n",
    "\n",
    "\tqui reg `var' any_ins, cl(famid)\n",
    "\toutreg2 using table2, excel se append noaster dec(3)\n",
    "}\n",
    "\n"
   ]
  },
  {
   "cell_type": "markdown",
   "metadata": {},
   "source": [
    "![](./img/road.png)"
   ]
  }
 ],
 "metadata": {
  "kernelspec": {
   "display_name": "Stata",
   "language": "stata",
   "name": "stata"
  },
  "language_info": {
   "codemirror_mode": "stata",
   "file_extension": ".do",
   "mimetype": "text/x-stata",
   "name": "stata",
   "version": "15.1"
  },
  "latex_envs": {
   "LaTeX_envs_menu_present": true,
   "autoclose": false,
   "autocomplete": true,
   "bibliofile": "biblio.bib",
   "cite_by": "apalike",
   "current_citInitial": 1,
   "eqLabelWithNumbers": true,
   "eqNumInitial": 1,
   "hotkeys": {
    "equation": "Ctrl-E",
    "itemize": "Ctrl-I"
   },
   "labels_anchors": false,
   "latex_user_defs": false,
   "report_style_numbering": false,
   "user_envs_cfg": false
  },
  "toc": {
   "base_numbering": 1,
   "nav_menu": {},
   "number_sections": false,
   "sideBar": true,
   "skip_h1_title": false,
   "title_cell": "Table of Contents",
   "title_sidebar": "Contents",
   "toc_cell": false,
   "toc_position": {},
   "toc_section_display": true,
   "toc_window_display": false
  }
 },
 "nbformat": 4,
 "nbformat_minor": 2
}
