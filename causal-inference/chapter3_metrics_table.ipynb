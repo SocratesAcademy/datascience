{
 "cells": [
  {
   "cell_type": "code",
   "execution_count": 1,
   "metadata": {
    "ExecuteTime": {
     "end_time": "2020-03-05T09:32:26.584403Z",
     "start_time": "2020-03-05T09:32:26.562883Z"
    }
   },
   "outputs": [],
   "source": [
    "*** Mastering 'Metrics\n",
    "*** Generates Table 3.3\n",
    "*** Minneapolis Domestic Violence Experiment\n",
    "*** Created by Jon Petkun (jbpetkun@mit.edu) on Feb 12, 2015\n",
    "\n",
    "version 12\n",
    "clear all"
   ]
  },
  {
   "cell_type": "code",
   "execution_count": 11,
   "metadata": {
    "ExecuteTime": {
     "end_time": "2020-03-05T09:34:27.170230Z",
     "start_time": "2020-03-05T09:34:27.149591Z"
    }
   },
   "outputs": [
    {
     "name": "stdout",
     "output_type": "stream",
     "text": [
      "/Users/datalab/bigdata/mastering_metrics_data\n"
     ]
    }
   ],
   "source": [
    "cd \"/Users/datalab/bigdata/mastering_metrics_data\""
   ]
  },
  {
   "cell_type": "code",
   "execution_count": 12,
   "metadata": {
    "ExecuteTime": {
     "end_time": "2020-03-05T09:34:29.797991Z",
     "start_time": "2020-03-05T09:34:29.766044Z"
    }
   },
   "outputs": [
    {
     "name": "stdout",
     "output_type": "stream",
     "text": [
      "\n",
      "total 202232\n",
      "-rw-r--r--@ 1 datalab  staff  36844584  2  3  2013 AA_small.dta\n",
      "-rw-r--r--@ 1 datalab  staff   6637632  3  4 00:46 AA_small.dta_.zip\n",
      "-rw-r--r--@ 1 datalab  staff      7697  3  4 00:45 AEJfigs.dta\n",
      "-rw-r--r--@ 1 datalab  staff   3490484  3  4 00:42 Data1.zip\n",
      "drwxr-xr-x@ 6 datalab  staff       192  3  4 00:35 NHIS/\n",
      "drwxr-xr-x@ 9 datalab  staff       288  3  4 13:01 OHIE_Public_Use_Files/\n",
      "-rw-r--r--@ 1 datalab  staff       604  3  4 00:36 ReadMe_RAND.txt\n",
      "-rw-r--r--@ 1 datalab  staff   6591291  3  4 00:46 ak91.dta\n",
      "-rw-r--r--@ 1 datalab  staff   1006144  1 22  2015 annual_spend.dta\n",
      "-rw-r--r--@ 1 datalab  staff     77216  3  4 00:45 banks.csv\n",
      "-rw-r--r--@ 1 datalab  staff      2481  3  4 00:46 clark_martorell_cellmeans.dta\n",
      "-rw-r--r--@ 1 datalab  staff   1168671  3  4 00:45 deaths.dta\n",
      "-rw-r--r--@ 1 datalab  staff     29249  3  4 00:45 mdve.dta\n",
      "-rw-r--r--@ 1 datalab  staff   9370270  3  4 00:45 oregon_puf.zip\n",
      "-rw-r--r--@ 1 datalab  staff  27605676  3 23  2014 person_years.dta\n",
      "-rw-r--r--@ 1 datalab  staff    100520  3  4 00:45 pubtwins.dta\n",
      "-rw-r--r--@ 1 datalab  staff   8823462  1 22  2015 rand_initial_sample_2.dta\n",
      "-rw-r--r--@ 1 datalab  staff      2813  3  4 13:23 table1.txt\n",
      "-rw-r--r--@ 1 datalab  staff     41083  3  4 13:23 table1.xml\n",
      "-rw-r--r--  1 datalab  staff      1047  3  4 13:38 table2.txt\n",
      "-rw-r--r--@ 1 datalab  staff     16349  3  4 13:38 table2.xml\n"
     ]
    }
   ],
   "source": [
    "ls"
   ]
  },
  {
   "cell_type": "code",
   "execution_count": 13,
   "metadata": {
    "ExecuteTime": {
     "end_time": "2020-03-05T09:34:50.836918Z",
     "start_time": "2020-03-05T09:34:50.815664Z"
    }
   },
   "outputs": [],
   "source": [
    "use mdve.dta, clear\n"
   ]
  },
  {
   "cell_type": "code",
   "execution_count": 14,
   "metadata": {
    "ExecuteTime": {
     "end_time": "2020-03-05T09:35:15.131556Z",
     "start_time": "2020-03-05T09:35:15.108862Z"
    }
   },
   "outputs": [],
   "source": [
    "* Generate action assignments (i.e. what are police assigned to do)\n",
    "gen z_arrest=(T_RANDOM == 1)\n",
    "gen z_advise=(T_RANDOM == 2)\n",
    "gen z_separate=(T_RANDOM == 3)"
   ]
  },
  {
   "cell_type": "code",
   "execution_count": 15,
   "metadata": {
    "ExecuteTime": {
     "end_time": "2020-03-05T09:35:23.247943Z",
     "start_time": "2020-03-05T09:35:23.213370Z"
    }
   },
   "outputs": [
    {
     "name": "stdout",
     "output_type": "stream",
     "text": [
      "\n",
      "\n",
      "\n",
      "\n",
      "\n",
      "\n",
      "\n",
      "(237 missing values generated)\n",
      "\n",
      "(110 real changes made)\n",
      "\n",
      "variable assigned was str6 now str8\n",
      "(127 real changes made)\n",
      "\n",
      "(194 missing values generated)\n",
      "\n",
      "(89 real changes made)\n",
      "\n",
      "variable outcome was str6 now str8\n",
      "(89 real changes made)\n",
      "\n",
      "(16 real changes made)\n",
      "\n"
     ]
    }
   ],
   "source": [
    "* Generate actual outcomes (i.e. what action do the police actually take)\n",
    "gen d_arrest=(T_FINAL == 1)\n",
    "gen d_advise=(T_FINAL == 2)\n",
    "gen d_separate=(T_FINAL == 3)\n",
    "gen d_other=(T_FINAL == 4)\n",
    "gen z_coddled=(z_arrest == 0)\n",
    "gen d_coddled=(d_arrest == 0)\n",
    "gen assigned = \"Arrest\" if T_RANDOM == 1\n",
    "replace assigned = \"Advise\" if T_RANDOM == 2\n",
    "replace assigned = \"Separate\" if T_RANDOM == 3\n",
    "gen outcome = \"Arrest\" if T_FINAL == 1\n",
    "replace outcome = \"Advise\" if T_FINAL == 2\n",
    "replace outcome = \"Separate\" if T_FINAL == 3\n",
    "replace outcome = \"Other\" if T_FINAL == 4\n",
    "gen total = 1"
   ]
  },
  {
   "cell_type": "code",
   "execution_count": 17,
   "metadata": {
    "ExecuteTime": {
     "end_time": "2020-03-05T09:38:08.247869Z",
     "start_time": "2020-03-05T09:37:40.944689Z"
    }
   },
   "outputs": [
    {
     "name": "stdout",
     "output_type": "stream",
     "text": [
      "checking estout consistency and verifying not already installed...\n",
      "installing into /Users/datalab/Library/Application Support/Stata/ado/plus/...\n",
      "installation complete.\n"
     ]
    }
   ],
   "source": [
    "*ssc install estout"
   ]
  },
  {
   "cell_type": "code",
   "execution_count": 18,
   "metadata": {
    "ExecuteTime": {
     "end_time": "2020-03-05T09:38:25.475325Z",
     "start_time": "2020-03-05T09:38:25.417837Z"
    }
   },
   "outputs": [
    {
     "name": "stdout",
     "output_type": "stream",
     "text": [
      "\n",
      "(0 observations deleted)\n",
      "\n",
      "\n",
      "Summary statistics: sum mean\n",
      "     for variables: d_arrest d_advise d_separate total\n",
      "  by categories of: assigned\n",
      "\n",
      "    assigned |    e(sum)    e(mean) \n",
      "-------------+----------------------\n",
      "Advise       |                      \n",
      "    d_arrest |        19   .1759259 \n",
      "    d_advise |        84   .7777778 \n",
      "  d_separate |         5   .0462963 \n",
      "       total |       108          1 \n",
      "-------------+----------------------\n",
      "Arrest       |                      \n",
      "    d_arrest |        91   .9891304 \n",
      "    d_advise |         0          0 \n",
      "  d_separate |         1   .0108696 \n",
      "       total |        92          1 \n",
      "-------------+----------------------\n",
      "Separate     |                      \n",
      "    d_arrest |        26   .2280702 \n",
      "    d_advise |         5   .0438596 \n",
      "  d_separate |        83   .7280702 \n",
      "       total |       114          1 \n",
      "-------------+----------------------\n",
      "Total        |                      \n",
      "    d_arrest |       136    .433121 \n",
      "    d_advise |        89   .2834395 \n",
      "  d_separate |        89   .2834395 \n",
      "       total |       314          1 \n"
     ]
    }
   ],
   "source": [
    "* Drop if actual outcome is \"other\"\n",
    "keep if d_other == 0\n",
    "\n",
    "* Tabulate assignments and outcomes\n",
    "estpost tabstat d_arrest d_advise d_separate total, by(assigned) listwise ///\n",
    "    statistics(sum  mean) columns(statistics)"
   ]
  },
  {
   "cell_type": "code",
   "execution_count": 19,
   "metadata": {
    "ExecuteTime": {
     "end_time": "2020-03-05T09:38:39.690866Z",
     "start_time": "2020-03-05T09:38:39.657474Z"
    }
   },
   "outputs": [],
   "source": [
    "* Insert tabulations into matrix\t\n",
    "matrix S = e(sum)\n",
    "matrix T = J(4,8,.)\n",
    "mat T[1,2] = S[1,5]\n",
    "mat T[1,4] = S[1,6]\n",
    "mat T[1,6] = S[1,7]\n",
    "mat T[2,2] = S[1,1]\n",
    "mat T[2,4] = S[1,2]\n",
    "mat T[2,6] = S[1,3]\n",
    "mat T[3,2] = S[1,9]\n",
    "mat T[3,4] = S[1,10]\n",
    "mat T[3,6] = S[1,11]\n",
    "mat T[1,8] = T[1,2]+T[1,4]+T[1,6]\n",
    "mat T[2,8] = T[2,2]+T[2,4]+T[2,6]\n",
    "mat T[3,8] = T[3,2]+T[3,4]+T[3,6]\n",
    "mat T[4,2] = T[1,2]+T[2,2]+T[3,2]\n",
    "mat T[4,4] = T[1,4]+T[2,4]+T[3,4]\n",
    "mat T[4,6] = T[1,6]+T[2,6]+T[3,6]\n",
    "mat T[4,8] = T[1,8]+T[2,8]+T[3,8]"
   ]
  },
  {
   "cell_type": "code",
   "execution_count": 20,
   "metadata": {
    "ExecuteTime": {
     "end_time": "2020-03-05T09:38:49.259223Z",
     "start_time": "2020-03-05T09:38:49.233721Z"
    }
   },
   "outputs": [],
   "source": [
    "* Generate percentage values\n",
    "forval i = 1/4 {\n",
    "forval j = 1/3 {\n",
    "local k = `j'*2\n",
    "local r = `k' - 1\n",
    "mat T[`i',`r'] = 100*T[`i',`k']/T[`i',8]\n",
    "}\n",
    "mat T[`i',7] = 100*T[`i',8]/T[4,8]\n",
    "}"
   ]
  },
  {
   "cell_type": "code",
   "execution_count": 22,
   "metadata": {
    "ExecuteTime": {
     "end_time": "2020-03-05T09:40:00.332999Z",
     "start_time": "2020-03-05T09:39:56.221593Z"
    }
   },
   "outputs": [
    {
     "name": "stdout",
     "output_type": "stream",
     "text": [
      "checking mat2txt consistency and verifying not already installed...\n",
      "installing into /Users/datalab/Library/Application Support/Stata/ado/plus/...\n",
      "installation complete.\n"
     ]
    }
   ],
   "source": [
    "*ssc install mat2txt"
   ]
  },
  {
   "cell_type": "code",
   "execution_count": 27,
   "metadata": {
    "ExecuteTime": {
     "end_time": "2020-03-05T09:43:47.804234Z",
     "start_time": "2020-03-05T09:43:47.778588Z"
    }
   },
   "outputs": [],
   "source": [
    "* Row and column labels\n",
    "matrix rownames T = Arrest Advise Separate Total\n",
    "matrix colnames T = Arrest Arrest Advise Advise Separate Separate Total Total\n",
    "\n",
    "mat2txt, matrix(T) saving(\"/Users/datalab/github/datascience/causal-inference/Table33.xls\") replace\n"
   ]
  },
  {
   "cell_type": "code",
   "execution_count": null,
   "metadata": {},
   "outputs": [],
   "source": []
  }
 ],
 "metadata": {
  "kernelspec": {
   "display_name": "Stata",
   "language": "stata",
   "name": "stata"
  },
  "language_info": {
   "codemirror_mode": "stata",
   "file_extension": ".do",
   "mimetype": "text/x-stata",
   "name": "stata",
   "version": "15.1"
  },
  "latex_envs": {
   "LaTeX_envs_menu_present": true,
   "autoclose": false,
   "autocomplete": true,
   "bibliofile": "biblio.bib",
   "cite_by": "apalike",
   "current_citInitial": 1,
   "eqLabelWithNumbers": true,
   "eqNumInitial": 1,
   "hotkeys": {
    "equation": "Ctrl-E",
    "itemize": "Ctrl-I"
   },
   "labels_anchors": false,
   "latex_user_defs": false,
   "report_style_numbering": false,
   "user_envs_cfg": false
  },
  "toc": {
   "base_numbering": 1,
   "nav_menu": {},
   "number_sections": false,
   "sideBar": true,
   "skip_h1_title": false,
   "title_cell": "Table of Contents",
   "title_sidebar": "Contents",
   "toc_cell": false,
   "toc_position": {},
   "toc_section_display": true,
   "toc_window_display": false
  }
 },
 "nbformat": 4,
 "nbformat_minor": 2
}
